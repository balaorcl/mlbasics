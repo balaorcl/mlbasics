{
  "nbformat": 4,
  "nbformat_minor": 0,
  "metadata": {
    "colab": {
      "name": "s2c1_pandas_numpy_fundas.ipynb",
      "provenance": [],
      "collapsed_sections": [],
      "authorship_tag": "ABX9TyNwuAApNa4NjbY9eu0CtfOV",
      "include_colab_link": true
    },
    "kernelspec": {
      "name": "python3",
      "display_name": "Python 3"
    }
  },
  "cells": [
    {
      "cell_type": "markdown",
      "metadata": {
        "id": "view-in-github",
        "colab_type": "text"
      },
      "source": [
        "<a href=\"https://colab.research.google.com/github/balaorcl/mlbasics/blob/main/s2c1_pandas_numpy_fundas.ipynb\" target=\"_parent\"><img src=\"https://colab.research.google.com/assets/colab-badge.svg\" alt=\"Open In Colab\"/></a>"
      ]
    },
    {
      "cell_type": "markdown",
      "metadata": {
        "id": "IyRZJDK1OsFa"
      },
      "source": [
        "# Pandas and NumPy Fundamentals\n"
      ]
    },
    {
      "cell_type": "code",
      "metadata": {
        "id": "pXsFxZSoQt2w",
        "colab": {
          "base_uri": "https://localhost:8080/"
        },
        "outputId": "fa014e02-22db-4717-b459-3679aaffc024"
      },
      "source": [
        "from google.colab import drive\n",
        "drive.mount('/content/drive')"
      ],
      "execution_count": 1,
      "outputs": [
        {
          "output_type": "stream",
          "text": [
            "Mounted at /content/drive\n"
          ],
          "name": "stdout"
        }
      ]
    },
    {
      "cell_type": "markdown",
      "metadata": {
        "id": "_5yyOezHPNeX"
      },
      "source": [
        "## Introduction to Numpy"
      ]
    },
    {
      "cell_type": "code",
      "metadata": {
        "id": "uCtVvBc4q9OJ"
      },
      "source": [
        "import numpy as np"
      ],
      "execution_count": 2,
      "outputs": []
    },
    {
      "cell_type": "code",
      "metadata": {
        "id": "53s3LUVoquCc",
        "colab": {
          "base_uri": "https://localhost:8080/"
        },
        "outputId": "f232ef62-7738-4297-f32b-606c2cf6bc3d"
      },
      "source": [
        "data_ndarray = np.array([5, 10, 15, 20])\n",
        "data_ndarray"
      ],
      "execution_count": 3,
      "outputs": [
        {
          "output_type": "execute_result",
          "data": {
            "text/plain": [
              "array([ 5, 10, 15, 20])"
            ]
          },
          "metadata": {
            "tags": []
          },
          "execution_count": 3
        }
      ]
    },
    {
      "cell_type": "markdown",
      "metadata": {
        "id": "Mc5uY8nbNt1e"
      },
      "source": [
        "## Boolean Indexing with Numpy"
      ]
    },
    {
      "cell_type": "code",
      "metadata": {
        "id": "qvRGw89-Q9c5"
      },
      "source": [
        "import numpy as np"
      ],
      "execution_count": 4,
      "outputs": []
    },
    {
      "cell_type": "code",
      "metadata": {
        "id": "i5yos1n9RGCL",
        "colab": {
          "base_uri": "https://localhost:8080/"
        },
        "outputId": "3e5c7a8b-c9ce-4993-a4a5-d790fabb9926"
      },
      "source": [
        "taxi = np.genfromtxt(\"drive/My Drive/data/nyc_taxis.csv\", delimiter=\",\")\n",
        "taxi_shape = taxi.shape\n",
        "taxi_shape"
      ],
      "execution_count": 5,
      "outputs": [
        {
          "output_type": "execute_result",
          "data": {
            "text/plain": [
              "(89561, 15)"
            ]
          },
          "metadata": {
            "tags": []
          },
          "execution_count": 5
        }
      ]
    },
    {
      "cell_type": "code",
      "metadata": {
        "id": "Nxz680Z7RGxT"
      },
      "source": [
        "import csv\n",
        "\n",
        "# impoer nyc_taxis.csv as a list of lists\n",
        "f = open(\"drive/My Drive/data/nyc_taxis.csv\", \"r\")\n",
        "taxi_list = list(csv.reader(f))"
      ],
      "execution_count": 6,
      "outputs": []
    },
    {
      "cell_type": "code",
      "metadata": {
        "id": "RCanWNzbRITE"
      },
      "source": [
        ""
      ],
      "execution_count": 6,
      "outputs": []
    },
    {
      "cell_type": "code",
      "metadata": {
        "id": "A01PpMcdRIkT"
      },
      "source": [
        ""
      ],
      "execution_count": 6,
      "outputs": []
    },
    {
      "cell_type": "code",
      "metadata": {
        "id": "wKqU_bt7RIxb"
      },
      "source": [
        ""
      ],
      "execution_count": 6,
      "outputs": []
    },
    {
      "cell_type": "markdown",
      "metadata": {
        "id": "mz22AiszOIGd"
      },
      "source": [
        "## Introduction to Pandas"
      ]
    },
    {
      "cell_type": "markdown",
      "metadata": {
        "id": "I67hKC7iPWJQ"
      },
      "source": [
        "## Exploring Data with Pandas: Fundamentals"
      ]
    },
    {
      "cell_type": "markdown",
      "metadata": {
        "id": "x7rCZ2cjPd95"
      },
      "source": [
        "## Exploring Data with Pandas: Intermediate"
      ]
    },
    {
      "cell_type": "code",
      "metadata": {
        "id": "fJzV2nwPPm8a",
        "colab": {
          "base_uri": "https://localhost:8080/",
          "height": 674
        },
        "outputId": "a0dc77ea-d0c9-4d21-9f61-eac013438128"
      },
      "source": [
        "import pandas as pd\n",
        "# Create DataFrame\n",
        "f500 = pd.read_csv(\"drive/My Drive/data/f500.csv\", index_col=0)\n",
        "f500.index.name = None\n",
        "f500"
      ],
      "execution_count": 7,
      "outputs": [
        {
          "output_type": "execute_result",
          "data": {
            "text/html": [
              "<div>\n",
              "<style scoped>\n",
              "    .dataframe tbody tr th:only-of-type {\n",
              "        vertical-align: middle;\n",
              "    }\n",
              "\n",
              "    .dataframe tbody tr th {\n",
              "        vertical-align: top;\n",
              "    }\n",
              "\n",
              "    .dataframe thead th {\n",
              "        text-align: right;\n",
              "    }\n",
              "</style>\n",
              "<table border=\"1\" class=\"dataframe\">\n",
              "  <thead>\n",
              "    <tr style=\"text-align: right;\">\n",
              "      <th></th>\n",
              "      <th>rank</th>\n",
              "      <th>revenues</th>\n",
              "      <th>revenue_change</th>\n",
              "      <th>profits</th>\n",
              "      <th>assets</th>\n",
              "      <th>profit_change</th>\n",
              "      <th>ceo</th>\n",
              "      <th>industry</th>\n",
              "      <th>sector</th>\n",
              "      <th>previous_rank</th>\n",
              "      <th>country</th>\n",
              "      <th>hq_location</th>\n",
              "      <th>website</th>\n",
              "      <th>years_on_global_500_list</th>\n",
              "      <th>employees</th>\n",
              "      <th>total_stockholder_equity</th>\n",
              "    </tr>\n",
              "  </thead>\n",
              "  <tbody>\n",
              "    <tr>\n",
              "      <th>Walmart</th>\n",
              "      <td>1</td>\n",
              "      <td>485873</td>\n",
              "      <td>0.8</td>\n",
              "      <td>13643.0</td>\n",
              "      <td>198825</td>\n",
              "      <td>-7.2</td>\n",
              "      <td>C. Douglas McMillon</td>\n",
              "      <td>General Merchandisers</td>\n",
              "      <td>Retailing</td>\n",
              "      <td>1</td>\n",
              "      <td>USA</td>\n",
              "      <td>Bentonville, AR</td>\n",
              "      <td>http://www.walmart.com</td>\n",
              "      <td>23</td>\n",
              "      <td>2300000</td>\n",
              "      <td>77798</td>\n",
              "    </tr>\n",
              "    <tr>\n",
              "      <th>State Grid</th>\n",
              "      <td>2</td>\n",
              "      <td>315199</td>\n",
              "      <td>-4.4</td>\n",
              "      <td>9571.3</td>\n",
              "      <td>489838</td>\n",
              "      <td>-6.2</td>\n",
              "      <td>Kou Wei</td>\n",
              "      <td>Utilities</td>\n",
              "      <td>Energy</td>\n",
              "      <td>2</td>\n",
              "      <td>China</td>\n",
              "      <td>Beijing, China</td>\n",
              "      <td>http://www.sgcc.com.cn</td>\n",
              "      <td>17</td>\n",
              "      <td>926067</td>\n",
              "      <td>209456</td>\n",
              "    </tr>\n",
              "    <tr>\n",
              "      <th>Sinopec Group</th>\n",
              "      <td>3</td>\n",
              "      <td>267518</td>\n",
              "      <td>-9.1</td>\n",
              "      <td>1257.9</td>\n",
              "      <td>310726</td>\n",
              "      <td>-65.0</td>\n",
              "      <td>Wang Yupu</td>\n",
              "      <td>Petroleum Refining</td>\n",
              "      <td>Energy</td>\n",
              "      <td>4</td>\n",
              "      <td>China</td>\n",
              "      <td>Beijing, China</td>\n",
              "      <td>http://www.sinopec.com</td>\n",
              "      <td>19</td>\n",
              "      <td>713288</td>\n",
              "      <td>106523</td>\n",
              "    </tr>\n",
              "    <tr>\n",
              "      <th>China National Petroleum</th>\n",
              "      <td>4</td>\n",
              "      <td>262573</td>\n",
              "      <td>-12.3</td>\n",
              "      <td>1867.5</td>\n",
              "      <td>585619</td>\n",
              "      <td>-73.7</td>\n",
              "      <td>Zhang Jianhua</td>\n",
              "      <td>Petroleum Refining</td>\n",
              "      <td>Energy</td>\n",
              "      <td>3</td>\n",
              "      <td>China</td>\n",
              "      <td>Beijing, China</td>\n",
              "      <td>http://www.cnpc.com.cn</td>\n",
              "      <td>17</td>\n",
              "      <td>1512048</td>\n",
              "      <td>301893</td>\n",
              "    </tr>\n",
              "    <tr>\n",
              "      <th>Toyota Motor</th>\n",
              "      <td>5</td>\n",
              "      <td>254694</td>\n",
              "      <td>7.7</td>\n",
              "      <td>16899.3</td>\n",
              "      <td>437575</td>\n",
              "      <td>-12.3</td>\n",
              "      <td>Akio Toyoda</td>\n",
              "      <td>Motor Vehicles and Parts</td>\n",
              "      <td>Motor Vehicles &amp; Parts</td>\n",
              "      <td>8</td>\n",
              "      <td>Japan</td>\n",
              "      <td>Toyota, Japan</td>\n",
              "      <td>http://www.toyota-global.com</td>\n",
              "      <td>23</td>\n",
              "      <td>364445</td>\n",
              "      <td>157210</td>\n",
              "    </tr>\n",
              "    <tr>\n",
              "      <th>...</th>\n",
              "      <td>...</td>\n",
              "      <td>...</td>\n",
              "      <td>...</td>\n",
              "      <td>...</td>\n",
              "      <td>...</td>\n",
              "      <td>...</td>\n",
              "      <td>...</td>\n",
              "      <td>...</td>\n",
              "      <td>...</td>\n",
              "      <td>...</td>\n",
              "      <td>...</td>\n",
              "      <td>...</td>\n",
              "      <td>...</td>\n",
              "      <td>...</td>\n",
              "      <td>...</td>\n",
              "      <td>...</td>\n",
              "    </tr>\n",
              "    <tr>\n",
              "      <th>Teva Pharmaceutical Industries</th>\n",
              "      <td>496</td>\n",
              "      <td>21903</td>\n",
              "      <td>11.5</td>\n",
              "      <td>329.0</td>\n",
              "      <td>92890</td>\n",
              "      <td>-79.3</td>\n",
              "      <td>Yitzhak Peterburg</td>\n",
              "      <td>Pharmaceuticals</td>\n",
              "      <td>Health Care</td>\n",
              "      <td>0</td>\n",
              "      <td>Israel</td>\n",
              "      <td>Petach Tikva, Israel</td>\n",
              "      <td>http://www.tevapharm.com</td>\n",
              "      <td>1</td>\n",
              "      <td>56960</td>\n",
              "      <td>33337</td>\n",
              "    </tr>\n",
              "    <tr>\n",
              "      <th>New China Life Insurance</th>\n",
              "      <td>497</td>\n",
              "      <td>21796</td>\n",
              "      <td>-13.3</td>\n",
              "      <td>743.9</td>\n",
              "      <td>100609</td>\n",
              "      <td>-45.6</td>\n",
              "      <td>Wan Feng</td>\n",
              "      <td>Insurance: Life, Health (stock)</td>\n",
              "      <td>Financials</td>\n",
              "      <td>427</td>\n",
              "      <td>China</td>\n",
              "      <td>Beijing, China</td>\n",
              "      <td>http://www.newchinalife.com</td>\n",
              "      <td>2</td>\n",
              "      <td>54378</td>\n",
              "      <td>8507</td>\n",
              "    </tr>\n",
              "    <tr>\n",
              "      <th>Wm. Morrison Supermarkets</th>\n",
              "      <td>498</td>\n",
              "      <td>21741</td>\n",
              "      <td>-11.3</td>\n",
              "      <td>406.4</td>\n",
              "      <td>11630</td>\n",
              "      <td>20.4</td>\n",
              "      <td>David T. Potts</td>\n",
              "      <td>Food and Drug Stores</td>\n",
              "      <td>Food &amp; Drug Stores</td>\n",
              "      <td>437</td>\n",
              "      <td>Britain</td>\n",
              "      <td>Bradford, Britain</td>\n",
              "      <td>http://www.morrisons.com</td>\n",
              "      <td>13</td>\n",
              "      <td>77210</td>\n",
              "      <td>5111</td>\n",
              "    </tr>\n",
              "    <tr>\n",
              "      <th>TUI</th>\n",
              "      <td>499</td>\n",
              "      <td>21655</td>\n",
              "      <td>-5.5</td>\n",
              "      <td>1151.7</td>\n",
              "      <td>16247</td>\n",
              "      <td>195.5</td>\n",
              "      <td>Friedrich Joussen</td>\n",
              "      <td>Travel Services</td>\n",
              "      <td>Business Services</td>\n",
              "      <td>467</td>\n",
              "      <td>Germany</td>\n",
              "      <td>Hanover, Germany</td>\n",
              "      <td>http://www.tuigroup.com</td>\n",
              "      <td>23</td>\n",
              "      <td>66779</td>\n",
              "      <td>3006</td>\n",
              "    </tr>\n",
              "    <tr>\n",
              "      <th>AutoNation</th>\n",
              "      <td>500</td>\n",
              "      <td>21609</td>\n",
              "      <td>3.6</td>\n",
              "      <td>430.5</td>\n",
              "      <td>10060</td>\n",
              "      <td>-2.7</td>\n",
              "      <td>Michael J. Jackson</td>\n",
              "      <td>Specialty Retailers</td>\n",
              "      <td>Retailing</td>\n",
              "      <td>0</td>\n",
              "      <td>USA</td>\n",
              "      <td>Fort Lauderdale, FL</td>\n",
              "      <td>http://www.autonation.com</td>\n",
              "      <td>12</td>\n",
              "      <td>26000</td>\n",
              "      <td>2310</td>\n",
              "    </tr>\n",
              "  </tbody>\n",
              "</table>\n",
              "<p>500 rows × 16 columns</p>\n",
              "</div>"
            ],
            "text/plain": [
              "                                rank  ...  total_stockholder_equity\n",
              "Walmart                            1  ...                     77798\n",
              "State Grid                         2  ...                    209456\n",
              "Sinopec Group                      3  ...                    106523\n",
              "China National Petroleum           4  ...                    301893\n",
              "Toyota Motor                       5  ...                    157210\n",
              "...                              ...  ...                       ...\n",
              "Teva Pharmaceutical Industries   496  ...                     33337\n",
              "New China Life Insurance         497  ...                      8507\n",
              "Wm. Morrison Supermarkets        498  ...                      5111\n",
              "TUI                              499  ...                      3006\n",
              "AutoNation                       500  ...                      2310\n",
              "\n",
              "[500 rows x 16 columns]"
            ]
          },
          "metadata": {
            "tags": []
          },
          "execution_count": 7
        }
      ]
    },
    {
      "cell_type": "code",
      "metadata": {
        "colab": {
          "base_uri": "https://localhost:8080/"
        },
        "id": "nMwBw_jJFlLR",
        "outputId": "45edcd20-4703-405e-a7ae-4d9be75f8c5e"
      },
      "source": [
        "f500_dict = {\"company\" : \"Name of the company\",\n",
        "             \"rank\": \"Global 500 rank for the company\",\n",
        "             \"revenues\": \"Company's total revenue for the fiscal year, in millions of USD\",\n",
        "             \"revenue_change\": \"Percentage change in revenue between the current and prior fiscal year\",\n",
        "             \"profits\": \"Net income for the fiscal year, in millions of dollars(USD)\",\n",
        "             \"sector\": \"sector in which the company operates\",\n",
        "             \"previous_rank\": \"Global 500 rank for the company for the prior year\",\n",
        "             \"country\": \"Country in which the company is headquartered\",\n",
        "             \"hq_location\": \"City and country, (or city and state for the USA) where the company is headquartered\",\n",
        "             \"employees\": \"Total employees (full-time equivalent, if available) at fiscal year-end\"\n",
        "             }\n",
        "f500_dict"
      ],
      "execution_count": 8,
      "outputs": [
        {
          "output_type": "execute_result",
          "data": {
            "text/plain": [
              "{'company': 'Name of the company',\n",
              " 'country': 'Country in which the company is headquartered',\n",
              " 'employees': 'Total employees (full-time equivalent, if available) at fiscal year-end',\n",
              " 'hq_location': 'City and country, (or city and state for the USA) where the company is headquartered',\n",
              " 'previous_rank': 'Global 500 rank for the company for the prior year',\n",
              " 'profits': 'Net income for the fiscal year, in millions of dollars(USD)',\n",
              " 'rank': 'Global 500 rank for the company',\n",
              " 'revenue_change': 'Percentage change in revenue between the current and prior fiscal year',\n",
              " 'revenues': \"Company's total revenue for the fiscal year, in millions of USD\",\n",
              " 'sector': 'sector in which the company operates'}"
            ]
          },
          "metadata": {
            "tags": []
          },
          "execution_count": 8
        }
      ]
    },
    {
      "cell_type": "code",
      "metadata": {
        "colab": {
          "base_uri": "https://localhost:8080/",
          "height": 195
        },
        "id": "2n3WnYJ5F0Vf",
        "outputId": "ceda57de-56d9-4d5c-911f-d8a283780f89"
      },
      "source": [
        "f500_selection=f500[[\"rank\", \"revenues\", \"revenue_change\"]].head()\n",
        "f500_selection"
      ],
      "execution_count": 9,
      "outputs": [
        {
          "output_type": "execute_result",
          "data": {
            "text/html": [
              "<div>\n",
              "<style scoped>\n",
              "    .dataframe tbody tr th:only-of-type {\n",
              "        vertical-align: middle;\n",
              "    }\n",
              "\n",
              "    .dataframe tbody tr th {\n",
              "        vertical-align: top;\n",
              "    }\n",
              "\n",
              "    .dataframe thead th {\n",
              "        text-align: right;\n",
              "    }\n",
              "</style>\n",
              "<table border=\"1\" class=\"dataframe\">\n",
              "  <thead>\n",
              "    <tr style=\"text-align: right;\">\n",
              "      <th></th>\n",
              "      <th>rank</th>\n",
              "      <th>revenues</th>\n",
              "      <th>revenue_change</th>\n",
              "    </tr>\n",
              "  </thead>\n",
              "  <tbody>\n",
              "    <tr>\n",
              "      <th>Walmart</th>\n",
              "      <td>1</td>\n",
              "      <td>485873</td>\n",
              "      <td>0.8</td>\n",
              "    </tr>\n",
              "    <tr>\n",
              "      <th>State Grid</th>\n",
              "      <td>2</td>\n",
              "      <td>315199</td>\n",
              "      <td>-4.4</td>\n",
              "    </tr>\n",
              "    <tr>\n",
              "      <th>Sinopec Group</th>\n",
              "      <td>3</td>\n",
              "      <td>267518</td>\n",
              "      <td>-9.1</td>\n",
              "    </tr>\n",
              "    <tr>\n",
              "      <th>China National Petroleum</th>\n",
              "      <td>4</td>\n",
              "      <td>262573</td>\n",
              "      <td>-12.3</td>\n",
              "    </tr>\n",
              "    <tr>\n",
              "      <th>Toyota Motor</th>\n",
              "      <td>5</td>\n",
              "      <td>254694</td>\n",
              "      <td>7.7</td>\n",
              "    </tr>\n",
              "  </tbody>\n",
              "</table>\n",
              "</div>"
            ],
            "text/plain": [
              "                          rank  revenues  revenue_change\n",
              "Walmart                      1    485873             0.8\n",
              "State Grid                   2    315199            -4.4\n",
              "Sinopec Group                3    267518            -9.1\n",
              "China National Petroleum     4    262573           -12.3\n",
              "Toyota Motor                 5    254694             7.7"
            ]
          },
          "metadata": {
            "tags": []
          },
          "execution_count": 9
        }
      ]
    },
    {
      "cell_type": "markdown",
      "metadata": {
        "id": "_mxJ96AOJSd3"
      },
      "source": [
        "### 2. Reading CSV files with pandas"
      ]
    },
    {
      "cell_type": "code",
      "metadata": {
        "colab": {
          "base_uri": "https://localhost:8080/",
          "height": 674
        },
        "id": "XQG9QFkSVpIP",
        "outputId": "98f82609-27e0-4c02-a26f-65108f64db2e"
      },
      "source": [
        "# Without index_col = 0\r\n",
        "f500 = pd.read_csv(\"drive/My Drive/data/f500.csv\")\r\n",
        "f500"
      ],
      "execution_count": 10,
      "outputs": [
        {
          "output_type": "execute_result",
          "data": {
            "text/html": [
              "<div>\n",
              "<style scoped>\n",
              "    .dataframe tbody tr th:only-of-type {\n",
              "        vertical-align: middle;\n",
              "    }\n",
              "\n",
              "    .dataframe tbody tr th {\n",
              "        vertical-align: top;\n",
              "    }\n",
              "\n",
              "    .dataframe thead th {\n",
              "        text-align: right;\n",
              "    }\n",
              "</style>\n",
              "<table border=\"1\" class=\"dataframe\">\n",
              "  <thead>\n",
              "    <tr style=\"text-align: right;\">\n",
              "      <th></th>\n",
              "      <th>company</th>\n",
              "      <th>rank</th>\n",
              "      <th>revenues</th>\n",
              "      <th>revenue_change</th>\n",
              "      <th>profits</th>\n",
              "      <th>assets</th>\n",
              "      <th>profit_change</th>\n",
              "      <th>ceo</th>\n",
              "      <th>industry</th>\n",
              "      <th>sector</th>\n",
              "      <th>previous_rank</th>\n",
              "      <th>country</th>\n",
              "      <th>hq_location</th>\n",
              "      <th>website</th>\n",
              "      <th>years_on_global_500_list</th>\n",
              "      <th>employees</th>\n",
              "      <th>total_stockholder_equity</th>\n",
              "    </tr>\n",
              "  </thead>\n",
              "  <tbody>\n",
              "    <tr>\n",
              "      <th>0</th>\n",
              "      <td>Walmart</td>\n",
              "      <td>1</td>\n",
              "      <td>485873</td>\n",
              "      <td>0.8</td>\n",
              "      <td>13643.0</td>\n",
              "      <td>198825</td>\n",
              "      <td>-7.2</td>\n",
              "      <td>C. Douglas McMillon</td>\n",
              "      <td>General Merchandisers</td>\n",
              "      <td>Retailing</td>\n",
              "      <td>1</td>\n",
              "      <td>USA</td>\n",
              "      <td>Bentonville, AR</td>\n",
              "      <td>http://www.walmart.com</td>\n",
              "      <td>23</td>\n",
              "      <td>2300000</td>\n",
              "      <td>77798</td>\n",
              "    </tr>\n",
              "    <tr>\n",
              "      <th>1</th>\n",
              "      <td>State Grid</td>\n",
              "      <td>2</td>\n",
              "      <td>315199</td>\n",
              "      <td>-4.4</td>\n",
              "      <td>9571.3</td>\n",
              "      <td>489838</td>\n",
              "      <td>-6.2</td>\n",
              "      <td>Kou Wei</td>\n",
              "      <td>Utilities</td>\n",
              "      <td>Energy</td>\n",
              "      <td>2</td>\n",
              "      <td>China</td>\n",
              "      <td>Beijing, China</td>\n",
              "      <td>http://www.sgcc.com.cn</td>\n",
              "      <td>17</td>\n",
              "      <td>926067</td>\n",
              "      <td>209456</td>\n",
              "    </tr>\n",
              "    <tr>\n",
              "      <th>2</th>\n",
              "      <td>Sinopec Group</td>\n",
              "      <td>3</td>\n",
              "      <td>267518</td>\n",
              "      <td>-9.1</td>\n",
              "      <td>1257.9</td>\n",
              "      <td>310726</td>\n",
              "      <td>-65.0</td>\n",
              "      <td>Wang Yupu</td>\n",
              "      <td>Petroleum Refining</td>\n",
              "      <td>Energy</td>\n",
              "      <td>4</td>\n",
              "      <td>China</td>\n",
              "      <td>Beijing, China</td>\n",
              "      <td>http://www.sinopec.com</td>\n",
              "      <td>19</td>\n",
              "      <td>713288</td>\n",
              "      <td>106523</td>\n",
              "    </tr>\n",
              "    <tr>\n",
              "      <th>3</th>\n",
              "      <td>China National Petroleum</td>\n",
              "      <td>4</td>\n",
              "      <td>262573</td>\n",
              "      <td>-12.3</td>\n",
              "      <td>1867.5</td>\n",
              "      <td>585619</td>\n",
              "      <td>-73.7</td>\n",
              "      <td>Zhang Jianhua</td>\n",
              "      <td>Petroleum Refining</td>\n",
              "      <td>Energy</td>\n",
              "      <td>3</td>\n",
              "      <td>China</td>\n",
              "      <td>Beijing, China</td>\n",
              "      <td>http://www.cnpc.com.cn</td>\n",
              "      <td>17</td>\n",
              "      <td>1512048</td>\n",
              "      <td>301893</td>\n",
              "    </tr>\n",
              "    <tr>\n",
              "      <th>4</th>\n",
              "      <td>Toyota Motor</td>\n",
              "      <td>5</td>\n",
              "      <td>254694</td>\n",
              "      <td>7.7</td>\n",
              "      <td>16899.3</td>\n",
              "      <td>437575</td>\n",
              "      <td>-12.3</td>\n",
              "      <td>Akio Toyoda</td>\n",
              "      <td>Motor Vehicles and Parts</td>\n",
              "      <td>Motor Vehicles &amp; Parts</td>\n",
              "      <td>8</td>\n",
              "      <td>Japan</td>\n",
              "      <td>Toyota, Japan</td>\n",
              "      <td>http://www.toyota-global.com</td>\n",
              "      <td>23</td>\n",
              "      <td>364445</td>\n",
              "      <td>157210</td>\n",
              "    </tr>\n",
              "    <tr>\n",
              "      <th>...</th>\n",
              "      <td>...</td>\n",
              "      <td>...</td>\n",
              "      <td>...</td>\n",
              "      <td>...</td>\n",
              "      <td>...</td>\n",
              "      <td>...</td>\n",
              "      <td>...</td>\n",
              "      <td>...</td>\n",
              "      <td>...</td>\n",
              "      <td>...</td>\n",
              "      <td>...</td>\n",
              "      <td>...</td>\n",
              "      <td>...</td>\n",
              "      <td>...</td>\n",
              "      <td>...</td>\n",
              "      <td>...</td>\n",
              "      <td>...</td>\n",
              "    </tr>\n",
              "    <tr>\n",
              "      <th>495</th>\n",
              "      <td>Teva Pharmaceutical Industries</td>\n",
              "      <td>496</td>\n",
              "      <td>21903</td>\n",
              "      <td>11.5</td>\n",
              "      <td>329.0</td>\n",
              "      <td>92890</td>\n",
              "      <td>-79.3</td>\n",
              "      <td>Yitzhak Peterburg</td>\n",
              "      <td>Pharmaceuticals</td>\n",
              "      <td>Health Care</td>\n",
              "      <td>0</td>\n",
              "      <td>Israel</td>\n",
              "      <td>Petach Tikva, Israel</td>\n",
              "      <td>http://www.tevapharm.com</td>\n",
              "      <td>1</td>\n",
              "      <td>56960</td>\n",
              "      <td>33337</td>\n",
              "    </tr>\n",
              "    <tr>\n",
              "      <th>496</th>\n",
              "      <td>New China Life Insurance</td>\n",
              "      <td>497</td>\n",
              "      <td>21796</td>\n",
              "      <td>-13.3</td>\n",
              "      <td>743.9</td>\n",
              "      <td>100609</td>\n",
              "      <td>-45.6</td>\n",
              "      <td>Wan Feng</td>\n",
              "      <td>Insurance: Life, Health (stock)</td>\n",
              "      <td>Financials</td>\n",
              "      <td>427</td>\n",
              "      <td>China</td>\n",
              "      <td>Beijing, China</td>\n",
              "      <td>http://www.newchinalife.com</td>\n",
              "      <td>2</td>\n",
              "      <td>54378</td>\n",
              "      <td>8507</td>\n",
              "    </tr>\n",
              "    <tr>\n",
              "      <th>497</th>\n",
              "      <td>Wm. Morrison Supermarkets</td>\n",
              "      <td>498</td>\n",
              "      <td>21741</td>\n",
              "      <td>-11.3</td>\n",
              "      <td>406.4</td>\n",
              "      <td>11630</td>\n",
              "      <td>20.4</td>\n",
              "      <td>David T. Potts</td>\n",
              "      <td>Food and Drug Stores</td>\n",
              "      <td>Food &amp; Drug Stores</td>\n",
              "      <td>437</td>\n",
              "      <td>Britain</td>\n",
              "      <td>Bradford, Britain</td>\n",
              "      <td>http://www.morrisons.com</td>\n",
              "      <td>13</td>\n",
              "      <td>77210</td>\n",
              "      <td>5111</td>\n",
              "    </tr>\n",
              "    <tr>\n",
              "      <th>498</th>\n",
              "      <td>TUI</td>\n",
              "      <td>499</td>\n",
              "      <td>21655</td>\n",
              "      <td>-5.5</td>\n",
              "      <td>1151.7</td>\n",
              "      <td>16247</td>\n",
              "      <td>195.5</td>\n",
              "      <td>Friedrich Joussen</td>\n",
              "      <td>Travel Services</td>\n",
              "      <td>Business Services</td>\n",
              "      <td>467</td>\n",
              "      <td>Germany</td>\n",
              "      <td>Hanover, Germany</td>\n",
              "      <td>http://www.tuigroup.com</td>\n",
              "      <td>23</td>\n",
              "      <td>66779</td>\n",
              "      <td>3006</td>\n",
              "    </tr>\n",
              "    <tr>\n",
              "      <th>499</th>\n",
              "      <td>AutoNation</td>\n",
              "      <td>500</td>\n",
              "      <td>21609</td>\n",
              "      <td>3.6</td>\n",
              "      <td>430.5</td>\n",
              "      <td>10060</td>\n",
              "      <td>-2.7</td>\n",
              "      <td>Michael J. Jackson</td>\n",
              "      <td>Specialty Retailers</td>\n",
              "      <td>Retailing</td>\n",
              "      <td>0</td>\n",
              "      <td>USA</td>\n",
              "      <td>Fort Lauderdale, FL</td>\n",
              "      <td>http://www.autonation.com</td>\n",
              "      <td>12</td>\n",
              "      <td>26000</td>\n",
              "      <td>2310</td>\n",
              "    </tr>\n",
              "  </tbody>\n",
              "</table>\n",
              "<p>500 rows × 17 columns</p>\n",
              "</div>"
            ],
            "text/plain": [
              "                            company  rank  ...  employees  total_stockholder_equity\n",
              "0                           Walmart     1  ...    2300000                     77798\n",
              "1                        State Grid     2  ...     926067                    209456\n",
              "2                     Sinopec Group     3  ...     713288                    106523\n",
              "3          China National Petroleum     4  ...    1512048                    301893\n",
              "4                      Toyota Motor     5  ...     364445                    157210\n",
              "..                              ...   ...  ...        ...                       ...\n",
              "495  Teva Pharmaceutical Industries   496  ...      56960                     33337\n",
              "496        New China Life Insurance   497  ...      54378                      8507\n",
              "497       Wm. Morrison Supermarkets   498  ...      77210                      5111\n",
              "498                             TUI   499  ...      66779                      3006\n",
              "499                      AutoNation   500  ...      26000                      2310\n",
              "\n",
              "[500 rows x 17 columns]"
            ]
          },
          "metadata": {
            "tags": []
          },
          "execution_count": 10
        }
      ]
    },
    {
      "cell_type": "code",
      "metadata": {
        "colab": {
          "base_uri": "https://localhost:8080/",
          "height": 366
        },
        "id": "yO_dZb-HV6wn",
        "outputId": "bebd0599-bab2-4e4a-9539-32415ee646b7"
      },
      "source": [
        "# selects all columns where previous rank = 0\r\n",
        "f500.loc[f500[\"previous_rank\"] == 0].head()"
      ],
      "execution_count": 13,
      "outputs": [
        {
          "output_type": "execute_result",
          "data": {
            "text/html": [
              "<div>\n",
              "<style scoped>\n",
              "    .dataframe tbody tr th:only-of-type {\n",
              "        vertical-align: middle;\n",
              "    }\n",
              "\n",
              "    .dataframe tbody tr th {\n",
              "        vertical-align: top;\n",
              "    }\n",
              "\n",
              "    .dataframe thead th {\n",
              "        text-align: right;\n",
              "    }\n",
              "</style>\n",
              "<table border=\"1\" class=\"dataframe\">\n",
              "  <thead>\n",
              "    <tr style=\"text-align: right;\">\n",
              "      <th></th>\n",
              "      <th>company</th>\n",
              "      <th>rank</th>\n",
              "      <th>revenues</th>\n",
              "      <th>revenue_change</th>\n",
              "      <th>profits</th>\n",
              "      <th>assets</th>\n",
              "      <th>profit_change</th>\n",
              "      <th>ceo</th>\n",
              "      <th>industry</th>\n",
              "      <th>sector</th>\n",
              "      <th>previous_rank</th>\n",
              "      <th>country</th>\n",
              "      <th>hq_location</th>\n",
              "      <th>website</th>\n",
              "      <th>years_on_global_500_list</th>\n",
              "      <th>employees</th>\n",
              "      <th>total_stockholder_equity</th>\n",
              "    </tr>\n",
              "  </thead>\n",
              "  <tbody>\n",
              "    <tr>\n",
              "      <th>48</th>\n",
              "      <td>Legal &amp; General Group</td>\n",
              "      <td>49</td>\n",
              "      <td>105235</td>\n",
              "      <td>442.3</td>\n",
              "      <td>1697.9</td>\n",
              "      <td>577954</td>\n",
              "      <td>3.4</td>\n",
              "      <td>Nigel Wilson</td>\n",
              "      <td>Insurance: Life, Health (stock)</td>\n",
              "      <td>Financials</td>\n",
              "      <td>0</td>\n",
              "      <td>Britain</td>\n",
              "      <td>London, Britain</td>\n",
              "      <td>http://www.legalandgeneralgroup.com</td>\n",
              "      <td>17</td>\n",
              "      <td>8939</td>\n",
              "      <td>8579</td>\n",
              "    </tr>\n",
              "    <tr>\n",
              "      <th>90</th>\n",
              "      <td>Uniper</td>\n",
              "      <td>91</td>\n",
              "      <td>74407</td>\n",
              "      <td>NaN</td>\n",
              "      <td>-3557.5</td>\n",
              "      <td>51541</td>\n",
              "      <td>NaN</td>\n",
              "      <td>Klaus Schafer</td>\n",
              "      <td>Energy</td>\n",
              "      <td>Energy</td>\n",
              "      <td>0</td>\n",
              "      <td>Germany</td>\n",
              "      <td>Dusseldorf, Germany</td>\n",
              "      <td>http://www.uniper.energy</td>\n",
              "      <td>1</td>\n",
              "      <td>12890</td>\n",
              "      <td>12889</td>\n",
              "    </tr>\n",
              "    <tr>\n",
              "      <th>123</th>\n",
              "      <td>Dell Technologies</td>\n",
              "      <td>124</td>\n",
              "      <td>64806</td>\n",
              "      <td>18.1</td>\n",
              "      <td>-1672.0</td>\n",
              "      <td>118206</td>\n",
              "      <td>NaN</td>\n",
              "      <td>Michael S. Dell</td>\n",
              "      <td>Computers, Office Equipment</td>\n",
              "      <td>Technology</td>\n",
              "      <td>0</td>\n",
              "      <td>USA</td>\n",
              "      <td>Round Rock, TX</td>\n",
              "      <td>http://www.delltechnologies.com</td>\n",
              "      <td>17</td>\n",
              "      <td>138000</td>\n",
              "      <td>13243</td>\n",
              "    </tr>\n",
              "    <tr>\n",
              "      <th>138</th>\n",
              "      <td>Anbang Insurance Group</td>\n",
              "      <td>139</td>\n",
              "      <td>60800</td>\n",
              "      <td>124.0</td>\n",
              "      <td>3883.9</td>\n",
              "      <td>430040</td>\n",
              "      <td>0.9</td>\n",
              "      <td>Wu Xiaohui</td>\n",
              "      <td>Insurance: Life, Health (Mutual)</td>\n",
              "      <td>Financials</td>\n",
              "      <td>0</td>\n",
              "      <td>China</td>\n",
              "      <td>Beijing, China</td>\n",
              "      <td>http://www.anbanggroup.com</td>\n",
              "      <td>1</td>\n",
              "      <td>40707</td>\n",
              "      <td>20372</td>\n",
              "    </tr>\n",
              "    <tr>\n",
              "      <th>140</th>\n",
              "      <td>Albertsons Cos.</td>\n",
              "      <td>141</td>\n",
              "      <td>59678</td>\n",
              "      <td>1.6</td>\n",
              "      <td>-373.3</td>\n",
              "      <td>23755</td>\n",
              "      <td>NaN</td>\n",
              "      <td>Robert G. Miller</td>\n",
              "      <td>Food and Drug Stores</td>\n",
              "      <td>Food &amp; Drug Stores</td>\n",
              "      <td>0</td>\n",
              "      <td>USA</td>\n",
              "      <td>Boise, ID</td>\n",
              "      <td>http://www.albertsons.com</td>\n",
              "      <td>13</td>\n",
              "      <td>273000</td>\n",
              "      <td>1371</td>\n",
              "    </tr>\n",
              "  </tbody>\n",
              "</table>\n",
              "</div>"
            ],
            "text/plain": [
              "                    company  rank  ...  employees  total_stockholder_equity\n",
              "48    Legal & General Group    49  ...       8939                      8579\n",
              "90                   Uniper    91  ...      12890                     12889\n",
              "123       Dell Technologies   124  ...     138000                     13243\n",
              "138  Anbang Insurance Group   139  ...      40707                     20372\n",
              "140         Albertsons Cos.   141  ...     273000                      1371\n",
              "\n",
              "[5 rows x 17 columns]"
            ]
          },
          "metadata": {
            "tags": []
          },
          "execution_count": 13
        }
      ]
    },
    {
      "cell_type": "code",
      "metadata": {
        "colab": {
          "base_uri": "https://localhost:8080/",
          "height": 195
        },
        "id": "botz1zFXWUig",
        "outputId": "013cd2c8-c5ac-4cc1-ac7b-c66e5752ed20"
      },
      "source": [
        "# Select 2 columns where previous_rank = 0\r\n",
        "f500.loc[f500[\"previous_rank\"] == 0, [\"previous_rank\", \"assets\"]].head()"
      ],
      "execution_count": 15,
      "outputs": [
        {
          "output_type": "execute_result",
          "data": {
            "text/html": [
              "<div>\n",
              "<style scoped>\n",
              "    .dataframe tbody tr th:only-of-type {\n",
              "        vertical-align: middle;\n",
              "    }\n",
              "\n",
              "    .dataframe tbody tr th {\n",
              "        vertical-align: top;\n",
              "    }\n",
              "\n",
              "    .dataframe thead th {\n",
              "        text-align: right;\n",
              "    }\n",
              "</style>\n",
              "<table border=\"1\" class=\"dataframe\">\n",
              "  <thead>\n",
              "    <tr style=\"text-align: right;\">\n",
              "      <th></th>\n",
              "      <th>previous_rank</th>\n",
              "      <th>assets</th>\n",
              "    </tr>\n",
              "  </thead>\n",
              "  <tbody>\n",
              "    <tr>\n",
              "      <th>48</th>\n",
              "      <td>0</td>\n",
              "      <td>577954</td>\n",
              "    </tr>\n",
              "    <tr>\n",
              "      <th>90</th>\n",
              "      <td>0</td>\n",
              "      <td>51541</td>\n",
              "    </tr>\n",
              "    <tr>\n",
              "      <th>123</th>\n",
              "      <td>0</td>\n",
              "      <td>118206</td>\n",
              "    </tr>\n",
              "    <tr>\n",
              "      <th>138</th>\n",
              "      <td>0</td>\n",
              "      <td>430040</td>\n",
              "    </tr>\n",
              "    <tr>\n",
              "      <th>140</th>\n",
              "      <td>0</td>\n",
              "      <td>23755</td>\n",
              "    </tr>\n",
              "  </tbody>\n",
              "</table>\n",
              "</div>"
            ],
            "text/plain": [
              "     previous_rank  assets\n",
              "48               0  577954\n",
              "90               0   51541\n",
              "123              0  118206\n",
              "138              0  430040\n",
              "140              0   23755"
            ]
          },
          "metadata": {
            "tags": []
          },
          "execution_count": 15
        }
      ]
    },
    {
      "cell_type": "code",
      "metadata": {
        "colab": {
          "base_uri": "https://localhost:8080/"
        },
        "id": "YVJrlSr9WvOo",
        "outputId": "6fd04ebc-19c4-4f4c-c290-bba384a4f96e"
      },
      "source": [
        "# Select only previous_rank column where previous_rank = 0\r\n",
        "f500.loc[f500[\"previous_rank\"] == 0, \"previous_rank\"].head()"
      ],
      "execution_count": 18,
      "outputs": [
        {
          "output_type": "execute_result",
          "data": {
            "text/plain": [
              "48     0\n",
              "90     0\n",
              "123    0\n",
              "138    0\n",
              "140    0\n",
              "Name: previous_rank, dtype: int64"
            ]
          },
          "metadata": {
            "tags": []
          },
          "execution_count": 18
        }
      ]
    },
    {
      "cell_type": "code",
      "metadata": {
        "colab": {
          "base_uri": "https://localhost:8080/",
          "height": 674
        },
        "id": "rvNmyXCBW_rA",
        "outputId": "42dc82e0-5d23-4d9d-d0ec-0980d858f82a"
      },
      "source": [
        "# Assign np.nan where previous_rank column = 0\r\n",
        "f500.loc[f500[\"previous_rank\"] == 0, \"previous_rank\"] = np.nan\r\n",
        "f500"
      ],
      "execution_count": 20,
      "outputs": [
        {
          "output_type": "execute_result",
          "data": {
            "text/html": [
              "<div>\n",
              "<style scoped>\n",
              "    .dataframe tbody tr th:only-of-type {\n",
              "        vertical-align: middle;\n",
              "    }\n",
              "\n",
              "    .dataframe tbody tr th {\n",
              "        vertical-align: top;\n",
              "    }\n",
              "\n",
              "    .dataframe thead th {\n",
              "        text-align: right;\n",
              "    }\n",
              "</style>\n",
              "<table border=\"1\" class=\"dataframe\">\n",
              "  <thead>\n",
              "    <tr style=\"text-align: right;\">\n",
              "      <th></th>\n",
              "      <th>company</th>\n",
              "      <th>rank</th>\n",
              "      <th>revenues</th>\n",
              "      <th>revenue_change</th>\n",
              "      <th>profits</th>\n",
              "      <th>assets</th>\n",
              "      <th>profit_change</th>\n",
              "      <th>ceo</th>\n",
              "      <th>industry</th>\n",
              "      <th>sector</th>\n",
              "      <th>previous_rank</th>\n",
              "      <th>country</th>\n",
              "      <th>hq_location</th>\n",
              "      <th>website</th>\n",
              "      <th>years_on_global_500_list</th>\n",
              "      <th>employees</th>\n",
              "      <th>total_stockholder_equity</th>\n",
              "    </tr>\n",
              "  </thead>\n",
              "  <tbody>\n",
              "    <tr>\n",
              "      <th>0</th>\n",
              "      <td>Walmart</td>\n",
              "      <td>1</td>\n",
              "      <td>485873</td>\n",
              "      <td>0.8</td>\n",
              "      <td>13643.0</td>\n",
              "      <td>198825</td>\n",
              "      <td>-7.2</td>\n",
              "      <td>C. Douglas McMillon</td>\n",
              "      <td>General Merchandisers</td>\n",
              "      <td>Retailing</td>\n",
              "      <td>1.0</td>\n",
              "      <td>USA</td>\n",
              "      <td>Bentonville, AR</td>\n",
              "      <td>http://www.walmart.com</td>\n",
              "      <td>23</td>\n",
              "      <td>2300000</td>\n",
              "      <td>77798</td>\n",
              "    </tr>\n",
              "    <tr>\n",
              "      <th>1</th>\n",
              "      <td>State Grid</td>\n",
              "      <td>2</td>\n",
              "      <td>315199</td>\n",
              "      <td>-4.4</td>\n",
              "      <td>9571.3</td>\n",
              "      <td>489838</td>\n",
              "      <td>-6.2</td>\n",
              "      <td>Kou Wei</td>\n",
              "      <td>Utilities</td>\n",
              "      <td>Energy</td>\n",
              "      <td>2.0</td>\n",
              "      <td>China</td>\n",
              "      <td>Beijing, China</td>\n",
              "      <td>http://www.sgcc.com.cn</td>\n",
              "      <td>17</td>\n",
              "      <td>926067</td>\n",
              "      <td>209456</td>\n",
              "    </tr>\n",
              "    <tr>\n",
              "      <th>2</th>\n",
              "      <td>Sinopec Group</td>\n",
              "      <td>3</td>\n",
              "      <td>267518</td>\n",
              "      <td>-9.1</td>\n",
              "      <td>1257.9</td>\n",
              "      <td>310726</td>\n",
              "      <td>-65.0</td>\n",
              "      <td>Wang Yupu</td>\n",
              "      <td>Petroleum Refining</td>\n",
              "      <td>Energy</td>\n",
              "      <td>4.0</td>\n",
              "      <td>China</td>\n",
              "      <td>Beijing, China</td>\n",
              "      <td>http://www.sinopec.com</td>\n",
              "      <td>19</td>\n",
              "      <td>713288</td>\n",
              "      <td>106523</td>\n",
              "    </tr>\n",
              "    <tr>\n",
              "      <th>3</th>\n",
              "      <td>China National Petroleum</td>\n",
              "      <td>4</td>\n",
              "      <td>262573</td>\n",
              "      <td>-12.3</td>\n",
              "      <td>1867.5</td>\n",
              "      <td>585619</td>\n",
              "      <td>-73.7</td>\n",
              "      <td>Zhang Jianhua</td>\n",
              "      <td>Petroleum Refining</td>\n",
              "      <td>Energy</td>\n",
              "      <td>3.0</td>\n",
              "      <td>China</td>\n",
              "      <td>Beijing, China</td>\n",
              "      <td>http://www.cnpc.com.cn</td>\n",
              "      <td>17</td>\n",
              "      <td>1512048</td>\n",
              "      <td>301893</td>\n",
              "    </tr>\n",
              "    <tr>\n",
              "      <th>4</th>\n",
              "      <td>Toyota Motor</td>\n",
              "      <td>5</td>\n",
              "      <td>254694</td>\n",
              "      <td>7.7</td>\n",
              "      <td>16899.3</td>\n",
              "      <td>437575</td>\n",
              "      <td>-12.3</td>\n",
              "      <td>Akio Toyoda</td>\n",
              "      <td>Motor Vehicles and Parts</td>\n",
              "      <td>Motor Vehicles &amp; Parts</td>\n",
              "      <td>8.0</td>\n",
              "      <td>Japan</td>\n",
              "      <td>Toyota, Japan</td>\n",
              "      <td>http://www.toyota-global.com</td>\n",
              "      <td>23</td>\n",
              "      <td>364445</td>\n",
              "      <td>157210</td>\n",
              "    </tr>\n",
              "    <tr>\n",
              "      <th>...</th>\n",
              "      <td>...</td>\n",
              "      <td>...</td>\n",
              "      <td>...</td>\n",
              "      <td>...</td>\n",
              "      <td>...</td>\n",
              "      <td>...</td>\n",
              "      <td>...</td>\n",
              "      <td>...</td>\n",
              "      <td>...</td>\n",
              "      <td>...</td>\n",
              "      <td>...</td>\n",
              "      <td>...</td>\n",
              "      <td>...</td>\n",
              "      <td>...</td>\n",
              "      <td>...</td>\n",
              "      <td>...</td>\n",
              "      <td>...</td>\n",
              "    </tr>\n",
              "    <tr>\n",
              "      <th>495</th>\n",
              "      <td>Teva Pharmaceutical Industries</td>\n",
              "      <td>496</td>\n",
              "      <td>21903</td>\n",
              "      <td>11.5</td>\n",
              "      <td>329.0</td>\n",
              "      <td>92890</td>\n",
              "      <td>-79.3</td>\n",
              "      <td>Yitzhak Peterburg</td>\n",
              "      <td>Pharmaceuticals</td>\n",
              "      <td>Health Care</td>\n",
              "      <td>NaN</td>\n",
              "      <td>Israel</td>\n",
              "      <td>Petach Tikva, Israel</td>\n",
              "      <td>http://www.tevapharm.com</td>\n",
              "      <td>1</td>\n",
              "      <td>56960</td>\n",
              "      <td>33337</td>\n",
              "    </tr>\n",
              "    <tr>\n",
              "      <th>496</th>\n",
              "      <td>New China Life Insurance</td>\n",
              "      <td>497</td>\n",
              "      <td>21796</td>\n",
              "      <td>-13.3</td>\n",
              "      <td>743.9</td>\n",
              "      <td>100609</td>\n",
              "      <td>-45.6</td>\n",
              "      <td>Wan Feng</td>\n",
              "      <td>Insurance: Life, Health (stock)</td>\n",
              "      <td>Financials</td>\n",
              "      <td>427.0</td>\n",
              "      <td>China</td>\n",
              "      <td>Beijing, China</td>\n",
              "      <td>http://www.newchinalife.com</td>\n",
              "      <td>2</td>\n",
              "      <td>54378</td>\n",
              "      <td>8507</td>\n",
              "    </tr>\n",
              "    <tr>\n",
              "      <th>497</th>\n",
              "      <td>Wm. Morrison Supermarkets</td>\n",
              "      <td>498</td>\n",
              "      <td>21741</td>\n",
              "      <td>-11.3</td>\n",
              "      <td>406.4</td>\n",
              "      <td>11630</td>\n",
              "      <td>20.4</td>\n",
              "      <td>David T. Potts</td>\n",
              "      <td>Food and Drug Stores</td>\n",
              "      <td>Food &amp; Drug Stores</td>\n",
              "      <td>437.0</td>\n",
              "      <td>Britain</td>\n",
              "      <td>Bradford, Britain</td>\n",
              "      <td>http://www.morrisons.com</td>\n",
              "      <td>13</td>\n",
              "      <td>77210</td>\n",
              "      <td>5111</td>\n",
              "    </tr>\n",
              "    <tr>\n",
              "      <th>498</th>\n",
              "      <td>TUI</td>\n",
              "      <td>499</td>\n",
              "      <td>21655</td>\n",
              "      <td>-5.5</td>\n",
              "      <td>1151.7</td>\n",
              "      <td>16247</td>\n",
              "      <td>195.5</td>\n",
              "      <td>Friedrich Joussen</td>\n",
              "      <td>Travel Services</td>\n",
              "      <td>Business Services</td>\n",
              "      <td>467.0</td>\n",
              "      <td>Germany</td>\n",
              "      <td>Hanover, Germany</td>\n",
              "      <td>http://www.tuigroup.com</td>\n",
              "      <td>23</td>\n",
              "      <td>66779</td>\n",
              "      <td>3006</td>\n",
              "    </tr>\n",
              "    <tr>\n",
              "      <th>499</th>\n",
              "      <td>AutoNation</td>\n",
              "      <td>500</td>\n",
              "      <td>21609</td>\n",
              "      <td>3.6</td>\n",
              "      <td>430.5</td>\n",
              "      <td>10060</td>\n",
              "      <td>-2.7</td>\n",
              "      <td>Michael J. Jackson</td>\n",
              "      <td>Specialty Retailers</td>\n",
              "      <td>Retailing</td>\n",
              "      <td>NaN</td>\n",
              "      <td>USA</td>\n",
              "      <td>Fort Lauderdale, FL</td>\n",
              "      <td>http://www.autonation.com</td>\n",
              "      <td>12</td>\n",
              "      <td>26000</td>\n",
              "      <td>2310</td>\n",
              "    </tr>\n",
              "  </tbody>\n",
              "</table>\n",
              "<p>500 rows × 17 columns</p>\n",
              "</div>"
            ],
            "text/plain": [
              "                            company  rank  ...  employees  total_stockholder_equity\n",
              "0                           Walmart     1  ...    2300000                     77798\n",
              "1                        State Grid     2  ...     926067                    209456\n",
              "2                     Sinopec Group     3  ...     713288                    106523\n",
              "3          China National Petroleum     4  ...    1512048                    301893\n",
              "4                      Toyota Motor     5  ...     364445                    157210\n",
              "..                              ...   ...  ...        ...                       ...\n",
              "495  Teva Pharmaceutical Industries   496  ...      56960                     33337\n",
              "496        New China Life Insurance   497  ...      54378                      8507\n",
              "497       Wm. Morrison Supermarkets   498  ...      77210                      5111\n",
              "498                             TUI   499  ...      66779                      3006\n",
              "499                      AutoNation   500  ...      26000                      2310\n",
              "\n",
              "[500 rows x 17 columns]"
            ]
          },
          "metadata": {
            "tags": []
          },
          "execution_count": 20
        }
      ]
    },
    {
      "cell_type": "markdown",
      "metadata": {
        "id": "iOQxFWLPXYj5"
      },
      "source": [
        "### 3. Using iloc to select by integer position"
      ]
    },
    {
      "cell_type": "code",
      "metadata": {
        "colab": {
          "base_uri": "https://localhost:8080/"
        },
        "id": "qDiMHXqmX8mZ",
        "outputId": "ffaf06b6-64af-4a3b-f6cd-7bc1835bcbfb"
      },
      "source": [
        "print(f500[[\"company\", \"rank\", \"revenues\"]].head())"
      ],
      "execution_count": 22,
      "outputs": [
        {
          "output_type": "stream",
          "text": [
            "                    company  rank  revenues\n",
            "0                   Walmart     1    485873\n",
            "1                State Grid     2    315199\n",
            "2             Sinopec Group     3    267518\n",
            "3  China National Petroleum     4    262573\n",
            "4              Toyota Motor     5    254694\n"
          ],
          "name": "stdout"
        }
      ]
    },
    {
      "cell_type": "code",
      "metadata": {
        "colab": {
          "base_uri": "https://localhost:8080/"
        },
        "id": "WxX3Hn2RYJG5",
        "outputId": "bcd0a12f-5084-46a2-d44d-802def2b9d77"
      },
      "source": [
        "# select 5th row from dataframe and assign it to fifth_row\r\n",
        "fifth_row = f500.iloc[4]\r\n",
        "fifth_row, type(fifth_row)"
      ],
      "execution_count": 34,
      "outputs": [
        {
          "output_type": "execute_result",
          "data": {
            "text/plain": [
              "(company                                     Toyota Motor\n",
              " rank                                                   5\n",
              " revenues                                          254694\n",
              " revenue_change                                       7.7\n",
              " profits                                          16899.3\n",
              " assets                                            437575\n",
              " profit_change                                      -12.3\n",
              " ceo                                          Akio Toyoda\n",
              " industry                        Motor Vehicles and Parts\n",
              " sector                            Motor Vehicles & Parts\n",
              " previous_rank                                          8\n",
              " country                                            Japan\n",
              " hq_location                                Toyota, Japan\n",
              " website                     http://www.toyota-global.com\n",
              " years_on_global_500_list                              23\n",
              " employees                                         364445\n",
              " total_stockholder_equity                          157210\n",
              " Name: 4, dtype: object, pandas.core.series.Series)"
            ]
          },
          "metadata": {
            "tags": []
          },
          "execution_count": 34
        }
      ]
    },
    {
      "cell_type": "code",
      "metadata": {
        "colab": {
          "base_uri": "https://localhost:8080/",
          "height": 35
        },
        "id": "AkVDgyFcY0U4",
        "outputId": "d3c1fd09-6713-412e-8389-0671573c30e8"
      },
      "source": [
        "# select the value in te first row of the company column\r\n",
        "company_value = f500.iloc[0,0]\r\n",
        "company_value"
      ],
      "execution_count": 27,
      "outputs": [
        {
          "output_type": "execute_result",
          "data": {
            "application/vnd.google.colaboratory.intrinsic+json": {
              "type": "string"
            },
            "text/plain": [
              "'Walmart'"
            ]
          },
          "metadata": {
            "tags": []
          },
          "execution_count": 27
        }
      ]
    },
    {
      "cell_type": "markdown",
      "metadata": {
        "id": "SvgxeUUdZcYg"
      },
      "source": [
        "### 4. Using iloc"
      ]
    },
    {
      "cell_type": "code",
      "metadata": {
        "colab": {
          "base_uri": "https://localhost:8080/"
        },
        "id": "UlIsrTMhaAJR",
        "outputId": "ecd1641f-44c5-40ee-8db9-459e704ce3e7"
      },
      "source": [
        "# select only first column\r\n",
        "first_column = f500.iloc[:,0]\r\n",
        "first_column"
      ],
      "execution_count": 35,
      "outputs": [
        {
          "output_type": "execute_result",
          "data": {
            "text/plain": [
              "0                             Walmart\n",
              "1                          State Grid\n",
              "2                       Sinopec Group\n",
              "3            China National Petroleum\n",
              "4                        Toyota Motor\n",
              "                    ...              \n",
              "495    Teva Pharmaceutical Industries\n",
              "496          New China Life Insurance\n",
              "497         Wm. Morrison Supermarkets\n",
              "498                               TUI\n",
              "499                        AutoNation\n",
              "Name: company, Length: 500, dtype: object"
            ]
          },
          "metadata": {
            "tags": []
          },
          "execution_count": 35
        }
      ]
    },
    {
      "cell_type": "code",
      "metadata": {
        "colab": {
          "base_uri": "https://localhost:8080/",
          "height": 286
        },
        "id": "ELJjdFXcaMma",
        "outputId": "564790d0-a473-4fd8-bb27-2df8c4b33593"
      },
      "source": [
        "# select all rows from index 1 to 4 inclusive\r\n",
        "second_to_sixth_rows = f500[1:5]\r\n",
        "second_to_sixth_rows"
      ],
      "execution_count": 36,
      "outputs": [
        {
          "output_type": "execute_result",
          "data": {
            "text/html": [
              "<div>\n",
              "<style scoped>\n",
              "    .dataframe tbody tr th:only-of-type {\n",
              "        vertical-align: middle;\n",
              "    }\n",
              "\n",
              "    .dataframe tbody tr th {\n",
              "        vertical-align: top;\n",
              "    }\n",
              "\n",
              "    .dataframe thead th {\n",
              "        text-align: right;\n",
              "    }\n",
              "</style>\n",
              "<table border=\"1\" class=\"dataframe\">\n",
              "  <thead>\n",
              "    <tr style=\"text-align: right;\">\n",
              "      <th></th>\n",
              "      <th>company</th>\n",
              "      <th>rank</th>\n",
              "      <th>revenues</th>\n",
              "      <th>revenue_change</th>\n",
              "      <th>profits</th>\n",
              "      <th>assets</th>\n",
              "      <th>profit_change</th>\n",
              "      <th>ceo</th>\n",
              "      <th>industry</th>\n",
              "      <th>sector</th>\n",
              "      <th>previous_rank</th>\n",
              "      <th>country</th>\n",
              "      <th>hq_location</th>\n",
              "      <th>website</th>\n",
              "      <th>years_on_global_500_list</th>\n",
              "      <th>employees</th>\n",
              "      <th>total_stockholder_equity</th>\n",
              "    </tr>\n",
              "  </thead>\n",
              "  <tbody>\n",
              "    <tr>\n",
              "      <th>1</th>\n",
              "      <td>State Grid</td>\n",
              "      <td>2</td>\n",
              "      <td>315199</td>\n",
              "      <td>-4.4</td>\n",
              "      <td>9571.3</td>\n",
              "      <td>489838</td>\n",
              "      <td>-6.2</td>\n",
              "      <td>Kou Wei</td>\n",
              "      <td>Utilities</td>\n",
              "      <td>Energy</td>\n",
              "      <td>2.0</td>\n",
              "      <td>China</td>\n",
              "      <td>Beijing, China</td>\n",
              "      <td>http://www.sgcc.com.cn</td>\n",
              "      <td>17</td>\n",
              "      <td>926067</td>\n",
              "      <td>209456</td>\n",
              "    </tr>\n",
              "    <tr>\n",
              "      <th>2</th>\n",
              "      <td>Sinopec Group</td>\n",
              "      <td>3</td>\n",
              "      <td>267518</td>\n",
              "      <td>-9.1</td>\n",
              "      <td>1257.9</td>\n",
              "      <td>310726</td>\n",
              "      <td>-65.0</td>\n",
              "      <td>Wang Yupu</td>\n",
              "      <td>Petroleum Refining</td>\n",
              "      <td>Energy</td>\n",
              "      <td>4.0</td>\n",
              "      <td>China</td>\n",
              "      <td>Beijing, China</td>\n",
              "      <td>http://www.sinopec.com</td>\n",
              "      <td>19</td>\n",
              "      <td>713288</td>\n",
              "      <td>106523</td>\n",
              "    </tr>\n",
              "    <tr>\n",
              "      <th>3</th>\n",
              "      <td>China National Petroleum</td>\n",
              "      <td>4</td>\n",
              "      <td>262573</td>\n",
              "      <td>-12.3</td>\n",
              "      <td>1867.5</td>\n",
              "      <td>585619</td>\n",
              "      <td>-73.7</td>\n",
              "      <td>Zhang Jianhua</td>\n",
              "      <td>Petroleum Refining</td>\n",
              "      <td>Energy</td>\n",
              "      <td>3.0</td>\n",
              "      <td>China</td>\n",
              "      <td>Beijing, China</td>\n",
              "      <td>http://www.cnpc.com.cn</td>\n",
              "      <td>17</td>\n",
              "      <td>1512048</td>\n",
              "      <td>301893</td>\n",
              "    </tr>\n",
              "    <tr>\n",
              "      <th>4</th>\n",
              "      <td>Toyota Motor</td>\n",
              "      <td>5</td>\n",
              "      <td>254694</td>\n",
              "      <td>7.7</td>\n",
              "      <td>16899.3</td>\n",
              "      <td>437575</td>\n",
              "      <td>-12.3</td>\n",
              "      <td>Akio Toyoda</td>\n",
              "      <td>Motor Vehicles and Parts</td>\n",
              "      <td>Motor Vehicles &amp; Parts</td>\n",
              "      <td>8.0</td>\n",
              "      <td>Japan</td>\n",
              "      <td>Toyota, Japan</td>\n",
              "      <td>http://www.toyota-global.com</td>\n",
              "      <td>23</td>\n",
              "      <td>364445</td>\n",
              "      <td>157210</td>\n",
              "    </tr>\n",
              "  </tbody>\n",
              "</table>\n",
              "</div>"
            ],
            "text/plain": [
              "                    company  rank  ...  employees  total_stockholder_equity\n",
              "1                State Grid     2  ...     926067                    209456\n",
              "2             Sinopec Group     3  ...     713288                    106523\n",
              "3  China National Petroleum     4  ...    1512048                    301893\n",
              "4              Toyota Motor     5  ...     364445                    157210\n",
              "\n",
              "[4 rows x 17 columns]"
            ]
          },
          "metadata": {
            "tags": []
          },
          "execution_count": 36
        }
      ]
    },
    {
      "cell_type": "code",
      "metadata": {
        "id": "Ibk6uKpMabfZ"
      },
      "source": [
        ""
      ],
      "execution_count": null,
      "outputs": []
    }
  ]
}