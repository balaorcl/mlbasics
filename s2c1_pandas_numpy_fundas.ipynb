{
  "nbformat": 4,
  "nbformat_minor": 0,
  "metadata": {
    "colab": {
      "name": "s2c1_pandas_numpy_fundas.ipynb",
      "provenance": [],
      "collapsed_sections": [],
      "authorship_tag": "ABX9TyP0zItDz17NJgWKWszHYcoH",
      "include_colab_link": true
    },
    "kernelspec": {
      "name": "python3",
      "display_name": "Python 3"
    }
  },
  "cells": [
    {
      "cell_type": "markdown",
      "metadata": {
        "id": "view-in-github",
        "colab_type": "text"
      },
      "source": [
        "<a href=\"https://colab.research.google.com/github/balaorcl/mlbasics/blob/main/s2c1_pandas_numpy_fundas.ipynb\" target=\"_parent\"><img src=\"https://colab.research.google.com/assets/colab-badge.svg\" alt=\"Open In Colab\"/></a>"
      ]
    },
    {
      "cell_type": "markdown",
      "metadata": {
        "id": "IyRZJDK1OsFa"
      },
      "source": [
        "# Pandas and NumPy Fundamentals\n"
      ]
    },
    {
      "cell_type": "code",
      "metadata": {
        "id": "pXsFxZSoQt2w",
        "colab": {
          "base_uri": "https://localhost:8080/"
        },
        "outputId": "3de039ef-614e-45ea-8df0-145d137c4a59"
      },
      "source": [
        "from google.colab import drive\n",
        "drive.mount('/content/drive')"
      ],
      "execution_count": null,
      "outputs": [
        {
          "output_type": "stream",
          "text": [
            "Drive already mounted at /content/drive; to attempt to forcibly remount, call drive.mount(\"/content/drive\", force_remount=True).\n"
          ],
          "name": "stdout"
        }
      ]
    },
    {
      "cell_type": "markdown",
      "metadata": {
        "id": "_5yyOezHPNeX"
      },
      "source": [
        "## Introduction to Numpy"
      ]
    },
    {
      "cell_type": "code",
      "metadata": {
        "id": "uCtVvBc4q9OJ"
      },
      "source": [
        "import numpy as np"
      ],
      "execution_count": null,
      "outputs": []
    },
    {
      "cell_type": "code",
      "metadata": {
        "id": "53s3LUVoquCc",
        "colab": {
          "base_uri": "https://localhost:8080/"
        },
        "outputId": "95ec6f9b-3e4b-4d83-a745-94cce230194e"
      },
      "source": [
        "data_ndarray = np.array([5, 10, 15, 20])\n",
        "data_ndarray"
      ],
      "execution_count": null,
      "outputs": [
        {
          "output_type": "execute_result",
          "data": {
            "text/plain": [
              "array([ 5, 10, 15, 20])"
            ]
          },
          "metadata": {
            "tags": []
          },
          "execution_count": 4
        }
      ]
    },
    {
      "cell_type": "markdown",
      "metadata": {
        "id": "Mc5uY8nbNt1e"
      },
      "source": [
        "## Boolean Indexing with Numpy"
      ]
    },
    {
      "cell_type": "code",
      "metadata": {
        "id": "qvRGw89-Q9c5"
      },
      "source": [
        "import numpy as np"
      ],
      "execution_count": null,
      "outputs": []
    },
    {
      "cell_type": "code",
      "metadata": {
        "id": "i5yos1n9RGCL",
        "colab": {
          "base_uri": "https://localhost:8080/"
        },
        "outputId": "bbab7ce4-2c39-4c00-e856-f0967db72ae8"
      },
      "source": [
        "taxi = np.genfromtxt(\"drive/My Drive/data/nyc_taxis.csv\", delimiter=\",\")\n",
        "taxi_shape = taxi.shape\n",
        "taxi_shape"
      ],
      "execution_count": null,
      "outputs": [
        {
          "output_type": "execute_result",
          "data": {
            "text/plain": [
              "(89561, 15)"
            ]
          },
          "metadata": {
            "tags": []
          },
          "execution_count": 6
        }
      ]
    },
    {
      "cell_type": "code",
      "metadata": {
        "id": "Nxz680Z7RGxT"
      },
      "source": [
        "import csv\n",
        "\n",
        "# impoer nyc_taxis.csv as a list of lists\n",
        "f = open(\"drive/My Drive/data/nyc_taxis.csv\", \"r\")\n",
        "taxi_list = list(csv.reader(f))"
      ],
      "execution_count": null,
      "outputs": []
    },
    {
      "cell_type": "code",
      "metadata": {
        "id": "RCanWNzbRITE"
      },
      "source": [
        ""
      ],
      "execution_count": null,
      "outputs": []
    },
    {
      "cell_type": "code",
      "metadata": {
        "id": "A01PpMcdRIkT"
      },
      "source": [
        ""
      ],
      "execution_count": null,
      "outputs": []
    },
    {
      "cell_type": "code",
      "metadata": {
        "id": "wKqU_bt7RIxb"
      },
      "source": [
        ""
      ],
      "execution_count": null,
      "outputs": []
    },
    {
      "cell_type": "markdown",
      "metadata": {
        "id": "mz22AiszOIGd"
      },
      "source": [
        "## Introduction to Pandas"
      ]
    },
    {
      "cell_type": "markdown",
      "metadata": {
        "id": "I67hKC7iPWJQ"
      },
      "source": [
        "## Exploring Data with Pandas: Fundamentals"
      ]
    },
    {
      "cell_type": "markdown",
      "metadata": {
        "id": "x7rCZ2cjPd95"
      },
      "source": [
        "## Exploring Data with Pandas: Intermediate"
      ]
    },
    {
      "cell_type": "code",
      "metadata": {
        "id": "fJzV2nwPPm8a",
        "colab": {
          "base_uri": "https://localhost:8080/",
          "height": 694
        },
        "outputId": "29851f41-4051-4d81-d1fa-50b466f6cb6f"
      },
      "source": [
        "import pandas as pd\n",
        "# Create DataFrame\n",
        "f500 = pd.read_csv(\"drive/My Drive/data/f500.csv\", index_col=0)\n",
        "f500.index.name = None\n",
        "f500"
      ],
      "execution_count": null,
      "outputs": [
        {
          "output_type": "execute_result",
          "data": {
            "text/html": [
              "<div>\n",
              "<style scoped>\n",
              "    .dataframe tbody tr th:only-of-type {\n",
              "        vertical-align: middle;\n",
              "    }\n",
              "\n",
              "    .dataframe tbody tr th {\n",
              "        vertical-align: top;\n",
              "    }\n",
              "\n",
              "    .dataframe thead th {\n",
              "        text-align: right;\n",
              "    }\n",
              "</style>\n",
              "<table border=\"1\" class=\"dataframe\">\n",
              "  <thead>\n",
              "    <tr style=\"text-align: right;\">\n",
              "      <th></th>\n",
              "      <th>rank</th>\n",
              "      <th>revenues</th>\n",
              "      <th>revenue_change</th>\n",
              "      <th>profits</th>\n",
              "      <th>assets</th>\n",
              "      <th>profit_change</th>\n",
              "      <th>ceo</th>\n",
              "      <th>industry</th>\n",
              "      <th>sector</th>\n",
              "      <th>previous_rank</th>\n",
              "      <th>country</th>\n",
              "      <th>hq_location</th>\n",
              "      <th>website</th>\n",
              "      <th>years_on_global_500_list</th>\n",
              "      <th>employees</th>\n",
              "      <th>total_stockholder_equity</th>\n",
              "    </tr>\n",
              "  </thead>\n",
              "  <tbody>\n",
              "    <tr>\n",
              "      <th>Walmart</th>\n",
              "      <td>1</td>\n",
              "      <td>485873</td>\n",
              "      <td>0.8</td>\n",
              "      <td>13643.0</td>\n",
              "      <td>198825</td>\n",
              "      <td>-7.2</td>\n",
              "      <td>C. Douglas McMillon</td>\n",
              "      <td>General Merchandisers</td>\n",
              "      <td>Retailing</td>\n",
              "      <td>1</td>\n",
              "      <td>USA</td>\n",
              "      <td>Bentonville, AR</td>\n",
              "      <td>http://www.walmart.com</td>\n",
              "      <td>23</td>\n",
              "      <td>2300000</td>\n",
              "      <td>77798</td>\n",
              "    </tr>\n",
              "    <tr>\n",
              "      <th>State Grid</th>\n",
              "      <td>2</td>\n",
              "      <td>315199</td>\n",
              "      <td>-4.4</td>\n",
              "      <td>9571.3</td>\n",
              "      <td>489838</td>\n",
              "      <td>-6.2</td>\n",
              "      <td>Kou Wei</td>\n",
              "      <td>Utilities</td>\n",
              "      <td>Energy</td>\n",
              "      <td>2</td>\n",
              "      <td>China</td>\n",
              "      <td>Beijing, China</td>\n",
              "      <td>http://www.sgcc.com.cn</td>\n",
              "      <td>17</td>\n",
              "      <td>926067</td>\n",
              "      <td>209456</td>\n",
              "    </tr>\n",
              "    <tr>\n",
              "      <th>Sinopec Group</th>\n",
              "      <td>3</td>\n",
              "      <td>267518</td>\n",
              "      <td>-9.1</td>\n",
              "      <td>1257.9</td>\n",
              "      <td>310726</td>\n",
              "      <td>-65.0</td>\n",
              "      <td>Wang Yupu</td>\n",
              "      <td>Petroleum Refining</td>\n",
              "      <td>Energy</td>\n",
              "      <td>4</td>\n",
              "      <td>China</td>\n",
              "      <td>Beijing, China</td>\n",
              "      <td>http://www.sinopec.com</td>\n",
              "      <td>19</td>\n",
              "      <td>713288</td>\n",
              "      <td>106523</td>\n",
              "    </tr>\n",
              "    <tr>\n",
              "      <th>China National Petroleum</th>\n",
              "      <td>4</td>\n",
              "      <td>262573</td>\n",
              "      <td>-12.3</td>\n",
              "      <td>1867.5</td>\n",
              "      <td>585619</td>\n",
              "      <td>-73.7</td>\n",
              "      <td>Zhang Jianhua</td>\n",
              "      <td>Petroleum Refining</td>\n",
              "      <td>Energy</td>\n",
              "      <td>3</td>\n",
              "      <td>China</td>\n",
              "      <td>Beijing, China</td>\n",
              "      <td>http://www.cnpc.com.cn</td>\n",
              "      <td>17</td>\n",
              "      <td>1512048</td>\n",
              "      <td>301893</td>\n",
              "    </tr>\n",
              "    <tr>\n",
              "      <th>Toyota Motor</th>\n",
              "      <td>5</td>\n",
              "      <td>254694</td>\n",
              "      <td>7.7</td>\n",
              "      <td>16899.3</td>\n",
              "      <td>437575</td>\n",
              "      <td>-12.3</td>\n",
              "      <td>Akio Toyoda</td>\n",
              "      <td>Motor Vehicles and Parts</td>\n",
              "      <td>Motor Vehicles &amp; Parts</td>\n",
              "      <td>8</td>\n",
              "      <td>Japan</td>\n",
              "      <td>Toyota, Japan</td>\n",
              "      <td>http://www.toyota-global.com</td>\n",
              "      <td>23</td>\n",
              "      <td>364445</td>\n",
              "      <td>157210</td>\n",
              "    </tr>\n",
              "    <tr>\n",
              "      <th>...</th>\n",
              "      <td>...</td>\n",
              "      <td>...</td>\n",
              "      <td>...</td>\n",
              "      <td>...</td>\n",
              "      <td>...</td>\n",
              "      <td>...</td>\n",
              "      <td>...</td>\n",
              "      <td>...</td>\n",
              "      <td>...</td>\n",
              "      <td>...</td>\n",
              "      <td>...</td>\n",
              "      <td>...</td>\n",
              "      <td>...</td>\n",
              "      <td>...</td>\n",
              "      <td>...</td>\n",
              "      <td>...</td>\n",
              "    </tr>\n",
              "    <tr>\n",
              "      <th>Teva Pharmaceutical Industries</th>\n",
              "      <td>496</td>\n",
              "      <td>21903</td>\n",
              "      <td>11.5</td>\n",
              "      <td>329.0</td>\n",
              "      <td>92890</td>\n",
              "      <td>-79.3</td>\n",
              "      <td>Yitzhak Peterburg</td>\n",
              "      <td>Pharmaceuticals</td>\n",
              "      <td>Health Care</td>\n",
              "      <td>0</td>\n",
              "      <td>Israel</td>\n",
              "      <td>Petach Tikva, Israel</td>\n",
              "      <td>http://www.tevapharm.com</td>\n",
              "      <td>1</td>\n",
              "      <td>56960</td>\n",
              "      <td>33337</td>\n",
              "    </tr>\n",
              "    <tr>\n",
              "      <th>New China Life Insurance</th>\n",
              "      <td>497</td>\n",
              "      <td>21796</td>\n",
              "      <td>-13.3</td>\n",
              "      <td>743.9</td>\n",
              "      <td>100609</td>\n",
              "      <td>-45.6</td>\n",
              "      <td>Wan Feng</td>\n",
              "      <td>Insurance: Life, Health (stock)</td>\n",
              "      <td>Financials</td>\n",
              "      <td>427</td>\n",
              "      <td>China</td>\n",
              "      <td>Beijing, China</td>\n",
              "      <td>http://www.newchinalife.com</td>\n",
              "      <td>2</td>\n",
              "      <td>54378</td>\n",
              "      <td>8507</td>\n",
              "    </tr>\n",
              "    <tr>\n",
              "      <th>Wm. Morrison Supermarkets</th>\n",
              "      <td>498</td>\n",
              "      <td>21741</td>\n",
              "      <td>-11.3</td>\n",
              "      <td>406.4</td>\n",
              "      <td>11630</td>\n",
              "      <td>20.4</td>\n",
              "      <td>David T. Potts</td>\n",
              "      <td>Food and Drug Stores</td>\n",
              "      <td>Food &amp; Drug Stores</td>\n",
              "      <td>437</td>\n",
              "      <td>Britain</td>\n",
              "      <td>Bradford, Britain</td>\n",
              "      <td>http://www.morrisons.com</td>\n",
              "      <td>13</td>\n",
              "      <td>77210</td>\n",
              "      <td>5111</td>\n",
              "    </tr>\n",
              "    <tr>\n",
              "      <th>TUI</th>\n",
              "      <td>499</td>\n",
              "      <td>21655</td>\n",
              "      <td>-5.5</td>\n",
              "      <td>1151.7</td>\n",
              "      <td>16247</td>\n",
              "      <td>195.5</td>\n",
              "      <td>Friedrich Joussen</td>\n",
              "      <td>Travel Services</td>\n",
              "      <td>Business Services</td>\n",
              "      <td>467</td>\n",
              "      <td>Germany</td>\n",
              "      <td>Hanover, Germany</td>\n",
              "      <td>http://www.tuigroup.com</td>\n",
              "      <td>23</td>\n",
              "      <td>66779</td>\n",
              "      <td>3006</td>\n",
              "    </tr>\n",
              "    <tr>\n",
              "      <th>AutoNation</th>\n",
              "      <td>500</td>\n",
              "      <td>21609</td>\n",
              "      <td>3.6</td>\n",
              "      <td>430.5</td>\n",
              "      <td>10060</td>\n",
              "      <td>-2.7</td>\n",
              "      <td>Michael J. Jackson</td>\n",
              "      <td>Specialty Retailers</td>\n",
              "      <td>Retailing</td>\n",
              "      <td>0</td>\n",
              "      <td>USA</td>\n",
              "      <td>Fort Lauderdale, FL</td>\n",
              "      <td>http://www.autonation.com</td>\n",
              "      <td>12</td>\n",
              "      <td>26000</td>\n",
              "      <td>2310</td>\n",
              "    </tr>\n",
              "  </tbody>\n",
              "</table>\n",
              "<p>500 rows × 16 columns</p>\n",
              "</div>"
            ],
            "text/plain": [
              "                                rank  ...  total_stockholder_equity\n",
              "Walmart                            1  ...                     77798\n",
              "State Grid                         2  ...                    209456\n",
              "Sinopec Group                      3  ...                    106523\n",
              "China National Petroleum           4  ...                    301893\n",
              "Toyota Motor                       5  ...                    157210\n",
              "...                              ...  ...                       ...\n",
              "Teva Pharmaceutical Industries   496  ...                     33337\n",
              "New China Life Insurance         497  ...                      8507\n",
              "Wm. Morrison Supermarkets        498  ...                      5111\n",
              "TUI                              499  ...                      3006\n",
              "AutoNation                       500  ...                      2310\n",
              "\n",
              "[500 rows x 16 columns]"
            ]
          },
          "metadata": {
            "tags": []
          },
          "execution_count": 8
        }
      ]
    },
    {
      "cell_type": "code",
      "metadata": {
        "colab": {
          "base_uri": "https://localhost:8080/"
        },
        "id": "nMwBw_jJFlLR",
        "outputId": "c63999c4-5765-46ba-e077-c23b4f933195"
      },
      "source": [
        "f500_dict = {\"company\" : \"Name of the company\",\n",
        "             \"rank\": \"Global 500 rank for the company\",\n",
        "             \"revenues\": \"Company's total revenue for the fiscal year, in millions of USD\",\n",
        "             \"revenue_change\": \"Percentage change in revenue between the current and prior fiscal year\",\n",
        "             \"profits\": \"Net income for the fiscal year, in millions of dollars(USD)\",\n",
        "             \"sector\": \"sector in which the company operates\",\n",
        "             \"previous_rank\": \"Global 500 rank for the company for the prior year\",\n",
        "             \"country\": \"Country in which the company is headquartered\",\n",
        "             \"hq_location\": \"City and country, (or city and state for the USA) where the company is headquartered\",\n",
        "             \"employees\": \"Total employees (full-time equivalent, if available) at fiscal year-end\"\n",
        "             }\n",
        "f500_dict"
      ],
      "execution_count": null,
      "outputs": [
        {
          "output_type": "execute_result",
          "data": {
            "text/plain": [
              "{'company': 'Name of the company',\n",
              " 'country': 'Country in which the company is headquartered',\n",
              " 'employees': 'Total employees (full-time equivalent, if available) at fiscal year-end',\n",
              " 'hq_location': 'City and country, (or city and state for the USA) where the company is headquartered',\n",
              " 'previous_rank': 'Global 500 rank for the company for the prior year',\n",
              " 'profits': 'Net income for the fiscal year, in millions of dollars(USD)',\n",
              " 'rank': 'Global 500 rank for the company',\n",
              " 'revenue_change': 'Percentage change in revenue between the current and prior fiscal year',\n",
              " 'revenues': \"Company's total revenue for the fiscal year, in millions of USD\",\n",
              " 'sector': 'sector in which the company operates'}"
            ]
          },
          "metadata": {
            "tags": []
          },
          "execution_count": 9
        }
      ]
    },
    {
      "cell_type": "code",
      "metadata": {
        "colab": {
          "base_uri": "https://localhost:8080/",
          "height": 204
        },
        "id": "2n3WnYJ5F0Vf",
        "outputId": "c14781fd-28de-40ff-8e9f-0eb790760aca"
      },
      "source": [
        "f500_selection=f500[[\"rank\", \"revenues\", \"revenue_change\"]].head()\n",
        "f500_selection"
      ],
      "execution_count": null,
      "outputs": [
        {
          "output_type": "execute_result",
          "data": {
            "text/html": [
              "<div>\n",
              "<style scoped>\n",
              "    .dataframe tbody tr th:only-of-type {\n",
              "        vertical-align: middle;\n",
              "    }\n",
              "\n",
              "    .dataframe tbody tr th {\n",
              "        vertical-align: top;\n",
              "    }\n",
              "\n",
              "    .dataframe thead th {\n",
              "        text-align: right;\n",
              "    }\n",
              "</style>\n",
              "<table border=\"1\" class=\"dataframe\">\n",
              "  <thead>\n",
              "    <tr style=\"text-align: right;\">\n",
              "      <th></th>\n",
              "      <th>rank</th>\n",
              "      <th>revenues</th>\n",
              "      <th>revenue_change</th>\n",
              "    </tr>\n",
              "  </thead>\n",
              "  <tbody>\n",
              "    <tr>\n",
              "      <th>Walmart</th>\n",
              "      <td>1</td>\n",
              "      <td>485873</td>\n",
              "      <td>0.8</td>\n",
              "    </tr>\n",
              "    <tr>\n",
              "      <th>State Grid</th>\n",
              "      <td>2</td>\n",
              "      <td>315199</td>\n",
              "      <td>-4.4</td>\n",
              "    </tr>\n",
              "    <tr>\n",
              "      <th>Sinopec Group</th>\n",
              "      <td>3</td>\n",
              "      <td>267518</td>\n",
              "      <td>-9.1</td>\n",
              "    </tr>\n",
              "    <tr>\n",
              "      <th>China National Petroleum</th>\n",
              "      <td>4</td>\n",
              "      <td>262573</td>\n",
              "      <td>-12.3</td>\n",
              "    </tr>\n",
              "    <tr>\n",
              "      <th>Toyota Motor</th>\n",
              "      <td>5</td>\n",
              "      <td>254694</td>\n",
              "      <td>7.7</td>\n",
              "    </tr>\n",
              "  </tbody>\n",
              "</table>\n",
              "</div>"
            ],
            "text/plain": [
              "                          rank  revenues  revenue_change\n",
              "Walmart                      1    485873             0.8\n",
              "State Grid                   2    315199            -4.4\n",
              "Sinopec Group                3    267518            -9.1\n",
              "China National Petroleum     4    262573           -12.3\n",
              "Toyota Motor                 5    254694             7.7"
            ]
          },
          "metadata": {
            "tags": []
          },
          "execution_count": 10
        }
      ]
    },
    {
      "cell_type": "markdown",
      "metadata": {
        "id": "_mxJ96AOJSd3"
      },
      "source": [
        "### 2. Reading CSV files with pandas"
      ]
    },
    {
      "cell_type": "code",
      "metadata": {
        "colab": {
          "base_uri": "https://localhost:8080/",
          "height": 694
        },
        "id": "XQG9QFkSVpIP",
        "outputId": "d2130583-2ba8-408a-9722-58a75b3c862e"
      },
      "source": [
        "# Without index_col = 0\r\n",
        "f500 = pd.read_csv(\"drive/My Drive/data/f500.csv\")\r\n",
        "f500"
      ],
      "execution_count": null,
      "outputs": [
        {
          "output_type": "execute_result",
          "data": {
            "text/html": [
              "<div>\n",
              "<style scoped>\n",
              "    .dataframe tbody tr th:only-of-type {\n",
              "        vertical-align: middle;\n",
              "    }\n",
              "\n",
              "    .dataframe tbody tr th {\n",
              "        vertical-align: top;\n",
              "    }\n",
              "\n",
              "    .dataframe thead th {\n",
              "        text-align: right;\n",
              "    }\n",
              "</style>\n",
              "<table border=\"1\" class=\"dataframe\">\n",
              "  <thead>\n",
              "    <tr style=\"text-align: right;\">\n",
              "      <th></th>\n",
              "      <th>company</th>\n",
              "      <th>rank</th>\n",
              "      <th>revenues</th>\n",
              "      <th>revenue_change</th>\n",
              "      <th>profits</th>\n",
              "      <th>assets</th>\n",
              "      <th>profit_change</th>\n",
              "      <th>ceo</th>\n",
              "      <th>industry</th>\n",
              "      <th>sector</th>\n",
              "      <th>previous_rank</th>\n",
              "      <th>country</th>\n",
              "      <th>hq_location</th>\n",
              "      <th>website</th>\n",
              "      <th>years_on_global_500_list</th>\n",
              "      <th>employees</th>\n",
              "      <th>total_stockholder_equity</th>\n",
              "    </tr>\n",
              "  </thead>\n",
              "  <tbody>\n",
              "    <tr>\n",
              "      <th>0</th>\n",
              "      <td>Walmart</td>\n",
              "      <td>1</td>\n",
              "      <td>485873</td>\n",
              "      <td>0.8</td>\n",
              "      <td>13643.0</td>\n",
              "      <td>198825</td>\n",
              "      <td>-7.2</td>\n",
              "      <td>C. Douglas McMillon</td>\n",
              "      <td>General Merchandisers</td>\n",
              "      <td>Retailing</td>\n",
              "      <td>1</td>\n",
              "      <td>USA</td>\n",
              "      <td>Bentonville, AR</td>\n",
              "      <td>http://www.walmart.com</td>\n",
              "      <td>23</td>\n",
              "      <td>2300000</td>\n",
              "      <td>77798</td>\n",
              "    </tr>\n",
              "    <tr>\n",
              "      <th>1</th>\n",
              "      <td>State Grid</td>\n",
              "      <td>2</td>\n",
              "      <td>315199</td>\n",
              "      <td>-4.4</td>\n",
              "      <td>9571.3</td>\n",
              "      <td>489838</td>\n",
              "      <td>-6.2</td>\n",
              "      <td>Kou Wei</td>\n",
              "      <td>Utilities</td>\n",
              "      <td>Energy</td>\n",
              "      <td>2</td>\n",
              "      <td>China</td>\n",
              "      <td>Beijing, China</td>\n",
              "      <td>http://www.sgcc.com.cn</td>\n",
              "      <td>17</td>\n",
              "      <td>926067</td>\n",
              "      <td>209456</td>\n",
              "    </tr>\n",
              "    <tr>\n",
              "      <th>2</th>\n",
              "      <td>Sinopec Group</td>\n",
              "      <td>3</td>\n",
              "      <td>267518</td>\n",
              "      <td>-9.1</td>\n",
              "      <td>1257.9</td>\n",
              "      <td>310726</td>\n",
              "      <td>-65.0</td>\n",
              "      <td>Wang Yupu</td>\n",
              "      <td>Petroleum Refining</td>\n",
              "      <td>Energy</td>\n",
              "      <td>4</td>\n",
              "      <td>China</td>\n",
              "      <td>Beijing, China</td>\n",
              "      <td>http://www.sinopec.com</td>\n",
              "      <td>19</td>\n",
              "      <td>713288</td>\n",
              "      <td>106523</td>\n",
              "    </tr>\n",
              "    <tr>\n",
              "      <th>3</th>\n",
              "      <td>China National Petroleum</td>\n",
              "      <td>4</td>\n",
              "      <td>262573</td>\n",
              "      <td>-12.3</td>\n",
              "      <td>1867.5</td>\n",
              "      <td>585619</td>\n",
              "      <td>-73.7</td>\n",
              "      <td>Zhang Jianhua</td>\n",
              "      <td>Petroleum Refining</td>\n",
              "      <td>Energy</td>\n",
              "      <td>3</td>\n",
              "      <td>China</td>\n",
              "      <td>Beijing, China</td>\n",
              "      <td>http://www.cnpc.com.cn</td>\n",
              "      <td>17</td>\n",
              "      <td>1512048</td>\n",
              "      <td>301893</td>\n",
              "    </tr>\n",
              "    <tr>\n",
              "      <th>4</th>\n",
              "      <td>Toyota Motor</td>\n",
              "      <td>5</td>\n",
              "      <td>254694</td>\n",
              "      <td>7.7</td>\n",
              "      <td>16899.3</td>\n",
              "      <td>437575</td>\n",
              "      <td>-12.3</td>\n",
              "      <td>Akio Toyoda</td>\n",
              "      <td>Motor Vehicles and Parts</td>\n",
              "      <td>Motor Vehicles &amp; Parts</td>\n",
              "      <td>8</td>\n",
              "      <td>Japan</td>\n",
              "      <td>Toyota, Japan</td>\n",
              "      <td>http://www.toyota-global.com</td>\n",
              "      <td>23</td>\n",
              "      <td>364445</td>\n",
              "      <td>157210</td>\n",
              "    </tr>\n",
              "    <tr>\n",
              "      <th>...</th>\n",
              "      <td>...</td>\n",
              "      <td>...</td>\n",
              "      <td>...</td>\n",
              "      <td>...</td>\n",
              "      <td>...</td>\n",
              "      <td>...</td>\n",
              "      <td>...</td>\n",
              "      <td>...</td>\n",
              "      <td>...</td>\n",
              "      <td>...</td>\n",
              "      <td>...</td>\n",
              "      <td>...</td>\n",
              "      <td>...</td>\n",
              "      <td>...</td>\n",
              "      <td>...</td>\n",
              "      <td>...</td>\n",
              "      <td>...</td>\n",
              "    </tr>\n",
              "    <tr>\n",
              "      <th>495</th>\n",
              "      <td>Teva Pharmaceutical Industries</td>\n",
              "      <td>496</td>\n",
              "      <td>21903</td>\n",
              "      <td>11.5</td>\n",
              "      <td>329.0</td>\n",
              "      <td>92890</td>\n",
              "      <td>-79.3</td>\n",
              "      <td>Yitzhak Peterburg</td>\n",
              "      <td>Pharmaceuticals</td>\n",
              "      <td>Health Care</td>\n",
              "      <td>0</td>\n",
              "      <td>Israel</td>\n",
              "      <td>Petach Tikva, Israel</td>\n",
              "      <td>http://www.tevapharm.com</td>\n",
              "      <td>1</td>\n",
              "      <td>56960</td>\n",
              "      <td>33337</td>\n",
              "    </tr>\n",
              "    <tr>\n",
              "      <th>496</th>\n",
              "      <td>New China Life Insurance</td>\n",
              "      <td>497</td>\n",
              "      <td>21796</td>\n",
              "      <td>-13.3</td>\n",
              "      <td>743.9</td>\n",
              "      <td>100609</td>\n",
              "      <td>-45.6</td>\n",
              "      <td>Wan Feng</td>\n",
              "      <td>Insurance: Life, Health (stock)</td>\n",
              "      <td>Financials</td>\n",
              "      <td>427</td>\n",
              "      <td>China</td>\n",
              "      <td>Beijing, China</td>\n",
              "      <td>http://www.newchinalife.com</td>\n",
              "      <td>2</td>\n",
              "      <td>54378</td>\n",
              "      <td>8507</td>\n",
              "    </tr>\n",
              "    <tr>\n",
              "      <th>497</th>\n",
              "      <td>Wm. Morrison Supermarkets</td>\n",
              "      <td>498</td>\n",
              "      <td>21741</td>\n",
              "      <td>-11.3</td>\n",
              "      <td>406.4</td>\n",
              "      <td>11630</td>\n",
              "      <td>20.4</td>\n",
              "      <td>David T. Potts</td>\n",
              "      <td>Food and Drug Stores</td>\n",
              "      <td>Food &amp; Drug Stores</td>\n",
              "      <td>437</td>\n",
              "      <td>Britain</td>\n",
              "      <td>Bradford, Britain</td>\n",
              "      <td>http://www.morrisons.com</td>\n",
              "      <td>13</td>\n",
              "      <td>77210</td>\n",
              "      <td>5111</td>\n",
              "    </tr>\n",
              "    <tr>\n",
              "      <th>498</th>\n",
              "      <td>TUI</td>\n",
              "      <td>499</td>\n",
              "      <td>21655</td>\n",
              "      <td>-5.5</td>\n",
              "      <td>1151.7</td>\n",
              "      <td>16247</td>\n",
              "      <td>195.5</td>\n",
              "      <td>Friedrich Joussen</td>\n",
              "      <td>Travel Services</td>\n",
              "      <td>Business Services</td>\n",
              "      <td>467</td>\n",
              "      <td>Germany</td>\n",
              "      <td>Hanover, Germany</td>\n",
              "      <td>http://www.tuigroup.com</td>\n",
              "      <td>23</td>\n",
              "      <td>66779</td>\n",
              "      <td>3006</td>\n",
              "    </tr>\n",
              "    <tr>\n",
              "      <th>499</th>\n",
              "      <td>AutoNation</td>\n",
              "      <td>500</td>\n",
              "      <td>21609</td>\n",
              "      <td>3.6</td>\n",
              "      <td>430.5</td>\n",
              "      <td>10060</td>\n",
              "      <td>-2.7</td>\n",
              "      <td>Michael J. Jackson</td>\n",
              "      <td>Specialty Retailers</td>\n",
              "      <td>Retailing</td>\n",
              "      <td>0</td>\n",
              "      <td>USA</td>\n",
              "      <td>Fort Lauderdale, FL</td>\n",
              "      <td>http://www.autonation.com</td>\n",
              "      <td>12</td>\n",
              "      <td>26000</td>\n",
              "      <td>2310</td>\n",
              "    </tr>\n",
              "  </tbody>\n",
              "</table>\n",
              "<p>500 rows × 17 columns</p>\n",
              "</div>"
            ],
            "text/plain": [
              "                            company  rank  ...  employees  total_stockholder_equity\n",
              "0                           Walmart     1  ...    2300000                     77798\n",
              "1                        State Grid     2  ...     926067                    209456\n",
              "2                     Sinopec Group     3  ...     713288                    106523\n",
              "3          China National Petroleum     4  ...    1512048                    301893\n",
              "4                      Toyota Motor     5  ...     364445                    157210\n",
              "..                              ...   ...  ...        ...                       ...\n",
              "495  Teva Pharmaceutical Industries   496  ...      56960                     33337\n",
              "496        New China Life Insurance   497  ...      54378                      8507\n",
              "497       Wm. Morrison Supermarkets   498  ...      77210                      5111\n",
              "498                             TUI   499  ...      66779                      3006\n",
              "499                      AutoNation   500  ...      26000                      2310\n",
              "\n",
              "[500 rows x 17 columns]"
            ]
          },
          "metadata": {
            "tags": []
          },
          "execution_count": 11
        }
      ]
    },
    {
      "cell_type": "code",
      "metadata": {
        "colab": {
          "base_uri": "https://localhost:8080/",
          "height": 377
        },
        "id": "yO_dZb-HV6wn",
        "outputId": "efd1a2fc-d2c9-4260-84d0-8c7edf66e361"
      },
      "source": [
        "# selects all columns where previous rank = 0\r\n",
        "f500.loc[f500[\"previous_rank\"] == 0].head()"
      ],
      "execution_count": null,
      "outputs": [
        {
          "output_type": "execute_result",
          "data": {
            "text/html": [
              "<div>\n",
              "<style scoped>\n",
              "    .dataframe tbody tr th:only-of-type {\n",
              "        vertical-align: middle;\n",
              "    }\n",
              "\n",
              "    .dataframe tbody tr th {\n",
              "        vertical-align: top;\n",
              "    }\n",
              "\n",
              "    .dataframe thead th {\n",
              "        text-align: right;\n",
              "    }\n",
              "</style>\n",
              "<table border=\"1\" class=\"dataframe\">\n",
              "  <thead>\n",
              "    <tr style=\"text-align: right;\">\n",
              "      <th></th>\n",
              "      <th>company</th>\n",
              "      <th>rank</th>\n",
              "      <th>revenues</th>\n",
              "      <th>revenue_change</th>\n",
              "      <th>profits</th>\n",
              "      <th>assets</th>\n",
              "      <th>profit_change</th>\n",
              "      <th>ceo</th>\n",
              "      <th>industry</th>\n",
              "      <th>sector</th>\n",
              "      <th>previous_rank</th>\n",
              "      <th>country</th>\n",
              "      <th>hq_location</th>\n",
              "      <th>website</th>\n",
              "      <th>years_on_global_500_list</th>\n",
              "      <th>employees</th>\n",
              "      <th>total_stockholder_equity</th>\n",
              "    </tr>\n",
              "  </thead>\n",
              "  <tbody>\n",
              "    <tr>\n",
              "      <th>48</th>\n",
              "      <td>Legal &amp; General Group</td>\n",
              "      <td>49</td>\n",
              "      <td>105235</td>\n",
              "      <td>442.3</td>\n",
              "      <td>1697.9</td>\n",
              "      <td>577954</td>\n",
              "      <td>3.4</td>\n",
              "      <td>Nigel Wilson</td>\n",
              "      <td>Insurance: Life, Health (stock)</td>\n",
              "      <td>Financials</td>\n",
              "      <td>0</td>\n",
              "      <td>Britain</td>\n",
              "      <td>London, Britain</td>\n",
              "      <td>http://www.legalandgeneralgroup.com</td>\n",
              "      <td>17</td>\n",
              "      <td>8939</td>\n",
              "      <td>8579</td>\n",
              "    </tr>\n",
              "    <tr>\n",
              "      <th>90</th>\n",
              "      <td>Uniper</td>\n",
              "      <td>91</td>\n",
              "      <td>74407</td>\n",
              "      <td>NaN</td>\n",
              "      <td>-3557.5</td>\n",
              "      <td>51541</td>\n",
              "      <td>NaN</td>\n",
              "      <td>Klaus Schafer</td>\n",
              "      <td>Energy</td>\n",
              "      <td>Energy</td>\n",
              "      <td>0</td>\n",
              "      <td>Germany</td>\n",
              "      <td>Dusseldorf, Germany</td>\n",
              "      <td>http://www.uniper.energy</td>\n",
              "      <td>1</td>\n",
              "      <td>12890</td>\n",
              "      <td>12889</td>\n",
              "    </tr>\n",
              "    <tr>\n",
              "      <th>123</th>\n",
              "      <td>Dell Technologies</td>\n",
              "      <td>124</td>\n",
              "      <td>64806</td>\n",
              "      <td>18.1</td>\n",
              "      <td>-1672.0</td>\n",
              "      <td>118206</td>\n",
              "      <td>NaN</td>\n",
              "      <td>Michael S. Dell</td>\n",
              "      <td>Computers, Office Equipment</td>\n",
              "      <td>Technology</td>\n",
              "      <td>0</td>\n",
              "      <td>USA</td>\n",
              "      <td>Round Rock, TX</td>\n",
              "      <td>http://www.delltechnologies.com</td>\n",
              "      <td>17</td>\n",
              "      <td>138000</td>\n",
              "      <td>13243</td>\n",
              "    </tr>\n",
              "    <tr>\n",
              "      <th>138</th>\n",
              "      <td>Anbang Insurance Group</td>\n",
              "      <td>139</td>\n",
              "      <td>60800</td>\n",
              "      <td>124.0</td>\n",
              "      <td>3883.9</td>\n",
              "      <td>430040</td>\n",
              "      <td>0.9</td>\n",
              "      <td>Wu Xiaohui</td>\n",
              "      <td>Insurance: Life, Health (Mutual)</td>\n",
              "      <td>Financials</td>\n",
              "      <td>0</td>\n",
              "      <td>China</td>\n",
              "      <td>Beijing, China</td>\n",
              "      <td>http://www.anbanggroup.com</td>\n",
              "      <td>1</td>\n",
              "      <td>40707</td>\n",
              "      <td>20372</td>\n",
              "    </tr>\n",
              "    <tr>\n",
              "      <th>140</th>\n",
              "      <td>Albertsons Cos.</td>\n",
              "      <td>141</td>\n",
              "      <td>59678</td>\n",
              "      <td>1.6</td>\n",
              "      <td>-373.3</td>\n",
              "      <td>23755</td>\n",
              "      <td>NaN</td>\n",
              "      <td>Robert G. Miller</td>\n",
              "      <td>Food and Drug Stores</td>\n",
              "      <td>Food &amp; Drug Stores</td>\n",
              "      <td>0</td>\n",
              "      <td>USA</td>\n",
              "      <td>Boise, ID</td>\n",
              "      <td>http://www.albertsons.com</td>\n",
              "      <td>13</td>\n",
              "      <td>273000</td>\n",
              "      <td>1371</td>\n",
              "    </tr>\n",
              "  </tbody>\n",
              "</table>\n",
              "</div>"
            ],
            "text/plain": [
              "                    company  rank  ...  employees  total_stockholder_equity\n",
              "48    Legal & General Group    49  ...       8939                      8579\n",
              "90                   Uniper    91  ...      12890                     12889\n",
              "123       Dell Technologies   124  ...     138000                     13243\n",
              "138  Anbang Insurance Group   139  ...      40707                     20372\n",
              "140         Albertsons Cos.   141  ...     273000                      1371\n",
              "\n",
              "[5 rows x 17 columns]"
            ]
          },
          "metadata": {
            "tags": []
          },
          "execution_count": 12
        }
      ]
    },
    {
      "cell_type": "code",
      "metadata": {
        "colab": {
          "base_uri": "https://localhost:8080/",
          "height": 204
        },
        "id": "botz1zFXWUig",
        "outputId": "a6c76c97-1ac3-4ab6-f692-c948e20746da"
      },
      "source": [
        "# Select 2 columns where previous_rank = 0\r\n",
        "f500.loc[f500[\"previous_rank\"] == 0, [\"previous_rank\", \"assets\"]].head()"
      ],
      "execution_count": null,
      "outputs": [
        {
          "output_type": "execute_result",
          "data": {
            "text/html": [
              "<div>\n",
              "<style scoped>\n",
              "    .dataframe tbody tr th:only-of-type {\n",
              "        vertical-align: middle;\n",
              "    }\n",
              "\n",
              "    .dataframe tbody tr th {\n",
              "        vertical-align: top;\n",
              "    }\n",
              "\n",
              "    .dataframe thead th {\n",
              "        text-align: right;\n",
              "    }\n",
              "</style>\n",
              "<table border=\"1\" class=\"dataframe\">\n",
              "  <thead>\n",
              "    <tr style=\"text-align: right;\">\n",
              "      <th></th>\n",
              "      <th>previous_rank</th>\n",
              "      <th>assets</th>\n",
              "    </tr>\n",
              "  </thead>\n",
              "  <tbody>\n",
              "    <tr>\n",
              "      <th>48</th>\n",
              "      <td>0</td>\n",
              "      <td>577954</td>\n",
              "    </tr>\n",
              "    <tr>\n",
              "      <th>90</th>\n",
              "      <td>0</td>\n",
              "      <td>51541</td>\n",
              "    </tr>\n",
              "    <tr>\n",
              "      <th>123</th>\n",
              "      <td>0</td>\n",
              "      <td>118206</td>\n",
              "    </tr>\n",
              "    <tr>\n",
              "      <th>138</th>\n",
              "      <td>0</td>\n",
              "      <td>430040</td>\n",
              "    </tr>\n",
              "    <tr>\n",
              "      <th>140</th>\n",
              "      <td>0</td>\n",
              "      <td>23755</td>\n",
              "    </tr>\n",
              "  </tbody>\n",
              "</table>\n",
              "</div>"
            ],
            "text/plain": [
              "     previous_rank  assets\n",
              "48               0  577954\n",
              "90               0   51541\n",
              "123              0  118206\n",
              "138              0  430040\n",
              "140              0   23755"
            ]
          },
          "metadata": {
            "tags": []
          },
          "execution_count": 13
        }
      ]
    },
    {
      "cell_type": "code",
      "metadata": {
        "colab": {
          "base_uri": "https://localhost:8080/"
        },
        "id": "YVJrlSr9WvOo",
        "outputId": "df32f762-013b-4762-c731-9a039903a4f4"
      },
      "source": [
        "# Select only previous_rank column where previous_rank = 0\r\n",
        "f500.loc[f500[\"previous_rank\"] == 0, \"previous_rank\"].head()"
      ],
      "execution_count": null,
      "outputs": [
        {
          "output_type": "execute_result",
          "data": {
            "text/plain": [
              "48     0\n",
              "90     0\n",
              "123    0\n",
              "138    0\n",
              "140    0\n",
              "Name: previous_rank, dtype: int64"
            ]
          },
          "metadata": {
            "tags": []
          },
          "execution_count": 14
        }
      ]
    },
    {
      "cell_type": "code",
      "metadata": {
        "colab": {
          "base_uri": "https://localhost:8080/",
          "height": 694
        },
        "id": "rvNmyXCBW_rA",
        "outputId": "0c28c514-f674-45e3-dfb2-82e1be3ca371"
      },
      "source": [
        "# Assign np.nan where previous_rank column = 0\r\n",
        "f500.loc[f500[\"previous_rank\"] == 0, \"previous_rank\"] = np.nan\r\n",
        "f500"
      ],
      "execution_count": null,
      "outputs": [
        {
          "output_type": "execute_result",
          "data": {
            "text/html": [
              "<div>\n",
              "<style scoped>\n",
              "    .dataframe tbody tr th:only-of-type {\n",
              "        vertical-align: middle;\n",
              "    }\n",
              "\n",
              "    .dataframe tbody tr th {\n",
              "        vertical-align: top;\n",
              "    }\n",
              "\n",
              "    .dataframe thead th {\n",
              "        text-align: right;\n",
              "    }\n",
              "</style>\n",
              "<table border=\"1\" class=\"dataframe\">\n",
              "  <thead>\n",
              "    <tr style=\"text-align: right;\">\n",
              "      <th></th>\n",
              "      <th>company</th>\n",
              "      <th>rank</th>\n",
              "      <th>revenues</th>\n",
              "      <th>revenue_change</th>\n",
              "      <th>profits</th>\n",
              "      <th>assets</th>\n",
              "      <th>profit_change</th>\n",
              "      <th>ceo</th>\n",
              "      <th>industry</th>\n",
              "      <th>sector</th>\n",
              "      <th>previous_rank</th>\n",
              "      <th>country</th>\n",
              "      <th>hq_location</th>\n",
              "      <th>website</th>\n",
              "      <th>years_on_global_500_list</th>\n",
              "      <th>employees</th>\n",
              "      <th>total_stockholder_equity</th>\n",
              "    </tr>\n",
              "  </thead>\n",
              "  <tbody>\n",
              "    <tr>\n",
              "      <th>0</th>\n",
              "      <td>Walmart</td>\n",
              "      <td>1</td>\n",
              "      <td>485873</td>\n",
              "      <td>0.8</td>\n",
              "      <td>13643.0</td>\n",
              "      <td>198825</td>\n",
              "      <td>-7.2</td>\n",
              "      <td>C. Douglas McMillon</td>\n",
              "      <td>General Merchandisers</td>\n",
              "      <td>Retailing</td>\n",
              "      <td>1.0</td>\n",
              "      <td>USA</td>\n",
              "      <td>Bentonville, AR</td>\n",
              "      <td>http://www.walmart.com</td>\n",
              "      <td>23</td>\n",
              "      <td>2300000</td>\n",
              "      <td>77798</td>\n",
              "    </tr>\n",
              "    <tr>\n",
              "      <th>1</th>\n",
              "      <td>State Grid</td>\n",
              "      <td>2</td>\n",
              "      <td>315199</td>\n",
              "      <td>-4.4</td>\n",
              "      <td>9571.3</td>\n",
              "      <td>489838</td>\n",
              "      <td>-6.2</td>\n",
              "      <td>Kou Wei</td>\n",
              "      <td>Utilities</td>\n",
              "      <td>Energy</td>\n",
              "      <td>2.0</td>\n",
              "      <td>China</td>\n",
              "      <td>Beijing, China</td>\n",
              "      <td>http://www.sgcc.com.cn</td>\n",
              "      <td>17</td>\n",
              "      <td>926067</td>\n",
              "      <td>209456</td>\n",
              "    </tr>\n",
              "    <tr>\n",
              "      <th>2</th>\n",
              "      <td>Sinopec Group</td>\n",
              "      <td>3</td>\n",
              "      <td>267518</td>\n",
              "      <td>-9.1</td>\n",
              "      <td>1257.9</td>\n",
              "      <td>310726</td>\n",
              "      <td>-65.0</td>\n",
              "      <td>Wang Yupu</td>\n",
              "      <td>Petroleum Refining</td>\n",
              "      <td>Energy</td>\n",
              "      <td>4.0</td>\n",
              "      <td>China</td>\n",
              "      <td>Beijing, China</td>\n",
              "      <td>http://www.sinopec.com</td>\n",
              "      <td>19</td>\n",
              "      <td>713288</td>\n",
              "      <td>106523</td>\n",
              "    </tr>\n",
              "    <tr>\n",
              "      <th>3</th>\n",
              "      <td>China National Petroleum</td>\n",
              "      <td>4</td>\n",
              "      <td>262573</td>\n",
              "      <td>-12.3</td>\n",
              "      <td>1867.5</td>\n",
              "      <td>585619</td>\n",
              "      <td>-73.7</td>\n",
              "      <td>Zhang Jianhua</td>\n",
              "      <td>Petroleum Refining</td>\n",
              "      <td>Energy</td>\n",
              "      <td>3.0</td>\n",
              "      <td>China</td>\n",
              "      <td>Beijing, China</td>\n",
              "      <td>http://www.cnpc.com.cn</td>\n",
              "      <td>17</td>\n",
              "      <td>1512048</td>\n",
              "      <td>301893</td>\n",
              "    </tr>\n",
              "    <tr>\n",
              "      <th>4</th>\n",
              "      <td>Toyota Motor</td>\n",
              "      <td>5</td>\n",
              "      <td>254694</td>\n",
              "      <td>7.7</td>\n",
              "      <td>16899.3</td>\n",
              "      <td>437575</td>\n",
              "      <td>-12.3</td>\n",
              "      <td>Akio Toyoda</td>\n",
              "      <td>Motor Vehicles and Parts</td>\n",
              "      <td>Motor Vehicles &amp; Parts</td>\n",
              "      <td>8.0</td>\n",
              "      <td>Japan</td>\n",
              "      <td>Toyota, Japan</td>\n",
              "      <td>http://www.toyota-global.com</td>\n",
              "      <td>23</td>\n",
              "      <td>364445</td>\n",
              "      <td>157210</td>\n",
              "    </tr>\n",
              "    <tr>\n",
              "      <th>...</th>\n",
              "      <td>...</td>\n",
              "      <td>...</td>\n",
              "      <td>...</td>\n",
              "      <td>...</td>\n",
              "      <td>...</td>\n",
              "      <td>...</td>\n",
              "      <td>...</td>\n",
              "      <td>...</td>\n",
              "      <td>...</td>\n",
              "      <td>...</td>\n",
              "      <td>...</td>\n",
              "      <td>...</td>\n",
              "      <td>...</td>\n",
              "      <td>...</td>\n",
              "      <td>...</td>\n",
              "      <td>...</td>\n",
              "      <td>...</td>\n",
              "    </tr>\n",
              "    <tr>\n",
              "      <th>495</th>\n",
              "      <td>Teva Pharmaceutical Industries</td>\n",
              "      <td>496</td>\n",
              "      <td>21903</td>\n",
              "      <td>11.5</td>\n",
              "      <td>329.0</td>\n",
              "      <td>92890</td>\n",
              "      <td>-79.3</td>\n",
              "      <td>Yitzhak Peterburg</td>\n",
              "      <td>Pharmaceuticals</td>\n",
              "      <td>Health Care</td>\n",
              "      <td>NaN</td>\n",
              "      <td>Israel</td>\n",
              "      <td>Petach Tikva, Israel</td>\n",
              "      <td>http://www.tevapharm.com</td>\n",
              "      <td>1</td>\n",
              "      <td>56960</td>\n",
              "      <td>33337</td>\n",
              "    </tr>\n",
              "    <tr>\n",
              "      <th>496</th>\n",
              "      <td>New China Life Insurance</td>\n",
              "      <td>497</td>\n",
              "      <td>21796</td>\n",
              "      <td>-13.3</td>\n",
              "      <td>743.9</td>\n",
              "      <td>100609</td>\n",
              "      <td>-45.6</td>\n",
              "      <td>Wan Feng</td>\n",
              "      <td>Insurance: Life, Health (stock)</td>\n",
              "      <td>Financials</td>\n",
              "      <td>427.0</td>\n",
              "      <td>China</td>\n",
              "      <td>Beijing, China</td>\n",
              "      <td>http://www.newchinalife.com</td>\n",
              "      <td>2</td>\n",
              "      <td>54378</td>\n",
              "      <td>8507</td>\n",
              "    </tr>\n",
              "    <tr>\n",
              "      <th>497</th>\n",
              "      <td>Wm. Morrison Supermarkets</td>\n",
              "      <td>498</td>\n",
              "      <td>21741</td>\n",
              "      <td>-11.3</td>\n",
              "      <td>406.4</td>\n",
              "      <td>11630</td>\n",
              "      <td>20.4</td>\n",
              "      <td>David T. Potts</td>\n",
              "      <td>Food and Drug Stores</td>\n",
              "      <td>Food &amp; Drug Stores</td>\n",
              "      <td>437.0</td>\n",
              "      <td>Britain</td>\n",
              "      <td>Bradford, Britain</td>\n",
              "      <td>http://www.morrisons.com</td>\n",
              "      <td>13</td>\n",
              "      <td>77210</td>\n",
              "      <td>5111</td>\n",
              "    </tr>\n",
              "    <tr>\n",
              "      <th>498</th>\n",
              "      <td>TUI</td>\n",
              "      <td>499</td>\n",
              "      <td>21655</td>\n",
              "      <td>-5.5</td>\n",
              "      <td>1151.7</td>\n",
              "      <td>16247</td>\n",
              "      <td>195.5</td>\n",
              "      <td>Friedrich Joussen</td>\n",
              "      <td>Travel Services</td>\n",
              "      <td>Business Services</td>\n",
              "      <td>467.0</td>\n",
              "      <td>Germany</td>\n",
              "      <td>Hanover, Germany</td>\n",
              "      <td>http://www.tuigroup.com</td>\n",
              "      <td>23</td>\n",
              "      <td>66779</td>\n",
              "      <td>3006</td>\n",
              "    </tr>\n",
              "    <tr>\n",
              "      <th>499</th>\n",
              "      <td>AutoNation</td>\n",
              "      <td>500</td>\n",
              "      <td>21609</td>\n",
              "      <td>3.6</td>\n",
              "      <td>430.5</td>\n",
              "      <td>10060</td>\n",
              "      <td>-2.7</td>\n",
              "      <td>Michael J. Jackson</td>\n",
              "      <td>Specialty Retailers</td>\n",
              "      <td>Retailing</td>\n",
              "      <td>NaN</td>\n",
              "      <td>USA</td>\n",
              "      <td>Fort Lauderdale, FL</td>\n",
              "      <td>http://www.autonation.com</td>\n",
              "      <td>12</td>\n",
              "      <td>26000</td>\n",
              "      <td>2310</td>\n",
              "    </tr>\n",
              "  </tbody>\n",
              "</table>\n",
              "<p>500 rows × 17 columns</p>\n",
              "</div>"
            ],
            "text/plain": [
              "                            company  rank  ...  employees  total_stockholder_equity\n",
              "0                           Walmart     1  ...    2300000                     77798\n",
              "1                        State Grid     2  ...     926067                    209456\n",
              "2                     Sinopec Group     3  ...     713288                    106523\n",
              "3          China National Petroleum     4  ...    1512048                    301893\n",
              "4                      Toyota Motor     5  ...     364445                    157210\n",
              "..                              ...   ...  ...        ...                       ...\n",
              "495  Teva Pharmaceutical Industries   496  ...      56960                     33337\n",
              "496        New China Life Insurance   497  ...      54378                      8507\n",
              "497       Wm. Morrison Supermarkets   498  ...      77210                      5111\n",
              "498                             TUI   499  ...      66779                      3006\n",
              "499                      AutoNation   500  ...      26000                      2310\n",
              "\n",
              "[500 rows x 17 columns]"
            ]
          },
          "metadata": {
            "tags": []
          },
          "execution_count": 15
        }
      ]
    },
    {
      "cell_type": "markdown",
      "metadata": {
        "id": "iOQxFWLPXYj5"
      },
      "source": [
        "### 3. Using iloc to select by integer position"
      ]
    },
    {
      "cell_type": "code",
      "metadata": {
        "colab": {
          "base_uri": "https://localhost:8080/"
        },
        "id": "qDiMHXqmX8mZ",
        "outputId": "d36bdf66-a3b4-4bd2-b634-23c51ca1a4c6"
      },
      "source": [
        "print(f500[[\"company\", \"rank\", \"revenues\"]].head())"
      ],
      "execution_count": null,
      "outputs": [
        {
          "output_type": "stream",
          "text": [
            "                    company  rank  revenues\n",
            "0                   Walmart     1    485873\n",
            "1                State Grid     2    315199\n",
            "2             Sinopec Group     3    267518\n",
            "3  China National Petroleum     4    262573\n",
            "4              Toyota Motor     5    254694\n"
          ],
          "name": "stdout"
        }
      ]
    },
    {
      "cell_type": "code",
      "metadata": {
        "colab": {
          "base_uri": "https://localhost:8080/"
        },
        "id": "WxX3Hn2RYJG5",
        "outputId": "95985c8b-cc4f-467a-81dc-9e90e33f88c6"
      },
      "source": [
        "# select 5th row from dataframe and assign it to fifth_row\r\n",
        "fifth_row = f500.iloc[4]\r\n",
        "fifth_row, type(fifth_row)"
      ],
      "execution_count": null,
      "outputs": [
        {
          "output_type": "execute_result",
          "data": {
            "text/plain": [
              "(company                                     Toyota Motor\n",
              " rank                                                   5\n",
              " revenues                                          254694\n",
              " revenue_change                                       7.7\n",
              " profits                                          16899.3\n",
              " assets                                            437575\n",
              " profit_change                                      -12.3\n",
              " ceo                                          Akio Toyoda\n",
              " industry                        Motor Vehicles and Parts\n",
              " sector                            Motor Vehicles & Parts\n",
              " previous_rank                                          8\n",
              " country                                            Japan\n",
              " hq_location                                Toyota, Japan\n",
              " website                     http://www.toyota-global.com\n",
              " years_on_global_500_list                              23\n",
              " employees                                         364445\n",
              " total_stockholder_equity                          157210\n",
              " Name: 4, dtype: object, pandas.core.series.Series)"
            ]
          },
          "metadata": {
            "tags": []
          },
          "execution_count": 17
        }
      ]
    },
    {
      "cell_type": "code",
      "metadata": {
        "colab": {
          "base_uri": "https://localhost:8080/",
          "height": 35
        },
        "id": "AkVDgyFcY0U4",
        "outputId": "d73cddd3-d98a-46f1-f264-63bd5143993f"
      },
      "source": [
        "# select the value in te first row of the company column\r\n",
        "company_value = f500.iloc[0,0]\r\n",
        "company_value"
      ],
      "execution_count": null,
      "outputs": [
        {
          "output_type": "execute_result",
          "data": {
            "application/vnd.google.colaboratory.intrinsic+json": {
              "type": "string"
            },
            "text/plain": [
              "'Walmart'"
            ]
          },
          "metadata": {
            "tags": []
          },
          "execution_count": 18
        }
      ]
    },
    {
      "cell_type": "markdown",
      "metadata": {
        "id": "SvgxeUUdZcYg"
      },
      "source": [
        "### 4. Using iloc"
      ]
    },
    {
      "cell_type": "code",
      "metadata": {
        "colab": {
          "base_uri": "https://localhost:8080/"
        },
        "id": "UlIsrTMhaAJR",
        "outputId": "c8b2b335-56cd-4542-9c39-2dcea9170016"
      },
      "source": [
        "# select only first column\r\n",
        "first_column = f500.iloc[:,0]\r\n",
        "first_column"
      ],
      "execution_count": null,
      "outputs": [
        {
          "output_type": "execute_result",
          "data": {
            "text/plain": [
              "0                             Walmart\n",
              "1                          State Grid\n",
              "2                       Sinopec Group\n",
              "3            China National Petroleum\n",
              "4                        Toyota Motor\n",
              "                    ...              \n",
              "495    Teva Pharmaceutical Industries\n",
              "496          New China Life Insurance\n",
              "497         Wm. Morrison Supermarkets\n",
              "498                               TUI\n",
              "499                        AutoNation\n",
              "Name: company, Length: 500, dtype: object"
            ]
          },
          "metadata": {
            "tags": []
          },
          "execution_count": 19
        }
      ]
    },
    {
      "cell_type": "code",
      "metadata": {
        "colab": {
          "base_uri": "https://localhost:8080/",
          "height": 295
        },
        "id": "ELJjdFXcaMma",
        "outputId": "1abef299-127e-455a-d007-6b3ecd71c6d0"
      },
      "source": [
        "# select all rows from index 1 to 4 inclusive\r\n",
        "second_to_sixth_rows = f500[1:5]\r\n",
        "second_to_sixth_rows"
      ],
      "execution_count": null,
      "outputs": [
        {
          "output_type": "execute_result",
          "data": {
            "text/html": [
              "<div>\n",
              "<style scoped>\n",
              "    .dataframe tbody tr th:only-of-type {\n",
              "        vertical-align: middle;\n",
              "    }\n",
              "\n",
              "    .dataframe tbody tr th {\n",
              "        vertical-align: top;\n",
              "    }\n",
              "\n",
              "    .dataframe thead th {\n",
              "        text-align: right;\n",
              "    }\n",
              "</style>\n",
              "<table border=\"1\" class=\"dataframe\">\n",
              "  <thead>\n",
              "    <tr style=\"text-align: right;\">\n",
              "      <th></th>\n",
              "      <th>company</th>\n",
              "      <th>rank</th>\n",
              "      <th>revenues</th>\n",
              "      <th>revenue_change</th>\n",
              "      <th>profits</th>\n",
              "      <th>assets</th>\n",
              "      <th>profit_change</th>\n",
              "      <th>ceo</th>\n",
              "      <th>industry</th>\n",
              "      <th>sector</th>\n",
              "      <th>previous_rank</th>\n",
              "      <th>country</th>\n",
              "      <th>hq_location</th>\n",
              "      <th>website</th>\n",
              "      <th>years_on_global_500_list</th>\n",
              "      <th>employees</th>\n",
              "      <th>total_stockholder_equity</th>\n",
              "    </tr>\n",
              "  </thead>\n",
              "  <tbody>\n",
              "    <tr>\n",
              "      <th>1</th>\n",
              "      <td>State Grid</td>\n",
              "      <td>2</td>\n",
              "      <td>315199</td>\n",
              "      <td>-4.4</td>\n",
              "      <td>9571.3</td>\n",
              "      <td>489838</td>\n",
              "      <td>-6.2</td>\n",
              "      <td>Kou Wei</td>\n",
              "      <td>Utilities</td>\n",
              "      <td>Energy</td>\n",
              "      <td>2.0</td>\n",
              "      <td>China</td>\n",
              "      <td>Beijing, China</td>\n",
              "      <td>http://www.sgcc.com.cn</td>\n",
              "      <td>17</td>\n",
              "      <td>926067</td>\n",
              "      <td>209456</td>\n",
              "    </tr>\n",
              "    <tr>\n",
              "      <th>2</th>\n",
              "      <td>Sinopec Group</td>\n",
              "      <td>3</td>\n",
              "      <td>267518</td>\n",
              "      <td>-9.1</td>\n",
              "      <td>1257.9</td>\n",
              "      <td>310726</td>\n",
              "      <td>-65.0</td>\n",
              "      <td>Wang Yupu</td>\n",
              "      <td>Petroleum Refining</td>\n",
              "      <td>Energy</td>\n",
              "      <td>4.0</td>\n",
              "      <td>China</td>\n",
              "      <td>Beijing, China</td>\n",
              "      <td>http://www.sinopec.com</td>\n",
              "      <td>19</td>\n",
              "      <td>713288</td>\n",
              "      <td>106523</td>\n",
              "    </tr>\n",
              "    <tr>\n",
              "      <th>3</th>\n",
              "      <td>China National Petroleum</td>\n",
              "      <td>4</td>\n",
              "      <td>262573</td>\n",
              "      <td>-12.3</td>\n",
              "      <td>1867.5</td>\n",
              "      <td>585619</td>\n",
              "      <td>-73.7</td>\n",
              "      <td>Zhang Jianhua</td>\n",
              "      <td>Petroleum Refining</td>\n",
              "      <td>Energy</td>\n",
              "      <td>3.0</td>\n",
              "      <td>China</td>\n",
              "      <td>Beijing, China</td>\n",
              "      <td>http://www.cnpc.com.cn</td>\n",
              "      <td>17</td>\n",
              "      <td>1512048</td>\n",
              "      <td>301893</td>\n",
              "    </tr>\n",
              "    <tr>\n",
              "      <th>4</th>\n",
              "      <td>Toyota Motor</td>\n",
              "      <td>5</td>\n",
              "      <td>254694</td>\n",
              "      <td>7.7</td>\n",
              "      <td>16899.3</td>\n",
              "      <td>437575</td>\n",
              "      <td>-12.3</td>\n",
              "      <td>Akio Toyoda</td>\n",
              "      <td>Motor Vehicles and Parts</td>\n",
              "      <td>Motor Vehicles &amp; Parts</td>\n",
              "      <td>8.0</td>\n",
              "      <td>Japan</td>\n",
              "      <td>Toyota, Japan</td>\n",
              "      <td>http://www.toyota-global.com</td>\n",
              "      <td>23</td>\n",
              "      <td>364445</td>\n",
              "      <td>157210</td>\n",
              "    </tr>\n",
              "  </tbody>\n",
              "</table>\n",
              "</div>"
            ],
            "text/plain": [
              "                    company  rank  ...  employees  total_stockholder_equity\n",
              "1                State Grid     2  ...     926067                    209456\n",
              "2             Sinopec Group     3  ...     713288                    106523\n",
              "3  China National Petroleum     4  ...    1512048                    301893\n",
              "4              Toyota Motor     5  ...     364445                    157210\n",
              "\n",
              "[4 rows x 17 columns]"
            ]
          },
          "metadata": {
            "tags": []
          },
          "execution_count": 20
        }
      ]
    },
    {
      "cell_type": "code",
      "metadata": {
        "id": "Ibk6uKpMabfZ",
        "colab": {
          "base_uri": "https://localhost:8080/",
          "height": 230
        },
        "outputId": "85374147-5e43-4be1-8767-894192def724"
      },
      "source": [
        "first_three_rows = f500.iloc[:3,:]\r\n",
        "first_three_rows"
      ],
      "execution_count": null,
      "outputs": [
        {
          "output_type": "execute_result",
          "data": {
            "text/html": [
              "<div>\n",
              "<style scoped>\n",
              "    .dataframe tbody tr th:only-of-type {\n",
              "        vertical-align: middle;\n",
              "    }\n",
              "\n",
              "    .dataframe tbody tr th {\n",
              "        vertical-align: top;\n",
              "    }\n",
              "\n",
              "    .dataframe thead th {\n",
              "        text-align: right;\n",
              "    }\n",
              "</style>\n",
              "<table border=\"1\" class=\"dataframe\">\n",
              "  <thead>\n",
              "    <tr style=\"text-align: right;\">\n",
              "      <th></th>\n",
              "      <th>company</th>\n",
              "      <th>rank</th>\n",
              "      <th>revenues</th>\n",
              "      <th>revenue_change</th>\n",
              "      <th>profits</th>\n",
              "      <th>assets</th>\n",
              "      <th>profit_change</th>\n",
              "      <th>ceo</th>\n",
              "      <th>industry</th>\n",
              "      <th>sector</th>\n",
              "      <th>previous_rank</th>\n",
              "      <th>country</th>\n",
              "      <th>hq_location</th>\n",
              "      <th>website</th>\n",
              "      <th>years_on_global_500_list</th>\n",
              "      <th>employees</th>\n",
              "      <th>total_stockholder_equity</th>\n",
              "    </tr>\n",
              "  </thead>\n",
              "  <tbody>\n",
              "    <tr>\n",
              "      <th>0</th>\n",
              "      <td>Walmart</td>\n",
              "      <td>1</td>\n",
              "      <td>485873</td>\n",
              "      <td>0.8</td>\n",
              "      <td>13643.0</td>\n",
              "      <td>198825</td>\n",
              "      <td>-7.2</td>\n",
              "      <td>C. Douglas McMillon</td>\n",
              "      <td>General Merchandisers</td>\n",
              "      <td>Retailing</td>\n",
              "      <td>1.0</td>\n",
              "      <td>USA</td>\n",
              "      <td>Bentonville, AR</td>\n",
              "      <td>http://www.walmart.com</td>\n",
              "      <td>23</td>\n",
              "      <td>2300000</td>\n",
              "      <td>77798</td>\n",
              "    </tr>\n",
              "    <tr>\n",
              "      <th>1</th>\n",
              "      <td>State Grid</td>\n",
              "      <td>2</td>\n",
              "      <td>315199</td>\n",
              "      <td>-4.4</td>\n",
              "      <td>9571.3</td>\n",
              "      <td>489838</td>\n",
              "      <td>-6.2</td>\n",
              "      <td>Kou Wei</td>\n",
              "      <td>Utilities</td>\n",
              "      <td>Energy</td>\n",
              "      <td>2.0</td>\n",
              "      <td>China</td>\n",
              "      <td>Beijing, China</td>\n",
              "      <td>http://www.sgcc.com.cn</td>\n",
              "      <td>17</td>\n",
              "      <td>926067</td>\n",
              "      <td>209456</td>\n",
              "    </tr>\n",
              "    <tr>\n",
              "      <th>2</th>\n",
              "      <td>Sinopec Group</td>\n",
              "      <td>3</td>\n",
              "      <td>267518</td>\n",
              "      <td>-9.1</td>\n",
              "      <td>1257.9</td>\n",
              "      <td>310726</td>\n",
              "      <td>-65.0</td>\n",
              "      <td>Wang Yupu</td>\n",
              "      <td>Petroleum Refining</td>\n",
              "      <td>Energy</td>\n",
              "      <td>4.0</td>\n",
              "      <td>China</td>\n",
              "      <td>Beijing, China</td>\n",
              "      <td>http://www.sinopec.com</td>\n",
              "      <td>19</td>\n",
              "      <td>713288</td>\n",
              "      <td>106523</td>\n",
              "    </tr>\n",
              "  </tbody>\n",
              "</table>\n",
              "</div>"
            ],
            "text/plain": [
              "         company  rank  ...  employees  total_stockholder_equity\n",
              "0        Walmart     1  ...    2300000                     77798\n",
              "1     State Grid     2  ...     926067                    209456\n",
              "2  Sinopec Group     3  ...     713288                    106523\n",
              "\n",
              "[3 rows x 17 columns]"
            ]
          },
          "metadata": {
            "tags": []
          },
          "execution_count": 21
        }
      ]
    },
    {
      "cell_type": "code",
      "metadata": {
        "colab": {
          "base_uri": "https://localhost:8080/",
          "height": 111
        },
        "id": "kFm6yUI7OQ1f",
        "outputId": "27957185-f195-4bd8-dcf5-c2689fbe4a81"
      },
      "source": [
        "first_seventh_row_slice = f500.iloc[[0,6],0:5]\r\n",
        "first_seventh_row_slice"
      ],
      "execution_count": null,
      "outputs": [
        {
          "output_type": "execute_result",
          "data": {
            "text/html": [
              "<div>\n",
              "<style scoped>\n",
              "    .dataframe tbody tr th:only-of-type {\n",
              "        vertical-align: middle;\n",
              "    }\n",
              "\n",
              "    .dataframe tbody tr th {\n",
              "        vertical-align: top;\n",
              "    }\n",
              "\n",
              "    .dataframe thead th {\n",
              "        text-align: right;\n",
              "    }\n",
              "</style>\n",
              "<table border=\"1\" class=\"dataframe\">\n",
              "  <thead>\n",
              "    <tr style=\"text-align: right;\">\n",
              "      <th></th>\n",
              "      <th>company</th>\n",
              "      <th>rank</th>\n",
              "      <th>revenues</th>\n",
              "      <th>revenue_change</th>\n",
              "      <th>profits</th>\n",
              "    </tr>\n",
              "  </thead>\n",
              "  <tbody>\n",
              "    <tr>\n",
              "      <th>0</th>\n",
              "      <td>Walmart</td>\n",
              "      <td>1</td>\n",
              "      <td>485873</td>\n",
              "      <td>0.8</td>\n",
              "      <td>13643.0</td>\n",
              "    </tr>\n",
              "    <tr>\n",
              "      <th>6</th>\n",
              "      <td>Royal Dutch Shell</td>\n",
              "      <td>7</td>\n",
              "      <td>240033</td>\n",
              "      <td>-11.8</td>\n",
              "      <td>4575.0</td>\n",
              "    </tr>\n",
              "  </tbody>\n",
              "</table>\n",
              "</div>"
            ],
            "text/plain": [
              "             company  rank  revenues  revenue_change  profits\n",
              "0            Walmart     1    485873             0.8  13643.0\n",
              "6  Royal Dutch Shell     7    240033           -11.8   4575.0"
            ]
          },
          "metadata": {
            "tags": []
          },
          "execution_count": 22
        }
      ]
    },
    {
      "cell_type": "markdown",
      "metadata": {
        "id": "iAjKLnqCOnV1"
      },
      "source": [
        "### 5. Using pandas methods to create boolean masks"
      ]
    },
    {
      "cell_type": "code",
      "metadata": {
        "colab": {
          "base_uri": "https://localhost:8080/"
        },
        "id": "IBIshpNCPFHQ",
        "outputId": "f3e1add8-266f-45dd-8c37-2e2f7e3b09da"
      },
      "source": [
        "# Series is null\r\n",
        "rev_is_null = f500[\"revenue_change\"].isnull()\r\n",
        "rev_is_null.head()"
      ],
      "execution_count": null,
      "outputs": [
        {
          "output_type": "execute_result",
          "data": {
            "text/plain": [
              "0    False\n",
              "1    False\n",
              "2    False\n",
              "3    False\n",
              "4    False\n",
              "Name: revenue_change, dtype: bool"
            ]
          },
          "metadata": {
            "tags": []
          },
          "execution_count": 23
        }
      ]
    },
    {
      "cell_type": "code",
      "metadata": {
        "colab": {
          "base_uri": "https://localhost:8080/",
          "height": 111
        },
        "id": "VFW623-XPduG",
        "outputId": "71c4d2f2-844e-4f7f-f4c8-0fca89223d8e"
      },
      "source": [
        "rev_change_null = f500[rev_is_null]\r\n",
        "rev_change_null[[\"company\", \"country\", \"sector\"]]"
      ],
      "execution_count": null,
      "outputs": [
        {
          "output_type": "execute_result",
          "data": {
            "text/html": [
              "<div>\n",
              "<style scoped>\n",
              "    .dataframe tbody tr th:only-of-type {\n",
              "        vertical-align: middle;\n",
              "    }\n",
              "\n",
              "    .dataframe tbody tr th {\n",
              "        vertical-align: top;\n",
              "    }\n",
              "\n",
              "    .dataframe thead th {\n",
              "        text-align: right;\n",
              "    }\n",
              "</style>\n",
              "<table border=\"1\" class=\"dataframe\">\n",
              "  <thead>\n",
              "    <tr style=\"text-align: right;\">\n",
              "      <th></th>\n",
              "      <th>company</th>\n",
              "      <th>country</th>\n",
              "      <th>sector</th>\n",
              "    </tr>\n",
              "  </thead>\n",
              "  <tbody>\n",
              "    <tr>\n",
              "      <th>90</th>\n",
              "      <td>Uniper</td>\n",
              "      <td>Germany</td>\n",
              "      <td>Energy</td>\n",
              "    </tr>\n",
              "    <tr>\n",
              "      <th>180</th>\n",
              "      <td>Hewlett Packard Enterprise</td>\n",
              "      <td>USA</td>\n",
              "      <td>Technology</td>\n",
              "    </tr>\n",
              "  </tbody>\n",
              "</table>\n",
              "</div>"
            ],
            "text/plain": [
              "                        company  country      sector\n",
              "90                       Uniper  Germany      Energy\n",
              "180  Hewlett Packard Enterprise      USA  Technology"
            ]
          },
          "metadata": {
            "tags": []
          },
          "execution_count": 24
        }
      ]
    },
    {
      "cell_type": "code",
      "metadata": {
        "colab": {
          "base_uri": "https://localhost:8080/",
          "height": 1000
        },
        "id": "JSjrjOJTPu0c",
        "outputId": "36d208aa-e834-41d6-c1f2-46841084564e"
      },
      "source": [
        "# Find Previous_rank_null_companies\r\n",
        "previous_rank_null = f500[f500[\"previous_rank\"].isnull()]\r\n",
        "null_previous_rank = previous_rank_null[[\"company\", \"rank\", \"previous_rank\"]]\r\n",
        "null_previous_rank"
      ],
      "execution_count": null,
      "outputs": [
        {
          "output_type": "execute_result",
          "data": {
            "text/html": [
              "<div>\n",
              "<style scoped>\n",
              "    .dataframe tbody tr th:only-of-type {\n",
              "        vertical-align: middle;\n",
              "    }\n",
              "\n",
              "    .dataframe tbody tr th {\n",
              "        vertical-align: top;\n",
              "    }\n",
              "\n",
              "    .dataframe thead th {\n",
              "        text-align: right;\n",
              "    }\n",
              "</style>\n",
              "<table border=\"1\" class=\"dataframe\">\n",
              "  <thead>\n",
              "    <tr style=\"text-align: right;\">\n",
              "      <th></th>\n",
              "      <th>company</th>\n",
              "      <th>rank</th>\n",
              "      <th>previous_rank</th>\n",
              "    </tr>\n",
              "  </thead>\n",
              "  <tbody>\n",
              "    <tr>\n",
              "      <th>48</th>\n",
              "      <td>Legal &amp; General Group</td>\n",
              "      <td>49</td>\n",
              "      <td>NaN</td>\n",
              "    </tr>\n",
              "    <tr>\n",
              "      <th>90</th>\n",
              "      <td>Uniper</td>\n",
              "      <td>91</td>\n",
              "      <td>NaN</td>\n",
              "    </tr>\n",
              "    <tr>\n",
              "      <th>123</th>\n",
              "      <td>Dell Technologies</td>\n",
              "      <td>124</td>\n",
              "      <td>NaN</td>\n",
              "    </tr>\n",
              "    <tr>\n",
              "      <th>138</th>\n",
              "      <td>Anbang Insurance Group</td>\n",
              "      <td>139</td>\n",
              "      <td>NaN</td>\n",
              "    </tr>\n",
              "    <tr>\n",
              "      <th>140</th>\n",
              "      <td>Albertsons Cos.</td>\n",
              "      <td>141</td>\n",
              "      <td>NaN</td>\n",
              "    </tr>\n",
              "    <tr>\n",
              "      <th>180</th>\n",
              "      <td>Hewlett Packard Enterprise</td>\n",
              "      <td>181</td>\n",
              "      <td>NaN</td>\n",
              "    </tr>\n",
              "    <tr>\n",
              "      <th>267</th>\n",
              "      <td>Hengli Group</td>\n",
              "      <td>268</td>\n",
              "      <td>NaN</td>\n",
              "    </tr>\n",
              "    <tr>\n",
              "      <th>271</th>\n",
              "      <td>Johnson Controls International</td>\n",
              "      <td>272</td>\n",
              "      <td>NaN</td>\n",
              "    </tr>\n",
              "    <tr>\n",
              "      <th>341</th>\n",
              "      <td>Chubb</td>\n",
              "      <td>342</td>\n",
              "      <td>NaN</td>\n",
              "    </tr>\n",
              "    <tr>\n",
              "      <th>375</th>\n",
              "      <td>Charter Communications</td>\n",
              "      <td>376</td>\n",
              "      <td>NaN</td>\n",
              "    </tr>\n",
              "    <tr>\n",
              "      <th>376</th>\n",
              "      <td>Medtronic</td>\n",
              "      <td>377</td>\n",
              "      <td>NaN</td>\n",
              "    </tr>\n",
              "    <tr>\n",
              "      <th>392</th>\n",
              "      <td>Facebook</td>\n",
              "      <td>393</td>\n",
              "      <td>NaN</td>\n",
              "    </tr>\n",
              "    <tr>\n",
              "      <th>409</th>\n",
              "      <td>Kraft Heinz</td>\n",
              "      <td>410</td>\n",
              "      <td>NaN</td>\n",
              "    </tr>\n",
              "    <tr>\n",
              "      <th>414</th>\n",
              "      <td>Nokia</td>\n",
              "      <td>415</td>\n",
              "      <td>NaN</td>\n",
              "    </tr>\n",
              "    <tr>\n",
              "      <th>431</th>\n",
              "      <td>Standard Life</td>\n",
              "      <td>432</td>\n",
              "      <td>NaN</td>\n",
              "    </tr>\n",
              "    <tr>\n",
              "      <th>440</th>\n",
              "      <td>Brookfield Asset Management</td>\n",
              "      <td>441</td>\n",
              "      <td>NaN</td>\n",
              "    </tr>\n",
              "    <tr>\n",
              "      <th>441</th>\n",
              "      <td>Mercantil Servicios Financieros</td>\n",
              "      <td>442</td>\n",
              "      <td>NaN</td>\n",
              "    </tr>\n",
              "    <tr>\n",
              "      <th>446</th>\n",
              "      <td>Samsung C&amp;T</td>\n",
              "      <td>447</td>\n",
              "      <td>NaN</td>\n",
              "    </tr>\n",
              "    <tr>\n",
              "      <th>456</th>\n",
              "      <td>Heraeus Holding</td>\n",
              "      <td>457</td>\n",
              "      <td>NaN</td>\n",
              "    </tr>\n",
              "    <tr>\n",
              "      <th>458</th>\n",
              "      <td>Yango Financial Holding</td>\n",
              "      <td>459</td>\n",
              "      <td>NaN</td>\n",
              "    </tr>\n",
              "    <tr>\n",
              "      <th>461</th>\n",
              "      <td>Alibaba Group Holding</td>\n",
              "      <td>462</td>\n",
              "      <td>NaN</td>\n",
              "    </tr>\n",
              "    <tr>\n",
              "      <th>463</th>\n",
              "      <td>Progressive</td>\n",
              "      <td>464</td>\n",
              "      <td>NaN</td>\n",
              "    </tr>\n",
              "    <tr>\n",
              "      <th>466</th>\n",
              "      <td>Country Garden Holdings</td>\n",
              "      <td>467</td>\n",
              "      <td>NaN</td>\n",
              "    </tr>\n",
              "    <tr>\n",
              "      <th>472</th>\n",
              "      <td>Altice</td>\n",
              "      <td>473</td>\n",
              "      <td>NaN</td>\n",
              "    </tr>\n",
              "    <tr>\n",
              "      <th>477</th>\n",
              "      <td>Tencent Holdings</td>\n",
              "      <td>478</td>\n",
              "      <td>NaN</td>\n",
              "    </tr>\n",
              "    <tr>\n",
              "      <th>482</th>\n",
              "      <td>Aflac</td>\n",
              "      <td>483</td>\n",
              "      <td>NaN</td>\n",
              "    </tr>\n",
              "    <tr>\n",
              "      <th>484</th>\n",
              "      <td>Suning Commerce Group</td>\n",
              "      <td>485</td>\n",
              "      <td>NaN</td>\n",
              "    </tr>\n",
              "    <tr>\n",
              "      <th>487</th>\n",
              "      <td>Xiamen C&amp;D</td>\n",
              "      <td>488</td>\n",
              "      <td>NaN</td>\n",
              "    </tr>\n",
              "    <tr>\n",
              "      <th>491</th>\n",
              "      <td>Dollar General</td>\n",
              "      <td>492</td>\n",
              "      <td>NaN</td>\n",
              "    </tr>\n",
              "    <tr>\n",
              "      <th>493</th>\n",
              "      <td>Xiamen ITG Holding Group</td>\n",
              "      <td>494</td>\n",
              "      <td>NaN</td>\n",
              "    </tr>\n",
              "    <tr>\n",
              "      <th>494</th>\n",
              "      <td>Xinjiang Guanghui Industry Investment</td>\n",
              "      <td>495</td>\n",
              "      <td>NaN</td>\n",
              "    </tr>\n",
              "    <tr>\n",
              "      <th>495</th>\n",
              "      <td>Teva Pharmaceutical Industries</td>\n",
              "      <td>496</td>\n",
              "      <td>NaN</td>\n",
              "    </tr>\n",
              "    <tr>\n",
              "      <th>499</th>\n",
              "      <td>AutoNation</td>\n",
              "      <td>500</td>\n",
              "      <td>NaN</td>\n",
              "    </tr>\n",
              "  </tbody>\n",
              "</table>\n",
              "</div>"
            ],
            "text/plain": [
              "                                   company  rank  previous_rank\n",
              "48                   Legal & General Group    49            NaN\n",
              "90                                  Uniper    91            NaN\n",
              "123                      Dell Technologies   124            NaN\n",
              "138                 Anbang Insurance Group   139            NaN\n",
              "140                        Albertsons Cos.   141            NaN\n",
              "180             Hewlett Packard Enterprise   181            NaN\n",
              "267                           Hengli Group   268            NaN\n",
              "271         Johnson Controls International   272            NaN\n",
              "341                                  Chubb   342            NaN\n",
              "375                 Charter Communications   376            NaN\n",
              "376                              Medtronic   377            NaN\n",
              "392                               Facebook   393            NaN\n",
              "409                            Kraft Heinz   410            NaN\n",
              "414                                  Nokia   415            NaN\n",
              "431                          Standard Life   432            NaN\n",
              "440            Brookfield Asset Management   441            NaN\n",
              "441        Mercantil Servicios Financieros   442            NaN\n",
              "446                            Samsung C&T   447            NaN\n",
              "456                        Heraeus Holding   457            NaN\n",
              "458                Yango Financial Holding   459            NaN\n",
              "461                  Alibaba Group Holding   462            NaN\n",
              "463                            Progressive   464            NaN\n",
              "466                Country Garden Holdings   467            NaN\n",
              "472                                 Altice   473            NaN\n",
              "477                       Tencent Holdings   478            NaN\n",
              "482                                  Aflac   483            NaN\n",
              "484                  Suning Commerce Group   485            NaN\n",
              "487                             Xiamen C&D   488            NaN\n",
              "491                         Dollar General   492            NaN\n",
              "493               Xiamen ITG Holding Group   494            NaN\n",
              "494  Xinjiang Guanghui Industry Investment   495            NaN\n",
              "495         Teva Pharmaceutical Industries   496            NaN\n",
              "499                             AutoNation   500            NaN"
            ]
          },
          "metadata": {
            "tags": []
          },
          "execution_count": 25
        }
      ]
    },
    {
      "cell_type": "markdown",
      "metadata": {
        "id": "c5Lr7kjeRyPh"
      },
      "source": [
        "### 6. Working with Integer Labels"
      ]
    },
    {
      "cell_type": "code",
      "metadata": {
        "colab": {
          "base_uri": "https://localhost:8080/"
        },
        "id": "gACoH3bTtz0V",
        "outputId": "43cec876-f174-4eae-8998-3f8598727310"
      },
      "source": [
        "# select the first null previous rank\r\n",
        "first_null_previous_rank = null_previous_rank.iloc[0]\r\n",
        "first_null_previous_rank"
      ],
      "execution_count": null,
      "outputs": [
        {
          "output_type": "execute_result",
          "data": {
            "text/plain": [
              "company          Legal & General Group\n",
              "rank                                49\n",
              "previous_rank                      NaN\n",
              "Name: 48, dtype: object"
            ]
          },
          "metadata": {
            "tags": []
          },
          "execution_count": 26
        }
      ]
    },
    {
      "cell_type": "code",
      "metadata": {
        "colab": {
          "base_uri": "https://localhost:8080/"
        },
        "id": "5QT8IRkhuZM2",
        "outputId": "66ed75f0-f848-4d45-d3dd-d94a611b18b9"
      },
      "source": [
        "# Errors out when loc using index\r\n",
        "# first_null_previous_rank = null_previous_rank.loc[0]\r\n",
        "first_null_previous_rank = null_previous_rank.loc[48]\r\n",
        "first_null_previous_rank"
      ],
      "execution_count": null,
      "outputs": [
        {
          "output_type": "execute_result",
          "data": {
            "text/plain": [
              "company          Legal & General Group\n",
              "rank                                49\n",
              "previous_rank                      NaN\n",
              "Name: 48, dtype: object"
            ]
          },
          "metadata": {
            "tags": []
          },
          "execution_count": 31
        }
      ]
    },
    {
      "cell_type": "code",
      "metadata": {
        "colab": {
          "base_uri": "https://localhost:8080/",
          "height": 204
        },
        "id": "lkIeIKYTuj12",
        "outputId": "6fbb8892-d358-46e8-ee7f-b45d27455f52"
      },
      "source": [
        "# Get top 5 null previous rank\r\n",
        "top5_null_prev_rank = null_previous_rank.iloc[0:5,:]\r\n",
        "top5_null_prev_rank"
      ],
      "execution_count": null,
      "outputs": [
        {
          "output_type": "execute_result",
          "data": {
            "text/html": [
              "<div>\n",
              "<style scoped>\n",
              "    .dataframe tbody tr th:only-of-type {\n",
              "        vertical-align: middle;\n",
              "    }\n",
              "\n",
              "    .dataframe tbody tr th {\n",
              "        vertical-align: top;\n",
              "    }\n",
              "\n",
              "    .dataframe thead th {\n",
              "        text-align: right;\n",
              "    }\n",
              "</style>\n",
              "<table border=\"1\" class=\"dataframe\">\n",
              "  <thead>\n",
              "    <tr style=\"text-align: right;\">\n",
              "      <th></th>\n",
              "      <th>company</th>\n",
              "      <th>rank</th>\n",
              "      <th>previous_rank</th>\n",
              "    </tr>\n",
              "  </thead>\n",
              "  <tbody>\n",
              "    <tr>\n",
              "      <th>48</th>\n",
              "      <td>Legal &amp; General Group</td>\n",
              "      <td>49</td>\n",
              "      <td>NaN</td>\n",
              "    </tr>\n",
              "    <tr>\n",
              "      <th>90</th>\n",
              "      <td>Uniper</td>\n",
              "      <td>91</td>\n",
              "      <td>NaN</td>\n",
              "    </tr>\n",
              "    <tr>\n",
              "      <th>123</th>\n",
              "      <td>Dell Technologies</td>\n",
              "      <td>124</td>\n",
              "      <td>NaN</td>\n",
              "    </tr>\n",
              "    <tr>\n",
              "      <th>138</th>\n",
              "      <td>Anbang Insurance Group</td>\n",
              "      <td>139</td>\n",
              "      <td>NaN</td>\n",
              "    </tr>\n",
              "    <tr>\n",
              "      <th>140</th>\n",
              "      <td>Albertsons Cos.</td>\n",
              "      <td>141</td>\n",
              "      <td>NaN</td>\n",
              "    </tr>\n",
              "  </tbody>\n",
              "</table>\n",
              "</div>"
            ],
            "text/plain": [
              "                    company  rank  previous_rank\n",
              "48    Legal & General Group    49            NaN\n",
              "90                   Uniper    91            NaN\n",
              "123       Dell Technologies   124            NaN\n",
              "138  Anbang Insurance Group   139            NaN\n",
              "140         Albertsons Cos.   141            NaN"
            ]
          },
          "metadata": {
            "tags": []
          },
          "execution_count": 32
        }
      ]
    },
    {
      "cell_type": "code",
      "metadata": {
        "colab": {
          "base_uri": "https://localhost:8080/",
          "height": 204
        },
        "id": "43th5s0A4uXf",
        "outputId": "ff80c134-e350-4d14-b207-053412b552b4"
      },
      "source": [
        "# Get top 5 null previous rank\r\n",
        "top5_null_prev_rank = null_previous_rank.loc[48:140,:]\r\n",
        "top5_null_prev_rank"
      ],
      "execution_count": null,
      "outputs": [
        {
          "output_type": "execute_result",
          "data": {
            "text/html": [
              "<div>\n",
              "<style scoped>\n",
              "    .dataframe tbody tr th:only-of-type {\n",
              "        vertical-align: middle;\n",
              "    }\n",
              "\n",
              "    .dataframe tbody tr th {\n",
              "        vertical-align: top;\n",
              "    }\n",
              "\n",
              "    .dataframe thead th {\n",
              "        text-align: right;\n",
              "    }\n",
              "</style>\n",
              "<table border=\"1\" class=\"dataframe\">\n",
              "  <thead>\n",
              "    <tr style=\"text-align: right;\">\n",
              "      <th></th>\n",
              "      <th>company</th>\n",
              "      <th>rank</th>\n",
              "      <th>previous_rank</th>\n",
              "    </tr>\n",
              "  </thead>\n",
              "  <tbody>\n",
              "    <tr>\n",
              "      <th>48</th>\n",
              "      <td>Legal &amp; General Group</td>\n",
              "      <td>49</td>\n",
              "      <td>NaN</td>\n",
              "    </tr>\n",
              "    <tr>\n",
              "      <th>90</th>\n",
              "      <td>Uniper</td>\n",
              "      <td>91</td>\n",
              "      <td>NaN</td>\n",
              "    </tr>\n",
              "    <tr>\n",
              "      <th>123</th>\n",
              "      <td>Dell Technologies</td>\n",
              "      <td>124</td>\n",
              "      <td>NaN</td>\n",
              "    </tr>\n",
              "    <tr>\n",
              "      <th>138</th>\n",
              "      <td>Anbang Insurance Group</td>\n",
              "      <td>139</td>\n",
              "      <td>NaN</td>\n",
              "    </tr>\n",
              "    <tr>\n",
              "      <th>140</th>\n",
              "      <td>Albertsons Cos.</td>\n",
              "      <td>141</td>\n",
              "      <td>NaN</td>\n",
              "    </tr>\n",
              "  </tbody>\n",
              "</table>\n",
              "</div>"
            ],
            "text/plain": [
              "                    company  rank  previous_rank\n",
              "48    Legal & General Group    49            NaN\n",
              "90                   Uniper    91            NaN\n",
              "123       Dell Technologies   124            NaN\n",
              "138  Anbang Insurance Group   139            NaN\n",
              "140         Albertsons Cos.   141            NaN"
            ]
          },
          "metadata": {
            "tags": []
          },
          "execution_count": 33
        }
      ]
    },
    {
      "cell_type": "code",
      "metadata": {
        "colab": {
          "base_uri": "https://localhost:8080/",
          "height": 643
        },
        "id": "xSzgxNy740bw",
        "outputId": "45813b53-58b2-4a39-fbf0-223c07fe05ae"
      },
      "source": [
        "### 7. Pandas Index Alignment\r\n",
        "# Let's use the Series.notnull()\r\n",
        "previously_ranked = f500[f500[\"previous_rank\"].notnull()]\r\n",
        "previously_ranked"
      ],
      "execution_count": null,
      "outputs": [
        {
          "output_type": "execute_result",
          "data": {
            "text/html": [
              "<div>\n",
              "<style scoped>\n",
              "    .dataframe tbody tr th:only-of-type {\n",
              "        vertical-align: middle;\n",
              "    }\n",
              "\n",
              "    .dataframe tbody tr th {\n",
              "        vertical-align: top;\n",
              "    }\n",
              "\n",
              "    .dataframe thead th {\n",
              "        text-align: right;\n",
              "    }\n",
              "</style>\n",
              "<table border=\"1\" class=\"dataframe\">\n",
              "  <thead>\n",
              "    <tr style=\"text-align: right;\">\n",
              "      <th></th>\n",
              "      <th>company</th>\n",
              "      <th>rank</th>\n",
              "      <th>revenues</th>\n",
              "      <th>revenue_change</th>\n",
              "      <th>profits</th>\n",
              "      <th>assets</th>\n",
              "      <th>profit_change</th>\n",
              "      <th>ceo</th>\n",
              "      <th>industry</th>\n",
              "      <th>sector</th>\n",
              "      <th>previous_rank</th>\n",
              "      <th>country</th>\n",
              "      <th>hq_location</th>\n",
              "      <th>website</th>\n",
              "      <th>years_on_global_500_list</th>\n",
              "      <th>employees</th>\n",
              "      <th>total_stockholder_equity</th>\n",
              "    </tr>\n",
              "  </thead>\n",
              "  <tbody>\n",
              "    <tr>\n",
              "      <th>0</th>\n",
              "      <td>Walmart</td>\n",
              "      <td>1</td>\n",
              "      <td>485873</td>\n",
              "      <td>0.8</td>\n",
              "      <td>13643.0</td>\n",
              "      <td>198825</td>\n",
              "      <td>-7.2</td>\n",
              "      <td>C. Douglas McMillon</td>\n",
              "      <td>General Merchandisers</td>\n",
              "      <td>Retailing</td>\n",
              "      <td>1.0</td>\n",
              "      <td>USA</td>\n",
              "      <td>Bentonville, AR</td>\n",
              "      <td>http://www.walmart.com</td>\n",
              "      <td>23</td>\n",
              "      <td>2300000</td>\n",
              "      <td>77798</td>\n",
              "    </tr>\n",
              "    <tr>\n",
              "      <th>1</th>\n",
              "      <td>State Grid</td>\n",
              "      <td>2</td>\n",
              "      <td>315199</td>\n",
              "      <td>-4.4</td>\n",
              "      <td>9571.3</td>\n",
              "      <td>489838</td>\n",
              "      <td>-6.2</td>\n",
              "      <td>Kou Wei</td>\n",
              "      <td>Utilities</td>\n",
              "      <td>Energy</td>\n",
              "      <td>2.0</td>\n",
              "      <td>China</td>\n",
              "      <td>Beijing, China</td>\n",
              "      <td>http://www.sgcc.com.cn</td>\n",
              "      <td>17</td>\n",
              "      <td>926067</td>\n",
              "      <td>209456</td>\n",
              "    </tr>\n",
              "    <tr>\n",
              "      <th>2</th>\n",
              "      <td>Sinopec Group</td>\n",
              "      <td>3</td>\n",
              "      <td>267518</td>\n",
              "      <td>-9.1</td>\n",
              "      <td>1257.9</td>\n",
              "      <td>310726</td>\n",
              "      <td>-65.0</td>\n",
              "      <td>Wang Yupu</td>\n",
              "      <td>Petroleum Refining</td>\n",
              "      <td>Energy</td>\n",
              "      <td>4.0</td>\n",
              "      <td>China</td>\n",
              "      <td>Beijing, China</td>\n",
              "      <td>http://www.sinopec.com</td>\n",
              "      <td>19</td>\n",
              "      <td>713288</td>\n",
              "      <td>106523</td>\n",
              "    </tr>\n",
              "    <tr>\n",
              "      <th>3</th>\n",
              "      <td>China National Petroleum</td>\n",
              "      <td>4</td>\n",
              "      <td>262573</td>\n",
              "      <td>-12.3</td>\n",
              "      <td>1867.5</td>\n",
              "      <td>585619</td>\n",
              "      <td>-73.7</td>\n",
              "      <td>Zhang Jianhua</td>\n",
              "      <td>Petroleum Refining</td>\n",
              "      <td>Energy</td>\n",
              "      <td>3.0</td>\n",
              "      <td>China</td>\n",
              "      <td>Beijing, China</td>\n",
              "      <td>http://www.cnpc.com.cn</td>\n",
              "      <td>17</td>\n",
              "      <td>1512048</td>\n",
              "      <td>301893</td>\n",
              "    </tr>\n",
              "    <tr>\n",
              "      <th>4</th>\n",
              "      <td>Toyota Motor</td>\n",
              "      <td>5</td>\n",
              "      <td>254694</td>\n",
              "      <td>7.7</td>\n",
              "      <td>16899.3</td>\n",
              "      <td>437575</td>\n",
              "      <td>-12.3</td>\n",
              "      <td>Akio Toyoda</td>\n",
              "      <td>Motor Vehicles and Parts</td>\n",
              "      <td>Motor Vehicles &amp; Parts</td>\n",
              "      <td>8.0</td>\n",
              "      <td>Japan</td>\n",
              "      <td>Toyota, Japan</td>\n",
              "      <td>http://www.toyota-global.com</td>\n",
              "      <td>23</td>\n",
              "      <td>364445</td>\n",
              "      <td>157210</td>\n",
              "    </tr>\n",
              "    <tr>\n",
              "      <th>...</th>\n",
              "      <td>...</td>\n",
              "      <td>...</td>\n",
              "      <td>...</td>\n",
              "      <td>...</td>\n",
              "      <td>...</td>\n",
              "      <td>...</td>\n",
              "      <td>...</td>\n",
              "      <td>...</td>\n",
              "      <td>...</td>\n",
              "      <td>...</td>\n",
              "      <td>...</td>\n",
              "      <td>...</td>\n",
              "      <td>...</td>\n",
              "      <td>...</td>\n",
              "      <td>...</td>\n",
              "      <td>...</td>\n",
              "      <td>...</td>\n",
              "    </tr>\n",
              "    <tr>\n",
              "      <th>490</th>\n",
              "      <td>National Grid</td>\n",
              "      <td>491</td>\n",
              "      <td>22036</td>\n",
              "      <td>-3.2</td>\n",
              "      <td>10150.6</td>\n",
              "      <td>82310</td>\n",
              "      <td>160.2</td>\n",
              "      <td>John Pettigrew</td>\n",
              "      <td>Utilities</td>\n",
              "      <td>Energy</td>\n",
              "      <td>471.0</td>\n",
              "      <td>Britain</td>\n",
              "      <td>London, Britain</td>\n",
              "      <td>http://www.nationalgrid.com</td>\n",
              "      <td>12</td>\n",
              "      <td>22132</td>\n",
              "      <td>25463</td>\n",
              "    </tr>\n",
              "    <tr>\n",
              "      <th>492</th>\n",
              "      <td>Telecom Italia</td>\n",
              "      <td>493</td>\n",
              "      <td>21941</td>\n",
              "      <td>-17.4</td>\n",
              "      <td>1999.4</td>\n",
              "      <td>74295</td>\n",
              "      <td>NaN</td>\n",
              "      <td>Flavio Cattaneo</td>\n",
              "      <td>Telecommunications</td>\n",
              "      <td>Telecommunications</td>\n",
              "      <td>404.0</td>\n",
              "      <td>Italy</td>\n",
              "      <td>Milan, Italy</td>\n",
              "      <td>http://www.telecomitalia.com</td>\n",
              "      <td>18</td>\n",
              "      <td>61227</td>\n",
              "      <td>22366</td>\n",
              "    </tr>\n",
              "    <tr>\n",
              "      <th>496</th>\n",
              "      <td>New China Life Insurance</td>\n",
              "      <td>497</td>\n",
              "      <td>21796</td>\n",
              "      <td>-13.3</td>\n",
              "      <td>743.9</td>\n",
              "      <td>100609</td>\n",
              "      <td>-45.6</td>\n",
              "      <td>Wan Feng</td>\n",
              "      <td>Insurance: Life, Health (stock)</td>\n",
              "      <td>Financials</td>\n",
              "      <td>427.0</td>\n",
              "      <td>China</td>\n",
              "      <td>Beijing, China</td>\n",
              "      <td>http://www.newchinalife.com</td>\n",
              "      <td>2</td>\n",
              "      <td>54378</td>\n",
              "      <td>8507</td>\n",
              "    </tr>\n",
              "    <tr>\n",
              "      <th>497</th>\n",
              "      <td>Wm. Morrison Supermarkets</td>\n",
              "      <td>498</td>\n",
              "      <td>21741</td>\n",
              "      <td>-11.3</td>\n",
              "      <td>406.4</td>\n",
              "      <td>11630</td>\n",
              "      <td>20.4</td>\n",
              "      <td>David T. Potts</td>\n",
              "      <td>Food and Drug Stores</td>\n",
              "      <td>Food &amp; Drug Stores</td>\n",
              "      <td>437.0</td>\n",
              "      <td>Britain</td>\n",
              "      <td>Bradford, Britain</td>\n",
              "      <td>http://www.morrisons.com</td>\n",
              "      <td>13</td>\n",
              "      <td>77210</td>\n",
              "      <td>5111</td>\n",
              "    </tr>\n",
              "    <tr>\n",
              "      <th>498</th>\n",
              "      <td>TUI</td>\n",
              "      <td>499</td>\n",
              "      <td>21655</td>\n",
              "      <td>-5.5</td>\n",
              "      <td>1151.7</td>\n",
              "      <td>16247</td>\n",
              "      <td>195.5</td>\n",
              "      <td>Friedrich Joussen</td>\n",
              "      <td>Travel Services</td>\n",
              "      <td>Business Services</td>\n",
              "      <td>467.0</td>\n",
              "      <td>Germany</td>\n",
              "      <td>Hanover, Germany</td>\n",
              "      <td>http://www.tuigroup.com</td>\n",
              "      <td>23</td>\n",
              "      <td>66779</td>\n",
              "      <td>3006</td>\n",
              "    </tr>\n",
              "  </tbody>\n",
              "</table>\n",
              "<p>467 rows × 17 columns</p>\n",
              "</div>"
            ],
            "text/plain": [
              "                       company  rank  ...  employees  total_stockholder_equity\n",
              "0                      Walmart     1  ...    2300000                     77798\n",
              "1                   State Grid     2  ...     926067                    209456\n",
              "2                Sinopec Group     3  ...     713288                    106523\n",
              "3     China National Petroleum     4  ...    1512048                    301893\n",
              "4                 Toyota Motor     5  ...     364445                    157210\n",
              "..                         ...   ...  ...        ...                       ...\n",
              "490              National Grid   491  ...      22132                     25463\n",
              "492             Telecom Italia   493  ...      61227                     22366\n",
              "496   New China Life Insurance   497  ...      54378                      8507\n",
              "497  Wm. Morrison Supermarkets   498  ...      77210                      5111\n",
              "498                        TUI   499  ...      66779                      3006\n",
              "\n",
              "[467 rows x 17 columns]"
            ]
          },
          "metadata": {
            "tags": []
          },
          "execution_count": 34
        }
      ]
    },
    {
      "cell_type": "code",
      "metadata": {
        "colab": {
          "base_uri": "https://localhost:8080/"
        },
        "id": "L3oRPOSb5SqA",
        "outputId": "121b18b8-dc11-41b4-909a-81f8d1c06f96"
      },
      "source": [
        "# create rank_change column\r\n",
        "rank_change = previously_ranked[\"previous_rank\"] - previously_ranked[\"rank\"]\r\n",
        "rank_change.shape"
      ],
      "execution_count": null,
      "outputs": [
        {
          "output_type": "execute_result",
          "data": {
            "text/plain": [
              "(467,)"
            ]
          },
          "metadata": {
            "tags": []
          },
          "execution_count": 35
        }
      ]
    },
    {
      "cell_type": "code",
      "metadata": {
        "colab": {
          "base_uri": "https://localhost:8080/"
        },
        "id": "j2JE2M2x5vqv",
        "outputId": "ae1b3ef9-8fda-48cd-dd7f-69bd5fb826ee"
      },
      "source": [
        "rank_change.tail()"
      ],
      "execution_count": null,
      "outputs": [
        {
          "output_type": "execute_result",
          "data": {
            "text/plain": [
              "490   -20.0\n",
              "492   -89.0\n",
              "496   -70.0\n",
              "497   -61.0\n",
              "498   -32.0\n",
              "dtype: float64"
            ]
          },
          "metadata": {
            "tags": []
          },
          "execution_count": 36
        }
      ]
    },
    {
      "cell_type": "code",
      "metadata": {
        "colab": {
          "base_uri": "https://localhost:8080/"
        },
        "id": "xu4wKhVH5yqF",
        "outputId": "45631363-6db4-429f-bab3-fd79a43c5b66"
      },
      "source": [
        "f500.shape, f500.tail()"
      ],
      "execution_count": null,
      "outputs": [
        {
          "output_type": "execute_result",
          "data": {
            "text/plain": [
              "((500, 17),\n",
              "                             company  rank  ...  employees  total_stockholder_equity\n",
              " 495  Teva Pharmaceutical Industries   496  ...      56960                     33337\n",
              " 496        New China Life Insurance   497  ...      54378                      8507\n",
              " 497       Wm. Morrison Supermarkets   498  ...      77210                      5111\n",
              " 498                             TUI   499  ...      66779                      3006\n",
              " 499                      AutoNation   500  ...      26000                      2310\n",
              " \n",
              " [5 rows x 17 columns])"
            ]
          },
          "metadata": {
            "tags": []
          },
          "execution_count": 38
        }
      ]
    },
    {
      "cell_type": "code",
      "metadata": {
        "colab": {
          "base_uri": "https://localhost:8080/"
        },
        "id": "oH-dWaQi7Qau",
        "outputId": "e7b77f10-0421-47fa-b415-aeff52285b97"
      },
      "source": [
        "# rank_change column has 467 rows, f500 dataframe has 500 rows\r\n",
        "# when rank_change column assigned as a new column to f500, pandas will align based on index labels\r\n",
        "f500[\"rank_change\"] = rank_change\r\n",
        "f500[\"rank_change\"].value_counts(dropna=False)\r\n",
        "# we can see not aligned label data as null"
      ],
      "execution_count": null,
      "outputs": [
        {
          "output_type": "execute_result",
          "data": {
            "text/plain": [
              " NaN     33\n",
              "-1.0     14\n",
              "-4.0     13\n",
              "-2.0     12\n",
              " 8.0     12\n",
              "         ..\n",
              "-54.0     1\n",
              " 55.0     1\n",
              " 69.0     1\n",
              " 21.0     1\n",
              "-32.0     1\n",
              "Name: rank_change, Length: 153, dtype: int64"
            ]
          },
          "metadata": {
            "tags": []
          },
          "execution_count": 41
        }
      ]
    },
    {
      "cell_type": "markdown",
      "metadata": {
        "id": "0wr275PO8JDu"
      },
      "source": [
        "### 8. Using Boolean Operators"
      ]
    },
    {
      "cell_type": "code",
      "metadata": {
        "colab": {
          "base_uri": "https://localhost:8080/",
          "height": 204
        },
        "id": "qEtuNCZs-L0I",
        "outputId": "b428dee5-050f-4815-b0a8-fdc7e2d6bba4"
      },
      "source": [
        "cols = [\"company\", \"revenues\", \"country\"]\r\n",
        "f500_sel = f500[cols].head()\r\n",
        "f500_sel"
      ],
      "execution_count": null,
      "outputs": [
        {
          "output_type": "execute_result",
          "data": {
            "text/html": [
              "<div>\n",
              "<style scoped>\n",
              "    .dataframe tbody tr th:only-of-type {\n",
              "        vertical-align: middle;\n",
              "    }\n",
              "\n",
              "    .dataframe tbody tr th {\n",
              "        vertical-align: top;\n",
              "    }\n",
              "\n",
              "    .dataframe thead th {\n",
              "        text-align: right;\n",
              "    }\n",
              "</style>\n",
              "<table border=\"1\" class=\"dataframe\">\n",
              "  <thead>\n",
              "    <tr style=\"text-align: right;\">\n",
              "      <th></th>\n",
              "      <th>company</th>\n",
              "      <th>revenues</th>\n",
              "      <th>country</th>\n",
              "    </tr>\n",
              "  </thead>\n",
              "  <tbody>\n",
              "    <tr>\n",
              "      <th>0</th>\n",
              "      <td>Walmart</td>\n",
              "      <td>485873</td>\n",
              "      <td>USA</td>\n",
              "    </tr>\n",
              "    <tr>\n",
              "      <th>1</th>\n",
              "      <td>State Grid</td>\n",
              "      <td>315199</td>\n",
              "      <td>China</td>\n",
              "    </tr>\n",
              "    <tr>\n",
              "      <th>2</th>\n",
              "      <td>Sinopec Group</td>\n",
              "      <td>267518</td>\n",
              "      <td>China</td>\n",
              "    </tr>\n",
              "    <tr>\n",
              "      <th>3</th>\n",
              "      <td>China National Petroleum</td>\n",
              "      <td>262573</td>\n",
              "      <td>China</td>\n",
              "    </tr>\n",
              "    <tr>\n",
              "      <th>4</th>\n",
              "      <td>Toyota Motor</td>\n",
              "      <td>254694</td>\n",
              "      <td>Japan</td>\n",
              "    </tr>\n",
              "  </tbody>\n",
              "</table>\n",
              "</div>"
            ],
            "text/plain": [
              "                    company  revenues country\n",
              "0                   Walmart    485873     USA\n",
              "1                State Grid    315199   China\n",
              "2             Sinopec Group    267518   China\n",
              "3  China National Petroleum    262573   China\n",
              "4              Toyota Motor    254694   Japan"
            ]
          },
          "metadata": {
            "tags": []
          },
          "execution_count": 43
        }
      ]
    },
    {
      "cell_type": "code",
      "metadata": {
        "id": "QNiIB3GP-Ymz"
      },
      "source": [
        ""
      ],
      "execution_count": null,
      "outputs": []
    }
  ]
}