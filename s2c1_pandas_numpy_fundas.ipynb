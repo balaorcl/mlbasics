{
  "nbformat": 4,
  "nbformat_minor": 0,
  "metadata": {
    "colab": {
      "name": "s2c1_pandas_numpy_fundas.ipynb",
      "provenance": [],
      "collapsed_sections": [],
      "authorship_tag": "ABX9TyPFJqRPSCA6lk8Nq5c/Duhn",
      "include_colab_link": true
    },
    "kernelspec": {
      "name": "python3",
      "display_name": "Python 3"
    }
  },
  "cells": [
    {
      "cell_type": "markdown",
      "metadata": {
        "id": "view-in-github",
        "colab_type": "text"
      },
      "source": [
        "<a href=\"https://colab.research.google.com/github/balaorcl/mlbasics/blob/main/s2c1_pandas_numpy_fundas.ipynb\" target=\"_parent\"><img src=\"https://colab.research.google.com/assets/colab-badge.svg\" alt=\"Open In Colab\"/></a>"
      ]
    },
    {
      "cell_type": "markdown",
      "metadata": {
        "id": "IyRZJDK1OsFa"
      },
      "source": [
        "# Pandas and NumPy Fundamentals\n"
      ]
    },
    {
      "cell_type": "code",
      "metadata": {
        "id": "pXsFxZSoQt2w",
        "colab": {
          "base_uri": "https://localhost:8080/"
        },
        "outputId": "fc3441c4-8589-43c5-8e0b-47a7b676322a"
      },
      "source": [
        "from google.colab import drive\n",
        "drive.mount('/content/drive')"
      ],
      "execution_count": 4,
      "outputs": [
        {
          "output_type": "stream",
          "text": [
            "Drive already mounted at /content/drive; to attempt to forcibly remount, call drive.mount(\"/content/drive\", force_remount=True).\n"
          ],
          "name": "stdout"
        }
      ]
    },
    {
      "cell_type": "markdown",
      "metadata": {
        "id": "_5yyOezHPNeX"
      },
      "source": [
        "## Introduction to Numpy"
      ]
    },
    {
      "cell_type": "code",
      "metadata": {
        "id": "uCtVvBc4q9OJ"
      },
      "source": [
        "import numpy as np"
      ],
      "execution_count": 5,
      "outputs": []
    },
    {
      "cell_type": "code",
      "metadata": {
        "id": "53s3LUVoquCc",
        "colab": {
          "base_uri": "https://localhost:8080/"
        },
        "outputId": "cfce9405-0088-460f-8a90-fbe85d505ca5"
      },
      "source": [
        "data_ndarray = np.array([5, 10, 15, 20])\n",
        "data_ndarray"
      ],
      "execution_count": 6,
      "outputs": [
        {
          "output_type": "execute_result",
          "data": {
            "text/plain": [
              "array([ 5, 10, 15, 20])"
            ]
          },
          "metadata": {
            "tags": []
          },
          "execution_count": 6
        }
      ]
    },
    {
      "cell_type": "markdown",
      "metadata": {
        "id": "Mc5uY8nbNt1e"
      },
      "source": [
        "## Boolean Indexing with Numpy"
      ]
    },
    {
      "cell_type": "code",
      "metadata": {
        "id": "qvRGw89-Q9c5"
      },
      "source": [
        "import numpy as np"
      ],
      "execution_count": 7,
      "outputs": []
    },
    {
      "cell_type": "code",
      "metadata": {
        "id": "i5yos1n9RGCL",
        "colab": {
          "base_uri": "https://localhost:8080/"
        },
        "outputId": "a8f1e1be-35ed-401d-bdc3-844ee0723f03"
      },
      "source": [
        "taxi = np.genfromtxt(\"drive/My Drive/data/nyc_taxis.csv\", delimiter=\",\")\n",
        "taxi_shape = taxi.shape\n",
        "taxi_shape"
      ],
      "execution_count": 8,
      "outputs": [
        {
          "output_type": "execute_result",
          "data": {
            "text/plain": [
              "(89561, 15)"
            ]
          },
          "metadata": {
            "tags": []
          },
          "execution_count": 8
        }
      ]
    },
    {
      "cell_type": "code",
      "metadata": {
        "id": "Nxz680Z7RGxT"
      },
      "source": [
        "import csv\n",
        "\n",
        "# impoer nyc_taxis.csv as a list of lists\n",
        "f = open(\"drive/My Drive/data/nyc_taxis.csv\", \"r\")\n",
        "taxi_list = list(csv.reader(f))"
      ],
      "execution_count": 9,
      "outputs": []
    },
    {
      "cell_type": "code",
      "metadata": {
        "id": "RCanWNzbRITE"
      },
      "source": [
        ""
      ],
      "execution_count": 9,
      "outputs": []
    },
    {
      "cell_type": "code",
      "metadata": {
        "id": "A01PpMcdRIkT"
      },
      "source": [
        ""
      ],
      "execution_count": 9,
      "outputs": []
    },
    {
      "cell_type": "code",
      "metadata": {
        "id": "wKqU_bt7RIxb"
      },
      "source": [
        ""
      ],
      "execution_count": 9,
      "outputs": []
    },
    {
      "cell_type": "markdown",
      "metadata": {
        "id": "mz22AiszOIGd"
      },
      "source": [
        "## Introduction to Pandas"
      ]
    },
    {
      "cell_type": "markdown",
      "metadata": {
        "id": "I67hKC7iPWJQ"
      },
      "source": [
        "## Exploring Data with Pandas: Fundamentals"
      ]
    },
    {
      "cell_type": "markdown",
      "metadata": {
        "id": "x7rCZ2cjPd95"
      },
      "source": [
        "## Exploring Data with Pandas: Intermediate"
      ]
    },
    {
      "cell_type": "code",
      "metadata": {
        "id": "fJzV2nwPPm8a",
        "colab": {
          "base_uri": "https://localhost:8080/",
          "height": 674
        },
        "outputId": "7240e579-2d15-4406-ef85-b3dc04cd6c18"
      },
      "source": [
        "import pandas as pd\n",
        "# Create DataFrame\n",
        "f500 = pd.read_csv(\"drive/My Drive/data/f500.csv\", index_col=0)\n",
        "f500.index.name = None\n",
        "f500"
      ],
      "execution_count": 10,
      "outputs": [
        {
          "output_type": "execute_result",
          "data": {
            "text/html": [
              "<div>\n",
              "<style scoped>\n",
              "    .dataframe tbody tr th:only-of-type {\n",
              "        vertical-align: middle;\n",
              "    }\n",
              "\n",
              "    .dataframe tbody tr th {\n",
              "        vertical-align: top;\n",
              "    }\n",
              "\n",
              "    .dataframe thead th {\n",
              "        text-align: right;\n",
              "    }\n",
              "</style>\n",
              "<table border=\"1\" class=\"dataframe\">\n",
              "  <thead>\n",
              "    <tr style=\"text-align: right;\">\n",
              "      <th></th>\n",
              "      <th>rank</th>\n",
              "      <th>revenues</th>\n",
              "      <th>revenue_change</th>\n",
              "      <th>profits</th>\n",
              "      <th>assets</th>\n",
              "      <th>profit_change</th>\n",
              "      <th>ceo</th>\n",
              "      <th>industry</th>\n",
              "      <th>sector</th>\n",
              "      <th>previous_rank</th>\n",
              "      <th>country</th>\n",
              "      <th>hq_location</th>\n",
              "      <th>website</th>\n",
              "      <th>years_on_global_500_list</th>\n",
              "      <th>employees</th>\n",
              "      <th>total_stockholder_equity</th>\n",
              "    </tr>\n",
              "  </thead>\n",
              "  <tbody>\n",
              "    <tr>\n",
              "      <th>Walmart</th>\n",
              "      <td>1</td>\n",
              "      <td>485873</td>\n",
              "      <td>0.8</td>\n",
              "      <td>13643.0</td>\n",
              "      <td>198825</td>\n",
              "      <td>-7.2</td>\n",
              "      <td>C. Douglas McMillon</td>\n",
              "      <td>General Merchandisers</td>\n",
              "      <td>Retailing</td>\n",
              "      <td>1</td>\n",
              "      <td>USA</td>\n",
              "      <td>Bentonville, AR</td>\n",
              "      <td>http://www.walmart.com</td>\n",
              "      <td>23</td>\n",
              "      <td>2300000</td>\n",
              "      <td>77798</td>\n",
              "    </tr>\n",
              "    <tr>\n",
              "      <th>State Grid</th>\n",
              "      <td>2</td>\n",
              "      <td>315199</td>\n",
              "      <td>-4.4</td>\n",
              "      <td>9571.3</td>\n",
              "      <td>489838</td>\n",
              "      <td>-6.2</td>\n",
              "      <td>Kou Wei</td>\n",
              "      <td>Utilities</td>\n",
              "      <td>Energy</td>\n",
              "      <td>2</td>\n",
              "      <td>China</td>\n",
              "      <td>Beijing, China</td>\n",
              "      <td>http://www.sgcc.com.cn</td>\n",
              "      <td>17</td>\n",
              "      <td>926067</td>\n",
              "      <td>209456</td>\n",
              "    </tr>\n",
              "    <tr>\n",
              "      <th>Sinopec Group</th>\n",
              "      <td>3</td>\n",
              "      <td>267518</td>\n",
              "      <td>-9.1</td>\n",
              "      <td>1257.9</td>\n",
              "      <td>310726</td>\n",
              "      <td>-65.0</td>\n",
              "      <td>Wang Yupu</td>\n",
              "      <td>Petroleum Refining</td>\n",
              "      <td>Energy</td>\n",
              "      <td>4</td>\n",
              "      <td>China</td>\n",
              "      <td>Beijing, China</td>\n",
              "      <td>http://www.sinopec.com</td>\n",
              "      <td>19</td>\n",
              "      <td>713288</td>\n",
              "      <td>106523</td>\n",
              "    </tr>\n",
              "    <tr>\n",
              "      <th>China National Petroleum</th>\n",
              "      <td>4</td>\n",
              "      <td>262573</td>\n",
              "      <td>-12.3</td>\n",
              "      <td>1867.5</td>\n",
              "      <td>585619</td>\n",
              "      <td>-73.7</td>\n",
              "      <td>Zhang Jianhua</td>\n",
              "      <td>Petroleum Refining</td>\n",
              "      <td>Energy</td>\n",
              "      <td>3</td>\n",
              "      <td>China</td>\n",
              "      <td>Beijing, China</td>\n",
              "      <td>http://www.cnpc.com.cn</td>\n",
              "      <td>17</td>\n",
              "      <td>1512048</td>\n",
              "      <td>301893</td>\n",
              "    </tr>\n",
              "    <tr>\n",
              "      <th>Toyota Motor</th>\n",
              "      <td>5</td>\n",
              "      <td>254694</td>\n",
              "      <td>7.7</td>\n",
              "      <td>16899.3</td>\n",
              "      <td>437575</td>\n",
              "      <td>-12.3</td>\n",
              "      <td>Akio Toyoda</td>\n",
              "      <td>Motor Vehicles and Parts</td>\n",
              "      <td>Motor Vehicles &amp; Parts</td>\n",
              "      <td>8</td>\n",
              "      <td>Japan</td>\n",
              "      <td>Toyota, Japan</td>\n",
              "      <td>http://www.toyota-global.com</td>\n",
              "      <td>23</td>\n",
              "      <td>364445</td>\n",
              "      <td>157210</td>\n",
              "    </tr>\n",
              "    <tr>\n",
              "      <th>...</th>\n",
              "      <td>...</td>\n",
              "      <td>...</td>\n",
              "      <td>...</td>\n",
              "      <td>...</td>\n",
              "      <td>...</td>\n",
              "      <td>...</td>\n",
              "      <td>...</td>\n",
              "      <td>...</td>\n",
              "      <td>...</td>\n",
              "      <td>...</td>\n",
              "      <td>...</td>\n",
              "      <td>...</td>\n",
              "      <td>...</td>\n",
              "      <td>...</td>\n",
              "      <td>...</td>\n",
              "      <td>...</td>\n",
              "    </tr>\n",
              "    <tr>\n",
              "      <th>Teva Pharmaceutical Industries</th>\n",
              "      <td>496</td>\n",
              "      <td>21903</td>\n",
              "      <td>11.5</td>\n",
              "      <td>329.0</td>\n",
              "      <td>92890</td>\n",
              "      <td>-79.3</td>\n",
              "      <td>Yitzhak Peterburg</td>\n",
              "      <td>Pharmaceuticals</td>\n",
              "      <td>Health Care</td>\n",
              "      <td>0</td>\n",
              "      <td>Israel</td>\n",
              "      <td>Petach Tikva, Israel</td>\n",
              "      <td>http://www.tevapharm.com</td>\n",
              "      <td>1</td>\n",
              "      <td>56960</td>\n",
              "      <td>33337</td>\n",
              "    </tr>\n",
              "    <tr>\n",
              "      <th>New China Life Insurance</th>\n",
              "      <td>497</td>\n",
              "      <td>21796</td>\n",
              "      <td>-13.3</td>\n",
              "      <td>743.9</td>\n",
              "      <td>100609</td>\n",
              "      <td>-45.6</td>\n",
              "      <td>Wan Feng</td>\n",
              "      <td>Insurance: Life, Health (stock)</td>\n",
              "      <td>Financials</td>\n",
              "      <td>427</td>\n",
              "      <td>China</td>\n",
              "      <td>Beijing, China</td>\n",
              "      <td>http://www.newchinalife.com</td>\n",
              "      <td>2</td>\n",
              "      <td>54378</td>\n",
              "      <td>8507</td>\n",
              "    </tr>\n",
              "    <tr>\n",
              "      <th>Wm. Morrison Supermarkets</th>\n",
              "      <td>498</td>\n",
              "      <td>21741</td>\n",
              "      <td>-11.3</td>\n",
              "      <td>406.4</td>\n",
              "      <td>11630</td>\n",
              "      <td>20.4</td>\n",
              "      <td>David T. Potts</td>\n",
              "      <td>Food and Drug Stores</td>\n",
              "      <td>Food &amp; Drug Stores</td>\n",
              "      <td>437</td>\n",
              "      <td>Britain</td>\n",
              "      <td>Bradford, Britain</td>\n",
              "      <td>http://www.morrisons.com</td>\n",
              "      <td>13</td>\n",
              "      <td>77210</td>\n",
              "      <td>5111</td>\n",
              "    </tr>\n",
              "    <tr>\n",
              "      <th>TUI</th>\n",
              "      <td>499</td>\n",
              "      <td>21655</td>\n",
              "      <td>-5.5</td>\n",
              "      <td>1151.7</td>\n",
              "      <td>16247</td>\n",
              "      <td>195.5</td>\n",
              "      <td>Friedrich Joussen</td>\n",
              "      <td>Travel Services</td>\n",
              "      <td>Business Services</td>\n",
              "      <td>467</td>\n",
              "      <td>Germany</td>\n",
              "      <td>Hanover, Germany</td>\n",
              "      <td>http://www.tuigroup.com</td>\n",
              "      <td>23</td>\n",
              "      <td>66779</td>\n",
              "      <td>3006</td>\n",
              "    </tr>\n",
              "    <tr>\n",
              "      <th>AutoNation</th>\n",
              "      <td>500</td>\n",
              "      <td>21609</td>\n",
              "      <td>3.6</td>\n",
              "      <td>430.5</td>\n",
              "      <td>10060</td>\n",
              "      <td>-2.7</td>\n",
              "      <td>Michael J. Jackson</td>\n",
              "      <td>Specialty Retailers</td>\n",
              "      <td>Retailing</td>\n",
              "      <td>0</td>\n",
              "      <td>USA</td>\n",
              "      <td>Fort Lauderdale, FL</td>\n",
              "      <td>http://www.autonation.com</td>\n",
              "      <td>12</td>\n",
              "      <td>26000</td>\n",
              "      <td>2310</td>\n",
              "    </tr>\n",
              "  </tbody>\n",
              "</table>\n",
              "<p>500 rows × 16 columns</p>\n",
              "</div>"
            ],
            "text/plain": [
              "                                rank  ...  total_stockholder_equity\n",
              "Walmart                            1  ...                     77798\n",
              "State Grid                         2  ...                    209456\n",
              "Sinopec Group                      3  ...                    106523\n",
              "China National Petroleum           4  ...                    301893\n",
              "Toyota Motor                       5  ...                    157210\n",
              "...                              ...  ...                       ...\n",
              "Teva Pharmaceutical Industries   496  ...                     33337\n",
              "New China Life Insurance         497  ...                      8507\n",
              "Wm. Morrison Supermarkets        498  ...                      5111\n",
              "TUI                              499  ...                      3006\n",
              "AutoNation                       500  ...                      2310\n",
              "\n",
              "[500 rows x 16 columns]"
            ]
          },
          "metadata": {
            "tags": []
          },
          "execution_count": 10
        }
      ]
    },
    {
      "cell_type": "code",
      "metadata": {
        "colab": {
          "base_uri": "https://localhost:8080/"
        },
        "id": "nMwBw_jJFlLR",
        "outputId": "9f37096a-583e-4f5a-fc53-b3ade47a7790"
      },
      "source": [
        "f500_dict = {\"company\" : \"Name of the company\",\n",
        "             \"rank\": \"Global 500 rank for the company\",\n",
        "             \"revenues\": \"Company's total revenue for the fiscal year, in millions of USD\",\n",
        "             \"revenue_change\": \"Percentage change in revenue between the current and prior fiscal year\",\n",
        "             \"profits\": \"Net income for the fiscal year, in millions of dollars(USD)\",\n",
        "             \"sector\": \"sector in which the company operates\",\n",
        "             \"previous_rank\": \"Global 500 rank for the company for the prior year\",\n",
        "             \"country\": \"Country in which the company is headquartered\",\n",
        "             \"hq_location\": \"City and country, (or city and state for the USA) where the company is headquartered\",\n",
        "             \"employees\": \"Total employees (full-time equivalent, if available) at fiscal year-end\"\n",
        "             }\n",
        "f500_dict"
      ],
      "execution_count": 11,
      "outputs": [
        {
          "output_type": "execute_result",
          "data": {
            "text/plain": [
              "{'company': 'Name of the company',\n",
              " 'country': 'Country in which the company is headquartered',\n",
              " 'employees': 'Total employees (full-time equivalent, if available) at fiscal year-end',\n",
              " 'hq_location': 'City and country, (or city and state for the USA) where the company is headquartered',\n",
              " 'previous_rank': 'Global 500 rank for the company for the prior year',\n",
              " 'profits': 'Net income for the fiscal year, in millions of dollars(USD)',\n",
              " 'rank': 'Global 500 rank for the company',\n",
              " 'revenue_change': 'Percentage change in revenue between the current and prior fiscal year',\n",
              " 'revenues': \"Company's total revenue for the fiscal year, in millions of USD\",\n",
              " 'sector': 'sector in which the company operates'}"
            ]
          },
          "metadata": {
            "tags": []
          },
          "execution_count": 11
        }
      ]
    },
    {
      "cell_type": "code",
      "metadata": {
        "colab": {
          "base_uri": "https://localhost:8080/",
          "height": 195
        },
        "id": "2n3WnYJ5F0Vf",
        "outputId": "feb968ac-5d7c-4885-d4e8-82bf0817b943"
      },
      "source": [
        "f500_selection=f500[[\"rank\", \"revenues\", \"revenue_change\"]].head()\n",
        "f500_selection"
      ],
      "execution_count": 12,
      "outputs": [
        {
          "output_type": "execute_result",
          "data": {
            "text/html": [
              "<div>\n",
              "<style scoped>\n",
              "    .dataframe tbody tr th:only-of-type {\n",
              "        vertical-align: middle;\n",
              "    }\n",
              "\n",
              "    .dataframe tbody tr th {\n",
              "        vertical-align: top;\n",
              "    }\n",
              "\n",
              "    .dataframe thead th {\n",
              "        text-align: right;\n",
              "    }\n",
              "</style>\n",
              "<table border=\"1\" class=\"dataframe\">\n",
              "  <thead>\n",
              "    <tr style=\"text-align: right;\">\n",
              "      <th></th>\n",
              "      <th>rank</th>\n",
              "      <th>revenues</th>\n",
              "      <th>revenue_change</th>\n",
              "    </tr>\n",
              "  </thead>\n",
              "  <tbody>\n",
              "    <tr>\n",
              "      <th>Walmart</th>\n",
              "      <td>1</td>\n",
              "      <td>485873</td>\n",
              "      <td>0.8</td>\n",
              "    </tr>\n",
              "    <tr>\n",
              "      <th>State Grid</th>\n",
              "      <td>2</td>\n",
              "      <td>315199</td>\n",
              "      <td>-4.4</td>\n",
              "    </tr>\n",
              "    <tr>\n",
              "      <th>Sinopec Group</th>\n",
              "      <td>3</td>\n",
              "      <td>267518</td>\n",
              "      <td>-9.1</td>\n",
              "    </tr>\n",
              "    <tr>\n",
              "      <th>China National Petroleum</th>\n",
              "      <td>4</td>\n",
              "      <td>262573</td>\n",
              "      <td>-12.3</td>\n",
              "    </tr>\n",
              "    <tr>\n",
              "      <th>Toyota Motor</th>\n",
              "      <td>5</td>\n",
              "      <td>254694</td>\n",
              "      <td>7.7</td>\n",
              "    </tr>\n",
              "  </tbody>\n",
              "</table>\n",
              "</div>"
            ],
            "text/plain": [
              "                          rank  revenues  revenue_change\n",
              "Walmart                      1    485873             0.8\n",
              "State Grid                   2    315199            -4.4\n",
              "Sinopec Group                3    267518            -9.1\n",
              "China National Petroleum     4    262573           -12.3\n",
              "Toyota Motor                 5    254694             7.7"
            ]
          },
          "metadata": {
            "tags": []
          },
          "execution_count": 12
        }
      ]
    },
    {
      "cell_type": "markdown",
      "metadata": {
        "id": "_mxJ96AOJSd3"
      },
      "source": [
        "### 2. Reading CSV files with pandas"
      ]
    },
    {
      "cell_type": "code",
      "metadata": {
        "colab": {
          "base_uri": "https://localhost:8080/",
          "height": 674
        },
        "id": "XQG9QFkSVpIP",
        "outputId": "06a117df-76ed-4fe4-8f17-2eadebbe009c"
      },
      "source": [
        "# Without index_col = 0\r\n",
        "f500 = pd.read_csv(\"drive/My Drive/data/f500.csv\")\r\n",
        "f500"
      ],
      "execution_count": 13,
      "outputs": [
        {
          "output_type": "execute_result",
          "data": {
            "text/html": [
              "<div>\n",
              "<style scoped>\n",
              "    .dataframe tbody tr th:only-of-type {\n",
              "        vertical-align: middle;\n",
              "    }\n",
              "\n",
              "    .dataframe tbody tr th {\n",
              "        vertical-align: top;\n",
              "    }\n",
              "\n",
              "    .dataframe thead th {\n",
              "        text-align: right;\n",
              "    }\n",
              "</style>\n",
              "<table border=\"1\" class=\"dataframe\">\n",
              "  <thead>\n",
              "    <tr style=\"text-align: right;\">\n",
              "      <th></th>\n",
              "      <th>company</th>\n",
              "      <th>rank</th>\n",
              "      <th>revenues</th>\n",
              "      <th>revenue_change</th>\n",
              "      <th>profits</th>\n",
              "      <th>assets</th>\n",
              "      <th>profit_change</th>\n",
              "      <th>ceo</th>\n",
              "      <th>industry</th>\n",
              "      <th>sector</th>\n",
              "      <th>previous_rank</th>\n",
              "      <th>country</th>\n",
              "      <th>hq_location</th>\n",
              "      <th>website</th>\n",
              "      <th>years_on_global_500_list</th>\n",
              "      <th>employees</th>\n",
              "      <th>total_stockholder_equity</th>\n",
              "    </tr>\n",
              "  </thead>\n",
              "  <tbody>\n",
              "    <tr>\n",
              "      <th>0</th>\n",
              "      <td>Walmart</td>\n",
              "      <td>1</td>\n",
              "      <td>485873</td>\n",
              "      <td>0.8</td>\n",
              "      <td>13643.0</td>\n",
              "      <td>198825</td>\n",
              "      <td>-7.2</td>\n",
              "      <td>C. Douglas McMillon</td>\n",
              "      <td>General Merchandisers</td>\n",
              "      <td>Retailing</td>\n",
              "      <td>1</td>\n",
              "      <td>USA</td>\n",
              "      <td>Bentonville, AR</td>\n",
              "      <td>http://www.walmart.com</td>\n",
              "      <td>23</td>\n",
              "      <td>2300000</td>\n",
              "      <td>77798</td>\n",
              "    </tr>\n",
              "    <tr>\n",
              "      <th>1</th>\n",
              "      <td>State Grid</td>\n",
              "      <td>2</td>\n",
              "      <td>315199</td>\n",
              "      <td>-4.4</td>\n",
              "      <td>9571.3</td>\n",
              "      <td>489838</td>\n",
              "      <td>-6.2</td>\n",
              "      <td>Kou Wei</td>\n",
              "      <td>Utilities</td>\n",
              "      <td>Energy</td>\n",
              "      <td>2</td>\n",
              "      <td>China</td>\n",
              "      <td>Beijing, China</td>\n",
              "      <td>http://www.sgcc.com.cn</td>\n",
              "      <td>17</td>\n",
              "      <td>926067</td>\n",
              "      <td>209456</td>\n",
              "    </tr>\n",
              "    <tr>\n",
              "      <th>2</th>\n",
              "      <td>Sinopec Group</td>\n",
              "      <td>3</td>\n",
              "      <td>267518</td>\n",
              "      <td>-9.1</td>\n",
              "      <td>1257.9</td>\n",
              "      <td>310726</td>\n",
              "      <td>-65.0</td>\n",
              "      <td>Wang Yupu</td>\n",
              "      <td>Petroleum Refining</td>\n",
              "      <td>Energy</td>\n",
              "      <td>4</td>\n",
              "      <td>China</td>\n",
              "      <td>Beijing, China</td>\n",
              "      <td>http://www.sinopec.com</td>\n",
              "      <td>19</td>\n",
              "      <td>713288</td>\n",
              "      <td>106523</td>\n",
              "    </tr>\n",
              "    <tr>\n",
              "      <th>3</th>\n",
              "      <td>China National Petroleum</td>\n",
              "      <td>4</td>\n",
              "      <td>262573</td>\n",
              "      <td>-12.3</td>\n",
              "      <td>1867.5</td>\n",
              "      <td>585619</td>\n",
              "      <td>-73.7</td>\n",
              "      <td>Zhang Jianhua</td>\n",
              "      <td>Petroleum Refining</td>\n",
              "      <td>Energy</td>\n",
              "      <td>3</td>\n",
              "      <td>China</td>\n",
              "      <td>Beijing, China</td>\n",
              "      <td>http://www.cnpc.com.cn</td>\n",
              "      <td>17</td>\n",
              "      <td>1512048</td>\n",
              "      <td>301893</td>\n",
              "    </tr>\n",
              "    <tr>\n",
              "      <th>4</th>\n",
              "      <td>Toyota Motor</td>\n",
              "      <td>5</td>\n",
              "      <td>254694</td>\n",
              "      <td>7.7</td>\n",
              "      <td>16899.3</td>\n",
              "      <td>437575</td>\n",
              "      <td>-12.3</td>\n",
              "      <td>Akio Toyoda</td>\n",
              "      <td>Motor Vehicles and Parts</td>\n",
              "      <td>Motor Vehicles &amp; Parts</td>\n",
              "      <td>8</td>\n",
              "      <td>Japan</td>\n",
              "      <td>Toyota, Japan</td>\n",
              "      <td>http://www.toyota-global.com</td>\n",
              "      <td>23</td>\n",
              "      <td>364445</td>\n",
              "      <td>157210</td>\n",
              "    </tr>\n",
              "    <tr>\n",
              "      <th>...</th>\n",
              "      <td>...</td>\n",
              "      <td>...</td>\n",
              "      <td>...</td>\n",
              "      <td>...</td>\n",
              "      <td>...</td>\n",
              "      <td>...</td>\n",
              "      <td>...</td>\n",
              "      <td>...</td>\n",
              "      <td>...</td>\n",
              "      <td>...</td>\n",
              "      <td>...</td>\n",
              "      <td>...</td>\n",
              "      <td>...</td>\n",
              "      <td>...</td>\n",
              "      <td>...</td>\n",
              "      <td>...</td>\n",
              "      <td>...</td>\n",
              "    </tr>\n",
              "    <tr>\n",
              "      <th>495</th>\n",
              "      <td>Teva Pharmaceutical Industries</td>\n",
              "      <td>496</td>\n",
              "      <td>21903</td>\n",
              "      <td>11.5</td>\n",
              "      <td>329.0</td>\n",
              "      <td>92890</td>\n",
              "      <td>-79.3</td>\n",
              "      <td>Yitzhak Peterburg</td>\n",
              "      <td>Pharmaceuticals</td>\n",
              "      <td>Health Care</td>\n",
              "      <td>0</td>\n",
              "      <td>Israel</td>\n",
              "      <td>Petach Tikva, Israel</td>\n",
              "      <td>http://www.tevapharm.com</td>\n",
              "      <td>1</td>\n",
              "      <td>56960</td>\n",
              "      <td>33337</td>\n",
              "    </tr>\n",
              "    <tr>\n",
              "      <th>496</th>\n",
              "      <td>New China Life Insurance</td>\n",
              "      <td>497</td>\n",
              "      <td>21796</td>\n",
              "      <td>-13.3</td>\n",
              "      <td>743.9</td>\n",
              "      <td>100609</td>\n",
              "      <td>-45.6</td>\n",
              "      <td>Wan Feng</td>\n",
              "      <td>Insurance: Life, Health (stock)</td>\n",
              "      <td>Financials</td>\n",
              "      <td>427</td>\n",
              "      <td>China</td>\n",
              "      <td>Beijing, China</td>\n",
              "      <td>http://www.newchinalife.com</td>\n",
              "      <td>2</td>\n",
              "      <td>54378</td>\n",
              "      <td>8507</td>\n",
              "    </tr>\n",
              "    <tr>\n",
              "      <th>497</th>\n",
              "      <td>Wm. Morrison Supermarkets</td>\n",
              "      <td>498</td>\n",
              "      <td>21741</td>\n",
              "      <td>-11.3</td>\n",
              "      <td>406.4</td>\n",
              "      <td>11630</td>\n",
              "      <td>20.4</td>\n",
              "      <td>David T. Potts</td>\n",
              "      <td>Food and Drug Stores</td>\n",
              "      <td>Food &amp; Drug Stores</td>\n",
              "      <td>437</td>\n",
              "      <td>Britain</td>\n",
              "      <td>Bradford, Britain</td>\n",
              "      <td>http://www.morrisons.com</td>\n",
              "      <td>13</td>\n",
              "      <td>77210</td>\n",
              "      <td>5111</td>\n",
              "    </tr>\n",
              "    <tr>\n",
              "      <th>498</th>\n",
              "      <td>TUI</td>\n",
              "      <td>499</td>\n",
              "      <td>21655</td>\n",
              "      <td>-5.5</td>\n",
              "      <td>1151.7</td>\n",
              "      <td>16247</td>\n",
              "      <td>195.5</td>\n",
              "      <td>Friedrich Joussen</td>\n",
              "      <td>Travel Services</td>\n",
              "      <td>Business Services</td>\n",
              "      <td>467</td>\n",
              "      <td>Germany</td>\n",
              "      <td>Hanover, Germany</td>\n",
              "      <td>http://www.tuigroup.com</td>\n",
              "      <td>23</td>\n",
              "      <td>66779</td>\n",
              "      <td>3006</td>\n",
              "    </tr>\n",
              "    <tr>\n",
              "      <th>499</th>\n",
              "      <td>AutoNation</td>\n",
              "      <td>500</td>\n",
              "      <td>21609</td>\n",
              "      <td>3.6</td>\n",
              "      <td>430.5</td>\n",
              "      <td>10060</td>\n",
              "      <td>-2.7</td>\n",
              "      <td>Michael J. Jackson</td>\n",
              "      <td>Specialty Retailers</td>\n",
              "      <td>Retailing</td>\n",
              "      <td>0</td>\n",
              "      <td>USA</td>\n",
              "      <td>Fort Lauderdale, FL</td>\n",
              "      <td>http://www.autonation.com</td>\n",
              "      <td>12</td>\n",
              "      <td>26000</td>\n",
              "      <td>2310</td>\n",
              "    </tr>\n",
              "  </tbody>\n",
              "</table>\n",
              "<p>500 rows × 17 columns</p>\n",
              "</div>"
            ],
            "text/plain": [
              "                            company  rank  ...  employees  total_stockholder_equity\n",
              "0                           Walmart     1  ...    2300000                     77798\n",
              "1                        State Grid     2  ...     926067                    209456\n",
              "2                     Sinopec Group     3  ...     713288                    106523\n",
              "3          China National Petroleum     4  ...    1512048                    301893\n",
              "4                      Toyota Motor     5  ...     364445                    157210\n",
              "..                              ...   ...  ...        ...                       ...\n",
              "495  Teva Pharmaceutical Industries   496  ...      56960                     33337\n",
              "496        New China Life Insurance   497  ...      54378                      8507\n",
              "497       Wm. Morrison Supermarkets   498  ...      77210                      5111\n",
              "498                             TUI   499  ...      66779                      3006\n",
              "499                      AutoNation   500  ...      26000                      2310\n",
              "\n",
              "[500 rows x 17 columns]"
            ]
          },
          "metadata": {
            "tags": []
          },
          "execution_count": 13
        }
      ]
    },
    {
      "cell_type": "code",
      "metadata": {
        "colab": {
          "base_uri": "https://localhost:8080/",
          "height": 366
        },
        "id": "yO_dZb-HV6wn",
        "outputId": "0794c505-edce-469b-9d5b-70ff7b20b537"
      },
      "source": [
        "# selects all columns where previous rank = 0\r\n",
        "f500.loc[f500[\"previous_rank\"] == 0].head()"
      ],
      "execution_count": 14,
      "outputs": [
        {
          "output_type": "execute_result",
          "data": {
            "text/html": [
              "<div>\n",
              "<style scoped>\n",
              "    .dataframe tbody tr th:only-of-type {\n",
              "        vertical-align: middle;\n",
              "    }\n",
              "\n",
              "    .dataframe tbody tr th {\n",
              "        vertical-align: top;\n",
              "    }\n",
              "\n",
              "    .dataframe thead th {\n",
              "        text-align: right;\n",
              "    }\n",
              "</style>\n",
              "<table border=\"1\" class=\"dataframe\">\n",
              "  <thead>\n",
              "    <tr style=\"text-align: right;\">\n",
              "      <th></th>\n",
              "      <th>company</th>\n",
              "      <th>rank</th>\n",
              "      <th>revenues</th>\n",
              "      <th>revenue_change</th>\n",
              "      <th>profits</th>\n",
              "      <th>assets</th>\n",
              "      <th>profit_change</th>\n",
              "      <th>ceo</th>\n",
              "      <th>industry</th>\n",
              "      <th>sector</th>\n",
              "      <th>previous_rank</th>\n",
              "      <th>country</th>\n",
              "      <th>hq_location</th>\n",
              "      <th>website</th>\n",
              "      <th>years_on_global_500_list</th>\n",
              "      <th>employees</th>\n",
              "      <th>total_stockholder_equity</th>\n",
              "    </tr>\n",
              "  </thead>\n",
              "  <tbody>\n",
              "    <tr>\n",
              "      <th>48</th>\n",
              "      <td>Legal &amp; General Group</td>\n",
              "      <td>49</td>\n",
              "      <td>105235</td>\n",
              "      <td>442.3</td>\n",
              "      <td>1697.9</td>\n",
              "      <td>577954</td>\n",
              "      <td>3.4</td>\n",
              "      <td>Nigel Wilson</td>\n",
              "      <td>Insurance: Life, Health (stock)</td>\n",
              "      <td>Financials</td>\n",
              "      <td>0</td>\n",
              "      <td>Britain</td>\n",
              "      <td>London, Britain</td>\n",
              "      <td>http://www.legalandgeneralgroup.com</td>\n",
              "      <td>17</td>\n",
              "      <td>8939</td>\n",
              "      <td>8579</td>\n",
              "    </tr>\n",
              "    <tr>\n",
              "      <th>90</th>\n",
              "      <td>Uniper</td>\n",
              "      <td>91</td>\n",
              "      <td>74407</td>\n",
              "      <td>NaN</td>\n",
              "      <td>-3557.5</td>\n",
              "      <td>51541</td>\n",
              "      <td>NaN</td>\n",
              "      <td>Klaus Schafer</td>\n",
              "      <td>Energy</td>\n",
              "      <td>Energy</td>\n",
              "      <td>0</td>\n",
              "      <td>Germany</td>\n",
              "      <td>Dusseldorf, Germany</td>\n",
              "      <td>http://www.uniper.energy</td>\n",
              "      <td>1</td>\n",
              "      <td>12890</td>\n",
              "      <td>12889</td>\n",
              "    </tr>\n",
              "    <tr>\n",
              "      <th>123</th>\n",
              "      <td>Dell Technologies</td>\n",
              "      <td>124</td>\n",
              "      <td>64806</td>\n",
              "      <td>18.1</td>\n",
              "      <td>-1672.0</td>\n",
              "      <td>118206</td>\n",
              "      <td>NaN</td>\n",
              "      <td>Michael S. Dell</td>\n",
              "      <td>Computers, Office Equipment</td>\n",
              "      <td>Technology</td>\n",
              "      <td>0</td>\n",
              "      <td>USA</td>\n",
              "      <td>Round Rock, TX</td>\n",
              "      <td>http://www.delltechnologies.com</td>\n",
              "      <td>17</td>\n",
              "      <td>138000</td>\n",
              "      <td>13243</td>\n",
              "    </tr>\n",
              "    <tr>\n",
              "      <th>138</th>\n",
              "      <td>Anbang Insurance Group</td>\n",
              "      <td>139</td>\n",
              "      <td>60800</td>\n",
              "      <td>124.0</td>\n",
              "      <td>3883.9</td>\n",
              "      <td>430040</td>\n",
              "      <td>0.9</td>\n",
              "      <td>Wu Xiaohui</td>\n",
              "      <td>Insurance: Life, Health (Mutual)</td>\n",
              "      <td>Financials</td>\n",
              "      <td>0</td>\n",
              "      <td>China</td>\n",
              "      <td>Beijing, China</td>\n",
              "      <td>http://www.anbanggroup.com</td>\n",
              "      <td>1</td>\n",
              "      <td>40707</td>\n",
              "      <td>20372</td>\n",
              "    </tr>\n",
              "    <tr>\n",
              "      <th>140</th>\n",
              "      <td>Albertsons Cos.</td>\n",
              "      <td>141</td>\n",
              "      <td>59678</td>\n",
              "      <td>1.6</td>\n",
              "      <td>-373.3</td>\n",
              "      <td>23755</td>\n",
              "      <td>NaN</td>\n",
              "      <td>Robert G. Miller</td>\n",
              "      <td>Food and Drug Stores</td>\n",
              "      <td>Food &amp; Drug Stores</td>\n",
              "      <td>0</td>\n",
              "      <td>USA</td>\n",
              "      <td>Boise, ID</td>\n",
              "      <td>http://www.albertsons.com</td>\n",
              "      <td>13</td>\n",
              "      <td>273000</td>\n",
              "      <td>1371</td>\n",
              "    </tr>\n",
              "  </tbody>\n",
              "</table>\n",
              "</div>"
            ],
            "text/plain": [
              "                    company  rank  ...  employees  total_stockholder_equity\n",
              "48    Legal & General Group    49  ...       8939                      8579\n",
              "90                   Uniper    91  ...      12890                     12889\n",
              "123       Dell Technologies   124  ...     138000                     13243\n",
              "138  Anbang Insurance Group   139  ...      40707                     20372\n",
              "140         Albertsons Cos.   141  ...     273000                      1371\n",
              "\n",
              "[5 rows x 17 columns]"
            ]
          },
          "metadata": {
            "tags": []
          },
          "execution_count": 14
        }
      ]
    },
    {
      "cell_type": "code",
      "metadata": {
        "colab": {
          "base_uri": "https://localhost:8080/",
          "height": 195
        },
        "id": "botz1zFXWUig",
        "outputId": "fc5e46a9-eae5-430e-a9cd-297443210d49"
      },
      "source": [
        "# Select 2 columns where previous_rank = 0\r\n",
        "f500.loc[f500[\"previous_rank\"] == 0, [\"previous_rank\", \"assets\"]].head()"
      ],
      "execution_count": 15,
      "outputs": [
        {
          "output_type": "execute_result",
          "data": {
            "text/html": [
              "<div>\n",
              "<style scoped>\n",
              "    .dataframe tbody tr th:only-of-type {\n",
              "        vertical-align: middle;\n",
              "    }\n",
              "\n",
              "    .dataframe tbody tr th {\n",
              "        vertical-align: top;\n",
              "    }\n",
              "\n",
              "    .dataframe thead th {\n",
              "        text-align: right;\n",
              "    }\n",
              "</style>\n",
              "<table border=\"1\" class=\"dataframe\">\n",
              "  <thead>\n",
              "    <tr style=\"text-align: right;\">\n",
              "      <th></th>\n",
              "      <th>previous_rank</th>\n",
              "      <th>assets</th>\n",
              "    </tr>\n",
              "  </thead>\n",
              "  <tbody>\n",
              "    <tr>\n",
              "      <th>48</th>\n",
              "      <td>0</td>\n",
              "      <td>577954</td>\n",
              "    </tr>\n",
              "    <tr>\n",
              "      <th>90</th>\n",
              "      <td>0</td>\n",
              "      <td>51541</td>\n",
              "    </tr>\n",
              "    <tr>\n",
              "      <th>123</th>\n",
              "      <td>0</td>\n",
              "      <td>118206</td>\n",
              "    </tr>\n",
              "    <tr>\n",
              "      <th>138</th>\n",
              "      <td>0</td>\n",
              "      <td>430040</td>\n",
              "    </tr>\n",
              "    <tr>\n",
              "      <th>140</th>\n",
              "      <td>0</td>\n",
              "      <td>23755</td>\n",
              "    </tr>\n",
              "  </tbody>\n",
              "</table>\n",
              "</div>"
            ],
            "text/plain": [
              "     previous_rank  assets\n",
              "48               0  577954\n",
              "90               0   51541\n",
              "123              0  118206\n",
              "138              0  430040\n",
              "140              0   23755"
            ]
          },
          "metadata": {
            "tags": []
          },
          "execution_count": 15
        }
      ]
    },
    {
      "cell_type": "code",
      "metadata": {
        "colab": {
          "base_uri": "https://localhost:8080/"
        },
        "id": "YVJrlSr9WvOo",
        "outputId": "41db435c-6280-4ae3-bb95-3013c33ee275"
      },
      "source": [
        "# Select only previous_rank column where previous_rank = 0\r\n",
        "f500.loc[f500[\"previous_rank\"] == 0, \"previous_rank\"].head()"
      ],
      "execution_count": 16,
      "outputs": [
        {
          "output_type": "execute_result",
          "data": {
            "text/plain": [
              "48     0\n",
              "90     0\n",
              "123    0\n",
              "138    0\n",
              "140    0\n",
              "Name: previous_rank, dtype: int64"
            ]
          },
          "metadata": {
            "tags": []
          },
          "execution_count": 16
        }
      ]
    },
    {
      "cell_type": "code",
      "metadata": {
        "colab": {
          "base_uri": "https://localhost:8080/",
          "height": 674
        },
        "id": "rvNmyXCBW_rA",
        "outputId": "d515727a-f3b3-4d5e-e6ba-43881faa7ac1"
      },
      "source": [
        "# Assign np.nan where previous_rank column = 0\r\n",
        "f500.loc[f500[\"previous_rank\"] == 0, \"previous_rank\"] = np.nan\r\n",
        "f500"
      ],
      "execution_count": 17,
      "outputs": [
        {
          "output_type": "execute_result",
          "data": {
            "text/html": [
              "<div>\n",
              "<style scoped>\n",
              "    .dataframe tbody tr th:only-of-type {\n",
              "        vertical-align: middle;\n",
              "    }\n",
              "\n",
              "    .dataframe tbody tr th {\n",
              "        vertical-align: top;\n",
              "    }\n",
              "\n",
              "    .dataframe thead th {\n",
              "        text-align: right;\n",
              "    }\n",
              "</style>\n",
              "<table border=\"1\" class=\"dataframe\">\n",
              "  <thead>\n",
              "    <tr style=\"text-align: right;\">\n",
              "      <th></th>\n",
              "      <th>company</th>\n",
              "      <th>rank</th>\n",
              "      <th>revenues</th>\n",
              "      <th>revenue_change</th>\n",
              "      <th>profits</th>\n",
              "      <th>assets</th>\n",
              "      <th>profit_change</th>\n",
              "      <th>ceo</th>\n",
              "      <th>industry</th>\n",
              "      <th>sector</th>\n",
              "      <th>previous_rank</th>\n",
              "      <th>country</th>\n",
              "      <th>hq_location</th>\n",
              "      <th>website</th>\n",
              "      <th>years_on_global_500_list</th>\n",
              "      <th>employees</th>\n",
              "      <th>total_stockholder_equity</th>\n",
              "    </tr>\n",
              "  </thead>\n",
              "  <tbody>\n",
              "    <tr>\n",
              "      <th>0</th>\n",
              "      <td>Walmart</td>\n",
              "      <td>1</td>\n",
              "      <td>485873</td>\n",
              "      <td>0.8</td>\n",
              "      <td>13643.0</td>\n",
              "      <td>198825</td>\n",
              "      <td>-7.2</td>\n",
              "      <td>C. Douglas McMillon</td>\n",
              "      <td>General Merchandisers</td>\n",
              "      <td>Retailing</td>\n",
              "      <td>1.0</td>\n",
              "      <td>USA</td>\n",
              "      <td>Bentonville, AR</td>\n",
              "      <td>http://www.walmart.com</td>\n",
              "      <td>23</td>\n",
              "      <td>2300000</td>\n",
              "      <td>77798</td>\n",
              "    </tr>\n",
              "    <tr>\n",
              "      <th>1</th>\n",
              "      <td>State Grid</td>\n",
              "      <td>2</td>\n",
              "      <td>315199</td>\n",
              "      <td>-4.4</td>\n",
              "      <td>9571.3</td>\n",
              "      <td>489838</td>\n",
              "      <td>-6.2</td>\n",
              "      <td>Kou Wei</td>\n",
              "      <td>Utilities</td>\n",
              "      <td>Energy</td>\n",
              "      <td>2.0</td>\n",
              "      <td>China</td>\n",
              "      <td>Beijing, China</td>\n",
              "      <td>http://www.sgcc.com.cn</td>\n",
              "      <td>17</td>\n",
              "      <td>926067</td>\n",
              "      <td>209456</td>\n",
              "    </tr>\n",
              "    <tr>\n",
              "      <th>2</th>\n",
              "      <td>Sinopec Group</td>\n",
              "      <td>3</td>\n",
              "      <td>267518</td>\n",
              "      <td>-9.1</td>\n",
              "      <td>1257.9</td>\n",
              "      <td>310726</td>\n",
              "      <td>-65.0</td>\n",
              "      <td>Wang Yupu</td>\n",
              "      <td>Petroleum Refining</td>\n",
              "      <td>Energy</td>\n",
              "      <td>4.0</td>\n",
              "      <td>China</td>\n",
              "      <td>Beijing, China</td>\n",
              "      <td>http://www.sinopec.com</td>\n",
              "      <td>19</td>\n",
              "      <td>713288</td>\n",
              "      <td>106523</td>\n",
              "    </tr>\n",
              "    <tr>\n",
              "      <th>3</th>\n",
              "      <td>China National Petroleum</td>\n",
              "      <td>4</td>\n",
              "      <td>262573</td>\n",
              "      <td>-12.3</td>\n",
              "      <td>1867.5</td>\n",
              "      <td>585619</td>\n",
              "      <td>-73.7</td>\n",
              "      <td>Zhang Jianhua</td>\n",
              "      <td>Petroleum Refining</td>\n",
              "      <td>Energy</td>\n",
              "      <td>3.0</td>\n",
              "      <td>China</td>\n",
              "      <td>Beijing, China</td>\n",
              "      <td>http://www.cnpc.com.cn</td>\n",
              "      <td>17</td>\n",
              "      <td>1512048</td>\n",
              "      <td>301893</td>\n",
              "    </tr>\n",
              "    <tr>\n",
              "      <th>4</th>\n",
              "      <td>Toyota Motor</td>\n",
              "      <td>5</td>\n",
              "      <td>254694</td>\n",
              "      <td>7.7</td>\n",
              "      <td>16899.3</td>\n",
              "      <td>437575</td>\n",
              "      <td>-12.3</td>\n",
              "      <td>Akio Toyoda</td>\n",
              "      <td>Motor Vehicles and Parts</td>\n",
              "      <td>Motor Vehicles &amp; Parts</td>\n",
              "      <td>8.0</td>\n",
              "      <td>Japan</td>\n",
              "      <td>Toyota, Japan</td>\n",
              "      <td>http://www.toyota-global.com</td>\n",
              "      <td>23</td>\n",
              "      <td>364445</td>\n",
              "      <td>157210</td>\n",
              "    </tr>\n",
              "    <tr>\n",
              "      <th>...</th>\n",
              "      <td>...</td>\n",
              "      <td>...</td>\n",
              "      <td>...</td>\n",
              "      <td>...</td>\n",
              "      <td>...</td>\n",
              "      <td>...</td>\n",
              "      <td>...</td>\n",
              "      <td>...</td>\n",
              "      <td>...</td>\n",
              "      <td>...</td>\n",
              "      <td>...</td>\n",
              "      <td>...</td>\n",
              "      <td>...</td>\n",
              "      <td>...</td>\n",
              "      <td>...</td>\n",
              "      <td>...</td>\n",
              "      <td>...</td>\n",
              "    </tr>\n",
              "    <tr>\n",
              "      <th>495</th>\n",
              "      <td>Teva Pharmaceutical Industries</td>\n",
              "      <td>496</td>\n",
              "      <td>21903</td>\n",
              "      <td>11.5</td>\n",
              "      <td>329.0</td>\n",
              "      <td>92890</td>\n",
              "      <td>-79.3</td>\n",
              "      <td>Yitzhak Peterburg</td>\n",
              "      <td>Pharmaceuticals</td>\n",
              "      <td>Health Care</td>\n",
              "      <td>NaN</td>\n",
              "      <td>Israel</td>\n",
              "      <td>Petach Tikva, Israel</td>\n",
              "      <td>http://www.tevapharm.com</td>\n",
              "      <td>1</td>\n",
              "      <td>56960</td>\n",
              "      <td>33337</td>\n",
              "    </tr>\n",
              "    <tr>\n",
              "      <th>496</th>\n",
              "      <td>New China Life Insurance</td>\n",
              "      <td>497</td>\n",
              "      <td>21796</td>\n",
              "      <td>-13.3</td>\n",
              "      <td>743.9</td>\n",
              "      <td>100609</td>\n",
              "      <td>-45.6</td>\n",
              "      <td>Wan Feng</td>\n",
              "      <td>Insurance: Life, Health (stock)</td>\n",
              "      <td>Financials</td>\n",
              "      <td>427.0</td>\n",
              "      <td>China</td>\n",
              "      <td>Beijing, China</td>\n",
              "      <td>http://www.newchinalife.com</td>\n",
              "      <td>2</td>\n",
              "      <td>54378</td>\n",
              "      <td>8507</td>\n",
              "    </tr>\n",
              "    <tr>\n",
              "      <th>497</th>\n",
              "      <td>Wm. Morrison Supermarkets</td>\n",
              "      <td>498</td>\n",
              "      <td>21741</td>\n",
              "      <td>-11.3</td>\n",
              "      <td>406.4</td>\n",
              "      <td>11630</td>\n",
              "      <td>20.4</td>\n",
              "      <td>David T. Potts</td>\n",
              "      <td>Food and Drug Stores</td>\n",
              "      <td>Food &amp; Drug Stores</td>\n",
              "      <td>437.0</td>\n",
              "      <td>Britain</td>\n",
              "      <td>Bradford, Britain</td>\n",
              "      <td>http://www.morrisons.com</td>\n",
              "      <td>13</td>\n",
              "      <td>77210</td>\n",
              "      <td>5111</td>\n",
              "    </tr>\n",
              "    <tr>\n",
              "      <th>498</th>\n",
              "      <td>TUI</td>\n",
              "      <td>499</td>\n",
              "      <td>21655</td>\n",
              "      <td>-5.5</td>\n",
              "      <td>1151.7</td>\n",
              "      <td>16247</td>\n",
              "      <td>195.5</td>\n",
              "      <td>Friedrich Joussen</td>\n",
              "      <td>Travel Services</td>\n",
              "      <td>Business Services</td>\n",
              "      <td>467.0</td>\n",
              "      <td>Germany</td>\n",
              "      <td>Hanover, Germany</td>\n",
              "      <td>http://www.tuigroup.com</td>\n",
              "      <td>23</td>\n",
              "      <td>66779</td>\n",
              "      <td>3006</td>\n",
              "    </tr>\n",
              "    <tr>\n",
              "      <th>499</th>\n",
              "      <td>AutoNation</td>\n",
              "      <td>500</td>\n",
              "      <td>21609</td>\n",
              "      <td>3.6</td>\n",
              "      <td>430.5</td>\n",
              "      <td>10060</td>\n",
              "      <td>-2.7</td>\n",
              "      <td>Michael J. Jackson</td>\n",
              "      <td>Specialty Retailers</td>\n",
              "      <td>Retailing</td>\n",
              "      <td>NaN</td>\n",
              "      <td>USA</td>\n",
              "      <td>Fort Lauderdale, FL</td>\n",
              "      <td>http://www.autonation.com</td>\n",
              "      <td>12</td>\n",
              "      <td>26000</td>\n",
              "      <td>2310</td>\n",
              "    </tr>\n",
              "  </tbody>\n",
              "</table>\n",
              "<p>500 rows × 17 columns</p>\n",
              "</div>"
            ],
            "text/plain": [
              "                            company  rank  ...  employees  total_stockholder_equity\n",
              "0                           Walmart     1  ...    2300000                     77798\n",
              "1                        State Grid     2  ...     926067                    209456\n",
              "2                     Sinopec Group     3  ...     713288                    106523\n",
              "3          China National Petroleum     4  ...    1512048                    301893\n",
              "4                      Toyota Motor     5  ...     364445                    157210\n",
              "..                              ...   ...  ...        ...                       ...\n",
              "495  Teva Pharmaceutical Industries   496  ...      56960                     33337\n",
              "496        New China Life Insurance   497  ...      54378                      8507\n",
              "497       Wm. Morrison Supermarkets   498  ...      77210                      5111\n",
              "498                             TUI   499  ...      66779                      3006\n",
              "499                      AutoNation   500  ...      26000                      2310\n",
              "\n",
              "[500 rows x 17 columns]"
            ]
          },
          "metadata": {
            "tags": []
          },
          "execution_count": 17
        }
      ]
    },
    {
      "cell_type": "markdown",
      "metadata": {
        "id": "iOQxFWLPXYj5"
      },
      "source": [
        "### 3. Using iloc to select by integer position"
      ]
    },
    {
      "cell_type": "code",
      "metadata": {
        "colab": {
          "base_uri": "https://localhost:8080/"
        },
        "id": "qDiMHXqmX8mZ",
        "outputId": "cf962dbc-25e9-42be-b6e2-9f83c4b319d5"
      },
      "source": [
        "print(f500[[\"company\", \"rank\", \"revenues\"]].head())"
      ],
      "execution_count": 18,
      "outputs": [
        {
          "output_type": "stream",
          "text": [
            "                    company  rank  revenues\n",
            "0                   Walmart     1    485873\n",
            "1                State Grid     2    315199\n",
            "2             Sinopec Group     3    267518\n",
            "3  China National Petroleum     4    262573\n",
            "4              Toyota Motor     5    254694\n"
          ],
          "name": "stdout"
        }
      ]
    },
    {
      "cell_type": "code",
      "metadata": {
        "colab": {
          "base_uri": "https://localhost:8080/"
        },
        "id": "WxX3Hn2RYJG5",
        "outputId": "70b1da76-795c-4fb1-9e94-224b7e792941"
      },
      "source": [
        "# select 5th row from dataframe and assign it to fifth_row\r\n",
        "fifth_row = f500.iloc[4]\r\n",
        "fifth_row, type(fifth_row)"
      ],
      "execution_count": 19,
      "outputs": [
        {
          "output_type": "execute_result",
          "data": {
            "text/plain": [
              "(company                                     Toyota Motor\n",
              " rank                                                   5\n",
              " revenues                                          254694\n",
              " revenue_change                                       7.7\n",
              " profits                                          16899.3\n",
              " assets                                            437575\n",
              " profit_change                                      -12.3\n",
              " ceo                                          Akio Toyoda\n",
              " industry                        Motor Vehicles and Parts\n",
              " sector                            Motor Vehicles & Parts\n",
              " previous_rank                                          8\n",
              " country                                            Japan\n",
              " hq_location                                Toyota, Japan\n",
              " website                     http://www.toyota-global.com\n",
              " years_on_global_500_list                              23\n",
              " employees                                         364445\n",
              " total_stockholder_equity                          157210\n",
              " Name: 4, dtype: object, pandas.core.series.Series)"
            ]
          },
          "metadata": {
            "tags": []
          },
          "execution_count": 19
        }
      ]
    },
    {
      "cell_type": "code",
      "metadata": {
        "colab": {
          "base_uri": "https://localhost:8080/",
          "height": 35
        },
        "id": "AkVDgyFcY0U4",
        "outputId": "c4af199c-e0fe-4865-e9e2-5b5ff9ffa5c7"
      },
      "source": [
        "# select the value in te first row of the company column\r\n",
        "company_value = f500.iloc[0,0]\r\n",
        "company_value"
      ],
      "execution_count": 20,
      "outputs": [
        {
          "output_type": "execute_result",
          "data": {
            "application/vnd.google.colaboratory.intrinsic+json": {
              "type": "string"
            },
            "text/plain": [
              "'Walmart'"
            ]
          },
          "metadata": {
            "tags": []
          },
          "execution_count": 20
        }
      ]
    },
    {
      "cell_type": "markdown",
      "metadata": {
        "id": "SvgxeUUdZcYg"
      },
      "source": [
        "### 4. Using iloc"
      ]
    },
    {
      "cell_type": "code",
      "metadata": {
        "colab": {
          "base_uri": "https://localhost:8080/"
        },
        "id": "UlIsrTMhaAJR",
        "outputId": "da97dffc-3779-43f5-b781-2d4d43343976"
      },
      "source": [
        "# select only first column\r\n",
        "first_column = f500.iloc[:,0]\r\n",
        "first_column"
      ],
      "execution_count": 21,
      "outputs": [
        {
          "output_type": "execute_result",
          "data": {
            "text/plain": [
              "0                             Walmart\n",
              "1                          State Grid\n",
              "2                       Sinopec Group\n",
              "3            China National Petroleum\n",
              "4                        Toyota Motor\n",
              "                    ...              \n",
              "495    Teva Pharmaceutical Industries\n",
              "496          New China Life Insurance\n",
              "497         Wm. Morrison Supermarkets\n",
              "498                               TUI\n",
              "499                        AutoNation\n",
              "Name: company, Length: 500, dtype: object"
            ]
          },
          "metadata": {
            "tags": []
          },
          "execution_count": 21
        }
      ]
    },
    {
      "cell_type": "code",
      "metadata": {
        "colab": {
          "base_uri": "https://localhost:8080/",
          "height": 286
        },
        "id": "ELJjdFXcaMma",
        "outputId": "a29f6c28-cfc5-482b-f011-d6225e586903"
      },
      "source": [
        "# select all rows from index 1 to 4 inclusive\r\n",
        "second_to_sixth_rows = f500[1:5]\r\n",
        "second_to_sixth_rows"
      ],
      "execution_count": 22,
      "outputs": [
        {
          "output_type": "execute_result",
          "data": {
            "text/html": [
              "<div>\n",
              "<style scoped>\n",
              "    .dataframe tbody tr th:only-of-type {\n",
              "        vertical-align: middle;\n",
              "    }\n",
              "\n",
              "    .dataframe tbody tr th {\n",
              "        vertical-align: top;\n",
              "    }\n",
              "\n",
              "    .dataframe thead th {\n",
              "        text-align: right;\n",
              "    }\n",
              "</style>\n",
              "<table border=\"1\" class=\"dataframe\">\n",
              "  <thead>\n",
              "    <tr style=\"text-align: right;\">\n",
              "      <th></th>\n",
              "      <th>company</th>\n",
              "      <th>rank</th>\n",
              "      <th>revenues</th>\n",
              "      <th>revenue_change</th>\n",
              "      <th>profits</th>\n",
              "      <th>assets</th>\n",
              "      <th>profit_change</th>\n",
              "      <th>ceo</th>\n",
              "      <th>industry</th>\n",
              "      <th>sector</th>\n",
              "      <th>previous_rank</th>\n",
              "      <th>country</th>\n",
              "      <th>hq_location</th>\n",
              "      <th>website</th>\n",
              "      <th>years_on_global_500_list</th>\n",
              "      <th>employees</th>\n",
              "      <th>total_stockholder_equity</th>\n",
              "    </tr>\n",
              "  </thead>\n",
              "  <tbody>\n",
              "    <tr>\n",
              "      <th>1</th>\n",
              "      <td>State Grid</td>\n",
              "      <td>2</td>\n",
              "      <td>315199</td>\n",
              "      <td>-4.4</td>\n",
              "      <td>9571.3</td>\n",
              "      <td>489838</td>\n",
              "      <td>-6.2</td>\n",
              "      <td>Kou Wei</td>\n",
              "      <td>Utilities</td>\n",
              "      <td>Energy</td>\n",
              "      <td>2.0</td>\n",
              "      <td>China</td>\n",
              "      <td>Beijing, China</td>\n",
              "      <td>http://www.sgcc.com.cn</td>\n",
              "      <td>17</td>\n",
              "      <td>926067</td>\n",
              "      <td>209456</td>\n",
              "    </tr>\n",
              "    <tr>\n",
              "      <th>2</th>\n",
              "      <td>Sinopec Group</td>\n",
              "      <td>3</td>\n",
              "      <td>267518</td>\n",
              "      <td>-9.1</td>\n",
              "      <td>1257.9</td>\n",
              "      <td>310726</td>\n",
              "      <td>-65.0</td>\n",
              "      <td>Wang Yupu</td>\n",
              "      <td>Petroleum Refining</td>\n",
              "      <td>Energy</td>\n",
              "      <td>4.0</td>\n",
              "      <td>China</td>\n",
              "      <td>Beijing, China</td>\n",
              "      <td>http://www.sinopec.com</td>\n",
              "      <td>19</td>\n",
              "      <td>713288</td>\n",
              "      <td>106523</td>\n",
              "    </tr>\n",
              "    <tr>\n",
              "      <th>3</th>\n",
              "      <td>China National Petroleum</td>\n",
              "      <td>4</td>\n",
              "      <td>262573</td>\n",
              "      <td>-12.3</td>\n",
              "      <td>1867.5</td>\n",
              "      <td>585619</td>\n",
              "      <td>-73.7</td>\n",
              "      <td>Zhang Jianhua</td>\n",
              "      <td>Petroleum Refining</td>\n",
              "      <td>Energy</td>\n",
              "      <td>3.0</td>\n",
              "      <td>China</td>\n",
              "      <td>Beijing, China</td>\n",
              "      <td>http://www.cnpc.com.cn</td>\n",
              "      <td>17</td>\n",
              "      <td>1512048</td>\n",
              "      <td>301893</td>\n",
              "    </tr>\n",
              "    <tr>\n",
              "      <th>4</th>\n",
              "      <td>Toyota Motor</td>\n",
              "      <td>5</td>\n",
              "      <td>254694</td>\n",
              "      <td>7.7</td>\n",
              "      <td>16899.3</td>\n",
              "      <td>437575</td>\n",
              "      <td>-12.3</td>\n",
              "      <td>Akio Toyoda</td>\n",
              "      <td>Motor Vehicles and Parts</td>\n",
              "      <td>Motor Vehicles &amp; Parts</td>\n",
              "      <td>8.0</td>\n",
              "      <td>Japan</td>\n",
              "      <td>Toyota, Japan</td>\n",
              "      <td>http://www.toyota-global.com</td>\n",
              "      <td>23</td>\n",
              "      <td>364445</td>\n",
              "      <td>157210</td>\n",
              "    </tr>\n",
              "  </tbody>\n",
              "</table>\n",
              "</div>"
            ],
            "text/plain": [
              "                    company  rank  ...  employees  total_stockholder_equity\n",
              "1                State Grid     2  ...     926067                    209456\n",
              "2             Sinopec Group     3  ...     713288                    106523\n",
              "3  China National Petroleum     4  ...    1512048                    301893\n",
              "4              Toyota Motor     5  ...     364445                    157210\n",
              "\n",
              "[4 rows x 17 columns]"
            ]
          },
          "metadata": {
            "tags": []
          },
          "execution_count": 22
        }
      ]
    },
    {
      "cell_type": "code",
      "metadata": {
        "id": "Ibk6uKpMabfZ",
        "colab": {
          "base_uri": "https://localhost:8080/",
          "height": 223
        },
        "outputId": "092a5b0b-fdbb-4354-a365-c73552b2951a"
      },
      "source": [
        "first_three_rows = f500.iloc[:3,:]\r\n",
        "first_three_rows"
      ],
      "execution_count": 23,
      "outputs": [
        {
          "output_type": "execute_result",
          "data": {
            "text/html": [
              "<div>\n",
              "<style scoped>\n",
              "    .dataframe tbody tr th:only-of-type {\n",
              "        vertical-align: middle;\n",
              "    }\n",
              "\n",
              "    .dataframe tbody tr th {\n",
              "        vertical-align: top;\n",
              "    }\n",
              "\n",
              "    .dataframe thead th {\n",
              "        text-align: right;\n",
              "    }\n",
              "</style>\n",
              "<table border=\"1\" class=\"dataframe\">\n",
              "  <thead>\n",
              "    <tr style=\"text-align: right;\">\n",
              "      <th></th>\n",
              "      <th>company</th>\n",
              "      <th>rank</th>\n",
              "      <th>revenues</th>\n",
              "      <th>revenue_change</th>\n",
              "      <th>profits</th>\n",
              "      <th>assets</th>\n",
              "      <th>profit_change</th>\n",
              "      <th>ceo</th>\n",
              "      <th>industry</th>\n",
              "      <th>sector</th>\n",
              "      <th>previous_rank</th>\n",
              "      <th>country</th>\n",
              "      <th>hq_location</th>\n",
              "      <th>website</th>\n",
              "      <th>years_on_global_500_list</th>\n",
              "      <th>employees</th>\n",
              "      <th>total_stockholder_equity</th>\n",
              "    </tr>\n",
              "  </thead>\n",
              "  <tbody>\n",
              "    <tr>\n",
              "      <th>0</th>\n",
              "      <td>Walmart</td>\n",
              "      <td>1</td>\n",
              "      <td>485873</td>\n",
              "      <td>0.8</td>\n",
              "      <td>13643.0</td>\n",
              "      <td>198825</td>\n",
              "      <td>-7.2</td>\n",
              "      <td>C. Douglas McMillon</td>\n",
              "      <td>General Merchandisers</td>\n",
              "      <td>Retailing</td>\n",
              "      <td>1.0</td>\n",
              "      <td>USA</td>\n",
              "      <td>Bentonville, AR</td>\n",
              "      <td>http://www.walmart.com</td>\n",
              "      <td>23</td>\n",
              "      <td>2300000</td>\n",
              "      <td>77798</td>\n",
              "    </tr>\n",
              "    <tr>\n",
              "      <th>1</th>\n",
              "      <td>State Grid</td>\n",
              "      <td>2</td>\n",
              "      <td>315199</td>\n",
              "      <td>-4.4</td>\n",
              "      <td>9571.3</td>\n",
              "      <td>489838</td>\n",
              "      <td>-6.2</td>\n",
              "      <td>Kou Wei</td>\n",
              "      <td>Utilities</td>\n",
              "      <td>Energy</td>\n",
              "      <td>2.0</td>\n",
              "      <td>China</td>\n",
              "      <td>Beijing, China</td>\n",
              "      <td>http://www.sgcc.com.cn</td>\n",
              "      <td>17</td>\n",
              "      <td>926067</td>\n",
              "      <td>209456</td>\n",
              "    </tr>\n",
              "    <tr>\n",
              "      <th>2</th>\n",
              "      <td>Sinopec Group</td>\n",
              "      <td>3</td>\n",
              "      <td>267518</td>\n",
              "      <td>-9.1</td>\n",
              "      <td>1257.9</td>\n",
              "      <td>310726</td>\n",
              "      <td>-65.0</td>\n",
              "      <td>Wang Yupu</td>\n",
              "      <td>Petroleum Refining</td>\n",
              "      <td>Energy</td>\n",
              "      <td>4.0</td>\n",
              "      <td>China</td>\n",
              "      <td>Beijing, China</td>\n",
              "      <td>http://www.sinopec.com</td>\n",
              "      <td>19</td>\n",
              "      <td>713288</td>\n",
              "      <td>106523</td>\n",
              "    </tr>\n",
              "  </tbody>\n",
              "</table>\n",
              "</div>"
            ],
            "text/plain": [
              "         company  rank  ...  employees  total_stockholder_equity\n",
              "0        Walmart     1  ...    2300000                     77798\n",
              "1     State Grid     2  ...     926067                    209456\n",
              "2  Sinopec Group     3  ...     713288                    106523\n",
              "\n",
              "[3 rows x 17 columns]"
            ]
          },
          "metadata": {
            "tags": []
          },
          "execution_count": 23
        }
      ]
    },
    {
      "cell_type": "code",
      "metadata": {
        "colab": {
          "base_uri": "https://localhost:8080/",
          "height": 106
        },
        "id": "kFm6yUI7OQ1f",
        "outputId": "5f9ce53c-7d89-4449-a260-58854974fbbe"
      },
      "source": [
        "first_seventh_row_slice = f500.iloc[[0,6],0:5]\r\n",
        "first_seventh_row_slice"
      ],
      "execution_count": 24,
      "outputs": [
        {
          "output_type": "execute_result",
          "data": {
            "text/html": [
              "<div>\n",
              "<style scoped>\n",
              "    .dataframe tbody tr th:only-of-type {\n",
              "        vertical-align: middle;\n",
              "    }\n",
              "\n",
              "    .dataframe tbody tr th {\n",
              "        vertical-align: top;\n",
              "    }\n",
              "\n",
              "    .dataframe thead th {\n",
              "        text-align: right;\n",
              "    }\n",
              "</style>\n",
              "<table border=\"1\" class=\"dataframe\">\n",
              "  <thead>\n",
              "    <tr style=\"text-align: right;\">\n",
              "      <th></th>\n",
              "      <th>company</th>\n",
              "      <th>rank</th>\n",
              "      <th>revenues</th>\n",
              "      <th>revenue_change</th>\n",
              "      <th>profits</th>\n",
              "    </tr>\n",
              "  </thead>\n",
              "  <tbody>\n",
              "    <tr>\n",
              "      <th>0</th>\n",
              "      <td>Walmart</td>\n",
              "      <td>1</td>\n",
              "      <td>485873</td>\n",
              "      <td>0.8</td>\n",
              "      <td>13643.0</td>\n",
              "    </tr>\n",
              "    <tr>\n",
              "      <th>6</th>\n",
              "      <td>Royal Dutch Shell</td>\n",
              "      <td>7</td>\n",
              "      <td>240033</td>\n",
              "      <td>-11.8</td>\n",
              "      <td>4575.0</td>\n",
              "    </tr>\n",
              "  </tbody>\n",
              "</table>\n",
              "</div>"
            ],
            "text/plain": [
              "             company  rank  revenues  revenue_change  profits\n",
              "0            Walmart     1    485873             0.8  13643.0\n",
              "6  Royal Dutch Shell     7    240033           -11.8   4575.0"
            ]
          },
          "metadata": {
            "tags": []
          },
          "execution_count": 24
        }
      ]
    },
    {
      "cell_type": "markdown",
      "metadata": {
        "id": "iAjKLnqCOnV1"
      },
      "source": [
        "### 5. Using pandas methods to create boolean masks"
      ]
    },
    {
      "cell_type": "code",
      "metadata": {
        "colab": {
          "base_uri": "https://localhost:8080/"
        },
        "id": "IBIshpNCPFHQ",
        "outputId": "8437e040-26c2-4904-d3dc-dcb07f5a0a7b"
      },
      "source": [
        "# Series is null\r\n",
        "rev_is_null = f500[\"revenue_change\"].isnull()\r\n",
        "rev_is_null.head()"
      ],
      "execution_count": 25,
      "outputs": [
        {
          "output_type": "execute_result",
          "data": {
            "text/plain": [
              "0    False\n",
              "1    False\n",
              "2    False\n",
              "3    False\n",
              "4    False\n",
              "Name: revenue_change, dtype: bool"
            ]
          },
          "metadata": {
            "tags": []
          },
          "execution_count": 25
        }
      ]
    },
    {
      "cell_type": "code",
      "metadata": {
        "colab": {
          "base_uri": "https://localhost:8080/",
          "height": 106
        },
        "id": "VFW623-XPduG",
        "outputId": "96b84baf-8acc-4266-9431-55a55604bd20"
      },
      "source": [
        "rev_change_null = f500[rev_is_null]\r\n",
        "rev_change_null[[\"company\", \"country\", \"sector\"]]"
      ],
      "execution_count": 26,
      "outputs": [
        {
          "output_type": "execute_result",
          "data": {
            "text/html": [
              "<div>\n",
              "<style scoped>\n",
              "    .dataframe tbody tr th:only-of-type {\n",
              "        vertical-align: middle;\n",
              "    }\n",
              "\n",
              "    .dataframe tbody tr th {\n",
              "        vertical-align: top;\n",
              "    }\n",
              "\n",
              "    .dataframe thead th {\n",
              "        text-align: right;\n",
              "    }\n",
              "</style>\n",
              "<table border=\"1\" class=\"dataframe\">\n",
              "  <thead>\n",
              "    <tr style=\"text-align: right;\">\n",
              "      <th></th>\n",
              "      <th>company</th>\n",
              "      <th>country</th>\n",
              "      <th>sector</th>\n",
              "    </tr>\n",
              "  </thead>\n",
              "  <tbody>\n",
              "    <tr>\n",
              "      <th>90</th>\n",
              "      <td>Uniper</td>\n",
              "      <td>Germany</td>\n",
              "      <td>Energy</td>\n",
              "    </tr>\n",
              "    <tr>\n",
              "      <th>180</th>\n",
              "      <td>Hewlett Packard Enterprise</td>\n",
              "      <td>USA</td>\n",
              "      <td>Technology</td>\n",
              "    </tr>\n",
              "  </tbody>\n",
              "</table>\n",
              "</div>"
            ],
            "text/plain": [
              "                        company  country      sector\n",
              "90                       Uniper  Germany      Energy\n",
              "180  Hewlett Packard Enterprise      USA  Technology"
            ]
          },
          "metadata": {
            "tags": []
          },
          "execution_count": 26
        }
      ]
    },
    {
      "cell_type": "code",
      "metadata": {
        "colab": {
          "base_uri": "https://localhost:8080/",
          "height": 1000
        },
        "id": "JSjrjOJTPu0c",
        "outputId": "41de8fb1-d551-45c1-b668-f75015e42abd"
      },
      "source": [
        "# Find Previous_rank_null_companies\r\n",
        "previous_rank_null = f500[f500[\"previous_rank\"].isnull()]\r\n",
        "null_previous_rank = previous_rank_null[[\"company\", \"rank\", \"previous_rank\"]]\r\n",
        "null_previous_rank"
      ],
      "execution_count": 27,
      "outputs": [
        {
          "output_type": "execute_result",
          "data": {
            "text/html": [
              "<div>\n",
              "<style scoped>\n",
              "    .dataframe tbody tr th:only-of-type {\n",
              "        vertical-align: middle;\n",
              "    }\n",
              "\n",
              "    .dataframe tbody tr th {\n",
              "        vertical-align: top;\n",
              "    }\n",
              "\n",
              "    .dataframe thead th {\n",
              "        text-align: right;\n",
              "    }\n",
              "</style>\n",
              "<table border=\"1\" class=\"dataframe\">\n",
              "  <thead>\n",
              "    <tr style=\"text-align: right;\">\n",
              "      <th></th>\n",
              "      <th>company</th>\n",
              "      <th>rank</th>\n",
              "      <th>previous_rank</th>\n",
              "    </tr>\n",
              "  </thead>\n",
              "  <tbody>\n",
              "    <tr>\n",
              "      <th>48</th>\n",
              "      <td>Legal &amp; General Group</td>\n",
              "      <td>49</td>\n",
              "      <td>NaN</td>\n",
              "    </tr>\n",
              "    <tr>\n",
              "      <th>90</th>\n",
              "      <td>Uniper</td>\n",
              "      <td>91</td>\n",
              "      <td>NaN</td>\n",
              "    </tr>\n",
              "    <tr>\n",
              "      <th>123</th>\n",
              "      <td>Dell Technologies</td>\n",
              "      <td>124</td>\n",
              "      <td>NaN</td>\n",
              "    </tr>\n",
              "    <tr>\n",
              "      <th>138</th>\n",
              "      <td>Anbang Insurance Group</td>\n",
              "      <td>139</td>\n",
              "      <td>NaN</td>\n",
              "    </tr>\n",
              "    <tr>\n",
              "      <th>140</th>\n",
              "      <td>Albertsons Cos.</td>\n",
              "      <td>141</td>\n",
              "      <td>NaN</td>\n",
              "    </tr>\n",
              "    <tr>\n",
              "      <th>180</th>\n",
              "      <td>Hewlett Packard Enterprise</td>\n",
              "      <td>181</td>\n",
              "      <td>NaN</td>\n",
              "    </tr>\n",
              "    <tr>\n",
              "      <th>267</th>\n",
              "      <td>Hengli Group</td>\n",
              "      <td>268</td>\n",
              "      <td>NaN</td>\n",
              "    </tr>\n",
              "    <tr>\n",
              "      <th>271</th>\n",
              "      <td>Johnson Controls International</td>\n",
              "      <td>272</td>\n",
              "      <td>NaN</td>\n",
              "    </tr>\n",
              "    <tr>\n",
              "      <th>341</th>\n",
              "      <td>Chubb</td>\n",
              "      <td>342</td>\n",
              "      <td>NaN</td>\n",
              "    </tr>\n",
              "    <tr>\n",
              "      <th>375</th>\n",
              "      <td>Charter Communications</td>\n",
              "      <td>376</td>\n",
              "      <td>NaN</td>\n",
              "    </tr>\n",
              "    <tr>\n",
              "      <th>376</th>\n",
              "      <td>Medtronic</td>\n",
              "      <td>377</td>\n",
              "      <td>NaN</td>\n",
              "    </tr>\n",
              "    <tr>\n",
              "      <th>392</th>\n",
              "      <td>Facebook</td>\n",
              "      <td>393</td>\n",
              "      <td>NaN</td>\n",
              "    </tr>\n",
              "    <tr>\n",
              "      <th>409</th>\n",
              "      <td>Kraft Heinz</td>\n",
              "      <td>410</td>\n",
              "      <td>NaN</td>\n",
              "    </tr>\n",
              "    <tr>\n",
              "      <th>414</th>\n",
              "      <td>Nokia</td>\n",
              "      <td>415</td>\n",
              "      <td>NaN</td>\n",
              "    </tr>\n",
              "    <tr>\n",
              "      <th>431</th>\n",
              "      <td>Standard Life</td>\n",
              "      <td>432</td>\n",
              "      <td>NaN</td>\n",
              "    </tr>\n",
              "    <tr>\n",
              "      <th>440</th>\n",
              "      <td>Brookfield Asset Management</td>\n",
              "      <td>441</td>\n",
              "      <td>NaN</td>\n",
              "    </tr>\n",
              "    <tr>\n",
              "      <th>441</th>\n",
              "      <td>Mercantil Servicios Financieros</td>\n",
              "      <td>442</td>\n",
              "      <td>NaN</td>\n",
              "    </tr>\n",
              "    <tr>\n",
              "      <th>446</th>\n",
              "      <td>Samsung C&amp;T</td>\n",
              "      <td>447</td>\n",
              "      <td>NaN</td>\n",
              "    </tr>\n",
              "    <tr>\n",
              "      <th>456</th>\n",
              "      <td>Heraeus Holding</td>\n",
              "      <td>457</td>\n",
              "      <td>NaN</td>\n",
              "    </tr>\n",
              "    <tr>\n",
              "      <th>458</th>\n",
              "      <td>Yango Financial Holding</td>\n",
              "      <td>459</td>\n",
              "      <td>NaN</td>\n",
              "    </tr>\n",
              "    <tr>\n",
              "      <th>461</th>\n",
              "      <td>Alibaba Group Holding</td>\n",
              "      <td>462</td>\n",
              "      <td>NaN</td>\n",
              "    </tr>\n",
              "    <tr>\n",
              "      <th>463</th>\n",
              "      <td>Progressive</td>\n",
              "      <td>464</td>\n",
              "      <td>NaN</td>\n",
              "    </tr>\n",
              "    <tr>\n",
              "      <th>466</th>\n",
              "      <td>Country Garden Holdings</td>\n",
              "      <td>467</td>\n",
              "      <td>NaN</td>\n",
              "    </tr>\n",
              "    <tr>\n",
              "      <th>472</th>\n",
              "      <td>Altice</td>\n",
              "      <td>473</td>\n",
              "      <td>NaN</td>\n",
              "    </tr>\n",
              "    <tr>\n",
              "      <th>477</th>\n",
              "      <td>Tencent Holdings</td>\n",
              "      <td>478</td>\n",
              "      <td>NaN</td>\n",
              "    </tr>\n",
              "    <tr>\n",
              "      <th>482</th>\n",
              "      <td>Aflac</td>\n",
              "      <td>483</td>\n",
              "      <td>NaN</td>\n",
              "    </tr>\n",
              "    <tr>\n",
              "      <th>484</th>\n",
              "      <td>Suning Commerce Group</td>\n",
              "      <td>485</td>\n",
              "      <td>NaN</td>\n",
              "    </tr>\n",
              "    <tr>\n",
              "      <th>487</th>\n",
              "      <td>Xiamen C&amp;D</td>\n",
              "      <td>488</td>\n",
              "      <td>NaN</td>\n",
              "    </tr>\n",
              "    <tr>\n",
              "      <th>491</th>\n",
              "      <td>Dollar General</td>\n",
              "      <td>492</td>\n",
              "      <td>NaN</td>\n",
              "    </tr>\n",
              "    <tr>\n",
              "      <th>493</th>\n",
              "      <td>Xiamen ITG Holding Group</td>\n",
              "      <td>494</td>\n",
              "      <td>NaN</td>\n",
              "    </tr>\n",
              "    <tr>\n",
              "      <th>494</th>\n",
              "      <td>Xinjiang Guanghui Industry Investment</td>\n",
              "      <td>495</td>\n",
              "      <td>NaN</td>\n",
              "    </tr>\n",
              "    <tr>\n",
              "      <th>495</th>\n",
              "      <td>Teva Pharmaceutical Industries</td>\n",
              "      <td>496</td>\n",
              "      <td>NaN</td>\n",
              "    </tr>\n",
              "    <tr>\n",
              "      <th>499</th>\n",
              "      <td>AutoNation</td>\n",
              "      <td>500</td>\n",
              "      <td>NaN</td>\n",
              "    </tr>\n",
              "  </tbody>\n",
              "</table>\n",
              "</div>"
            ],
            "text/plain": [
              "                                   company  rank  previous_rank\n",
              "48                   Legal & General Group    49            NaN\n",
              "90                                  Uniper    91            NaN\n",
              "123                      Dell Technologies   124            NaN\n",
              "138                 Anbang Insurance Group   139            NaN\n",
              "140                        Albertsons Cos.   141            NaN\n",
              "180             Hewlett Packard Enterprise   181            NaN\n",
              "267                           Hengli Group   268            NaN\n",
              "271         Johnson Controls International   272            NaN\n",
              "341                                  Chubb   342            NaN\n",
              "375                 Charter Communications   376            NaN\n",
              "376                              Medtronic   377            NaN\n",
              "392                               Facebook   393            NaN\n",
              "409                            Kraft Heinz   410            NaN\n",
              "414                                  Nokia   415            NaN\n",
              "431                          Standard Life   432            NaN\n",
              "440            Brookfield Asset Management   441            NaN\n",
              "441        Mercantil Servicios Financieros   442            NaN\n",
              "446                            Samsung C&T   447            NaN\n",
              "456                        Heraeus Holding   457            NaN\n",
              "458                Yango Financial Holding   459            NaN\n",
              "461                  Alibaba Group Holding   462            NaN\n",
              "463                            Progressive   464            NaN\n",
              "466                Country Garden Holdings   467            NaN\n",
              "472                                 Altice   473            NaN\n",
              "477                       Tencent Holdings   478            NaN\n",
              "482                                  Aflac   483            NaN\n",
              "484                  Suning Commerce Group   485            NaN\n",
              "487                             Xiamen C&D   488            NaN\n",
              "491                         Dollar General   492            NaN\n",
              "493               Xiamen ITG Holding Group   494            NaN\n",
              "494  Xinjiang Guanghui Industry Investment   495            NaN\n",
              "495         Teva Pharmaceutical Industries   496            NaN\n",
              "499                             AutoNation   500            NaN"
            ]
          },
          "metadata": {
            "tags": []
          },
          "execution_count": 27
        }
      ]
    },
    {
      "cell_type": "markdown",
      "metadata": {
        "id": "c5Lr7kjeRyPh"
      },
      "source": [
        "### 6. Working with Integer Labels"
      ]
    },
    {
      "cell_type": "code",
      "metadata": {
        "colab": {
          "base_uri": "https://localhost:8080/"
        },
        "id": "gACoH3bTtz0V",
        "outputId": "387f6e3a-521a-464d-ec7a-102818ae5521"
      },
      "source": [
        "# select the first null previous rank\r\n",
        "first_null_previous_rank = null_previous_rank.iloc[0]\r\n",
        "first_null_previous_rank"
      ],
      "execution_count": 28,
      "outputs": [
        {
          "output_type": "execute_result",
          "data": {
            "text/plain": [
              "company          Legal & General Group\n",
              "rank                                49\n",
              "previous_rank                      NaN\n",
              "Name: 48, dtype: object"
            ]
          },
          "metadata": {
            "tags": []
          },
          "execution_count": 28
        }
      ]
    },
    {
      "cell_type": "code",
      "metadata": {
        "colab": {
          "base_uri": "https://localhost:8080/"
        },
        "id": "5QT8IRkhuZM2",
        "outputId": "0520013c-770d-4158-d100-b3a6f64e1d1d"
      },
      "source": [
        "# Errors out when loc using index\r\n",
        "# first_null_previous_rank = null_previous_rank.loc[0]\r\n",
        "first_null_previous_rank = null_previous_rank.loc[48]\r\n",
        "first_null_previous_rank"
      ],
      "execution_count": 29,
      "outputs": [
        {
          "output_type": "execute_result",
          "data": {
            "text/plain": [
              "company          Legal & General Group\n",
              "rank                                49\n",
              "previous_rank                      NaN\n",
              "Name: 48, dtype: object"
            ]
          },
          "metadata": {
            "tags": []
          },
          "execution_count": 29
        }
      ]
    },
    {
      "cell_type": "code",
      "metadata": {
        "colab": {
          "base_uri": "https://localhost:8080/",
          "height": 195
        },
        "id": "lkIeIKYTuj12",
        "outputId": "c6b8822b-8ba7-4165-9a33-2a81614f7eb8"
      },
      "source": [
        "# Get top 5 null previous rank\r\n",
        "top5_null_prev_rank = null_previous_rank.iloc[0:5,:]\r\n",
        "top5_null_prev_rank"
      ],
      "execution_count": 30,
      "outputs": [
        {
          "output_type": "execute_result",
          "data": {
            "text/html": [
              "<div>\n",
              "<style scoped>\n",
              "    .dataframe tbody tr th:only-of-type {\n",
              "        vertical-align: middle;\n",
              "    }\n",
              "\n",
              "    .dataframe tbody tr th {\n",
              "        vertical-align: top;\n",
              "    }\n",
              "\n",
              "    .dataframe thead th {\n",
              "        text-align: right;\n",
              "    }\n",
              "</style>\n",
              "<table border=\"1\" class=\"dataframe\">\n",
              "  <thead>\n",
              "    <tr style=\"text-align: right;\">\n",
              "      <th></th>\n",
              "      <th>company</th>\n",
              "      <th>rank</th>\n",
              "      <th>previous_rank</th>\n",
              "    </tr>\n",
              "  </thead>\n",
              "  <tbody>\n",
              "    <tr>\n",
              "      <th>48</th>\n",
              "      <td>Legal &amp; General Group</td>\n",
              "      <td>49</td>\n",
              "      <td>NaN</td>\n",
              "    </tr>\n",
              "    <tr>\n",
              "      <th>90</th>\n",
              "      <td>Uniper</td>\n",
              "      <td>91</td>\n",
              "      <td>NaN</td>\n",
              "    </tr>\n",
              "    <tr>\n",
              "      <th>123</th>\n",
              "      <td>Dell Technologies</td>\n",
              "      <td>124</td>\n",
              "      <td>NaN</td>\n",
              "    </tr>\n",
              "    <tr>\n",
              "      <th>138</th>\n",
              "      <td>Anbang Insurance Group</td>\n",
              "      <td>139</td>\n",
              "      <td>NaN</td>\n",
              "    </tr>\n",
              "    <tr>\n",
              "      <th>140</th>\n",
              "      <td>Albertsons Cos.</td>\n",
              "      <td>141</td>\n",
              "      <td>NaN</td>\n",
              "    </tr>\n",
              "  </tbody>\n",
              "</table>\n",
              "</div>"
            ],
            "text/plain": [
              "                    company  rank  previous_rank\n",
              "48    Legal & General Group    49            NaN\n",
              "90                   Uniper    91            NaN\n",
              "123       Dell Technologies   124            NaN\n",
              "138  Anbang Insurance Group   139            NaN\n",
              "140         Albertsons Cos.   141            NaN"
            ]
          },
          "metadata": {
            "tags": []
          },
          "execution_count": 30
        }
      ]
    },
    {
      "cell_type": "code",
      "metadata": {
        "colab": {
          "base_uri": "https://localhost:8080/",
          "height": 195
        },
        "id": "43th5s0A4uXf",
        "outputId": "b3da592e-796e-48c9-fd88-72334d92337b"
      },
      "source": [
        "# Get top 5 null previous rank\r\n",
        "top5_null_prev_rank = null_previous_rank.loc[48:140,:]\r\n",
        "top5_null_prev_rank"
      ],
      "execution_count": 31,
      "outputs": [
        {
          "output_type": "execute_result",
          "data": {
            "text/html": [
              "<div>\n",
              "<style scoped>\n",
              "    .dataframe tbody tr th:only-of-type {\n",
              "        vertical-align: middle;\n",
              "    }\n",
              "\n",
              "    .dataframe tbody tr th {\n",
              "        vertical-align: top;\n",
              "    }\n",
              "\n",
              "    .dataframe thead th {\n",
              "        text-align: right;\n",
              "    }\n",
              "</style>\n",
              "<table border=\"1\" class=\"dataframe\">\n",
              "  <thead>\n",
              "    <tr style=\"text-align: right;\">\n",
              "      <th></th>\n",
              "      <th>company</th>\n",
              "      <th>rank</th>\n",
              "      <th>previous_rank</th>\n",
              "    </tr>\n",
              "  </thead>\n",
              "  <tbody>\n",
              "    <tr>\n",
              "      <th>48</th>\n",
              "      <td>Legal &amp; General Group</td>\n",
              "      <td>49</td>\n",
              "      <td>NaN</td>\n",
              "    </tr>\n",
              "    <tr>\n",
              "      <th>90</th>\n",
              "      <td>Uniper</td>\n",
              "      <td>91</td>\n",
              "      <td>NaN</td>\n",
              "    </tr>\n",
              "    <tr>\n",
              "      <th>123</th>\n",
              "      <td>Dell Technologies</td>\n",
              "      <td>124</td>\n",
              "      <td>NaN</td>\n",
              "    </tr>\n",
              "    <tr>\n",
              "      <th>138</th>\n",
              "      <td>Anbang Insurance Group</td>\n",
              "      <td>139</td>\n",
              "      <td>NaN</td>\n",
              "    </tr>\n",
              "    <tr>\n",
              "      <th>140</th>\n",
              "      <td>Albertsons Cos.</td>\n",
              "      <td>141</td>\n",
              "      <td>NaN</td>\n",
              "    </tr>\n",
              "  </tbody>\n",
              "</table>\n",
              "</div>"
            ],
            "text/plain": [
              "                    company  rank  previous_rank\n",
              "48    Legal & General Group    49            NaN\n",
              "90                   Uniper    91            NaN\n",
              "123       Dell Technologies   124            NaN\n",
              "138  Anbang Insurance Group   139            NaN\n",
              "140         Albertsons Cos.   141            NaN"
            ]
          },
          "metadata": {
            "tags": []
          },
          "execution_count": 31
        }
      ]
    },
    {
      "cell_type": "code",
      "metadata": {
        "colab": {
          "base_uri": "https://localhost:8080/",
          "height": 640
        },
        "id": "xSzgxNy740bw",
        "outputId": "de0193ca-8af4-4288-9974-4fe3e99d887e"
      },
      "source": [
        "### 7. Pandas Index Alignment\r\n",
        "# Let's use the Series.notnull()\r\n",
        "previously_ranked = f500[f500[\"previous_rank\"].notnull()]\r\n",
        "previously_ranked"
      ],
      "execution_count": 32,
      "outputs": [
        {
          "output_type": "execute_result",
          "data": {
            "text/html": [
              "<div>\n",
              "<style scoped>\n",
              "    .dataframe tbody tr th:only-of-type {\n",
              "        vertical-align: middle;\n",
              "    }\n",
              "\n",
              "    .dataframe tbody tr th {\n",
              "        vertical-align: top;\n",
              "    }\n",
              "\n",
              "    .dataframe thead th {\n",
              "        text-align: right;\n",
              "    }\n",
              "</style>\n",
              "<table border=\"1\" class=\"dataframe\">\n",
              "  <thead>\n",
              "    <tr style=\"text-align: right;\">\n",
              "      <th></th>\n",
              "      <th>company</th>\n",
              "      <th>rank</th>\n",
              "      <th>revenues</th>\n",
              "      <th>revenue_change</th>\n",
              "      <th>profits</th>\n",
              "      <th>assets</th>\n",
              "      <th>profit_change</th>\n",
              "      <th>ceo</th>\n",
              "      <th>industry</th>\n",
              "      <th>sector</th>\n",
              "      <th>previous_rank</th>\n",
              "      <th>country</th>\n",
              "      <th>hq_location</th>\n",
              "      <th>website</th>\n",
              "      <th>years_on_global_500_list</th>\n",
              "      <th>employees</th>\n",
              "      <th>total_stockholder_equity</th>\n",
              "    </tr>\n",
              "  </thead>\n",
              "  <tbody>\n",
              "    <tr>\n",
              "      <th>0</th>\n",
              "      <td>Walmart</td>\n",
              "      <td>1</td>\n",
              "      <td>485873</td>\n",
              "      <td>0.8</td>\n",
              "      <td>13643.0</td>\n",
              "      <td>198825</td>\n",
              "      <td>-7.2</td>\n",
              "      <td>C. Douglas McMillon</td>\n",
              "      <td>General Merchandisers</td>\n",
              "      <td>Retailing</td>\n",
              "      <td>1.0</td>\n",
              "      <td>USA</td>\n",
              "      <td>Bentonville, AR</td>\n",
              "      <td>http://www.walmart.com</td>\n",
              "      <td>23</td>\n",
              "      <td>2300000</td>\n",
              "      <td>77798</td>\n",
              "    </tr>\n",
              "    <tr>\n",
              "      <th>1</th>\n",
              "      <td>State Grid</td>\n",
              "      <td>2</td>\n",
              "      <td>315199</td>\n",
              "      <td>-4.4</td>\n",
              "      <td>9571.3</td>\n",
              "      <td>489838</td>\n",
              "      <td>-6.2</td>\n",
              "      <td>Kou Wei</td>\n",
              "      <td>Utilities</td>\n",
              "      <td>Energy</td>\n",
              "      <td>2.0</td>\n",
              "      <td>China</td>\n",
              "      <td>Beijing, China</td>\n",
              "      <td>http://www.sgcc.com.cn</td>\n",
              "      <td>17</td>\n",
              "      <td>926067</td>\n",
              "      <td>209456</td>\n",
              "    </tr>\n",
              "    <tr>\n",
              "      <th>2</th>\n",
              "      <td>Sinopec Group</td>\n",
              "      <td>3</td>\n",
              "      <td>267518</td>\n",
              "      <td>-9.1</td>\n",
              "      <td>1257.9</td>\n",
              "      <td>310726</td>\n",
              "      <td>-65.0</td>\n",
              "      <td>Wang Yupu</td>\n",
              "      <td>Petroleum Refining</td>\n",
              "      <td>Energy</td>\n",
              "      <td>4.0</td>\n",
              "      <td>China</td>\n",
              "      <td>Beijing, China</td>\n",
              "      <td>http://www.sinopec.com</td>\n",
              "      <td>19</td>\n",
              "      <td>713288</td>\n",
              "      <td>106523</td>\n",
              "    </tr>\n",
              "    <tr>\n",
              "      <th>3</th>\n",
              "      <td>China National Petroleum</td>\n",
              "      <td>4</td>\n",
              "      <td>262573</td>\n",
              "      <td>-12.3</td>\n",
              "      <td>1867.5</td>\n",
              "      <td>585619</td>\n",
              "      <td>-73.7</td>\n",
              "      <td>Zhang Jianhua</td>\n",
              "      <td>Petroleum Refining</td>\n",
              "      <td>Energy</td>\n",
              "      <td>3.0</td>\n",
              "      <td>China</td>\n",
              "      <td>Beijing, China</td>\n",
              "      <td>http://www.cnpc.com.cn</td>\n",
              "      <td>17</td>\n",
              "      <td>1512048</td>\n",
              "      <td>301893</td>\n",
              "    </tr>\n",
              "    <tr>\n",
              "      <th>4</th>\n",
              "      <td>Toyota Motor</td>\n",
              "      <td>5</td>\n",
              "      <td>254694</td>\n",
              "      <td>7.7</td>\n",
              "      <td>16899.3</td>\n",
              "      <td>437575</td>\n",
              "      <td>-12.3</td>\n",
              "      <td>Akio Toyoda</td>\n",
              "      <td>Motor Vehicles and Parts</td>\n",
              "      <td>Motor Vehicles &amp; Parts</td>\n",
              "      <td>8.0</td>\n",
              "      <td>Japan</td>\n",
              "      <td>Toyota, Japan</td>\n",
              "      <td>http://www.toyota-global.com</td>\n",
              "      <td>23</td>\n",
              "      <td>364445</td>\n",
              "      <td>157210</td>\n",
              "    </tr>\n",
              "    <tr>\n",
              "      <th>...</th>\n",
              "      <td>...</td>\n",
              "      <td>...</td>\n",
              "      <td>...</td>\n",
              "      <td>...</td>\n",
              "      <td>...</td>\n",
              "      <td>...</td>\n",
              "      <td>...</td>\n",
              "      <td>...</td>\n",
              "      <td>...</td>\n",
              "      <td>...</td>\n",
              "      <td>...</td>\n",
              "      <td>...</td>\n",
              "      <td>...</td>\n",
              "      <td>...</td>\n",
              "      <td>...</td>\n",
              "      <td>...</td>\n",
              "      <td>...</td>\n",
              "    </tr>\n",
              "    <tr>\n",
              "      <th>490</th>\n",
              "      <td>National Grid</td>\n",
              "      <td>491</td>\n",
              "      <td>22036</td>\n",
              "      <td>-3.2</td>\n",
              "      <td>10150.6</td>\n",
              "      <td>82310</td>\n",
              "      <td>160.2</td>\n",
              "      <td>John Pettigrew</td>\n",
              "      <td>Utilities</td>\n",
              "      <td>Energy</td>\n",
              "      <td>471.0</td>\n",
              "      <td>Britain</td>\n",
              "      <td>London, Britain</td>\n",
              "      <td>http://www.nationalgrid.com</td>\n",
              "      <td>12</td>\n",
              "      <td>22132</td>\n",
              "      <td>25463</td>\n",
              "    </tr>\n",
              "    <tr>\n",
              "      <th>492</th>\n",
              "      <td>Telecom Italia</td>\n",
              "      <td>493</td>\n",
              "      <td>21941</td>\n",
              "      <td>-17.4</td>\n",
              "      <td>1999.4</td>\n",
              "      <td>74295</td>\n",
              "      <td>NaN</td>\n",
              "      <td>Flavio Cattaneo</td>\n",
              "      <td>Telecommunications</td>\n",
              "      <td>Telecommunications</td>\n",
              "      <td>404.0</td>\n",
              "      <td>Italy</td>\n",
              "      <td>Milan, Italy</td>\n",
              "      <td>http://www.telecomitalia.com</td>\n",
              "      <td>18</td>\n",
              "      <td>61227</td>\n",
              "      <td>22366</td>\n",
              "    </tr>\n",
              "    <tr>\n",
              "      <th>496</th>\n",
              "      <td>New China Life Insurance</td>\n",
              "      <td>497</td>\n",
              "      <td>21796</td>\n",
              "      <td>-13.3</td>\n",
              "      <td>743.9</td>\n",
              "      <td>100609</td>\n",
              "      <td>-45.6</td>\n",
              "      <td>Wan Feng</td>\n",
              "      <td>Insurance: Life, Health (stock)</td>\n",
              "      <td>Financials</td>\n",
              "      <td>427.0</td>\n",
              "      <td>China</td>\n",
              "      <td>Beijing, China</td>\n",
              "      <td>http://www.newchinalife.com</td>\n",
              "      <td>2</td>\n",
              "      <td>54378</td>\n",
              "      <td>8507</td>\n",
              "    </tr>\n",
              "    <tr>\n",
              "      <th>497</th>\n",
              "      <td>Wm. Morrison Supermarkets</td>\n",
              "      <td>498</td>\n",
              "      <td>21741</td>\n",
              "      <td>-11.3</td>\n",
              "      <td>406.4</td>\n",
              "      <td>11630</td>\n",
              "      <td>20.4</td>\n",
              "      <td>David T. Potts</td>\n",
              "      <td>Food and Drug Stores</td>\n",
              "      <td>Food &amp; Drug Stores</td>\n",
              "      <td>437.0</td>\n",
              "      <td>Britain</td>\n",
              "      <td>Bradford, Britain</td>\n",
              "      <td>http://www.morrisons.com</td>\n",
              "      <td>13</td>\n",
              "      <td>77210</td>\n",
              "      <td>5111</td>\n",
              "    </tr>\n",
              "    <tr>\n",
              "      <th>498</th>\n",
              "      <td>TUI</td>\n",
              "      <td>499</td>\n",
              "      <td>21655</td>\n",
              "      <td>-5.5</td>\n",
              "      <td>1151.7</td>\n",
              "      <td>16247</td>\n",
              "      <td>195.5</td>\n",
              "      <td>Friedrich Joussen</td>\n",
              "      <td>Travel Services</td>\n",
              "      <td>Business Services</td>\n",
              "      <td>467.0</td>\n",
              "      <td>Germany</td>\n",
              "      <td>Hanover, Germany</td>\n",
              "      <td>http://www.tuigroup.com</td>\n",
              "      <td>23</td>\n",
              "      <td>66779</td>\n",
              "      <td>3006</td>\n",
              "    </tr>\n",
              "  </tbody>\n",
              "</table>\n",
              "<p>467 rows × 17 columns</p>\n",
              "</div>"
            ],
            "text/plain": [
              "                       company  rank  ...  employees  total_stockholder_equity\n",
              "0                      Walmart     1  ...    2300000                     77798\n",
              "1                   State Grid     2  ...     926067                    209456\n",
              "2                Sinopec Group     3  ...     713288                    106523\n",
              "3     China National Petroleum     4  ...    1512048                    301893\n",
              "4                 Toyota Motor     5  ...     364445                    157210\n",
              "..                         ...   ...  ...        ...                       ...\n",
              "490              National Grid   491  ...      22132                     25463\n",
              "492             Telecom Italia   493  ...      61227                     22366\n",
              "496   New China Life Insurance   497  ...      54378                      8507\n",
              "497  Wm. Morrison Supermarkets   498  ...      77210                      5111\n",
              "498                        TUI   499  ...      66779                      3006\n",
              "\n",
              "[467 rows x 17 columns]"
            ]
          },
          "metadata": {
            "tags": []
          },
          "execution_count": 32
        }
      ]
    },
    {
      "cell_type": "code",
      "metadata": {
        "colab": {
          "base_uri": "https://localhost:8080/"
        },
        "id": "L3oRPOSb5SqA",
        "outputId": "6177750f-7b85-4dac-858a-307677250377"
      },
      "source": [
        "# create rank_change column\r\n",
        "rank_change = previously_ranked[\"previous_rank\"] - previously_ranked[\"rank\"]\r\n",
        "rank_change.shape"
      ],
      "execution_count": 33,
      "outputs": [
        {
          "output_type": "execute_result",
          "data": {
            "text/plain": [
              "(467,)"
            ]
          },
          "metadata": {
            "tags": []
          },
          "execution_count": 33
        }
      ]
    },
    {
      "cell_type": "code",
      "metadata": {
        "colab": {
          "base_uri": "https://localhost:8080/"
        },
        "id": "j2JE2M2x5vqv",
        "outputId": "28357d9a-66c2-4e07-ec65-6b15c8f0a607"
      },
      "source": [
        "rank_change.tail()"
      ],
      "execution_count": 34,
      "outputs": [
        {
          "output_type": "execute_result",
          "data": {
            "text/plain": [
              "490   -20.0\n",
              "492   -89.0\n",
              "496   -70.0\n",
              "497   -61.0\n",
              "498   -32.0\n",
              "dtype: float64"
            ]
          },
          "metadata": {
            "tags": []
          },
          "execution_count": 34
        }
      ]
    },
    {
      "cell_type": "code",
      "metadata": {
        "colab": {
          "base_uri": "https://localhost:8080/"
        },
        "id": "xu4wKhVH5yqF",
        "outputId": "53990591-81b4-4551-bc71-48af0a64c4cb"
      },
      "source": [
        "f500.shape, f500.tail()"
      ],
      "execution_count": 35,
      "outputs": [
        {
          "output_type": "execute_result",
          "data": {
            "text/plain": [
              "((500, 17),\n",
              "                             company  rank  ...  employees  total_stockholder_equity\n",
              " 495  Teva Pharmaceutical Industries   496  ...      56960                     33337\n",
              " 496        New China Life Insurance   497  ...      54378                      8507\n",
              " 497       Wm. Morrison Supermarkets   498  ...      77210                      5111\n",
              " 498                             TUI   499  ...      66779                      3006\n",
              " 499                      AutoNation   500  ...      26000                      2310\n",
              " \n",
              " [5 rows x 17 columns])"
            ]
          },
          "metadata": {
            "tags": []
          },
          "execution_count": 35
        }
      ]
    },
    {
      "cell_type": "code",
      "metadata": {
        "colab": {
          "base_uri": "https://localhost:8080/"
        },
        "id": "oH-dWaQi7Qau",
        "outputId": "4f46c283-14c5-4ab9-f344-a1b76b39f27e"
      },
      "source": [
        "# rank_change column has 467 rows, f500 dataframe has 500 rows\r\n",
        "# when rank_change column assigned as a new column to f500, pandas will align based on index labels\r\n",
        "f500[\"rank_change\"] = rank_change\r\n",
        "f500[\"rank_change\"].value_counts(dropna=False)\r\n",
        "# we can see not aligned label data as null"
      ],
      "execution_count": 36,
      "outputs": [
        {
          "output_type": "execute_result",
          "data": {
            "text/plain": [
              " NaN     33\n",
              "-1.0     14\n",
              "-4.0     13\n",
              "-2.0     12\n",
              " 8.0     12\n",
              "         ..\n",
              "-54.0     1\n",
              " 55.0     1\n",
              " 69.0     1\n",
              " 21.0     1\n",
              "-32.0     1\n",
              "Name: rank_change, Length: 153, dtype: int64"
            ]
          },
          "metadata": {
            "tags": []
          },
          "execution_count": 36
        }
      ]
    },
    {
      "cell_type": "markdown",
      "metadata": {
        "id": "0wr275PO8JDu"
      },
      "source": [
        "### 8. Using Boolean Operators"
      ]
    },
    {
      "cell_type": "code",
      "metadata": {
        "colab": {
          "base_uri": "https://localhost:8080/",
          "height": 195
        },
        "id": "qEtuNCZs-L0I",
        "outputId": "005bd7ba-963e-4351-c995-89965d6fda69"
      },
      "source": [
        "cols = [\"company\", \"revenues\", \"country\"]\r\n",
        "f500_sel = f500[cols].head()\r\n",
        "f500_sel"
      ],
      "execution_count": 37,
      "outputs": [
        {
          "output_type": "execute_result",
          "data": {
            "text/html": [
              "<div>\n",
              "<style scoped>\n",
              "    .dataframe tbody tr th:only-of-type {\n",
              "        vertical-align: middle;\n",
              "    }\n",
              "\n",
              "    .dataframe tbody tr th {\n",
              "        vertical-align: top;\n",
              "    }\n",
              "\n",
              "    .dataframe thead th {\n",
              "        text-align: right;\n",
              "    }\n",
              "</style>\n",
              "<table border=\"1\" class=\"dataframe\">\n",
              "  <thead>\n",
              "    <tr style=\"text-align: right;\">\n",
              "      <th></th>\n",
              "      <th>company</th>\n",
              "      <th>revenues</th>\n",
              "      <th>country</th>\n",
              "    </tr>\n",
              "  </thead>\n",
              "  <tbody>\n",
              "    <tr>\n",
              "      <th>0</th>\n",
              "      <td>Walmart</td>\n",
              "      <td>485873</td>\n",
              "      <td>USA</td>\n",
              "    </tr>\n",
              "    <tr>\n",
              "      <th>1</th>\n",
              "      <td>State Grid</td>\n",
              "      <td>315199</td>\n",
              "      <td>China</td>\n",
              "    </tr>\n",
              "    <tr>\n",
              "      <th>2</th>\n",
              "      <td>Sinopec Group</td>\n",
              "      <td>267518</td>\n",
              "      <td>China</td>\n",
              "    </tr>\n",
              "    <tr>\n",
              "      <th>3</th>\n",
              "      <td>China National Petroleum</td>\n",
              "      <td>262573</td>\n",
              "      <td>China</td>\n",
              "    </tr>\n",
              "    <tr>\n",
              "      <th>4</th>\n",
              "      <td>Toyota Motor</td>\n",
              "      <td>254694</td>\n",
              "      <td>Japan</td>\n",
              "    </tr>\n",
              "  </tbody>\n",
              "</table>\n",
              "</div>"
            ],
            "text/plain": [
              "                    company  revenues country\n",
              "0                   Walmart    485873     USA\n",
              "1                State Grid    315199   China\n",
              "2             Sinopec Group    267518   China\n",
              "3  China National Petroleum    262573   China\n",
              "4              Toyota Motor    254694   Japan"
            ]
          },
          "metadata": {
            "tags": []
          },
          "execution_count": 37
        }
      ]
    },
    {
      "cell_type": "code",
      "metadata": {
        "id": "QNiIB3GP-Ymz",
        "colab": {
          "base_uri": "https://localhost:8080/"
        },
        "outputId": "f3de6bcd-e51f-48b7-acce-c30763ff5bcb"
      },
      "source": [
        "# more than 265 billion\r\n",
        "over_265 = f500_sel[\"revenues\"] > 26500\r\n",
        "over_265"
      ],
      "execution_count": 38,
      "outputs": [
        {
          "output_type": "execute_result",
          "data": {
            "text/plain": [
              "0    True\n",
              "1    True\n",
              "2    True\n",
              "3    True\n",
              "4    True\n",
              "Name: revenues, dtype: bool"
            ]
          },
          "metadata": {
            "tags": []
          },
          "execution_count": 38
        }
      ]
    },
    {
      "cell_type": "code",
      "metadata": {
        "colab": {
          "base_uri": "https://localhost:8080/"
        },
        "id": "p6nRrEzJyyON",
        "outputId": "b38ba025-c80c-4cde-e9bd-3896198db5cc"
      },
      "source": [
        "china = f500_sel[\"country\"] == \"China\"\r\n",
        "china"
      ],
      "execution_count": 39,
      "outputs": [
        {
          "output_type": "execute_result",
          "data": {
            "text/plain": [
              "0    False\n",
              "1     True\n",
              "2     True\n",
              "3     True\n",
              "4    False\n",
              "Name: country, dtype: bool"
            ]
          },
          "metadata": {
            "tags": []
          },
          "execution_count": 39
        }
      ]
    },
    {
      "cell_type": "code",
      "metadata": {
        "colab": {
          "base_uri": "https://localhost:8080/"
        },
        "id": "nHCoho7Ey6f8",
        "outputId": "b41d3554-357b-4543-b5ce-d27b6c90591b"
      },
      "source": [
        "combined = over_265 & china\r\n",
        "combined"
      ],
      "execution_count": 40,
      "outputs": [
        {
          "output_type": "execute_result",
          "data": {
            "text/plain": [
              "0    False\n",
              "1     True\n",
              "2     True\n",
              "3     True\n",
              "4    False\n",
              "dtype: bool"
            ]
          },
          "metadata": {
            "tags": []
          },
          "execution_count": 40
        }
      ]
    },
    {
      "cell_type": "code",
      "metadata": {
        "colab": {
          "base_uri": "https://localhost:8080/",
          "height": 136
        },
        "id": "OT0wO4pWzDUv",
        "outputId": "0097798b-d4ba-494f-8c18-47d238ce387e"
      },
      "source": [
        "final_cols = [\"company\", \"revenues\"]\r\n",
        "result = f500_sel.loc[combined, final_cols]\r\n",
        "result"
      ],
      "execution_count": 41,
      "outputs": [
        {
          "output_type": "execute_result",
          "data": {
            "text/html": [
              "<div>\n",
              "<style scoped>\n",
              "    .dataframe tbody tr th:only-of-type {\n",
              "        vertical-align: middle;\n",
              "    }\n",
              "\n",
              "    .dataframe tbody tr th {\n",
              "        vertical-align: top;\n",
              "    }\n",
              "\n",
              "    .dataframe thead th {\n",
              "        text-align: right;\n",
              "    }\n",
              "</style>\n",
              "<table border=\"1\" class=\"dataframe\">\n",
              "  <thead>\n",
              "    <tr style=\"text-align: right;\">\n",
              "      <th></th>\n",
              "      <th>company</th>\n",
              "      <th>revenues</th>\n",
              "    </tr>\n",
              "  </thead>\n",
              "  <tbody>\n",
              "    <tr>\n",
              "      <th>1</th>\n",
              "      <td>State Grid</td>\n",
              "      <td>315199</td>\n",
              "    </tr>\n",
              "    <tr>\n",
              "      <th>2</th>\n",
              "      <td>Sinopec Group</td>\n",
              "      <td>267518</td>\n",
              "    </tr>\n",
              "    <tr>\n",
              "      <th>3</th>\n",
              "      <td>China National Petroleum</td>\n",
              "      <td>262573</td>\n",
              "    </tr>\n",
              "  </tbody>\n",
              "</table>\n",
              "</div>"
            ],
            "text/plain": [
              "                    company  revenues\n",
              "1                State Grid    315199\n",
              "2             Sinopec Group    267518\n",
              "3  China National Petroleum    262573"
            ]
          },
          "metadata": {
            "tags": []
          },
          "execution_count": 41
        }
      ]
    },
    {
      "cell_type": "code",
      "metadata": {
        "colab": {
          "base_uri": "https://localhost:8080/"
        },
        "id": "iq_NsKMnzV5A",
        "outputId": "2c231ff8-9676-4b6d-ec6d-d683f2ed26c2"
      },
      "source": [
        "# Check revenues greater than 100 billion\r\n",
        "large_revenue = f500[\"revenues\"] > 100000\r\n",
        "large_revenue"
      ],
      "execution_count": 42,
      "outputs": [
        {
          "output_type": "execute_result",
          "data": {
            "text/plain": [
              "0       True\n",
              "1       True\n",
              "2       True\n",
              "3       True\n",
              "4       True\n",
              "       ...  \n",
              "495    False\n",
              "496    False\n",
              "497    False\n",
              "498    False\n",
              "499    False\n",
              "Name: revenues, Length: 500, dtype: bool"
            ]
          },
          "metadata": {
            "tags": []
          },
          "execution_count": 42
        }
      ]
    },
    {
      "cell_type": "code",
      "metadata": {
        "id": "XjZR-qiB0AmL",
        "colab": {
          "base_uri": "https://localhost:8080/"
        },
        "outputId": "7cf60d76-0316-4982-e738-53533651c639"
      },
      "source": [
        "negative_profits = f500[\"profits\"] < 0\r\n",
        "negative_profits"
      ],
      "execution_count": 43,
      "outputs": [
        {
          "output_type": "execute_result",
          "data": {
            "text/plain": [
              "0      False\n",
              "1      False\n",
              "2      False\n",
              "3      False\n",
              "4      False\n",
              "       ...  \n",
              "495    False\n",
              "496    False\n",
              "497    False\n",
              "498    False\n",
              "499    False\n",
              "Name: profits, Length: 500, dtype: bool"
            ]
          },
          "metadata": {
            "tags": []
          },
          "execution_count": 43
        }
      ]
    },
    {
      "cell_type": "code",
      "metadata": {
        "colab": {
          "base_uri": "https://localhost:8080/"
        },
        "id": "RFoLh3XlKBfv",
        "outputId": "4c31ae34-ea4e-4b6b-8893-884ec7d808c6"
      },
      "source": [
        "combined = large_revenue & negative_profits\r\n",
        "combined"
      ],
      "execution_count": 44,
      "outputs": [
        {
          "output_type": "execute_result",
          "data": {
            "text/plain": [
              "0      False\n",
              "1      False\n",
              "2      False\n",
              "3      False\n",
              "4      False\n",
              "       ...  \n",
              "495    False\n",
              "496    False\n",
              "497    False\n",
              "498    False\n",
              "499    False\n",
              "Length: 500, dtype: bool"
            ]
          },
          "metadata": {
            "tags": []
          },
          "execution_count": 44
        }
      ]
    },
    {
      "cell_type": "code",
      "metadata": {
        "colab": {
          "base_uri": "https://localhost:8080/",
          "height": 194
        },
        "id": "EebT9MtxKMfh",
        "outputId": "40a1463a-33f1-42cf-b37c-3ce0c5df8231"
      },
      "source": [
        "big_rev_neg_profit = f500[combined]\r\n",
        "big_rev_neg_profit"
      ],
      "execution_count": 45,
      "outputs": [
        {
          "output_type": "execute_result",
          "data": {
            "text/html": [
              "<div>\n",
              "<style scoped>\n",
              "    .dataframe tbody tr th:only-of-type {\n",
              "        vertical-align: middle;\n",
              "    }\n",
              "\n",
              "    .dataframe tbody tr th {\n",
              "        vertical-align: top;\n",
              "    }\n",
              "\n",
              "    .dataframe thead th {\n",
              "        text-align: right;\n",
              "    }\n",
              "</style>\n",
              "<table border=\"1\" class=\"dataframe\">\n",
              "  <thead>\n",
              "    <tr style=\"text-align: right;\">\n",
              "      <th></th>\n",
              "      <th>company</th>\n",
              "      <th>rank</th>\n",
              "      <th>revenues</th>\n",
              "      <th>revenue_change</th>\n",
              "      <th>profits</th>\n",
              "      <th>assets</th>\n",
              "      <th>profit_change</th>\n",
              "      <th>ceo</th>\n",
              "      <th>industry</th>\n",
              "      <th>sector</th>\n",
              "      <th>previous_rank</th>\n",
              "      <th>country</th>\n",
              "      <th>hq_location</th>\n",
              "      <th>website</th>\n",
              "      <th>years_on_global_500_list</th>\n",
              "      <th>employees</th>\n",
              "      <th>total_stockholder_equity</th>\n",
              "      <th>rank_change</th>\n",
              "    </tr>\n",
              "  </thead>\n",
              "  <tbody>\n",
              "    <tr>\n",
              "      <th>32</th>\n",
              "      <td>Japan Post Holdings</td>\n",
              "      <td>33</td>\n",
              "      <td>122990</td>\n",
              "      <td>3.6</td>\n",
              "      <td>-267.4</td>\n",
              "      <td>2631385</td>\n",
              "      <td>-107.5</td>\n",
              "      <td>Masatsugu Nagato</td>\n",
              "      <td>Insurance: Life, Health (stock)</td>\n",
              "      <td>Financials</td>\n",
              "      <td>37.0</td>\n",
              "      <td>Japan</td>\n",
              "      <td>Tokyo, Japan</td>\n",
              "      <td>http://www.japanpost.jp</td>\n",
              "      <td>21</td>\n",
              "      <td>248384</td>\n",
              "      <td>91532</td>\n",
              "      <td>4.0</td>\n",
              "    </tr>\n",
              "    <tr>\n",
              "      <th>44</th>\n",
              "      <td>Chevron</td>\n",
              "      <td>45</td>\n",
              "      <td>107567</td>\n",
              "      <td>-18.0</td>\n",
              "      <td>-497.0</td>\n",
              "      <td>260078</td>\n",
              "      <td>-110.8</td>\n",
              "      <td>John S. Watson</td>\n",
              "      <td>Petroleum Refining</td>\n",
              "      <td>Energy</td>\n",
              "      <td>31.0</td>\n",
              "      <td>USA</td>\n",
              "      <td>San Ramon, CA</td>\n",
              "      <td>http://www.chevron.com</td>\n",
              "      <td>23</td>\n",
              "      <td>55200</td>\n",
              "      <td>145556</td>\n",
              "      <td>-14.0</td>\n",
              "    </tr>\n",
              "  </tbody>\n",
              "</table>\n",
              "</div>"
            ],
            "text/plain": [
              "                company  rank  ...  total_stockholder_equity  rank_change\n",
              "32  Japan Post Holdings    33  ...                     91532          4.0\n",
              "44              Chevron    45  ...                    145556        -14.0\n",
              "\n",
              "[2 rows x 18 columns]"
            ]
          },
          "metadata": {
            "tags": []
          },
          "execution_count": 45
        }
      ]
    },
    {
      "cell_type": "markdown",
      "metadata": {
        "id": "WfN4txYpKUDd"
      },
      "source": [
        "### 9. Using Boolean Operations"
      ]
    },
    {
      "cell_type": "code",
      "metadata": {
        "colab": {
          "base_uri": "https://localhost:8080/",
          "height": 194
        },
        "id": "3ZfWTeELOdYJ",
        "outputId": "d12eb2d2-3e01-4238-8ffa-325f49c8431c"
      },
      "source": [
        "combined = (f500[\"revenues\"] > 100000) & (f500[\"profits\"] < 0)\r\n",
        "big_rev_neg_profit = f500[combined]\r\n",
        "big_rev_neg_profit"
      ],
      "execution_count": 46,
      "outputs": [
        {
          "output_type": "execute_result",
          "data": {
            "text/html": [
              "<div>\n",
              "<style scoped>\n",
              "    .dataframe tbody tr th:only-of-type {\n",
              "        vertical-align: middle;\n",
              "    }\n",
              "\n",
              "    .dataframe tbody tr th {\n",
              "        vertical-align: top;\n",
              "    }\n",
              "\n",
              "    .dataframe thead th {\n",
              "        text-align: right;\n",
              "    }\n",
              "</style>\n",
              "<table border=\"1\" class=\"dataframe\">\n",
              "  <thead>\n",
              "    <tr style=\"text-align: right;\">\n",
              "      <th></th>\n",
              "      <th>company</th>\n",
              "      <th>rank</th>\n",
              "      <th>revenues</th>\n",
              "      <th>revenue_change</th>\n",
              "      <th>profits</th>\n",
              "      <th>assets</th>\n",
              "      <th>profit_change</th>\n",
              "      <th>ceo</th>\n",
              "      <th>industry</th>\n",
              "      <th>sector</th>\n",
              "      <th>previous_rank</th>\n",
              "      <th>country</th>\n",
              "      <th>hq_location</th>\n",
              "      <th>website</th>\n",
              "      <th>years_on_global_500_list</th>\n",
              "      <th>employees</th>\n",
              "      <th>total_stockholder_equity</th>\n",
              "      <th>rank_change</th>\n",
              "    </tr>\n",
              "  </thead>\n",
              "  <tbody>\n",
              "    <tr>\n",
              "      <th>32</th>\n",
              "      <td>Japan Post Holdings</td>\n",
              "      <td>33</td>\n",
              "      <td>122990</td>\n",
              "      <td>3.6</td>\n",
              "      <td>-267.4</td>\n",
              "      <td>2631385</td>\n",
              "      <td>-107.5</td>\n",
              "      <td>Masatsugu Nagato</td>\n",
              "      <td>Insurance: Life, Health (stock)</td>\n",
              "      <td>Financials</td>\n",
              "      <td>37.0</td>\n",
              "      <td>Japan</td>\n",
              "      <td>Tokyo, Japan</td>\n",
              "      <td>http://www.japanpost.jp</td>\n",
              "      <td>21</td>\n",
              "      <td>248384</td>\n",
              "      <td>91532</td>\n",
              "      <td>4.0</td>\n",
              "    </tr>\n",
              "    <tr>\n",
              "      <th>44</th>\n",
              "      <td>Chevron</td>\n",
              "      <td>45</td>\n",
              "      <td>107567</td>\n",
              "      <td>-18.0</td>\n",
              "      <td>-497.0</td>\n",
              "      <td>260078</td>\n",
              "      <td>-110.8</td>\n",
              "      <td>John S. Watson</td>\n",
              "      <td>Petroleum Refining</td>\n",
              "      <td>Energy</td>\n",
              "      <td>31.0</td>\n",
              "      <td>USA</td>\n",
              "      <td>San Ramon, CA</td>\n",
              "      <td>http://www.chevron.com</td>\n",
              "      <td>23</td>\n",
              "      <td>55200</td>\n",
              "      <td>145556</td>\n",
              "      <td>-14.0</td>\n",
              "    </tr>\n",
              "  </tbody>\n",
              "</table>\n",
              "</div>"
            ],
            "text/plain": [
              "                company  rank  ...  total_stockholder_equity  rank_change\n",
              "32  Japan Post Holdings    33  ...                     91532          4.0\n",
              "44              Chevron    45  ...                    145556        -14.0\n",
              "\n",
              "[2 rows x 18 columns]"
            ]
          },
          "metadata": {
            "tags": []
          },
          "execution_count": 46
        }
      ]
    },
    {
      "cell_type": "code",
      "metadata": {
        "colab": {
          "base_uri": "https://localhost:8080/"
        },
        "id": "YPfJuVQIP2-o",
        "outputId": "23bc0bfa-75c7-498f-ef99-04d28aa530f2"
      },
      "source": [
        "f500['country'].value_counts()"
      ],
      "execution_count": 47,
      "outputs": [
        {
          "output_type": "execute_result",
          "data": {
            "text/plain": [
              "USA             132\n",
              "China           109\n",
              "Japan            51\n",
              "France           29\n",
              "Germany          29\n",
              "Britain          24\n",
              "South Korea      15\n",
              "Netherlands      14\n",
              "Switzerland      14\n",
              "Canada           11\n",
              "Spain             9\n",
              "Australia         7\n",
              "Brazil            7\n",
              "India             7\n",
              "Italy             7\n",
              "Taiwan            6\n",
              "Russia            4\n",
              "Ireland           4\n",
              "Singapore         3\n",
              "Sweden            3\n",
              "Mexico            2\n",
              "U.A.E             1\n",
              "Israel            1\n",
              "Saudi Arabia      1\n",
              "Denmark           1\n",
              "Indonesia         1\n",
              "Luxembourg        1\n",
              "Malaysia          1\n",
              "Norway            1\n",
              "Turkey            1\n",
              "Venezuela         1\n",
              "Finland           1\n",
              "Belgium           1\n",
              "Thailand          1\n",
              "Name: country, dtype: int64"
            ]
          },
          "metadata": {
            "tags": []
          },
          "execution_count": 47
        }
      ]
    },
    {
      "cell_type": "code",
      "metadata": {
        "colab": {
          "base_uri": "https://localhost:8080/",
          "height": 623
        },
        "id": "RDFviKWKPAd1",
        "outputId": "3a567837-a7e2-4e9c-bbff-3122637e0e67"
      },
      "source": [
        "brazil_venezuela = f500[((f500[\"country\"] == \"Brazil\") | (f500[\"country\"] == \"Venezuela\"))]\r\n",
        "brazil_venezuela"
      ],
      "execution_count": 48,
      "outputs": [
        {
          "output_type": "execute_result",
          "data": {
            "text/html": [
              "<div>\n",
              "<style scoped>\n",
              "    .dataframe tbody tr th:only-of-type {\n",
              "        vertical-align: middle;\n",
              "    }\n",
              "\n",
              "    .dataframe tbody tr th {\n",
              "        vertical-align: top;\n",
              "    }\n",
              "\n",
              "    .dataframe thead th {\n",
              "        text-align: right;\n",
              "    }\n",
              "</style>\n",
              "<table border=\"1\" class=\"dataframe\">\n",
              "  <thead>\n",
              "    <tr style=\"text-align: right;\">\n",
              "      <th></th>\n",
              "      <th>company</th>\n",
              "      <th>rank</th>\n",
              "      <th>revenues</th>\n",
              "      <th>revenue_change</th>\n",
              "      <th>profits</th>\n",
              "      <th>assets</th>\n",
              "      <th>profit_change</th>\n",
              "      <th>ceo</th>\n",
              "      <th>industry</th>\n",
              "      <th>sector</th>\n",
              "      <th>previous_rank</th>\n",
              "      <th>country</th>\n",
              "      <th>hq_location</th>\n",
              "      <th>website</th>\n",
              "      <th>years_on_global_500_list</th>\n",
              "      <th>employees</th>\n",
              "      <th>total_stockholder_equity</th>\n",
              "      <th>rank_change</th>\n",
              "    </tr>\n",
              "  </thead>\n",
              "  <tbody>\n",
              "    <tr>\n",
              "      <th>74</th>\n",
              "      <td>Petrobras</td>\n",
              "      <td>75</td>\n",
              "      <td>81405</td>\n",
              "      <td>-16.3</td>\n",
              "      <td>-4838.0</td>\n",
              "      <td>246983</td>\n",
              "      <td>NaN</td>\n",
              "      <td>Pedro Pullen Parente</td>\n",
              "      <td>Petroleum Refining</td>\n",
              "      <td>Energy</td>\n",
              "      <td>58.0</td>\n",
              "      <td>Brazil</td>\n",
              "      <td>Rio de Janeiro, Brazil</td>\n",
              "      <td>http://www.petrobras.com.br</td>\n",
              "      <td>23</td>\n",
              "      <td>68829</td>\n",
              "      <td>76779</td>\n",
              "      <td>-17.0</td>\n",
              "    </tr>\n",
              "    <tr>\n",
              "      <th>112</th>\n",
              "      <td>Itau Unibanco Holding</td>\n",
              "      <td>113</td>\n",
              "      <td>66876</td>\n",
              "      <td>21.4</td>\n",
              "      <td>6666.4</td>\n",
              "      <td>415972</td>\n",
              "      <td>-13.7</td>\n",
              "      <td>Candido Botelho Bracher</td>\n",
              "      <td>Banks: Commercial and Savings</td>\n",
              "      <td>Financials</td>\n",
              "      <td>159.0</td>\n",
              "      <td>Brazil</td>\n",
              "      <td>Sao Paulo, Brazil</td>\n",
              "      <td>http://www.itau.com.br</td>\n",
              "      <td>4</td>\n",
              "      <td>94779</td>\n",
              "      <td>37680</td>\n",
              "      <td>46.0</td>\n",
              "    </tr>\n",
              "    <tr>\n",
              "      <th>150</th>\n",
              "      <td>Banco do Brasil</td>\n",
              "      <td>151</td>\n",
              "      <td>58093</td>\n",
              "      <td>-13.4</td>\n",
              "      <td>2013.8</td>\n",
              "      <td>426416</td>\n",
              "      <td>-52.3</td>\n",
              "      <td>Paulo Rogerio Caffarelli</td>\n",
              "      <td>Banks: Commercial and Savings</td>\n",
              "      <td>Financials</td>\n",
              "      <td>115.0</td>\n",
              "      <td>Brazil</td>\n",
              "      <td>Brasilia, Brazil</td>\n",
              "      <td>http://www.bb.com.br</td>\n",
              "      <td>23</td>\n",
              "      <td>100622</td>\n",
              "      <td>26551</td>\n",
              "      <td>-36.0</td>\n",
              "    </tr>\n",
              "    <tr>\n",
              "      <th>153</th>\n",
              "      <td>Banco Bradesco</td>\n",
              "      <td>154</td>\n",
              "      <td>57443</td>\n",
              "      <td>31.3</td>\n",
              "      <td>5127.9</td>\n",
              "      <td>366418</td>\n",
              "      <td>-5.7</td>\n",
              "      <td>Luiz Carlos Trabuco Cappi</td>\n",
              "      <td>Banks: Commercial and Savings</td>\n",
              "      <td>Financials</td>\n",
              "      <td>209.0</td>\n",
              "      <td>Brazil</td>\n",
              "      <td>Osasco, Brazil</td>\n",
              "      <td>http://www.bradesco.com.br</td>\n",
              "      <td>21</td>\n",
              "      <td>94541</td>\n",
              "      <td>32369</td>\n",
              "      <td>55.0</td>\n",
              "    </tr>\n",
              "    <tr>\n",
              "      <th>190</th>\n",
              "      <td>JBS</td>\n",
              "      <td>191</td>\n",
              "      <td>48825</td>\n",
              "      <td>-0.1</td>\n",
              "      <td>107.7</td>\n",
              "      <td>31605</td>\n",
              "      <td>-92.3</td>\n",
              "      <td>Wesley Mendonca Batista</td>\n",
              "      <td>Food Production</td>\n",
              "      <td>Food, Beverages &amp; Tobacco</td>\n",
              "      <td>185.0</td>\n",
              "      <td>Brazil</td>\n",
              "      <td>Sao Paulo, Brazil</td>\n",
              "      <td>http://jbss.infoinvest.com.br</td>\n",
              "      <td>8</td>\n",
              "      <td>237061</td>\n",
              "      <td>7307</td>\n",
              "      <td>-6.0</td>\n",
              "    </tr>\n",
              "    <tr>\n",
              "      <th>369</th>\n",
              "      <td>Vale</td>\n",
              "      <td>370</td>\n",
              "      <td>29363</td>\n",
              "      <td>14.7</td>\n",
              "      <td>3982.0</td>\n",
              "      <td>99014</td>\n",
              "      <td>NaN</td>\n",
              "      <td>Fabio Schvartsman</td>\n",
              "      <td>Mining, Crude-Oil Production</td>\n",
              "      <td>Energy</td>\n",
              "      <td>417.0</td>\n",
              "      <td>Brazil</td>\n",
              "      <td>Rio de Janeiro, Brazil</td>\n",
              "      <td>http://www.vale.com</td>\n",
              "      <td>11</td>\n",
              "      <td>73062</td>\n",
              "      <td>39042</td>\n",
              "      <td>47.0</td>\n",
              "    </tr>\n",
              "    <tr>\n",
              "      <th>441</th>\n",
              "      <td>Mercantil Servicios Financieros</td>\n",
              "      <td>442</td>\n",
              "      <td>24403</td>\n",
              "      <td>50.3</td>\n",
              "      <td>2004.2</td>\n",
              "      <td>148659</td>\n",
              "      <td>-10.5</td>\n",
              "      <td>Gustavo J. Vollmer A.</td>\n",
              "      <td>Banks: Commercial and Savings</td>\n",
              "      <td>Financials</td>\n",
              "      <td>NaN</td>\n",
              "      <td>Venezuela</td>\n",
              "      <td>Caracas, Venezuela</td>\n",
              "      <td>http://www.msf.com</td>\n",
              "      <td>1</td>\n",
              "      <td>8370</td>\n",
              "      <td>7550</td>\n",
              "      <td>NaN</td>\n",
              "    </tr>\n",
              "    <tr>\n",
              "      <th>486</th>\n",
              "      <td>Ultrapar Holdings</td>\n",
              "      <td>487</td>\n",
              "      <td>22167</td>\n",
              "      <td>-2.3</td>\n",
              "      <td>447.5</td>\n",
              "      <td>7426</td>\n",
              "      <td>-0.8</td>\n",
              "      <td>Thilo Mannhardt</td>\n",
              "      <td>Energy</td>\n",
              "      <td>Energy</td>\n",
              "      <td>474.0</td>\n",
              "      <td>Brazil</td>\n",
              "      <td>Sao Paulo, Brazil</td>\n",
              "      <td>http://www.ultra.com.br</td>\n",
              "      <td>8</td>\n",
              "      <td>15173</td>\n",
              "      <td>2621</td>\n",
              "      <td>-13.0</td>\n",
              "    </tr>\n",
              "  </tbody>\n",
              "</table>\n",
              "</div>"
            ],
            "text/plain": [
              "                             company  ...  rank_change\n",
              "74                         Petrobras  ...        -17.0\n",
              "112            Itau Unibanco Holding  ...         46.0\n",
              "150                  Banco do Brasil  ...        -36.0\n",
              "153                   Banco Bradesco  ...         55.0\n",
              "190                              JBS  ...         -6.0\n",
              "369                             Vale  ...         47.0\n",
              "441  Mercantil Servicios Financieros  ...          NaN\n",
              "486                Ultrapar Holdings  ...        -13.0\n",
              "\n",
              "[8 rows x 18 columns]"
            ]
          },
          "metadata": {
            "tags": []
          },
          "execution_count": 48
        }
      ]
    },
    {
      "cell_type": "code",
      "metadata": {
        "colab": {
          "base_uri": "https://localhost:8080/"
        },
        "id": "GVnzsu0TPaBr",
        "outputId": "d7429a03-0a40-428d-8e1a-52841ae9a51c"
      },
      "source": [
        "~(f500['country'] == \"USA\") & (f500['sector'] == \"Technology\")"
      ],
      "execution_count": 49,
      "outputs": [
        {
          "output_type": "execute_result",
          "data": {
            "text/plain": [
              "0      False\n",
              "1      False\n",
              "2      False\n",
              "3      False\n",
              "4      False\n",
              "       ...  \n",
              "495    False\n",
              "496    False\n",
              "497    False\n",
              "498    False\n",
              "499    False\n",
              "Length: 500, dtype: bool"
            ]
          },
          "metadata": {
            "tags": []
          },
          "execution_count": 49
        }
      ]
    },
    {
      "cell_type": "code",
      "metadata": {
        "colab": {
          "base_uri": "https://localhost:8080/"
        },
        "id": "jAUjwEOBRydz",
        "outputId": "e43a011b-9b07-4abc-b69f-8b89ec357836"
      },
      "source": [
        "f500[~(f500['country'] == \"USA\")][\"sector\"].value_counts()"
      ],
      "execution_count": 50,
      "outputs": [
        {
          "output_type": "execute_result",
          "data": {
            "text/plain": [
              "Financials                       91\n",
              "Energy                           67\n",
              "Motor Vehicles & Parts           32\n",
              "Technology                       30\n",
              "Wholesalers                      20\n",
              "Materials                        16\n",
              "Food & Drug Stores               15\n",
              "Telecommunications               14\n",
              "Transportation                   13\n",
              "Engineering & Construction       13\n",
              "Health Care                      12\n",
              "Industrials                      11\n",
              "Aerospace & Defense               8\n",
              "Food, Beverages & Tobacco         7\n",
              "Retailing                         6\n",
              "Chemicals                         5\n",
              "Business Services                 3\n",
              "Household Products                2\n",
              "Hotels, Restaurants & Leisure     2\n",
              "Apparel                           1\n",
              "Name: sector, dtype: int64"
            ]
          },
          "metadata": {
            "tags": []
          },
          "execution_count": 50
        }
      ]
    },
    {
      "cell_type": "code",
      "metadata": {
        "colab": {
          "base_uri": "https://localhost:8080/",
          "height": 350
        },
        "id": "IdPJztZNSEH6",
        "outputId": "59d06881-f9a8-49aa-e3c5-b45b314c0dbd"
      },
      "source": [
        "tech_outside_usa = f500[~(f500['country'] == \"USA\") & (f500['sector'] == \"Technology\")].head()\r\n",
        "tech_outside_usa"
      ],
      "execution_count": 51,
      "outputs": [
        {
          "output_type": "execute_result",
          "data": {
            "text/html": [
              "<div>\n",
              "<style scoped>\n",
              "    .dataframe tbody tr th:only-of-type {\n",
              "        vertical-align: middle;\n",
              "    }\n",
              "\n",
              "    .dataframe tbody tr th {\n",
              "        vertical-align: top;\n",
              "    }\n",
              "\n",
              "    .dataframe thead th {\n",
              "        text-align: right;\n",
              "    }\n",
              "</style>\n",
              "<table border=\"1\" class=\"dataframe\">\n",
              "  <thead>\n",
              "    <tr style=\"text-align: right;\">\n",
              "      <th></th>\n",
              "      <th>company</th>\n",
              "      <th>rank</th>\n",
              "      <th>revenues</th>\n",
              "      <th>revenue_change</th>\n",
              "      <th>profits</th>\n",
              "      <th>assets</th>\n",
              "      <th>profit_change</th>\n",
              "      <th>ceo</th>\n",
              "      <th>industry</th>\n",
              "      <th>sector</th>\n",
              "      <th>previous_rank</th>\n",
              "      <th>country</th>\n",
              "      <th>hq_location</th>\n",
              "      <th>website</th>\n",
              "      <th>years_on_global_500_list</th>\n",
              "      <th>employees</th>\n",
              "      <th>total_stockholder_equity</th>\n",
              "      <th>rank_change</th>\n",
              "    </tr>\n",
              "  </thead>\n",
              "  <tbody>\n",
              "    <tr>\n",
              "      <th>14</th>\n",
              "      <td>Samsung Electronics</td>\n",
              "      <td>15</td>\n",
              "      <td>173957</td>\n",
              "      <td>-2.0</td>\n",
              "      <td>19316.5</td>\n",
              "      <td>217104</td>\n",
              "      <td>16.8</td>\n",
              "      <td>Oh-Hyun Kwon</td>\n",
              "      <td>Electronics, Electrical Equip.</td>\n",
              "      <td>Technology</td>\n",
              "      <td>13.0</td>\n",
              "      <td>South Korea</td>\n",
              "      <td>Suwon, South Korea</td>\n",
              "      <td>http://www.samsung.com</td>\n",
              "      <td>23</td>\n",
              "      <td>325000</td>\n",
              "      <td>154376</td>\n",
              "      <td>-2.0</td>\n",
              "    </tr>\n",
              "    <tr>\n",
              "      <th>26</th>\n",
              "      <td>Hon Hai Precision Industry</td>\n",
              "      <td>27</td>\n",
              "      <td>135129</td>\n",
              "      <td>-4.3</td>\n",
              "      <td>4608.8</td>\n",
              "      <td>80436</td>\n",
              "      <td>-0.4</td>\n",
              "      <td>Terry Gou</td>\n",
              "      <td>Electronics, Electrical Equip.</td>\n",
              "      <td>Technology</td>\n",
              "      <td>25.0</td>\n",
              "      <td>Taiwan</td>\n",
              "      <td>New Taipei City, Taiwan</td>\n",
              "      <td>http://www.foxconn.com</td>\n",
              "      <td>13</td>\n",
              "      <td>726772</td>\n",
              "      <td>33476</td>\n",
              "      <td>-2.0</td>\n",
              "    </tr>\n",
              "    <tr>\n",
              "      <th>70</th>\n",
              "      <td>Hitachi</td>\n",
              "      <td>71</td>\n",
              "      <td>84558</td>\n",
              "      <td>1.2</td>\n",
              "      <td>2134.3</td>\n",
              "      <td>86742</td>\n",
              "      <td>48.8</td>\n",
              "      <td>Toshiaki Higashihara</td>\n",
              "      <td>Electronics, Electrical Equip.</td>\n",
              "      <td>Technology</td>\n",
              "      <td>79.0</td>\n",
              "      <td>Japan</td>\n",
              "      <td>Tokyo, Japan</td>\n",
              "      <td>http://www.hitachi.com</td>\n",
              "      <td>23</td>\n",
              "      <td>303887</td>\n",
              "      <td>26632</td>\n",
              "      <td>8.0</td>\n",
              "    </tr>\n",
              "    <tr>\n",
              "      <th>82</th>\n",
              "      <td>Huawei Investment &amp; Holding</td>\n",
              "      <td>83</td>\n",
              "      <td>78511</td>\n",
              "      <td>24.9</td>\n",
              "      <td>5579.4</td>\n",
              "      <td>63837</td>\n",
              "      <td>-5.0</td>\n",
              "      <td>Ren Zhengfei</td>\n",
              "      <td>Network and Other Communications Equipment</td>\n",
              "      <td>Technology</td>\n",
              "      <td>129.0</td>\n",
              "      <td>China</td>\n",
              "      <td>Shenzhen, China</td>\n",
              "      <td>http://www.huawei.com</td>\n",
              "      <td>8</td>\n",
              "      <td>180000</td>\n",
              "      <td>20159</td>\n",
              "      <td>46.0</td>\n",
              "    </tr>\n",
              "    <tr>\n",
              "      <th>104</th>\n",
              "      <td>Sony</td>\n",
              "      <td>105</td>\n",
              "      <td>70170</td>\n",
              "      <td>3.9</td>\n",
              "      <td>676.4</td>\n",
              "      <td>158519</td>\n",
              "      <td>-45.1</td>\n",
              "      <td>Kazuo Hirai</td>\n",
              "      <td>Electronics, Electrical Equip.</td>\n",
              "      <td>Technology</td>\n",
              "      <td>113.0</td>\n",
              "      <td>Japan</td>\n",
              "      <td>Tokyo, Japan</td>\n",
              "      <td>http://www.sony.net</td>\n",
              "      <td>23</td>\n",
              "      <td>128400</td>\n",
              "      <td>22415</td>\n",
              "      <td>8.0</td>\n",
              "    </tr>\n",
              "  </tbody>\n",
              "</table>\n",
              "</div>"
            ],
            "text/plain": [
              "                         company  rank  ...  total_stockholder_equity  rank_change\n",
              "14           Samsung Electronics    15  ...                    154376         -2.0\n",
              "26    Hon Hai Precision Industry    27  ...                     33476         -2.0\n",
              "70                       Hitachi    71  ...                     26632          8.0\n",
              "82   Huawei Investment & Holding    83  ...                     20159         46.0\n",
              "104                         Sony   105  ...                     22415          8.0\n",
              "\n",
              "[5 rows x 18 columns]"
            ]
          },
          "metadata": {
            "tags": []
          },
          "execution_count": 51
        }
      ]
    },
    {
      "cell_type": "markdown",
      "metadata": {
        "id": "B5XFqFe6StM2"
      },
      "source": [
        "### 10. Sorting Values"
      ]
    },
    {
      "cell_type": "code",
      "metadata": {
        "colab": {
          "base_uri": "https://localhost:8080/",
          "height": 741
        },
        "id": "o3JRFqyCAiXw",
        "outputId": "4aa681f6-fdc6-4c38-fda7-0c20d7113a10"
      },
      "source": [
        "# select all rows where country is china\r\n",
        "selected_rows = f500[f500[\"country\"] == \"China\"]\r\n",
        "selected_rows"
      ],
      "execution_count": 52,
      "outputs": [
        {
          "output_type": "execute_result",
          "data": {
            "text/html": [
              "<div>\n",
              "<style scoped>\n",
              "    .dataframe tbody tr th:only-of-type {\n",
              "        vertical-align: middle;\n",
              "    }\n",
              "\n",
              "    .dataframe tbody tr th {\n",
              "        vertical-align: top;\n",
              "    }\n",
              "\n",
              "    .dataframe thead th {\n",
              "        text-align: right;\n",
              "    }\n",
              "</style>\n",
              "<table border=\"1\" class=\"dataframe\">\n",
              "  <thead>\n",
              "    <tr style=\"text-align: right;\">\n",
              "      <th></th>\n",
              "      <th>company</th>\n",
              "      <th>rank</th>\n",
              "      <th>revenues</th>\n",
              "      <th>revenue_change</th>\n",
              "      <th>profits</th>\n",
              "      <th>assets</th>\n",
              "      <th>profit_change</th>\n",
              "      <th>ceo</th>\n",
              "      <th>industry</th>\n",
              "      <th>sector</th>\n",
              "      <th>previous_rank</th>\n",
              "      <th>country</th>\n",
              "      <th>hq_location</th>\n",
              "      <th>website</th>\n",
              "      <th>years_on_global_500_list</th>\n",
              "      <th>employees</th>\n",
              "      <th>total_stockholder_equity</th>\n",
              "      <th>rank_change</th>\n",
              "    </tr>\n",
              "  </thead>\n",
              "  <tbody>\n",
              "    <tr>\n",
              "      <th>1</th>\n",
              "      <td>State Grid</td>\n",
              "      <td>2</td>\n",
              "      <td>315199</td>\n",
              "      <td>-4.4</td>\n",
              "      <td>9571.3</td>\n",
              "      <td>489838</td>\n",
              "      <td>-6.2</td>\n",
              "      <td>Kou Wei</td>\n",
              "      <td>Utilities</td>\n",
              "      <td>Energy</td>\n",
              "      <td>2.0</td>\n",
              "      <td>China</td>\n",
              "      <td>Beijing, China</td>\n",
              "      <td>http://www.sgcc.com.cn</td>\n",
              "      <td>17</td>\n",
              "      <td>926067</td>\n",
              "      <td>209456</td>\n",
              "      <td>0.0</td>\n",
              "    </tr>\n",
              "    <tr>\n",
              "      <th>2</th>\n",
              "      <td>Sinopec Group</td>\n",
              "      <td>3</td>\n",
              "      <td>267518</td>\n",
              "      <td>-9.1</td>\n",
              "      <td>1257.9</td>\n",
              "      <td>310726</td>\n",
              "      <td>-65.0</td>\n",
              "      <td>Wang Yupu</td>\n",
              "      <td>Petroleum Refining</td>\n",
              "      <td>Energy</td>\n",
              "      <td>4.0</td>\n",
              "      <td>China</td>\n",
              "      <td>Beijing, China</td>\n",
              "      <td>http://www.sinopec.com</td>\n",
              "      <td>19</td>\n",
              "      <td>713288</td>\n",
              "      <td>106523</td>\n",
              "      <td>1.0</td>\n",
              "    </tr>\n",
              "    <tr>\n",
              "      <th>3</th>\n",
              "      <td>China National Petroleum</td>\n",
              "      <td>4</td>\n",
              "      <td>262573</td>\n",
              "      <td>-12.3</td>\n",
              "      <td>1867.5</td>\n",
              "      <td>585619</td>\n",
              "      <td>-73.7</td>\n",
              "      <td>Zhang Jianhua</td>\n",
              "      <td>Petroleum Refining</td>\n",
              "      <td>Energy</td>\n",
              "      <td>3.0</td>\n",
              "      <td>China</td>\n",
              "      <td>Beijing, China</td>\n",
              "      <td>http://www.cnpc.com.cn</td>\n",
              "      <td>17</td>\n",
              "      <td>1512048</td>\n",
              "      <td>301893</td>\n",
              "      <td>-1.0</td>\n",
              "    </tr>\n",
              "    <tr>\n",
              "      <th>21</th>\n",
              "      <td>Industrial &amp; Commercial Bank of China</td>\n",
              "      <td>22</td>\n",
              "      <td>147675</td>\n",
              "      <td>-11.7</td>\n",
              "      <td>41883.9</td>\n",
              "      <td>3473238</td>\n",
              "      <td>-5.0</td>\n",
              "      <td>Gu Shu</td>\n",
              "      <td>Banks: Commercial and Savings</td>\n",
              "      <td>Financials</td>\n",
              "      <td>15.0</td>\n",
              "      <td>China</td>\n",
              "      <td>Beijing, China</td>\n",
              "      <td>http://www.icbc-ltd.com</td>\n",
              "      <td>19</td>\n",
              "      <td>461749</td>\n",
              "      <td>283438</td>\n",
              "      <td>-7.0</td>\n",
              "    </tr>\n",
              "    <tr>\n",
              "      <th>23</th>\n",
              "      <td>China State Construction Engineering</td>\n",
              "      <td>24</td>\n",
              "      <td>144505</td>\n",
              "      <td>3.1</td>\n",
              "      <td>2492.9</td>\n",
              "      <td>201269</td>\n",
              "      <td>10.7</td>\n",
              "      <td>Guan Qing</td>\n",
              "      <td>Engineering, Construction</td>\n",
              "      <td>Engineering &amp; Construction</td>\n",
              "      <td>27.0</td>\n",
              "      <td>China</td>\n",
              "      <td>Beijing, China</td>\n",
              "      <td>http://www.cscec.com</td>\n",
              "      <td>6</td>\n",
              "      <td>263915</td>\n",
              "      <td>15344</td>\n",
              "      <td>3.0</td>\n",
              "    </tr>\n",
              "    <tr>\n",
              "      <th>...</th>\n",
              "      <td>...</td>\n",
              "      <td>...</td>\n",
              "      <td>...</td>\n",
              "      <td>...</td>\n",
              "      <td>...</td>\n",
              "      <td>...</td>\n",
              "      <td>...</td>\n",
              "      <td>...</td>\n",
              "      <td>...</td>\n",
              "      <td>...</td>\n",
              "      <td>...</td>\n",
              "      <td>...</td>\n",
              "      <td>...</td>\n",
              "      <td>...</td>\n",
              "      <td>...</td>\n",
              "      <td>...</td>\n",
              "      <td>...</td>\n",
              "      <td>...</td>\n",
              "    </tr>\n",
              "    <tr>\n",
              "      <th>487</th>\n",
              "      <td>Xiamen C&amp;D</td>\n",
              "      <td>488</td>\n",
              "      <td>22145</td>\n",
              "      <td>6.6</td>\n",
              "      <td>280.2</td>\n",
              "      <td>21729</td>\n",
              "      <td>15.6</td>\n",
              "      <td>Huang Wenzhou</td>\n",
              "      <td>Trading</td>\n",
              "      <td>Wholesalers</td>\n",
              "      <td>NaN</td>\n",
              "      <td>China</td>\n",
              "      <td>Xiamen, China</td>\n",
              "      <td>http://www.chinacdc.com</td>\n",
              "      <td>1</td>\n",
              "      <td>18381</td>\n",
              "      <td>3985</td>\n",
              "      <td>NaN</td>\n",
              "    </tr>\n",
              "    <tr>\n",
              "      <th>489</th>\n",
              "      <td>China General Technology</td>\n",
              "      <td>490</td>\n",
              "      <td>22113</td>\n",
              "      <td>-20.1</td>\n",
              "      <td>413.6</td>\n",
              "      <td>20860</td>\n",
              "      <td>-20.8</td>\n",
              "      <td>Xu Xianping</td>\n",
              "      <td>Engineering, Construction</td>\n",
              "      <td>Engineering &amp; Construction</td>\n",
              "      <td>383.0</td>\n",
              "      <td>China</td>\n",
              "      <td>Beijing, China</td>\n",
              "      <td>http://www.genertec.com.cn</td>\n",
              "      <td>4</td>\n",
              "      <td>38589</td>\n",
              "      <td>5114</td>\n",
              "      <td>-107.0</td>\n",
              "    </tr>\n",
              "    <tr>\n",
              "      <th>493</th>\n",
              "      <td>Xiamen ITG Holding Group</td>\n",
              "      <td>494</td>\n",
              "      <td>21930</td>\n",
              "      <td>34.3</td>\n",
              "      <td>35.6</td>\n",
              "      <td>12161</td>\n",
              "      <td>-25.1</td>\n",
              "      <td>Xu Xiaoxi</td>\n",
              "      <td>Trading</td>\n",
              "      <td>Wholesalers</td>\n",
              "      <td>NaN</td>\n",
              "      <td>China</td>\n",
              "      <td>Xiamen, China</td>\n",
              "      <td>http://www.itgholding.com.cn</td>\n",
              "      <td>1</td>\n",
              "      <td>18454</td>\n",
              "      <td>1066</td>\n",
              "      <td>NaN</td>\n",
              "    </tr>\n",
              "    <tr>\n",
              "      <th>494</th>\n",
              "      <td>Xinjiang Guanghui Industry Investment</td>\n",
              "      <td>495</td>\n",
              "      <td>21919</td>\n",
              "      <td>31.1</td>\n",
              "      <td>251.8</td>\n",
              "      <td>31957</td>\n",
              "      <td>49.9</td>\n",
              "      <td>Shang Jiqiang</td>\n",
              "      <td>Trading</td>\n",
              "      <td>Wholesalers</td>\n",
              "      <td>NaN</td>\n",
              "      <td>China</td>\n",
              "      <td>Urumqi, China</td>\n",
              "      <td>http://www.guanghui.com</td>\n",
              "      <td>1</td>\n",
              "      <td>65616</td>\n",
              "      <td>4563</td>\n",
              "      <td>NaN</td>\n",
              "    </tr>\n",
              "    <tr>\n",
              "      <th>496</th>\n",
              "      <td>New China Life Insurance</td>\n",
              "      <td>497</td>\n",
              "      <td>21796</td>\n",
              "      <td>-13.3</td>\n",
              "      <td>743.9</td>\n",
              "      <td>100609</td>\n",
              "      <td>-45.6</td>\n",
              "      <td>Wan Feng</td>\n",
              "      <td>Insurance: Life, Health (stock)</td>\n",
              "      <td>Financials</td>\n",
              "      <td>427.0</td>\n",
              "      <td>China</td>\n",
              "      <td>Beijing, China</td>\n",
              "      <td>http://www.newchinalife.com</td>\n",
              "      <td>2</td>\n",
              "      <td>54378</td>\n",
              "      <td>8507</td>\n",
              "      <td>-70.0</td>\n",
              "    </tr>\n",
              "  </tbody>\n",
              "</table>\n",
              "<p>109 rows × 18 columns</p>\n",
              "</div>"
            ],
            "text/plain": [
              "                                   company  ...  rank_change\n",
              "1                               State Grid  ...          0.0\n",
              "2                            Sinopec Group  ...          1.0\n",
              "3                 China National Petroleum  ...         -1.0\n",
              "21   Industrial & Commercial Bank of China  ...         -7.0\n",
              "23    China State Construction Engineering  ...          3.0\n",
              "..                                     ...  ...          ...\n",
              "487                             Xiamen C&D  ...          NaN\n",
              "489               China General Technology  ...       -107.0\n",
              "493               Xiamen ITG Holding Group  ...          NaN\n",
              "494  Xinjiang Guanghui Industry Investment  ...          NaN\n",
              "496               New China Life Insurance  ...        -70.0\n",
              "\n",
              "[109 rows x 18 columns]"
            ]
          },
          "metadata": {
            "tags": []
          },
          "execution_count": 52
        }
      ]
    },
    {
      "cell_type": "code",
      "metadata": {
        "colab": {
          "base_uri": "https://localhost:8080/"
        },
        "id": "zfrONwIeAzlI",
        "outputId": "2c15b522-e053-4e58-d9d6-aff36600a3cc"
      },
      "source": [
        "# Use DataFrame.sort_values() method to sort the rows\r\n",
        "sorted_rows = selected_rows.sort_values(\"employees\")\r\n",
        "print(sorted_rows[[\"company\", \"country\", \"employees\"]].head())"
      ],
      "execution_count": 53,
      "outputs": [
        {
          "output_type": "stream",
          "text": [
            "                                company country  employees\n",
            "204                         Noble Group   China       1000\n",
            "458             Yango Financial Holding   China      10234\n",
            "438  China National Aviation Fuel Group   China      11739\n",
            "128                         Tewoo Group   China      17353\n",
            "182            Amer International Group   China      17852\n"
          ],
          "name": "stdout"
        }
      ]
    },
    {
      "cell_type": "code",
      "metadata": {
        "colab": {
          "base_uri": "https://localhost:8080/"
        },
        "id": "XHtSRh19DQ11",
        "outputId": "ca9d2bee-fb09-4f3c-d527-6de84b64af75"
      },
      "source": [
        "# Use DataFrame.sort_values() method to sort the rows, for descending\r\n",
        "sorted_rows = selected_rows.sort_values(\"employees\", ascending=False)\r\n",
        "print(sorted_rows[[\"company\", \"country\", \"employees\"]].head())"
      ],
      "execution_count": 54,
      "outputs": [
        {
          "output_type": "stream",
          "text": [
            "                        company country  employees\n",
            "3      China National Petroleum   China    1512048\n",
            "118            China Post Group   China     941211\n",
            "1                    State Grid   China     926067\n",
            "2                 Sinopec Group   China     713288\n",
            "37   Agricultural Bank of China   China     501368\n"
          ],
          "name": "stdout"
        }
      ]
    },
    {
      "cell_type": "code",
      "metadata": {
        "colab": {
          "base_uri": "https://localhost:8080/"
        },
        "id": "reJSLltuDaRd",
        "outputId": "6d8c17c0-7dc5-4248-9262-e496594c76c6"
      },
      "source": [
        "japan = f500[f500[\"country\"] == 'Japan']\r\n",
        "sorted_japan = japan.sort_values(\"employees\", ascending=False)\r\n",
        "# select 1st row of the sorted frame using iloc\r\n",
        "japan_first_row = sorted_japan.iloc[0]\r\n",
        "japan_first_row\r\n"
      ],
      "execution_count": 55,
      "outputs": [
        {
          "output_type": "execute_result",
          "data": {
            "text/plain": [
              "company                                     Toyota Motor\n",
              "rank                                                   5\n",
              "revenues                                          254694\n",
              "revenue_change                                       7.7\n",
              "profits                                          16899.3\n",
              "assets                                            437575\n",
              "profit_change                                      -12.3\n",
              "ceo                                          Akio Toyoda\n",
              "industry                        Motor Vehicles and Parts\n",
              "sector                            Motor Vehicles & Parts\n",
              "previous_rank                                          8\n",
              "country                                            Japan\n",
              "hq_location                                Toyota, Japan\n",
              "website                     http://www.toyota-global.com\n",
              "years_on_global_500_list                              23\n",
              "employees                                         364445\n",
              "total_stockholder_equity                          157210\n",
              "rank_change                                            3\n",
              "Name: 4, dtype: object"
            ]
          },
          "metadata": {
            "tags": []
          },
          "execution_count": 55
        }
      ]
    },
    {
      "cell_type": "code",
      "metadata": {
        "colab": {
          "base_uri": "https://localhost:8080/",
          "height": 35
        },
        "id": "RhLIw_DZDu6h",
        "outputId": "20856684-1725-45ce-da25-233570b8a99f"
      },
      "source": [
        "top_japanese_employer = japan_first_row[\"company\"]\r\n",
        "top_japanese_employer"
      ],
      "execution_count": 56,
      "outputs": [
        {
          "output_type": "execute_result",
          "data": {
            "application/vnd.google.colaboratory.intrinsic+json": {
              "type": "string"
            },
            "text/plain": [
              "'Toyota Motor'"
            ]
          },
          "metadata": {
            "tags": []
          },
          "execution_count": 56
        }
      ]
    },
    {
      "cell_type": "markdown",
      "metadata": {
        "id": "BR0HIQujE9nN"
      },
      "source": [
        "### 11. Using Loops with pandas"
      ]
    },
    {
      "cell_type": "code",
      "metadata": {
        "colab": {
          "base_uri": "https://localhost:8080/"
        },
        "id": "ZgwfFt37j7hf",
        "outputId": "18144cd5-b32b-4021-ba61-88c4a39494ac"
      },
      "source": [
        "# To find the average revenue in each country\r\n",
        "# Identify each unique country in dataset\r\n",
        "# For each country\r\n",
        "    # select rows of that country\r\n",
        "    # calculate average revenue of those rows\r\n",
        "# Create empty dictionary to store the results\r\n",
        "avg_rev_by_country = {}\r\n",
        "\r\n",
        "# Create an array of unique countries\r\n",
        "countries = f500[\"country\"].unique()\r\n",
        "\r\n",
        "# Use for loop to iterate over the countries\r\n",
        "for c in countries:\r\n",
        "  # Use boolean to select all the rows of each country\r\n",
        "  selected_rows = f500[f500[\"country\"] == c]\r\n",
        "  # Calculate mean average \r\n",
        "  mean = selected_rows[\"revenues\"].mean()\r\n",
        "  # Assign the mean value to avg_rev_by_country\r\n",
        "  avg_rev_by_country[c] = mean\r\n",
        "\r\n",
        "avg_rev_by_country\r\n",
        "\r\n"
      ],
      "execution_count": 57,
      "outputs": [
        {
          "output_type": "execute_result",
          "data": {
            "text/plain": [
              "{'Australia': 33688.71428571428,\n",
              " 'Belgium': 45905.0,\n",
              " 'Brazil': 52024.57142857143,\n",
              " 'Britain': 51588.708333333336,\n",
              " 'Canada': 31848.0,\n",
              " 'China': 55397.880733944956,\n",
              " 'Denmark': 35464.0,\n",
              " 'Finland': 26113.0,\n",
              " 'France': 55231.793103448275,\n",
              " 'Germany': 63915.0,\n",
              " 'India': 39993.0,\n",
              " 'Indonesia': 36487.0,\n",
              " 'Ireland': 32819.5,\n",
              " 'Israel': 21903.0,\n",
              " 'Italy': 51899.57142857143,\n",
              " 'Japan': 53164.03921568627,\n",
              " 'Luxembourg': 56791.0,\n",
              " 'Malaysia': 49479.0,\n",
              " 'Mexico': 54987.5,\n",
              " 'Netherlands': 61708.92857142857,\n",
              " 'Norway': 45873.0,\n",
              " 'Russia': 65247.75,\n",
              " 'Saudi Arabia': 35421.0,\n",
              " 'Singapore': 54454.333333333336,\n",
              " 'South Korea': 49725.6,\n",
              " 'Spain': 40600.666666666664,\n",
              " 'Sweden': 27963.666666666668,\n",
              " 'Switzerland': 51353.57142857143,\n",
              " 'Taiwan': 46364.666666666664,\n",
              " 'Thailand': 48719.0,\n",
              " 'Turkey': 23456.0,\n",
              " 'U.A.E': 22799.0,\n",
              " 'USA': 64218.371212121216,\n",
              " 'Venezuela': 24403.0}"
            ]
          },
          "metadata": {
            "tags": []
          },
          "execution_count": 57
        }
      ]
    },
    {
      "cell_type": "code",
      "metadata": {
        "colab": {
          "base_uri": "https://localhost:8080/"
        },
        "id": "Pvq-vBzKpei1",
        "outputId": "3a10d6c2-46a5-4861-d7ca-7980201215ec"
      },
      "source": [
        "# Find top employer in each country\r\n",
        "top_employer_by_country = {}\r\n",
        "\r\n",
        "# Create an array for unique countries\r\n",
        "countries = f500[\"country\"].unique()\r\n",
        "\r\n",
        "# for loop to find top employer in each country\r\n",
        "for c in countries:\r\n",
        "  # select all the rows for that country\r\n",
        "  selected_rows = f500[f500[\"country\"] == c]\r\n",
        "  # sort the selected rows\r\n",
        "  sorted_rows = selected_rows.sort_values('employees', ascending=False)\r\n",
        "  # Assign the 0 index of sorted row company\r\n",
        "  first_row = sorted_rows.iloc[0]\r\n",
        "  # Assign the company name from first_row\r\n",
        "  top_employer_by_country[c] = first_row[\"company\"]\r\n",
        "\r\n",
        "top_employer_by_country"
      ],
      "execution_count": 58,
      "outputs": [
        {
          "output_type": "execute_result",
          "data": {
            "text/plain": [
              "{'Australia': 'Wesfarmers',\n",
              " 'Belgium': 'Anheuser-Busch InBev',\n",
              " 'Brazil': 'JBS',\n",
              " 'Britain': 'Compass Group',\n",
              " 'Canada': 'George Weston',\n",
              " 'China': 'China National Petroleum',\n",
              " 'Denmark': 'Maersk Group',\n",
              " 'Finland': 'Nokia',\n",
              " 'France': 'Sodexo',\n",
              " 'Germany': 'Volkswagen',\n",
              " 'India': 'State Bank of India',\n",
              " 'Indonesia': 'Pertamina',\n",
              " 'Ireland': 'Accenture',\n",
              " 'Israel': 'Teva Pharmaceutical Industries',\n",
              " 'Italy': 'Poste Italiane',\n",
              " 'Japan': 'Toyota Motor',\n",
              " 'Luxembourg': 'ArcelorMittal',\n",
              " 'Malaysia': 'Petronas',\n",
              " 'Mexico': 'America Movil',\n",
              " 'Netherlands': 'EXOR Group',\n",
              " 'Norway': 'Statoil',\n",
              " 'Russia': 'Gazprom',\n",
              " 'Saudi Arabia': 'SABIC',\n",
              " 'Singapore': 'Flex',\n",
              " 'South Korea': 'Samsung Electronics',\n",
              " 'Spain': 'Banco Santander',\n",
              " 'Sweden': 'H & M Hennes & Mauritz',\n",
              " 'Switzerland': 'Nestle',\n",
              " 'Taiwan': 'Hon Hai Precision Industry',\n",
              " 'Thailand': 'PTT',\n",
              " 'Turkey': 'Koc Holding',\n",
              " 'U.A.E': 'Emirates Group',\n",
              " 'USA': 'Walmart',\n",
              " 'Venezuela': 'Mercantil Servicios Financieros'}"
            ]
          },
          "metadata": {
            "tags": []
          },
          "execution_count": 58
        }
      ]
    },
    {
      "cell_type": "markdown",
      "metadata": {
        "id": "E_GNBGGbtaaL"
      },
      "source": [
        "### 12. Challenge: Calculating Return on Assets by Country\r\n",
        "\r\n",
        "ROA(Return On Assets) is a metric which indicates a company's ability to make profit using their available assets.\r\n",
        "\r\n",
        "$return on assets = {profit}/{assets}$\r\n"
      ]
    },
    {
      "cell_type": "code",
      "metadata": {
        "colab": {
          "base_uri": "https://localhost:8080/",
          "height": 674
        },
        "id": "lO1pIecauxC9",
        "outputId": "7dfe9daf-0222-47ef-d50e-78e141f70937"
      },
      "source": [
        "# create a new column roa on 5f00 datafram\r\n",
        "f500[\"roa\"] = f500[\"profits\"]/f500[\"assets\"]\r\n",
        "f500"
      ],
      "execution_count": 59,
      "outputs": [
        {
          "output_type": "execute_result",
          "data": {
            "text/html": [
              "<div>\n",
              "<style scoped>\n",
              "    .dataframe tbody tr th:only-of-type {\n",
              "        vertical-align: middle;\n",
              "    }\n",
              "\n",
              "    .dataframe tbody tr th {\n",
              "        vertical-align: top;\n",
              "    }\n",
              "\n",
              "    .dataframe thead th {\n",
              "        text-align: right;\n",
              "    }\n",
              "</style>\n",
              "<table border=\"1\" class=\"dataframe\">\n",
              "  <thead>\n",
              "    <tr style=\"text-align: right;\">\n",
              "      <th></th>\n",
              "      <th>company</th>\n",
              "      <th>rank</th>\n",
              "      <th>revenues</th>\n",
              "      <th>revenue_change</th>\n",
              "      <th>profits</th>\n",
              "      <th>assets</th>\n",
              "      <th>profit_change</th>\n",
              "      <th>ceo</th>\n",
              "      <th>industry</th>\n",
              "      <th>sector</th>\n",
              "      <th>previous_rank</th>\n",
              "      <th>country</th>\n",
              "      <th>hq_location</th>\n",
              "      <th>website</th>\n",
              "      <th>years_on_global_500_list</th>\n",
              "      <th>employees</th>\n",
              "      <th>total_stockholder_equity</th>\n",
              "      <th>rank_change</th>\n",
              "      <th>roa</th>\n",
              "    </tr>\n",
              "  </thead>\n",
              "  <tbody>\n",
              "    <tr>\n",
              "      <th>0</th>\n",
              "      <td>Walmart</td>\n",
              "      <td>1</td>\n",
              "      <td>485873</td>\n",
              "      <td>0.8</td>\n",
              "      <td>13643.0</td>\n",
              "      <td>198825</td>\n",
              "      <td>-7.2</td>\n",
              "      <td>C. Douglas McMillon</td>\n",
              "      <td>General Merchandisers</td>\n",
              "      <td>Retailing</td>\n",
              "      <td>1.0</td>\n",
              "      <td>USA</td>\n",
              "      <td>Bentonville, AR</td>\n",
              "      <td>http://www.walmart.com</td>\n",
              "      <td>23</td>\n",
              "      <td>2300000</td>\n",
              "      <td>77798</td>\n",
              "      <td>0.0</td>\n",
              "      <td>0.068618</td>\n",
              "    </tr>\n",
              "    <tr>\n",
              "      <th>1</th>\n",
              "      <td>State Grid</td>\n",
              "      <td>2</td>\n",
              "      <td>315199</td>\n",
              "      <td>-4.4</td>\n",
              "      <td>9571.3</td>\n",
              "      <td>489838</td>\n",
              "      <td>-6.2</td>\n",
              "      <td>Kou Wei</td>\n",
              "      <td>Utilities</td>\n",
              "      <td>Energy</td>\n",
              "      <td>2.0</td>\n",
              "      <td>China</td>\n",
              "      <td>Beijing, China</td>\n",
              "      <td>http://www.sgcc.com.cn</td>\n",
              "      <td>17</td>\n",
              "      <td>926067</td>\n",
              "      <td>209456</td>\n",
              "      <td>0.0</td>\n",
              "      <td>0.019540</td>\n",
              "    </tr>\n",
              "    <tr>\n",
              "      <th>2</th>\n",
              "      <td>Sinopec Group</td>\n",
              "      <td>3</td>\n",
              "      <td>267518</td>\n",
              "      <td>-9.1</td>\n",
              "      <td>1257.9</td>\n",
              "      <td>310726</td>\n",
              "      <td>-65.0</td>\n",
              "      <td>Wang Yupu</td>\n",
              "      <td>Petroleum Refining</td>\n",
              "      <td>Energy</td>\n",
              "      <td>4.0</td>\n",
              "      <td>China</td>\n",
              "      <td>Beijing, China</td>\n",
              "      <td>http://www.sinopec.com</td>\n",
              "      <td>19</td>\n",
              "      <td>713288</td>\n",
              "      <td>106523</td>\n",
              "      <td>1.0</td>\n",
              "      <td>0.004048</td>\n",
              "    </tr>\n",
              "    <tr>\n",
              "      <th>3</th>\n",
              "      <td>China National Petroleum</td>\n",
              "      <td>4</td>\n",
              "      <td>262573</td>\n",
              "      <td>-12.3</td>\n",
              "      <td>1867.5</td>\n",
              "      <td>585619</td>\n",
              "      <td>-73.7</td>\n",
              "      <td>Zhang Jianhua</td>\n",
              "      <td>Petroleum Refining</td>\n",
              "      <td>Energy</td>\n",
              "      <td>3.0</td>\n",
              "      <td>China</td>\n",
              "      <td>Beijing, China</td>\n",
              "      <td>http://www.cnpc.com.cn</td>\n",
              "      <td>17</td>\n",
              "      <td>1512048</td>\n",
              "      <td>301893</td>\n",
              "      <td>-1.0</td>\n",
              "      <td>0.003189</td>\n",
              "    </tr>\n",
              "    <tr>\n",
              "      <th>4</th>\n",
              "      <td>Toyota Motor</td>\n",
              "      <td>5</td>\n",
              "      <td>254694</td>\n",
              "      <td>7.7</td>\n",
              "      <td>16899.3</td>\n",
              "      <td>437575</td>\n",
              "      <td>-12.3</td>\n",
              "      <td>Akio Toyoda</td>\n",
              "      <td>Motor Vehicles and Parts</td>\n",
              "      <td>Motor Vehicles &amp; Parts</td>\n",
              "      <td>8.0</td>\n",
              "      <td>Japan</td>\n",
              "      <td>Toyota, Japan</td>\n",
              "      <td>http://www.toyota-global.com</td>\n",
              "      <td>23</td>\n",
              "      <td>364445</td>\n",
              "      <td>157210</td>\n",
              "      <td>3.0</td>\n",
              "      <td>0.038620</td>\n",
              "    </tr>\n",
              "    <tr>\n",
              "      <th>...</th>\n",
              "      <td>...</td>\n",
              "      <td>...</td>\n",
              "      <td>...</td>\n",
              "      <td>...</td>\n",
              "      <td>...</td>\n",
              "      <td>...</td>\n",
              "      <td>...</td>\n",
              "      <td>...</td>\n",
              "      <td>...</td>\n",
              "      <td>...</td>\n",
              "      <td>...</td>\n",
              "      <td>...</td>\n",
              "      <td>...</td>\n",
              "      <td>...</td>\n",
              "      <td>...</td>\n",
              "      <td>...</td>\n",
              "      <td>...</td>\n",
              "      <td>...</td>\n",
              "      <td>...</td>\n",
              "    </tr>\n",
              "    <tr>\n",
              "      <th>495</th>\n",
              "      <td>Teva Pharmaceutical Industries</td>\n",
              "      <td>496</td>\n",
              "      <td>21903</td>\n",
              "      <td>11.5</td>\n",
              "      <td>329.0</td>\n",
              "      <td>92890</td>\n",
              "      <td>-79.3</td>\n",
              "      <td>Yitzhak Peterburg</td>\n",
              "      <td>Pharmaceuticals</td>\n",
              "      <td>Health Care</td>\n",
              "      <td>NaN</td>\n",
              "      <td>Israel</td>\n",
              "      <td>Petach Tikva, Israel</td>\n",
              "      <td>http://www.tevapharm.com</td>\n",
              "      <td>1</td>\n",
              "      <td>56960</td>\n",
              "      <td>33337</td>\n",
              "      <td>NaN</td>\n",
              "      <td>0.003542</td>\n",
              "    </tr>\n",
              "    <tr>\n",
              "      <th>496</th>\n",
              "      <td>New China Life Insurance</td>\n",
              "      <td>497</td>\n",
              "      <td>21796</td>\n",
              "      <td>-13.3</td>\n",
              "      <td>743.9</td>\n",
              "      <td>100609</td>\n",
              "      <td>-45.6</td>\n",
              "      <td>Wan Feng</td>\n",
              "      <td>Insurance: Life, Health (stock)</td>\n",
              "      <td>Financials</td>\n",
              "      <td>427.0</td>\n",
              "      <td>China</td>\n",
              "      <td>Beijing, China</td>\n",
              "      <td>http://www.newchinalife.com</td>\n",
              "      <td>2</td>\n",
              "      <td>54378</td>\n",
              "      <td>8507</td>\n",
              "      <td>-70.0</td>\n",
              "      <td>0.007394</td>\n",
              "    </tr>\n",
              "    <tr>\n",
              "      <th>497</th>\n",
              "      <td>Wm. Morrison Supermarkets</td>\n",
              "      <td>498</td>\n",
              "      <td>21741</td>\n",
              "      <td>-11.3</td>\n",
              "      <td>406.4</td>\n",
              "      <td>11630</td>\n",
              "      <td>20.4</td>\n",
              "      <td>David T. Potts</td>\n",
              "      <td>Food and Drug Stores</td>\n",
              "      <td>Food &amp; Drug Stores</td>\n",
              "      <td>437.0</td>\n",
              "      <td>Britain</td>\n",
              "      <td>Bradford, Britain</td>\n",
              "      <td>http://www.morrisons.com</td>\n",
              "      <td>13</td>\n",
              "      <td>77210</td>\n",
              "      <td>5111</td>\n",
              "      <td>-61.0</td>\n",
              "      <td>0.034944</td>\n",
              "    </tr>\n",
              "    <tr>\n",
              "      <th>498</th>\n",
              "      <td>TUI</td>\n",
              "      <td>499</td>\n",
              "      <td>21655</td>\n",
              "      <td>-5.5</td>\n",
              "      <td>1151.7</td>\n",
              "      <td>16247</td>\n",
              "      <td>195.5</td>\n",
              "      <td>Friedrich Joussen</td>\n",
              "      <td>Travel Services</td>\n",
              "      <td>Business Services</td>\n",
              "      <td>467.0</td>\n",
              "      <td>Germany</td>\n",
              "      <td>Hanover, Germany</td>\n",
              "      <td>http://www.tuigroup.com</td>\n",
              "      <td>23</td>\n",
              "      <td>66779</td>\n",
              "      <td>3006</td>\n",
              "      <td>-32.0</td>\n",
              "      <td>0.070887</td>\n",
              "    </tr>\n",
              "    <tr>\n",
              "      <th>499</th>\n",
              "      <td>AutoNation</td>\n",
              "      <td>500</td>\n",
              "      <td>21609</td>\n",
              "      <td>3.6</td>\n",
              "      <td>430.5</td>\n",
              "      <td>10060</td>\n",
              "      <td>-2.7</td>\n",
              "      <td>Michael J. Jackson</td>\n",
              "      <td>Specialty Retailers</td>\n",
              "      <td>Retailing</td>\n",
              "      <td>NaN</td>\n",
              "      <td>USA</td>\n",
              "      <td>Fort Lauderdale, FL</td>\n",
              "      <td>http://www.autonation.com</td>\n",
              "      <td>12</td>\n",
              "      <td>26000</td>\n",
              "      <td>2310</td>\n",
              "      <td>NaN</td>\n",
              "      <td>0.042793</td>\n",
              "    </tr>\n",
              "  </tbody>\n",
              "</table>\n",
              "<p>500 rows × 19 columns</p>\n",
              "</div>"
            ],
            "text/plain": [
              "                            company  rank  ...  rank_change       roa\n",
              "0                           Walmart     1  ...          0.0  0.068618\n",
              "1                        State Grid     2  ...          0.0  0.019540\n",
              "2                     Sinopec Group     3  ...          1.0  0.004048\n",
              "3          China National Petroleum     4  ...         -1.0  0.003189\n",
              "4                      Toyota Motor     5  ...          3.0  0.038620\n",
              "..                              ...   ...  ...          ...       ...\n",
              "495  Teva Pharmaceutical Industries   496  ...          NaN  0.003542\n",
              "496        New China Life Insurance   497  ...        -70.0  0.007394\n",
              "497       Wm. Morrison Supermarkets   498  ...        -61.0  0.034944\n",
              "498                             TUI   499  ...        -32.0  0.070887\n",
              "499                      AutoNation   500  ...          NaN  0.042793\n",
              "\n",
              "[500 rows x 19 columns]"
            ]
          },
          "metadata": {
            "tags": []
          },
          "execution_count": 59
        }
      ]
    },
    {
      "cell_type": "code",
      "metadata": {
        "colab": {
          "base_uri": "https://localhost:8080/"
        },
        "id": "TFVnlgjXxW12",
        "outputId": "a7c613cf-daa4-4bc1-e1d7-74f4f6c385a6"
      },
      "source": [
        "# Aggregate by sector and find the topmost company name\r\n",
        "# Get the sector\r\n",
        "sectors = f500[\"sector\"].unique()\r\n",
        "\r\n",
        "# create a data dictionary\r\n",
        "top_roa_by_sector = {}\r\n",
        "\r\n",
        "# For loop for each sector\r\n",
        "for s in sectors:\r\n",
        "  # select all rows for that sector\r\n",
        "  selected_rows = f500[f500[\"sector\"] == s]\r\n",
        "  # sort rows by roa\r\n",
        "  sorted_rows = selected_rows.sort_values(\"roa\", ascending=False)\r\n",
        "  # select the first row\r\n",
        "  first_row = sorted_rows.iloc[0]\r\n",
        "  # get the company name and assign it to dictionary\r\n",
        "  top_roa_by_sector[s] = first_row[\"company\"]\r\n",
        "\r\n",
        "top_roa_by_sector"
      ],
      "execution_count": 60,
      "outputs": [
        {
          "output_type": "execute_result",
          "data": {
            "text/plain": [
              "{'Aerospace & Defense': 'Lockheed Martin',\n",
              " 'Apparel': 'Nike',\n",
              " 'Business Services': 'Adecco Group',\n",
              " 'Chemicals': 'LyondellBasell Industries',\n",
              " 'Energy': 'National Grid',\n",
              " 'Engineering & Construction': 'Pacific Construction Group',\n",
              " 'Financials': 'Berkshire Hathaway',\n",
              " 'Food & Drug Stores': 'Publix Super Markets',\n",
              " 'Food, Beverages & Tobacco': 'Philip Morris International',\n",
              " 'Health Care': 'Gilead Sciences',\n",
              " 'Hotels, Restaurants & Leisure': 'McDonald’s',\n",
              " 'Household Products': 'Unilever',\n",
              " 'Industrials': '3M',\n",
              " 'Materials': 'CRH',\n",
              " 'Media': 'Disney',\n",
              " 'Motor Vehicles & Parts': 'Subaru',\n",
              " 'Retailing': 'H & M Hennes & Mauritz',\n",
              " 'Technology': 'Accenture',\n",
              " 'Telecommunications': 'KDDI',\n",
              " 'Transportation': 'Delta Air Lines',\n",
              " 'Wholesalers': 'McKesson'}"
            ]
          },
          "metadata": {
            "tags": []
          },
          "execution_count": 60
        }
      ]
    },
    {
      "cell_type": "markdown",
      "metadata": {
        "id": "E2yjQU_tz1qE"
      },
      "source": [
        "## Data Cleaning Basics"
      ]
    },
    {
      "cell_type": "markdown",
      "metadata": {
        "id": "KkhPDhEe-7D9"
      },
      "source": [
        "### 1. Reading CSV files with encodings"
      ]
    },
    {
      "cell_type": "code",
      "metadata": {
        "id": "qsCN2oc__rQV"
      },
      "source": [
        "# laptops = pd.read_csv(\"drive/My Drive/data/laptops.csv\")"
      ],
      "execution_count": 61,
      "outputs": []
    },
    {
      "cell_type": "markdown",
      "metadata": {
        "id": "Jcj2ZM4A_616"
      },
      "source": [
        "`UnicodeDecodeError: 'utf-8' codec can't decode byte 0xe9 in position 4: invalid continuation byte.`\r\n",
        "\r\n",
        "This error references UTF-8, which is a type of encoding. Computers can only understand binary (0 or 1) and encodings are systems representing characters in binary.\r\n",
        "\r\n",
        "Following are the common encodings:\r\n",
        "* UTF-8\r\n",
        "* Latin-1 (also known as ISO-8859-1)\r\n",
        "* Windows-1251\r\n"
      ]
    },
    {
      "cell_type": "code",
      "metadata": {
        "colab": {
          "base_uri": "https://localhost:8080/"
        },
        "id": "y2sDM9w3A28W",
        "outputId": "467a68bd-d20a-405f-bc2d-5502e3b64fb8"
      },
      "source": [
        "laptops = pd.read_csv(\"drive/My Drive/data/laptops.csv\", encoding=\"Latin-1\")\r\n",
        "laptops.info()"
      ],
      "execution_count": 62,
      "outputs": [
        {
          "output_type": "stream",
          "text": [
            "<class 'pandas.core.frame.DataFrame'>\n",
            "RangeIndex: 1303 entries, 0 to 1302\n",
            "Data columns (total 13 columns):\n",
            " #   Column                    Non-Null Count  Dtype \n",
            "---  ------                    --------------  ----- \n",
            " 0   Manufacturer              1303 non-null   object\n",
            " 1   Model Name                1303 non-null   object\n",
            " 2   Category                  1303 non-null   object\n",
            " 3   Screen Size               1303 non-null   object\n",
            " 4   Screen                    1303 non-null   object\n",
            " 5   CPU                       1303 non-null   object\n",
            " 6   RAM                       1303 non-null   object\n",
            " 7    Storage                  1303 non-null   object\n",
            " 8   GPU                       1303 non-null   object\n",
            " 9   Operating System          1303 non-null   object\n",
            " 10  Operating System Version  1133 non-null   object\n",
            " 11  Weight                    1303 non-null   object\n",
            " 12  Price (Euros)             1303 non-null   object\n",
            "dtypes: object(13)\n",
            "memory usage: 132.5+ KB\n"
          ],
          "name": "stdout"
        }
      ]
    },
    {
      "cell_type": "markdown",
      "metadata": {
        "id": "nrXUYOlGBe9_"
      },
      "source": [
        "Following are the issues needs to be fixed.\r\n",
        "* All columns has `object` type, indicating that they are represented by strings, not numbers\r\n",
        "* Also, one of the columns `operating System Version`, has null values.\r\n",
        "* Column labels have a variety of upper and lowercase letters, as well as spaces and parantheses\r\n",
        "* `\" Storage\"` column name has a space in front of it"
      ]
    },
    {
      "cell_type": "code",
      "metadata": {
        "colab": {
          "base_uri": "https://localhost:8080/"
        },
        "id": "xiIoFkHRH3qW",
        "outputId": "38b68d7c-61c6-426b-ef73-10e1e7188076"
      },
      "source": [
        "laptops.columns"
      ],
      "execution_count": 63,
      "outputs": [
        {
          "output_type": "execute_result",
          "data": {
            "text/plain": [
              "Index(['Manufacturer', 'Model Name', 'Category', 'Screen Size', 'Screen',\n",
              "       'CPU', 'RAM', ' Storage', 'GPU', 'Operating System',\n",
              "       'Operating System Version', 'Weight', 'Price (Euros)'],\n",
              "      dtype='object')"
            ]
          },
          "metadata": {
            "tags": []
          },
          "execution_count": 63
        }
      ]
    },
    {
      "cell_type": "code",
      "metadata": {
        "colab": {
          "base_uri": "https://localhost:8080/",
          "height": 1000
        },
        "id": "zTTCocWXHSQF",
        "outputId": "dcf64ddb-80bc-47a7-d558-304dfcb77f75"
      },
      "source": [
        "laptops_test = laptops.copy()\r\n",
        "laptops_test"
      ],
      "execution_count": 64,
      "outputs": [
        {
          "output_type": "execute_result",
          "data": {
            "text/html": [
              "<div>\n",
              "<style scoped>\n",
              "    .dataframe tbody tr th:only-of-type {\n",
              "        vertical-align: middle;\n",
              "    }\n",
              "\n",
              "    .dataframe tbody tr th {\n",
              "        vertical-align: top;\n",
              "    }\n",
              "\n",
              "    .dataframe thead th {\n",
              "        text-align: right;\n",
              "    }\n",
              "</style>\n",
              "<table border=\"1\" class=\"dataframe\">\n",
              "  <thead>\n",
              "    <tr style=\"text-align: right;\">\n",
              "      <th></th>\n",
              "      <th>Manufacturer</th>\n",
              "      <th>Model Name</th>\n",
              "      <th>Category</th>\n",
              "      <th>Screen Size</th>\n",
              "      <th>Screen</th>\n",
              "      <th>CPU</th>\n",
              "      <th>RAM</th>\n",
              "      <th>Storage</th>\n",
              "      <th>GPU</th>\n",
              "      <th>Operating System</th>\n",
              "      <th>Operating System Version</th>\n",
              "      <th>Weight</th>\n",
              "      <th>Price (Euros)</th>\n",
              "    </tr>\n",
              "  </thead>\n",
              "  <tbody>\n",
              "    <tr>\n",
              "      <th>0</th>\n",
              "      <td>Apple</td>\n",
              "      <td>MacBook Pro</td>\n",
              "      <td>Ultrabook</td>\n",
              "      <td>13.3\"</td>\n",
              "      <td>IPS Panel Retina Display 2560x1600</td>\n",
              "      <td>Intel Core i5 2.3GHz</td>\n",
              "      <td>8GB</td>\n",
              "      <td>128GB SSD</td>\n",
              "      <td>Intel Iris Plus Graphics 640</td>\n",
              "      <td>macOS</td>\n",
              "      <td>NaN</td>\n",
              "      <td>1.37kg</td>\n",
              "      <td>1339,69</td>\n",
              "    </tr>\n",
              "    <tr>\n",
              "      <th>1</th>\n",
              "      <td>Apple</td>\n",
              "      <td>Macbook Air</td>\n",
              "      <td>Ultrabook</td>\n",
              "      <td>13.3\"</td>\n",
              "      <td>1440x900</td>\n",
              "      <td>Intel Core i5 1.8GHz</td>\n",
              "      <td>8GB</td>\n",
              "      <td>128GB Flash Storage</td>\n",
              "      <td>Intel HD Graphics 6000</td>\n",
              "      <td>macOS</td>\n",
              "      <td>NaN</td>\n",
              "      <td>1.34kg</td>\n",
              "      <td>898,94</td>\n",
              "    </tr>\n",
              "    <tr>\n",
              "      <th>2</th>\n",
              "      <td>HP</td>\n",
              "      <td>250 G6</td>\n",
              "      <td>Notebook</td>\n",
              "      <td>15.6\"</td>\n",
              "      <td>Full HD 1920x1080</td>\n",
              "      <td>Intel Core i5 7200U 2.5GHz</td>\n",
              "      <td>8GB</td>\n",
              "      <td>256GB SSD</td>\n",
              "      <td>Intel HD Graphics 620</td>\n",
              "      <td>No OS</td>\n",
              "      <td>NaN</td>\n",
              "      <td>1.86kg</td>\n",
              "      <td>575,00</td>\n",
              "    </tr>\n",
              "    <tr>\n",
              "      <th>3</th>\n",
              "      <td>Apple</td>\n",
              "      <td>MacBook Pro</td>\n",
              "      <td>Ultrabook</td>\n",
              "      <td>15.4\"</td>\n",
              "      <td>IPS Panel Retina Display 2880x1800</td>\n",
              "      <td>Intel Core i7 2.7GHz</td>\n",
              "      <td>16GB</td>\n",
              "      <td>512GB SSD</td>\n",
              "      <td>AMD Radeon Pro 455</td>\n",
              "      <td>macOS</td>\n",
              "      <td>NaN</td>\n",
              "      <td>1.83kg</td>\n",
              "      <td>2537,45</td>\n",
              "    </tr>\n",
              "    <tr>\n",
              "      <th>4</th>\n",
              "      <td>Apple</td>\n",
              "      <td>MacBook Pro</td>\n",
              "      <td>Ultrabook</td>\n",
              "      <td>13.3\"</td>\n",
              "      <td>IPS Panel Retina Display 2560x1600</td>\n",
              "      <td>Intel Core i5 3.1GHz</td>\n",
              "      <td>8GB</td>\n",
              "      <td>256GB SSD</td>\n",
              "      <td>Intel Iris Plus Graphics 650</td>\n",
              "      <td>macOS</td>\n",
              "      <td>NaN</td>\n",
              "      <td>1.37kg</td>\n",
              "      <td>1803,60</td>\n",
              "    </tr>\n",
              "    <tr>\n",
              "      <th>...</th>\n",
              "      <td>...</td>\n",
              "      <td>...</td>\n",
              "      <td>...</td>\n",
              "      <td>...</td>\n",
              "      <td>...</td>\n",
              "      <td>...</td>\n",
              "      <td>...</td>\n",
              "      <td>...</td>\n",
              "      <td>...</td>\n",
              "      <td>...</td>\n",
              "      <td>...</td>\n",
              "      <td>...</td>\n",
              "      <td>...</td>\n",
              "    </tr>\n",
              "    <tr>\n",
              "      <th>1298</th>\n",
              "      <td>Lenovo</td>\n",
              "      <td>Yoga 500-14ISK</td>\n",
              "      <td>2 in 1 Convertible</td>\n",
              "      <td>14.0\"</td>\n",
              "      <td>IPS Panel Full HD / Touchscreen 1920x1080</td>\n",
              "      <td>Intel Core i7 6500U 2.5GHz</td>\n",
              "      <td>4GB</td>\n",
              "      <td>128GB SSD</td>\n",
              "      <td>Intel HD Graphics 520</td>\n",
              "      <td>Windows</td>\n",
              "      <td>10</td>\n",
              "      <td>1.8kg</td>\n",
              "      <td>638,00</td>\n",
              "    </tr>\n",
              "    <tr>\n",
              "      <th>1299</th>\n",
              "      <td>Lenovo</td>\n",
              "      <td>Yoga 900-13ISK</td>\n",
              "      <td>2 in 1 Convertible</td>\n",
              "      <td>13.3\"</td>\n",
              "      <td>IPS Panel Quad HD+ / Touchscreen 3200x1800</td>\n",
              "      <td>Intel Core i7 6500U 2.5GHz</td>\n",
              "      <td>16GB</td>\n",
              "      <td>512GB SSD</td>\n",
              "      <td>Intel HD Graphics 520</td>\n",
              "      <td>Windows</td>\n",
              "      <td>10</td>\n",
              "      <td>1.3kg</td>\n",
              "      <td>1499,00</td>\n",
              "    </tr>\n",
              "    <tr>\n",
              "      <th>1300</th>\n",
              "      <td>Lenovo</td>\n",
              "      <td>IdeaPad 100S-14IBR</td>\n",
              "      <td>Notebook</td>\n",
              "      <td>14.0\"</td>\n",
              "      <td>1366x768</td>\n",
              "      <td>Intel Celeron Dual Core N3050 1.6GHz</td>\n",
              "      <td>2GB</td>\n",
              "      <td>64GB Flash Storage</td>\n",
              "      <td>Intel HD Graphics</td>\n",
              "      <td>Windows</td>\n",
              "      <td>10</td>\n",
              "      <td>1.5kg</td>\n",
              "      <td>229,00</td>\n",
              "    </tr>\n",
              "    <tr>\n",
              "      <th>1301</th>\n",
              "      <td>HP</td>\n",
              "      <td>15-AC110nv (i7-6500U/6GB/1TB/Radeon</td>\n",
              "      <td>Notebook</td>\n",
              "      <td>15.6\"</td>\n",
              "      <td>1366x768</td>\n",
              "      <td>Intel Core i7 6500U 2.5GHz</td>\n",
              "      <td>6GB</td>\n",
              "      <td>1TB HDD</td>\n",
              "      <td>AMD Radeon R5 M330</td>\n",
              "      <td>Windows</td>\n",
              "      <td>10</td>\n",
              "      <td>2.19kg</td>\n",
              "      <td>764,00</td>\n",
              "    </tr>\n",
              "    <tr>\n",
              "      <th>1302</th>\n",
              "      <td>Asus</td>\n",
              "      <td>X553SA-XX031T (N3050/4GB/500GB/W10)</td>\n",
              "      <td>Notebook</td>\n",
              "      <td>15.6\"</td>\n",
              "      <td>1366x768</td>\n",
              "      <td>Intel Celeron Dual Core N3050 1.6GHz</td>\n",
              "      <td>4GB</td>\n",
              "      <td>500GB HDD</td>\n",
              "      <td>Intel HD Graphics</td>\n",
              "      <td>Windows</td>\n",
              "      <td>10</td>\n",
              "      <td>2.2kg</td>\n",
              "      <td>369,00</td>\n",
              "    </tr>\n",
              "  </tbody>\n",
              "</table>\n",
              "<p>1303 rows × 13 columns</p>\n",
              "</div>"
            ],
            "text/plain": [
              "     Manufacturer                           Model Name  ...  Weight Price (Euros)\n",
              "0           Apple                          MacBook Pro  ...  1.37kg       1339,69\n",
              "1           Apple                          Macbook Air  ...  1.34kg        898,94\n",
              "2              HP                               250 G6  ...  1.86kg        575,00\n",
              "3           Apple                          MacBook Pro  ...  1.83kg       2537,45\n",
              "4           Apple                          MacBook Pro  ...  1.37kg       1803,60\n",
              "...           ...                                  ...  ...     ...           ...\n",
              "1298       Lenovo                       Yoga 500-14ISK  ...   1.8kg        638,00\n",
              "1299       Lenovo                       Yoga 900-13ISK  ...   1.3kg       1499,00\n",
              "1300       Lenovo                   IdeaPad 100S-14IBR  ...   1.5kg        229,00\n",
              "1301           HP  15-AC110nv (i7-6500U/6GB/1TB/Radeon  ...  2.19kg        764,00\n",
              "1302         Asus  X553SA-XX031T (N3050/4GB/500GB/W10)  ...   2.2kg        369,00\n",
              "\n",
              "[1303 rows x 13 columns]"
            ]
          },
          "metadata": {
            "tags": []
          },
          "execution_count": 64
        }
      ]
    },
    {
      "cell_type": "code",
      "metadata": {
        "colab": {
          "base_uri": "https://localhost:8080/"
        },
        "id": "ayeEuNiSICPs",
        "outputId": "d745424a-b530-4d65-9773-dbd942cac351"
      },
      "source": [
        "# Assigning column labels\r\n",
        "laptops_test.columns = [\"A\", \"B\", \"C\", \"D\", \"E\",\r\n",
        "                        'F', 'G', 'H', 'I', 'J',\r\n",
        "                        'K', 'L', 'M']\r\n",
        "print(laptops_test.columns)                        "
      ],
      "execution_count": 65,
      "outputs": [
        {
          "output_type": "stream",
          "text": [
            "Index(['A', 'B', 'C', 'D', 'E', 'F', 'G', 'H', 'I', 'J', 'K', 'L', 'M'], dtype='object')\n"
          ],
          "name": "stdout"
        }
      ]
    },
    {
      "cell_type": "code",
      "metadata": {
        "colab": {
          "base_uri": "https://localhost:8080/"
        },
        "id": "cIc-91hwIjD9",
        "outputId": "611aa970-0884-4c69-826d-71172f468441"
      },
      "source": [
        "# remove any whitepace from start and end of each column name\r\n",
        "new_columns = []\r\n",
        "# For Loop the columns\r\n",
        "for col in laptops.columns:\r\n",
        "  new_columns.append(str.strip(col))\r\n",
        "new_columns  "
      ],
      "execution_count": 66,
      "outputs": [
        {
          "output_type": "execute_result",
          "data": {
            "text/plain": [
              "['Manufacturer',\n",
              " 'Model Name',\n",
              " 'Category',\n",
              " 'Screen Size',\n",
              " 'Screen',\n",
              " 'CPU',\n",
              " 'RAM',\n",
              " 'Storage',\n",
              " 'GPU',\n",
              " 'Operating System',\n",
              " 'Operating System Version',\n",
              " 'Weight',\n",
              " 'Price (Euros)']"
            ]
          },
          "metadata": {
            "tags": []
          },
          "execution_count": 66
        }
      ]
    },
    {
      "cell_type": "code",
      "metadata": {
        "id": "6KUb9G6AJFGd"
      },
      "source": [
        "# Assign the new columns to laptops\r\n",
        "laptops.columns = new_columns"
      ],
      "execution_count": 67,
      "outputs": []
    },
    {
      "cell_type": "markdown",
      "metadata": {
        "id": "wlooiYqOJ_ek"
      },
      "source": [
        "### 2. Cleaning Column Names"
      ]
    },
    {
      "cell_type": "code",
      "metadata": {
        "colab": {
          "base_uri": "https://localhost:8080/"
        },
        "id": "YzlwVXA-Ju4T",
        "outputId": "bfae5127-34e1-46aa-9f0d-7a8e0fbe6670"
      },
      "source": [
        "# check the laptops info\r\n",
        "laptops.info()"
      ],
      "execution_count": 68,
      "outputs": [
        {
          "output_type": "stream",
          "text": [
            "<class 'pandas.core.frame.DataFrame'>\n",
            "RangeIndex: 1303 entries, 0 to 1302\n",
            "Data columns (total 13 columns):\n",
            " #   Column                    Non-Null Count  Dtype \n",
            "---  ------                    --------------  ----- \n",
            " 0   Manufacturer              1303 non-null   object\n",
            " 1   Model Name                1303 non-null   object\n",
            " 2   Category                  1303 non-null   object\n",
            " 3   Screen Size               1303 non-null   object\n",
            " 4   Screen                    1303 non-null   object\n",
            " 5   CPU                       1303 non-null   object\n",
            " 6   RAM                       1303 non-null   object\n",
            " 7   Storage                   1303 non-null   object\n",
            " 8   GPU                       1303 non-null   object\n",
            " 9   Operating System          1303 non-null   object\n",
            " 10  Operating System Version  1133 non-null   object\n",
            " 11  Weight                    1303 non-null   object\n",
            " 12  Price (Euros)             1303 non-null   object\n",
            "dtypes: object(13)\n",
            "memory usage: 132.5+ KB\n"
          ],
          "name": "stdout"
        }
      ]
    },
    {
      "cell_type": "markdown",
      "metadata": {
        "id": "Le_bs1mkJ0mh"
      },
      "source": [
        "### 3. Cleaning Column Names\r\n",
        "\r\n",
        "Column labels still have the following issues, which will make them harder to work with:\r\n",
        "* Upper and lowercase letters\r\n",
        "* Parentheses\r\n",
        "\r\n",
        "Let's finish cleaning our column labels by:\r\n",
        "* Replacing spaces with underscores\r\n",
        "* Removing special characters\r\n",
        "* Making all labels lowercase\r\n",
        "* Shortening any long column names\r\n",
        "\r\n"
      ]
    },
    {
      "cell_type": "code",
      "metadata": {
        "id": "GU4GJ8IMKn1O"
      },
      "source": [
        "# create a function to clean column labels\r\n",
        "def clean_col(col):\r\n",
        "  col = col.strip()\r\n",
        "  col = col.replace(\"(\", \"\")\r\n",
        "  col = col.replace(\")\", \"\")\r\n",
        "  col = col.replace(\"Operating System\", \"os\")  \r\n",
        "  col = col.replace(\" \", \"_\")\r\n",
        "  col = col.lower()\r\n",
        "  return col"
      ],
      "execution_count": 69,
      "outputs": []
    },
    {
      "cell_type": "code",
      "metadata": {
        "colab": {
          "base_uri": "https://localhost:8080/"
        },
        "id": "tfVlIXE5lKrv",
        "outputId": "2affcafc-8442-438b-cbe1-464076f0400b"
      },
      "source": [
        "laptops.columns"
      ],
      "execution_count": 70,
      "outputs": [
        {
          "output_type": "execute_result",
          "data": {
            "text/plain": [
              "Index(['Manufacturer', 'Model Name', 'Category', 'Screen Size', 'Screen',\n",
              "       'CPU', 'RAM', 'Storage', 'GPU', 'Operating System',\n",
              "       'Operating System Version', 'Weight', 'Price (Euros)'],\n",
              "      dtype='object')"
            ]
          },
          "metadata": {
            "tags": []
          },
          "execution_count": 70
        }
      ]
    },
    {
      "cell_type": "code",
      "metadata": {
        "colab": {
          "base_uri": "https://localhost:8080/"
        },
        "id": "7c6kzLpnLvR6",
        "outputId": "39f6428c-b0bb-484a-9b86-1cc50d62dc5b"
      },
      "source": [
        "# clean the column labels\r\n",
        "new_columns = []\r\n",
        "for col in laptops.columns:\r\n",
        "  clean_c = clean_col(col)\r\n",
        "  new_columns.append(clean_c)\r\n",
        "\r\n",
        "new_columns"
      ],
      "execution_count": 71,
      "outputs": [
        {
          "output_type": "execute_result",
          "data": {
            "text/plain": [
              "['manufacturer',\n",
              " 'model_name',\n",
              " 'category',\n",
              " 'screen_size',\n",
              " 'screen',\n",
              " 'cpu',\n",
              " 'ram',\n",
              " 'storage',\n",
              " 'gpu',\n",
              " 'os',\n",
              " 'os_version',\n",
              " 'weight',\n",
              " 'price_euros']"
            ]
          },
          "metadata": {
            "tags": []
          },
          "execution_count": 71
        }
      ]
    },
    {
      "cell_type": "code",
      "metadata": {
        "id": "Rv7UL2r4MP6g"
      },
      "source": [
        "# Assign the new columns\r\n",
        "laptops.columns = new_columns"
      ],
      "execution_count": 72,
      "outputs": []
    },
    {
      "cell_type": "code",
      "metadata": {
        "colab": {
          "base_uri": "https://localhost:8080/"
        },
        "id": "tfi0EgUElcHv",
        "outputId": "835fcd66-da4d-469c-c078-6820c83bba59"
      },
      "source": [
        "laptops.columns"
      ],
      "execution_count": 73,
      "outputs": [
        {
          "output_type": "execute_result",
          "data": {
            "text/plain": [
              "Index(['manufacturer', 'model_name', 'category', 'screen_size', 'screen',\n",
              "       'cpu', 'ram', 'storage', 'gpu', 'os', 'os_version', 'weight',\n",
              "       'price_euros'],\n",
              "      dtype='object')"
            ]
          },
          "metadata": {
            "tags": []
          },
          "execution_count": 73
        }
      ]
    },
    {
      "cell_type": "markdown",
      "metadata": {
        "id": "UdcEctNykKeq"
      },
      "source": [
        "### 4. Converting String Columns to Numeric\r\n",
        "\r\n",
        "All 13 columns have the object dtype, meaning they are stored as strings."
      ]
    },
    {
      "cell_type": "code",
      "metadata": {
        "colab": {
          "base_uri": "https://localhost:8080/"
        },
        "id": "xNPdHel0bFVi",
        "outputId": "1aa555fa-2603-46f0-b42f-630dc6c5a219"
      },
      "source": [
        "print(laptops.iloc[:5, 2:5])"
      ],
      "execution_count": 74,
      "outputs": [
        {
          "output_type": "stream",
          "text": [
            "    category screen_size                              screen\n",
            "0  Ultrabook       13.3\"  IPS Panel Retina Display 2560x1600\n",
            "1  Ultrabook       13.3\"                            1440x900\n",
            "2   Notebook       15.6\"                   Full HD 1920x1080\n",
            "3  Ultrabook       15.4\"  IPS Panel Retina Display 2880x1800\n",
            "4  Ultrabook       13.3\"  IPS Panel Retina Display 2560x1600\n"
          ],
          "name": "stdout"
        }
      ]
    },
    {
      "cell_type": "markdown",
      "metadata": {
        "id": "N48pxpHjcTYW"
      },
      "source": [
        "From the above columns, we have three different types of text data:\r\n",
        "* category - text data\r\n",
        "* screen_size - Numeric data stored with \"\r\n",
        "* screen - combination of text data and with numeric data\r\n",
        "\r\n",
        "Following is the workflow steps to convert text to numeric data:\r\n",
        "1. Explore the data in the columns\r\n",
        "2. Identify patterns and special cases\r\n",
        "3. Remove non-digit characters\r\n",
        "4. Convert the column to a numeric dtype\r\n",
        "5. Rename column if required"
      ]
    },
    {
      "cell_type": "code",
      "metadata": {
        "colab": {
          "base_uri": "https://localhost:8080/"
        },
        "id": "WHy49xoXzYRj",
        "outputId": "966d0a72-3db9-432a-adc9-264a1959453d"
      },
      "source": [
        "# 1. Explore the data\r\n",
        "laptops[\"screen_size\"].dtype, laptops[\"screen_size\"].unique()"
      ],
      "execution_count": 75,
      "outputs": [
        {
          "output_type": "execute_result",
          "data": {
            "text/plain": [
              "(dtype('O'),\n",
              " array(['13.3\"', '15.6\"', '15.4\"', '14.0\"', '12.0\"', '11.6\"', '17.3\"',\n",
              "        '10.1\"', '13.5\"', '12.5\"', '13.0\"', '18.4\"', '13.9\"', '12.3\"',\n",
              "        '17.0\"', '15.0\"', '14.1\"', '11.3\"'], dtype=object))"
            ]
          },
          "metadata": {
            "tags": []
          },
          "execution_count": 75
        }
      ]
    },
    {
      "cell_type": "code",
      "metadata": {
        "colab": {
          "base_uri": "https://localhost:8080/"
        },
        "id": "wG1azEeD0j6e",
        "outputId": "fccf04bc-1da7-4f3d-c3c6-8ca60cc610b6"
      },
      "source": [
        "# 2. Identify patterns and special cases\r\n",
        "unique_ram = laptops[\"ram\"].unique()\r\n",
        "unique_ram"
      ],
      "execution_count": 76,
      "outputs": [
        {
          "output_type": "execute_result",
          "data": {
            "text/plain": [
              "array(['8GB', '16GB', '4GB', '2GB', '12GB', '6GB', '32GB', '24GB', '64GB'],\n",
              "      dtype=object)"
            ]
          },
          "metadata": {
            "tags": []
          },
          "execution_count": 76
        }
      ]
    },
    {
      "cell_type": "markdown",
      "metadata": {
        "id": "d_baendj1HTU"
      },
      "source": [
        "### 5. Removing Non-Digit Characters\r\n",
        "\r\n",
        "pandas library contains dozens of **vectorized string methods**, most of the methods are available using `Series.str` accessor, which means we can access them by adding `str` between the series name and the method name.\r\n",
        "\r\n",
        "`Series.str.replace()` method is the vectorized version of `str.replace()`."
      ]
    },
    {
      "cell_type": "code",
      "metadata": {
        "colab": {
          "base_uri": "https://localhost:8080/"
        },
        "id": "YSkLM5CW1SjM",
        "outputId": "c41b1d2e-d8c4-422f-9ab8-76b0ebdc0a06"
      },
      "source": [
        "laptops[\"screen_size\"] = laptops[\"screen_size\"].str.replace('\"', \"\")\r\n",
        "laptops[\"screen_size\"].unique()"
      ],
      "execution_count": 77,
      "outputs": [
        {
          "output_type": "execute_result",
          "data": {
            "text/plain": [
              "array(['13.3', '15.6', '15.4', '14.0', '12.0', '11.6', '17.3', '10.1',\n",
              "       '13.5', '12.5', '13.0', '18.4', '13.9', '12.3', '17.0', '15.0',\n",
              "       '14.1', '11.3'], dtype=object)"
            ]
          },
          "metadata": {
            "tags": []
          },
          "execution_count": 77
        }
      ]
    },
    {
      "cell_type": "code",
      "metadata": {
        "id": "pAc-YJHn2xZ3"
      },
      "source": [
        "laptops[\"ram\"] = laptops[\"ram\"].str.replace(\"GB\", \"\")\r\n",
        "unique_ram = laptops[\"ram\"].unique()"
      ],
      "execution_count": 78,
      "outputs": []
    },
    {
      "cell_type": "markdown",
      "metadata": {
        "id": "6F0hicOP29CV"
      },
      "source": [
        "### 6. Converting columns to Numeric Dtypes\r\n",
        "\r\n",
        "Use `Series.astype()` method to covert to numeric dtype"
      ]
    },
    {
      "cell_type": "code",
      "metadata": {
        "colab": {
          "base_uri": "https://localhost:8080/"
        },
        "id": "YkMnkF2XwQ9n",
        "outputId": "86945bcf-4aea-404e-d17f-c64fab1dd538"
      },
      "source": [
        "laptops[\"screen_size\"] = laptops[\"screen_size\"].astype(float)\r\n",
        "laptops[\"screen_size\"].dtype, laptops[\"screen_size\"].unique()"
      ],
      "execution_count": 79,
      "outputs": [
        {
          "output_type": "execute_result",
          "data": {
            "text/plain": [
              "(dtype('float64'),\n",
              " array([13.3, 15.6, 15.4, 14. , 12. , 11.6, 17.3, 10.1, 13.5, 12.5, 13. ,\n",
              "        18.4, 13.9, 12.3, 17. , 15. , 14.1, 11.3]))"
            ]
          },
          "metadata": {
            "tags": []
          },
          "execution_count": 79
        }
      ]
    },
    {
      "cell_type": "code",
      "metadata": {
        "colab": {
          "base_uri": "https://localhost:8080/"
        },
        "id": "NBcyJoSvxGia",
        "outputId": "601ec1e4-31a6-4354-8b81-4ea87d3fd9e0"
      },
      "source": [
        "laptops[\"ram\"] = laptops[\"ram\"].astype(int)\r\n",
        "dtypes = laptops.dtypes\r\n",
        "dtypes"
      ],
      "execution_count": 81,
      "outputs": [
        {
          "output_type": "execute_result",
          "data": {
            "text/plain": [
              "manufacturer     object\n",
              "model_name       object\n",
              "category         object\n",
              "screen_size     float64\n",
              "screen           object\n",
              "cpu              object\n",
              "ram               int64\n",
              "storage          object\n",
              "gpu              object\n",
              "os               object\n",
              "os_version       object\n",
              "weight           object\n",
              "price_euros      object\n",
              "dtype: object"
            ]
          },
          "metadata": {
            "tags": []
          },
          "execution_count": 81
        }
      ]
    },
    {
      "cell_type": "markdown",
      "metadata": {
        "id": "fmNIjl9sxe6A"
      },
      "source": [
        "### 7. Renaming columns"
      ]
    },
    {
      "cell_type": "code",
      "metadata": {
        "colab": {
          "base_uri": "https://localhost:8080/"
        },
        "id": "MqglIaL0xqZI",
        "outputId": "17d9255b-9d28-4383-d008-1498c2a8b160"
      },
      "source": [
        "# Rename screen_size as screen_size_inches\r\n",
        "laptops.rename({\"screen_size\":\"screen_size_inches\"}, axis=1, inplace=True)\r\n",
        "laptops.dtypes"
      ],
      "execution_count": 82,
      "outputs": [
        {
          "output_type": "execute_result",
          "data": {
            "text/plain": [
              "manufacturer           object\n",
              "model_name             object\n",
              "category               object\n",
              "screen_size_inches    float64\n",
              "screen                 object\n",
              "cpu                    object\n",
              "ram                     int64\n",
              "storage                object\n",
              "gpu                    object\n",
              "os                     object\n",
              "os_version             object\n",
              "weight                 object\n",
              "price_euros            object\n",
              "dtype: object"
            ]
          },
          "metadata": {
            "tags": []
          },
          "execution_count": 82
        }
      ]
    },
    {
      "cell_type": "code",
      "metadata": {
        "colab": {
          "base_uri": "https://localhost:8080/"
        },
        "id": "eB-eusqpyEva",
        "outputId": "c842fbdf-eb70-47f6-b9a8-d61288648dee"
      },
      "source": [
        "# Rename ram to ram_gb\r\n",
        "laptops.rename({\"ram\" : \"ram_gb\"}, axis=1, inplace=True)\r\n",
        "# describe ram_gb\r\n",
        "ram_gb_desc = laptops[\"ram_gb\"].describe()\r\n",
        "ram_gb_desc"
      ],
      "execution_count": 84,
      "outputs": [
        {
          "output_type": "execute_result",
          "data": {
            "text/plain": [
              "count    1303.000000\n",
              "mean        8.382195\n",
              "std         5.084665\n",
              "min         2.000000\n",
              "25%         4.000000\n",
              "50%         8.000000\n",
              "75%         8.000000\n",
              "max        64.000000\n",
              "Name: ram_gb, dtype: float64"
            ]
          },
          "metadata": {
            "tags": []
          },
          "execution_count": 84
        }
      ]
    },
    {
      "cell_type": "markdown",
      "metadata": {
        "id": "Lf5yryvDynQz"
      },
      "source": [
        "### 8. Extracting values from strings"
      ]
    },
    {
      "cell_type": "code",
      "metadata": {
        "colab": {
          "base_uri": "https://localhost:8080/"
        },
        "id": "_Zllvo0Uy7pe",
        "outputId": "3c9ed564-208b-4144-a824-046abe31aad3"
      },
      "source": [
        "# Extract non numeric values from gpu column\r\n",
        "laptops.gpu.head()"
      ],
      "execution_count": 85,
      "outputs": [
        {
          "output_type": "execute_result",
          "data": {
            "text/plain": [
              "0    Intel Iris Plus Graphics 640\n",
              "1          Intel HD Graphics 6000\n",
              "2           Intel HD Graphics 620\n",
              "3              AMD Radeon Pro 455\n",
              "4    Intel Iris Plus Graphics 650\n",
              "Name: gpu, dtype: object"
            ]
          },
          "metadata": {
            "tags": []
          },
          "execution_count": 85
        }
      ]
    },
    {
      "cell_type": "code",
      "metadata": {
        "colab": {
          "base_uri": "https://localhost:8080/"
        },
        "id": "CEsz_Z0czKEP",
        "outputId": "342b0a05-637f-4355-c900-22f85c051aa9"
      },
      "source": [
        "# Lets use series split\r\n",
        "laptops[\"gpu\"].head().str.split()"
      ],
      "execution_count": 90,
      "outputs": [
        {
          "output_type": "execute_result",
          "data": {
            "text/plain": [
              "0    [Intel, Iris, Plus, Graphics, 640]\n",
              "1           [Intel, HD, Graphics, 6000]\n",
              "2            [Intel, HD, Graphics, 620]\n",
              "3               [AMD, Radeon, Pro, 455]\n",
              "4    [Intel, Iris, Plus, Graphics, 650]\n",
              "Name: gpu, dtype: object"
            ]
          },
          "metadata": {
            "tags": []
          },
          "execution_count": 90
        }
      ]
    },
    {
      "cell_type": "code",
      "metadata": {
        "colab": {
          "base_uri": "https://localhost:8080/"
        },
        "id": "wfxW2RhPzbfX",
        "outputId": "d80fa4cc-eeaa-485a-96fa-18ffe869ceca"
      },
      "source": [
        "# Lets extract cpu manufacturer\r\n",
        "laptops[\"gpu\"].head().str.split().str[0]"
      ],
      "execution_count": 91,
      "outputs": [
        {
          "output_type": "execute_result",
          "data": {
            "text/plain": [
              "0    Intel\n",
              "1    Intel\n",
              "2    Intel\n",
              "3      AMD\n",
              "4    Intel\n",
              "Name: gpu, dtype: object"
            ]
          },
          "metadata": {
            "tags": []
          },
          "execution_count": 91
        }
      ]
    },
    {
      "cell_type": "code",
      "metadata": {
        "id": "GJUTQ6Oqz6Tf"
      },
      "source": [
        "# gpu_manufacturer\r\n",
        "laptops[\"gpu_manufacturer\"] = laptops[\"gpu\"].str.split().str[0]"
      ],
      "execution_count": 92,
      "outputs": []
    },
    {
      "cell_type": "code",
      "metadata": {
        "id": "GSGWkGyU0eHW"
      },
      "source": [
        "# Lets make cpu_manufacturer column\r\n",
        "laptops[\"cpu_manufacturer\"] = (laptops[\"cpu\"]\r\n",
        "                                       .str.split()\r\n",
        "                                       .str[0])"
      ],
      "execution_count": 93,
      "outputs": []
    },
    {
      "cell_type": "code",
      "metadata": {
        "colab": {
          "base_uri": "https://localhost:8080/"
        },
        "id": "w3TnkCvs019C",
        "outputId": "36a1abb3-6766-472e-9c24-e5a72cb79c1c"
      },
      "source": [
        "cpu_manufacturer_counts = laptops[\"cpu_manufacturer\"].value_counts()\r\n",
        "cpu_manufacturer_counts"
      ],
      "execution_count": 94,
      "outputs": [
        {
          "output_type": "execute_result",
          "data": {
            "text/plain": [
              "Intel      1240\n",
              "AMD          62\n",
              "Samsung       1\n",
              "Name: cpu_manufacturer, dtype: int64"
            ]
          },
          "metadata": {
            "tags": []
          },
          "execution_count": 94
        }
      ]
    },
    {
      "cell_type": "markdown",
      "metadata": {
        "id": "upmfOG_m1Aun"
      },
      "source": [
        "### 9. Correcting Bad Values\r\n",
        "\r\n",
        "When the data was scraped from webpage or if there was a manual data entry involved at some point, you may end with inconsistent values.\r\n",
        "\r\n"
      ]
    },
    {
      "cell_type": "code",
      "metadata": {
        "colab": {
          "base_uri": "https://localhost:8080/"
        },
        "id": "d1gOOuZk1Jh2",
        "outputId": "ee97cb93-ab5c-4d2f-81f1-885395fb0971"
      },
      "source": [
        "laptops[\"os\"].value_counts()"
      ],
      "execution_count": 95,
      "outputs": [
        {
          "output_type": "execute_result",
          "data": {
            "text/plain": [
              "Windows      1125\n",
              "No OS          66\n",
              "Linux          62\n",
              "Chrome OS      27\n",
              "macOS          13\n",
              "Mac OS          8\n",
              "Android         2\n",
              "Name: os, dtype: int64"
            ]
          },
          "metadata": {
            "tags": []
          },
          "execution_count": 95
        }
      ]
    },
    {
      "cell_type": "code",
      "metadata": {
        "colab": {
          "base_uri": "https://localhost:8080/"
        },
        "id": "2C_fIBMj1dTH",
        "outputId": "79112e53-a0d8-4df8-f59b-59f29aa4ace9"
      },
      "source": [
        "# Series.map() with a dictionary\r\n",
        "s = pd.Series([\"pair\", \"oranje\", \"bananna\", \"oranje\", \"oranje\", \"oranje\"])\r\n",
        "s"
      ],
      "execution_count": 101,
      "outputs": [
        {
          "output_type": "execute_result",
          "data": {
            "text/plain": [
              "0       pair\n",
              "1     oranje\n",
              "2    bananna\n",
              "3     oranje\n",
              "4     oranje\n",
              "5     oranje\n",
              "dtype: object"
            ]
          },
          "metadata": {
            "tags": []
          },
          "execution_count": 101
        }
      ]
    },
    {
      "cell_type": "code",
      "metadata": {
        "colab": {
          "base_uri": "https://localhost:8080/"
        },
        "id": "EYj7Kccd18mJ",
        "outputId": "75ff0c3a-c4d1-46eb-cfb9-4df23e831b73"
      },
      "source": [
        "corrections = {\"pair\" : \"pear\",\r\n",
        "               \"oranje\" : \"orange\",\r\n",
        "               \"bananna\" : \"banana\"}\r\n",
        "s = s.map(corrections)    \r\n",
        "s           "
      ],
      "execution_count": 102,
      "outputs": [
        {
          "output_type": "execute_result",
          "data": {
            "text/plain": [
              "0      pear\n",
              "1    orange\n",
              "2    banana\n",
              "3    orange\n",
              "4    orange\n",
              "5    orange\n",
              "dtype: object"
            ]
          },
          "metadata": {
            "tags": []
          },
          "execution_count": 102
        }
      ]
    },
    {
      "cell_type": "code",
      "metadata": {
        "colab": {
          "base_uri": "https://localhost:8080/"
        },
        "id": "kfE5y8W62uzX",
        "outputId": "e4218d0b-8000-4eab-f395-86edd9a25d80"
      },
      "source": [
        "# if the value does not exist in series wrto correction, it will covert to NaN\r\n",
        "s = s.map(corrections)\r\n",
        "s"
      ],
      "execution_count": 103,
      "outputs": [
        {
          "output_type": "execute_result",
          "data": {
            "text/plain": [
              "0    NaN\n",
              "1    NaN\n",
              "2    NaN\n",
              "3    NaN\n",
              "4    NaN\n",
              "5    NaN\n",
              "dtype: object"
            ]
          },
          "metadata": {
            "tags": []
          },
          "execution_count": 103
        }
      ]
    },
    {
      "cell_type": "code",
      "metadata": {
        "colab": {
          "base_uri": "https://localhost:8080/"
        },
        "id": "u5s9R5Iw3Z_-",
        "outputId": "a5a69bd8-2b55-46a4-dddc-35c817fa3575"
      },
      "source": [
        "mapping_dict = {\r\n",
        "    'Android': 'Android',\r\n",
        "    'Chrome OS': 'Chrome OS',\r\n",
        "    'Linux': 'Linux',\r\n",
        "    'Mac OS': 'macOS',\r\n",
        "    'No OS': 'No OS',\r\n",
        "    'Windows': 'Windows',\r\n",
        "    'macOS': 'macOS'\r\n",
        "}\r\n",
        "laptops[\"os\"] = laptops[\"os\"].map(mapping_dict)\r\n",
        "laptops[\"os\"].value_counts()"
      ],
      "execution_count": 106,
      "outputs": [
        {
          "output_type": "execute_result",
          "data": {
            "text/plain": [
              "Windows      1125\n",
              "No OS          66\n",
              "Linux          62\n",
              "Chrome OS      27\n",
              "macOS          21\n",
              "Android         2\n",
              "Name: os, dtype: int64"
            ]
          },
          "metadata": {
            "tags": []
          },
          "execution_count": 106
        }
      ]
    },
    {
      "cell_type": "markdown",
      "metadata": {
        "id": "wHTxQbOg33gs"
      },
      "source": [
        "### 10. Dropping missing values\r\n",
        "\r\n",
        "In pandas, null values will be indicated by either `NaN` or `None`.\r\n"
      ]
    },
    {
      "cell_type": "code",
      "metadata": {
        "colab": {
          "base_uri": "https://localhost:8080/",
          "height": 422
        },
        "id": "5CZuLyJk4b68",
        "outputId": "616dde47-6014-48cb-b44a-3114caba45e9"
      },
      "source": [
        "# Identify missing values\r\n",
        "laptops.isnull()"
      ],
      "execution_count": 107,
      "outputs": [
        {
          "output_type": "execute_result",
          "data": {
            "text/html": [
              "<div>\n",
              "<style scoped>\n",
              "    .dataframe tbody tr th:only-of-type {\n",
              "        vertical-align: middle;\n",
              "    }\n",
              "\n",
              "    .dataframe tbody tr th {\n",
              "        vertical-align: top;\n",
              "    }\n",
              "\n",
              "    .dataframe thead th {\n",
              "        text-align: right;\n",
              "    }\n",
              "</style>\n",
              "<table border=\"1\" class=\"dataframe\">\n",
              "  <thead>\n",
              "    <tr style=\"text-align: right;\">\n",
              "      <th></th>\n",
              "      <th>manufacturer</th>\n",
              "      <th>model_name</th>\n",
              "      <th>category</th>\n",
              "      <th>screen_size_inches</th>\n",
              "      <th>screen</th>\n",
              "      <th>cpu</th>\n",
              "      <th>ram_gb</th>\n",
              "      <th>storage</th>\n",
              "      <th>gpu</th>\n",
              "      <th>os</th>\n",
              "      <th>os_version</th>\n",
              "      <th>weight</th>\n",
              "      <th>price_euros</th>\n",
              "      <th>gpu_manufacturer</th>\n",
              "      <th>cpu_manufacturer</th>\n",
              "    </tr>\n",
              "  </thead>\n",
              "  <tbody>\n",
              "    <tr>\n",
              "      <th>0</th>\n",
              "      <td>False</td>\n",
              "      <td>False</td>\n",
              "      <td>False</td>\n",
              "      <td>False</td>\n",
              "      <td>False</td>\n",
              "      <td>False</td>\n",
              "      <td>False</td>\n",
              "      <td>False</td>\n",
              "      <td>False</td>\n",
              "      <td>False</td>\n",
              "      <td>True</td>\n",
              "      <td>False</td>\n",
              "      <td>False</td>\n",
              "      <td>False</td>\n",
              "      <td>False</td>\n",
              "    </tr>\n",
              "    <tr>\n",
              "      <th>1</th>\n",
              "      <td>False</td>\n",
              "      <td>False</td>\n",
              "      <td>False</td>\n",
              "      <td>False</td>\n",
              "      <td>False</td>\n",
              "      <td>False</td>\n",
              "      <td>False</td>\n",
              "      <td>False</td>\n",
              "      <td>False</td>\n",
              "      <td>False</td>\n",
              "      <td>True</td>\n",
              "      <td>False</td>\n",
              "      <td>False</td>\n",
              "      <td>False</td>\n",
              "      <td>False</td>\n",
              "    </tr>\n",
              "    <tr>\n",
              "      <th>2</th>\n",
              "      <td>False</td>\n",
              "      <td>False</td>\n",
              "      <td>False</td>\n",
              "      <td>False</td>\n",
              "      <td>False</td>\n",
              "      <td>False</td>\n",
              "      <td>False</td>\n",
              "      <td>False</td>\n",
              "      <td>False</td>\n",
              "      <td>False</td>\n",
              "      <td>True</td>\n",
              "      <td>False</td>\n",
              "      <td>False</td>\n",
              "      <td>False</td>\n",
              "      <td>False</td>\n",
              "    </tr>\n",
              "    <tr>\n",
              "      <th>3</th>\n",
              "      <td>False</td>\n",
              "      <td>False</td>\n",
              "      <td>False</td>\n",
              "      <td>False</td>\n",
              "      <td>False</td>\n",
              "      <td>False</td>\n",
              "      <td>False</td>\n",
              "      <td>False</td>\n",
              "      <td>False</td>\n",
              "      <td>False</td>\n",
              "      <td>True</td>\n",
              "      <td>False</td>\n",
              "      <td>False</td>\n",
              "      <td>False</td>\n",
              "      <td>False</td>\n",
              "    </tr>\n",
              "    <tr>\n",
              "      <th>4</th>\n",
              "      <td>False</td>\n",
              "      <td>False</td>\n",
              "      <td>False</td>\n",
              "      <td>False</td>\n",
              "      <td>False</td>\n",
              "      <td>False</td>\n",
              "      <td>False</td>\n",
              "      <td>False</td>\n",
              "      <td>False</td>\n",
              "      <td>False</td>\n",
              "      <td>True</td>\n",
              "      <td>False</td>\n",
              "      <td>False</td>\n",
              "      <td>False</td>\n",
              "      <td>False</td>\n",
              "    </tr>\n",
              "    <tr>\n",
              "      <th>...</th>\n",
              "      <td>...</td>\n",
              "      <td>...</td>\n",
              "      <td>...</td>\n",
              "      <td>...</td>\n",
              "      <td>...</td>\n",
              "      <td>...</td>\n",
              "      <td>...</td>\n",
              "      <td>...</td>\n",
              "      <td>...</td>\n",
              "      <td>...</td>\n",
              "      <td>...</td>\n",
              "      <td>...</td>\n",
              "      <td>...</td>\n",
              "      <td>...</td>\n",
              "      <td>...</td>\n",
              "    </tr>\n",
              "    <tr>\n",
              "      <th>1298</th>\n",
              "      <td>False</td>\n",
              "      <td>False</td>\n",
              "      <td>False</td>\n",
              "      <td>False</td>\n",
              "      <td>False</td>\n",
              "      <td>False</td>\n",
              "      <td>False</td>\n",
              "      <td>False</td>\n",
              "      <td>False</td>\n",
              "      <td>False</td>\n",
              "      <td>False</td>\n",
              "      <td>False</td>\n",
              "      <td>False</td>\n",
              "      <td>False</td>\n",
              "      <td>False</td>\n",
              "    </tr>\n",
              "    <tr>\n",
              "      <th>1299</th>\n",
              "      <td>False</td>\n",
              "      <td>False</td>\n",
              "      <td>False</td>\n",
              "      <td>False</td>\n",
              "      <td>False</td>\n",
              "      <td>False</td>\n",
              "      <td>False</td>\n",
              "      <td>False</td>\n",
              "      <td>False</td>\n",
              "      <td>False</td>\n",
              "      <td>False</td>\n",
              "      <td>False</td>\n",
              "      <td>False</td>\n",
              "      <td>False</td>\n",
              "      <td>False</td>\n",
              "    </tr>\n",
              "    <tr>\n",
              "      <th>1300</th>\n",
              "      <td>False</td>\n",
              "      <td>False</td>\n",
              "      <td>False</td>\n",
              "      <td>False</td>\n",
              "      <td>False</td>\n",
              "      <td>False</td>\n",
              "      <td>False</td>\n",
              "      <td>False</td>\n",
              "      <td>False</td>\n",
              "      <td>False</td>\n",
              "      <td>False</td>\n",
              "      <td>False</td>\n",
              "      <td>False</td>\n",
              "      <td>False</td>\n",
              "      <td>False</td>\n",
              "    </tr>\n",
              "    <tr>\n",
              "      <th>1301</th>\n",
              "      <td>False</td>\n",
              "      <td>False</td>\n",
              "      <td>False</td>\n",
              "      <td>False</td>\n",
              "      <td>False</td>\n",
              "      <td>False</td>\n",
              "      <td>False</td>\n",
              "      <td>False</td>\n",
              "      <td>False</td>\n",
              "      <td>False</td>\n",
              "      <td>False</td>\n",
              "      <td>False</td>\n",
              "      <td>False</td>\n",
              "      <td>False</td>\n",
              "      <td>False</td>\n",
              "    </tr>\n",
              "    <tr>\n",
              "      <th>1302</th>\n",
              "      <td>False</td>\n",
              "      <td>False</td>\n",
              "      <td>False</td>\n",
              "      <td>False</td>\n",
              "      <td>False</td>\n",
              "      <td>False</td>\n",
              "      <td>False</td>\n",
              "      <td>False</td>\n",
              "      <td>False</td>\n",
              "      <td>False</td>\n",
              "      <td>False</td>\n",
              "      <td>False</td>\n",
              "      <td>False</td>\n",
              "      <td>False</td>\n",
              "      <td>False</td>\n",
              "    </tr>\n",
              "  </tbody>\n",
              "</table>\n",
              "<p>1303 rows × 15 columns</p>\n",
              "</div>"
            ],
            "text/plain": [
              "      manufacturer  model_name  ...  gpu_manufacturer  cpu_manufacturer\n",
              "0            False       False  ...             False             False\n",
              "1            False       False  ...             False             False\n",
              "2            False       False  ...             False             False\n",
              "3            False       False  ...             False             False\n",
              "4            False       False  ...             False             False\n",
              "...            ...         ...  ...               ...               ...\n",
              "1298         False       False  ...             False             False\n",
              "1299         False       False  ...             False             False\n",
              "1300         False       False  ...             False             False\n",
              "1301         False       False  ...             False             False\n",
              "1302         False       False  ...             False             False\n",
              "\n",
              "[1303 rows x 15 columns]"
            ]
          },
          "metadata": {
            "tags": []
          },
          "execution_count": 107
        }
      ]
    },
    {
      "cell_type": "code",
      "metadata": {
        "colab": {
          "base_uri": "https://localhost:8080/"
        },
        "id": "sQ0Cnkeh4wos",
        "outputId": "b5003ca5-1c38-4e7c-9274-76aec498ca49"
      },
      "source": [
        "# Get the count of each null columns\r\n",
        "laptops.isnull().sum()"
      ],
      "execution_count": 108,
      "outputs": [
        {
          "output_type": "execute_result",
          "data": {
            "text/plain": [
              "manufacturer            0\n",
              "model_name              0\n",
              "category                0\n",
              "screen_size_inches      0\n",
              "screen                  0\n",
              "cpu                     0\n",
              "ram_gb                  0\n",
              "storage                 0\n",
              "gpu                     0\n",
              "os                      0\n",
              "os_version            170\n",
              "weight                  0\n",
              "price_euros             0\n",
              "gpu_manufacturer        0\n",
              "cpu_manufacturer        0\n",
              "dtype: int64"
            ]
          },
          "metadata": {
            "tags": []
          },
          "execution_count": 108
        }
      ]
    },
    {
      "cell_type": "markdown",
      "metadata": {
        "id": "7xGplvYQ5Iqt"
      },
      "source": [
        "There are a few options for handling missing values:\r\n",
        "* Remove any rows that have missing values\r\n",
        "* Remove any columns that have missing values\r\n",
        "* Fill the missing values with some other value\r\n",
        "* Leave the missing values as is"
      ]
    },
    {
      "cell_type": "code",
      "metadata": {
        "colab": {
          "base_uri": "https://localhost:8080/",
          "height": 166
        },
        "id": "wXyY0zXdDJXx",
        "outputId": "8143480e-230d-494c-b29e-3d3a19a7d7bc"
      },
      "source": [
        "df = pd.DataFrame(np.array([[6, 3, 7, 4],\r\n",
        "                            [6, 2, np.NaN, 7],\r\n",
        "                            [4, 3, 7, 7],                            \r\n",
        "                            [2, 5, np.NaN, 7],                                                        \r\n",
        "                           ]))\r\n",
        "df"
      ],
      "execution_count": 112,
      "outputs": [
        {
          "output_type": "execute_result",
          "data": {
            "text/html": [
              "<div>\n",
              "<style scoped>\n",
              "    .dataframe tbody tr th:only-of-type {\n",
              "        vertical-align: middle;\n",
              "    }\n",
              "\n",
              "    .dataframe tbody tr th {\n",
              "        vertical-align: top;\n",
              "    }\n",
              "\n",
              "    .dataframe thead th {\n",
              "        text-align: right;\n",
              "    }\n",
              "</style>\n",
              "<table border=\"1\" class=\"dataframe\">\n",
              "  <thead>\n",
              "    <tr style=\"text-align: right;\">\n",
              "      <th></th>\n",
              "      <th>0</th>\n",
              "      <th>1</th>\n",
              "      <th>2</th>\n",
              "      <th>3</th>\n",
              "    </tr>\n",
              "  </thead>\n",
              "  <tbody>\n",
              "    <tr>\n",
              "      <th>0</th>\n",
              "      <td>6.0</td>\n",
              "      <td>3.0</td>\n",
              "      <td>7.0</td>\n",
              "      <td>4.0</td>\n",
              "    </tr>\n",
              "    <tr>\n",
              "      <th>1</th>\n",
              "      <td>6.0</td>\n",
              "      <td>2.0</td>\n",
              "      <td>NaN</td>\n",
              "      <td>7.0</td>\n",
              "    </tr>\n",
              "    <tr>\n",
              "      <th>2</th>\n",
              "      <td>4.0</td>\n",
              "      <td>3.0</td>\n",
              "      <td>7.0</td>\n",
              "      <td>7.0</td>\n",
              "    </tr>\n",
              "    <tr>\n",
              "      <th>3</th>\n",
              "      <td>2.0</td>\n",
              "      <td>5.0</td>\n",
              "      <td>NaN</td>\n",
              "      <td>7.0</td>\n",
              "    </tr>\n",
              "  </tbody>\n",
              "</table>\n",
              "</div>"
            ],
            "text/plain": [
              "     0    1    2    3\n",
              "0  6.0  3.0  7.0  4.0\n",
              "1  6.0  2.0  NaN  7.0\n",
              "2  4.0  3.0  7.0  7.0\n",
              "3  2.0  5.0  NaN  7.0"
            ]
          },
          "metadata": {
            "tags": []
          },
          "execution_count": 112
        }
      ]
    },
    {
      "cell_type": "code",
      "metadata": {
        "colab": {
          "base_uri": "https://localhost:8080/",
          "height": 106
        },
        "id": "kxImdEBADmPi",
        "outputId": "44885f63-5e39-49d8-93f5-dacc20d665df"
      },
      "source": [
        "# default axis = 0\r\n",
        "df.dropna()"
      ],
      "execution_count": 113,
      "outputs": [
        {
          "output_type": "execute_result",
          "data": {
            "text/html": [
              "<div>\n",
              "<style scoped>\n",
              "    .dataframe tbody tr th:only-of-type {\n",
              "        vertical-align: middle;\n",
              "    }\n",
              "\n",
              "    .dataframe tbody tr th {\n",
              "        vertical-align: top;\n",
              "    }\n",
              "\n",
              "    .dataframe thead th {\n",
              "        text-align: right;\n",
              "    }\n",
              "</style>\n",
              "<table border=\"1\" class=\"dataframe\">\n",
              "  <thead>\n",
              "    <tr style=\"text-align: right;\">\n",
              "      <th></th>\n",
              "      <th>0</th>\n",
              "      <th>1</th>\n",
              "      <th>2</th>\n",
              "      <th>3</th>\n",
              "    </tr>\n",
              "  </thead>\n",
              "  <tbody>\n",
              "    <tr>\n",
              "      <th>0</th>\n",
              "      <td>6.0</td>\n",
              "      <td>3.0</td>\n",
              "      <td>7.0</td>\n",
              "      <td>4.0</td>\n",
              "    </tr>\n",
              "    <tr>\n",
              "      <th>2</th>\n",
              "      <td>4.0</td>\n",
              "      <td>3.0</td>\n",
              "      <td>7.0</td>\n",
              "      <td>7.0</td>\n",
              "    </tr>\n",
              "  </tbody>\n",
              "</table>\n",
              "</div>"
            ],
            "text/plain": [
              "     0    1    2    3\n",
              "0  6.0  3.0  7.0  4.0\n",
              "2  4.0  3.0  7.0  7.0"
            ]
          },
          "metadata": {
            "tags": []
          },
          "execution_count": 113
        }
      ]
    },
    {
      "cell_type": "code",
      "metadata": {
        "colab": {
          "base_uri": "https://localhost:8080/",
          "height": 166
        },
        "id": "5la7BVxvEYsa",
        "outputId": "6c41e905-c29a-4ba8-9ca8-387f83e54d47"
      },
      "source": [
        "df.dropna(axis=1)"
      ],
      "execution_count": 115,
      "outputs": [
        {
          "output_type": "execute_result",
          "data": {
            "text/html": [
              "<div>\n",
              "<style scoped>\n",
              "    .dataframe tbody tr th:only-of-type {\n",
              "        vertical-align: middle;\n",
              "    }\n",
              "\n",
              "    .dataframe tbody tr th {\n",
              "        vertical-align: top;\n",
              "    }\n",
              "\n",
              "    .dataframe thead th {\n",
              "        text-align: right;\n",
              "    }\n",
              "</style>\n",
              "<table border=\"1\" class=\"dataframe\">\n",
              "  <thead>\n",
              "    <tr style=\"text-align: right;\">\n",
              "      <th></th>\n",
              "      <th>0</th>\n",
              "      <th>1</th>\n",
              "      <th>3</th>\n",
              "    </tr>\n",
              "  </thead>\n",
              "  <tbody>\n",
              "    <tr>\n",
              "      <th>0</th>\n",
              "      <td>6.0</td>\n",
              "      <td>3.0</td>\n",
              "      <td>4.0</td>\n",
              "    </tr>\n",
              "    <tr>\n",
              "      <th>1</th>\n",
              "      <td>6.0</td>\n",
              "      <td>2.0</td>\n",
              "      <td>7.0</td>\n",
              "    </tr>\n",
              "    <tr>\n",
              "      <th>2</th>\n",
              "      <td>4.0</td>\n",
              "      <td>3.0</td>\n",
              "      <td>7.0</td>\n",
              "    </tr>\n",
              "    <tr>\n",
              "      <th>3</th>\n",
              "      <td>2.0</td>\n",
              "      <td>5.0</td>\n",
              "      <td>7.0</td>\n",
              "    </tr>\n",
              "  </tbody>\n",
              "</table>\n",
              "</div>"
            ],
            "text/plain": [
              "     0    1    3\n",
              "0  6.0  3.0  4.0\n",
              "1  6.0  2.0  7.0\n",
              "2  4.0  3.0  7.0\n",
              "3  2.0  5.0  7.0"
            ]
          },
          "metadata": {
            "tags": []
          },
          "execution_count": 115
        }
      ]
    },
    {
      "cell_type": "code",
      "metadata": {
        "colab": {
          "base_uri": "https://localhost:8080/"
        },
        "id": "Mdx3VGl3KG8C",
        "outputId": "02bb9209-a6bd-46b2-ac18-13dfc3bcc6cd"
      },
      "source": [
        "laptops_no_null_rows = laptops.dropna()\r\n",
        "laptops_no_null_rows.isnull().sum()"
      ],
      "execution_count": 117,
      "outputs": [
        {
          "output_type": "execute_result",
          "data": {
            "text/plain": [
              "manufacturer          0\n",
              "model_name            0\n",
              "category              0\n",
              "screen_size_inches    0\n",
              "screen                0\n",
              "cpu                   0\n",
              "ram_gb                0\n",
              "storage               0\n",
              "gpu                   0\n",
              "os                    0\n",
              "os_version            0\n",
              "weight                0\n",
              "price_euros           0\n",
              "gpu_manufacturer      0\n",
              "cpu_manufacturer      0\n",
              "dtype: int64"
            ]
          },
          "metadata": {
            "tags": []
          },
          "execution_count": 117
        }
      ]
    },
    {
      "cell_type": "code",
      "metadata": {
        "colab": {
          "base_uri": "https://localhost:8080/"
        },
        "id": "WJG3BkDsKYGm",
        "outputId": "d3c6a2bd-4f99-46ee-caf8-9de3800b7ae9"
      },
      "source": [
        "laptops_no_null_columns = laptops.dropna(axis=1)\r\n",
        "laptops_no_null_columns.isnull().sum()"
      ],
      "execution_count": 120,
      "outputs": [
        {
          "output_type": "execute_result",
          "data": {
            "text/plain": [
              "manufacturer          0\n",
              "model_name            0\n",
              "category              0\n",
              "screen_size_inches    0\n",
              "screen                0\n",
              "cpu                   0\n",
              "ram_gb                0\n",
              "storage               0\n",
              "gpu                   0\n",
              "os                    0\n",
              "weight                0\n",
              "price_euros           0\n",
              "gpu_manufacturer      0\n",
              "cpu_manufacturer      0\n",
              "dtype: int64"
            ]
          },
          "metadata": {
            "tags": []
          },
          "execution_count": 120
        }
      ]
    },
    {
      "cell_type": "markdown",
      "metadata": {
        "id": "dkoh2VZ3KpfX"
      },
      "source": [
        "### 11. Filling missing values"
      ]
    },
    {
      "cell_type": "code",
      "metadata": {
        "colab": {
          "base_uri": "https://localhost:8080/"
        },
        "id": "SNrYKKSTK9FG",
        "outputId": "0e75e913-eff3-495f-e5d6-14b90eac688b"
      },
      "source": [
        "# Explore the missing values in the os_version column\r\n",
        "laptops[\"os_version\"].value_counts(dropna = False)"
      ],
      "execution_count": 122,
      "outputs": [
        {
          "output_type": "execute_result",
          "data": {
            "text/plain": [
              "10      1072\n",
              "NaN      170\n",
              "7         45\n",
              "X          8\n",
              "10 S       8\n",
              "Name: os_version, dtype: int64"
            ]
          },
          "metadata": {
            "tags": []
          },
          "execution_count": 122
        }
      ]
    },
    {
      "cell_type": "code",
      "metadata": {
        "colab": {
          "base_uri": "https://localhost:8080/"
        },
        "id": "8i3p45zyLanI",
        "outputId": "c88e775f-f8cf-45f5-bb13-7d689fb1958f"
      },
      "source": [
        "# lets explore the os column where os_version is null\r\n",
        "os_with_null_v = laptops.loc[laptops[\"os_version\"].isnull(), \"os\"]\r\n",
        "os_with_null_v.value_counts()"
      ],
      "execution_count": 123,
      "outputs": [
        {
          "output_type": "execute_result",
          "data": {
            "text/plain": [
              "No OS        66\n",
              "Linux        62\n",
              "Chrome OS    27\n",
              "macOS        13\n",
              "Android       2\n",
              "Name: os, dtype: int64"
            ]
          },
          "metadata": {
            "tags": []
          },
          "execution_count": 123
        }
      ]
    },
    {
      "cell_type": "code",
      "metadata": {
        "id": "jItFDCvZOP7m"
      },
      "source": [
        "# Lets the fix the macOs null version\r\n",
        "laptops.loc[laptops[\"os\"] == \"macOS\", \"os_version\"] = \"X\""
      ],
      "execution_count": 124,
      "outputs": []
    },
    {
      "cell_type": "code",
      "metadata": {
        "colab": {
          "base_uri": "https://localhost:8080/"
        },
        "id": "KkAq6YVJPZhm",
        "outputId": "4cd4b0f7-87a9-4bba-a340-7d2734b8d93c"
      },
      "source": [
        "value_counts_before = laptops.loc[laptops[\"os_version\"].isnull(), \"os\"].value_counts()\r\n",
        "value_counts_before"
      ],
      "execution_count": 125,
      "outputs": [
        {
          "output_type": "execute_result",
          "data": {
            "text/plain": [
              "No OS        66\n",
              "Linux        62\n",
              "Chrome OS    27\n",
              "Android       2\n",
              "Name: os, dtype: int64"
            ]
          },
          "metadata": {
            "tags": []
          },
          "execution_count": 125
        }
      ]
    },
    {
      "cell_type": "code",
      "metadata": {
        "id": "FMUZdktdOwm9"
      },
      "source": [
        "# For NO OS values, lets replace missing value as \"Version Unknown\"\r\n",
        "laptops.loc[laptops[\"os\"] == \"No OS\", \"os_version\"] = \"Version Unknown\""
      ],
      "execution_count": 131,
      "outputs": []
    },
    {
      "cell_type": "code",
      "metadata": {
        "colab": {
          "base_uri": "https://localhost:8080/"
        },
        "id": "nN_k3y9WPiI1",
        "outputId": "e988979f-daba-479d-ef3c-45079bcdda5d"
      },
      "source": [
        "value_counts_after = laptops.loc[laptops[\"os_version\"].isnull(), \"os\"].value_counts()\r\n",
        "value_counts_after"
      ],
      "execution_count": 133,
      "outputs": [
        {
          "output_type": "execute_result",
          "data": {
            "text/plain": [
              "Linux        62\n",
              "Chrome OS    27\n",
              "Android       2\n",
              "Name: os, dtype: int64"
            ]
          },
          "metadata": {
            "tags": []
          },
          "execution_count": 133
        }
      ]
    },
    {
      "cell_type": "markdown",
      "metadata": {
        "id": "V74nFoe4Plct"
      },
      "source": [
        "### 12. Clean a String Column"
      ]
    },
    {
      "cell_type": "code",
      "metadata": {
        "colab": {
          "base_uri": "https://localhost:8080/"
        },
        "id": "-Rex0DEXQry9",
        "outputId": "1a8b4c46-9e67-4c39-d50e-dca442a9aaca"
      },
      "source": [
        "# We'll clean the weight column\r\n",
        "laptops[\"weight\"].head()"
      ],
      "execution_count": 134,
      "outputs": [
        {
          "output_type": "execute_result",
          "data": {
            "text/plain": [
              "0    1.37kg\n",
              "1    1.34kg\n",
              "2    1.86kg\n",
              "3    1.83kg\n",
              "4    1.37kg\n",
              "Name: weight, dtype: object"
            ]
          },
          "metadata": {
            "tags": []
          },
          "execution_count": 134
        }
      ]
    },
    {
      "cell_type": "code",
      "metadata": {
        "colab": {
          "base_uri": "https://localhost:8080/"
        },
        "id": "gjXTs5cWQ0G1",
        "outputId": "0f29559d-2554-47c6-d0f5-099797807041"
      },
      "source": [
        "# lets replace the string kg\r\n",
        "laptops[\"weight\"] = laptops[\"weight\"].str.replace(\"kg\", \"\")\r\n",
        "laptops[\"weight\"].value_counts()"
      ],
      "execution_count": 136,
      "outputs": [
        {
          "output_type": "execute_result",
          "data": {
            "text/plain": [
              "2.2     121\n",
              "2.1      58\n",
              "2.4      44\n",
              "2.3      41\n",
              "2.5      38\n",
              "       ... \n",
              "4s        1\n",
              "2.72      1\n",
              "3.52      1\n",
              "1.31      1\n",
              "1.59      1\n",
              "Name: weight, Length: 179, dtype: int64"
            ]
          },
          "metadata": {
            "tags": []
          },
          "execution_count": 136
        }
      ]
    },
    {
      "cell_type": "code",
      "metadata": {
        "colab": {
          "base_uri": "https://localhost:8080/"
        },
        "id": "i8ZhpcV1RIL0",
        "outputId": "60c27bba-9b3f-42f8-c57c-bb53553eede2"
      },
      "source": [
        "# check the unique values\r\n",
        "laptops[\"weight\"].unique()"
      ],
      "execution_count": 137,
      "outputs": [
        {
          "output_type": "execute_result",
          "data": {
            "text/plain": [
              "array(['1.37', '1.34', '1.86', '1.83', '2.1', '2.04', '1.3', '1.6', '2.2',\n",
              "       '0.92', '1.22', '0.98', '2.5', '1.62', '1.91', '2.3', '1.35',\n",
              "       '1.88', '1.89', '1.65', '2.71', '1.2', '1.44', '2.8', '2', '2.65',\n",
              "       '2.77', '3.2', '0.69', '1.49', '2.4', '2.13', '2.43', '1.7', '1.4',\n",
              "       '1.8', '1.9', '3', '1.252', '2.7', '2.02', '1.63', '1.96', '1.21',\n",
              "       '2.45', '1.25', '1.5', '2.62', '1.38', '1.58', '1.85', '1.23',\n",
              "       '1.26', '2.16', '2.36', '2.05', '1.32', '1.75', '0.97', '2.9',\n",
              "       '2.56', '1.48', '1.74', '1.1', '1.56', '2.03', '1.05', '4.4',\n",
              "       '1.90', '1.29', '2.0', '1.95', '2.06', '1.12', '1.42', '3.49',\n",
              "       '3.35', '2.23', '4.42', '2.69', '2.37', '4.7', '3.6', '2.08',\n",
              "       '4.3', '1.68', '1.41', '4.14', '2.18', '2.24', '2.67', '2.14',\n",
              "       '1.36', '2.25', '2.15', '2.19', '2.54', '3.42', '1.28', '2.33',\n",
              "       '1.45', '2.79', '1.84', '2.6', '2.26', '3.25', '1.59', '1.13',\n",
              "       '1.78', '1.10', '1.15', '1.27', '1.43', '2.31', '1.16', '1.64',\n",
              "       '2.17', '1.47', '3.78', '1.79', '0.91', '1.99', '4.33', '1.93',\n",
              "       '1.87', '2.63', '3.4', '3.14', '1.94', '1.24', '4.6', '4.5',\n",
              "       '2.73', '1.39', '2.29', '2.59', '2.94', '1.14', '3.8', '3.31',\n",
              "       '1.09', '3.21', '1.19', '1.98', '1.17', '4.36', '1.71', '2.32',\n",
              "       '4.2', '1.55', '0.81', '1.18', '2.72', '1.31', '0.920', '3.74',\n",
              "       '1.76', '1.54', '2.83', '2.07', '2.38', '3.58', '1.08', '2.20',\n",
              "       '2.75', '1.70', '2.99', '1.11', '2.09', '4s', '3.0', '0.99',\n",
              "       '3.52', '2.591', '2.21', '3.3', '2.191', '2.34', '4.0'],\n",
              "      dtype=object)"
            ]
          },
          "metadata": {
            "tags": []
          },
          "execution_count": 137
        }
      ]
    },
    {
      "cell_type": "code",
      "metadata": {
        "colab": {
          "base_uri": "https://localhost:8080/"
        },
        "id": "eNERy2lYR1jX",
        "outputId": "5de61af2-9aa5-4add-9253-4efa9f506955"
      },
      "source": [
        "# replace \"s\"\r\n",
        "laptops[\"weight\"] = laptops[\"weight\"].str.replace(\"s\", \"\")\r\n",
        "laptops[\"weight\"].unique()"
      ],
      "execution_count": 139,
      "outputs": [
        {
          "output_type": "execute_result",
          "data": {
            "text/plain": [
              "array(['1.37', '1.34', '1.86', '1.83', '2.1', '2.04', '1.3', '1.6', '2.2',\n",
              "       '0.92', '1.22', '0.98', '2.5', '1.62', '1.91', '2.3', '1.35',\n",
              "       '1.88', '1.89', '1.65', '2.71', '1.2', '1.44', '2.8', '2', '2.65',\n",
              "       '2.77', '3.2', '0.69', '1.49', '2.4', '2.13', '2.43', '1.7', '1.4',\n",
              "       '1.8', '1.9', '3', '1.252', '2.7', '2.02', '1.63', '1.96', '1.21',\n",
              "       '2.45', '1.25', '1.5', '2.62', '1.38', '1.58', '1.85', '1.23',\n",
              "       '1.26', '2.16', '2.36', '2.05', '1.32', '1.75', '0.97', '2.9',\n",
              "       '2.56', '1.48', '1.74', '1.1', '1.56', '2.03', '1.05', '4.4',\n",
              "       '1.90', '1.29', '2.0', '1.95', '2.06', '1.12', '1.42', '3.49',\n",
              "       '3.35', '2.23', '4.42', '2.69', '2.37', '4.7', '3.6', '2.08',\n",
              "       '4.3', '1.68', '1.41', '4.14', '2.18', '2.24', '2.67', '2.14',\n",
              "       '1.36', '2.25', '2.15', '2.19', '2.54', '3.42', '1.28', '2.33',\n",
              "       '1.45', '2.79', '1.84', '2.6', '2.26', '3.25', '1.59', '1.13',\n",
              "       '1.78', '1.10', '1.15', '1.27', '1.43', '2.31', '1.16', '1.64',\n",
              "       '2.17', '1.47', '3.78', '1.79', '0.91', '1.99', '4.33', '1.93',\n",
              "       '1.87', '2.63', '3.4', '3.14', '1.94', '1.24', '4.6', '4.5',\n",
              "       '2.73', '1.39', '2.29', '2.59', '2.94', '1.14', '3.8', '3.31',\n",
              "       '1.09', '3.21', '1.19', '1.98', '1.17', '4.36', '1.71', '2.32',\n",
              "       '4.2', '1.55', '0.81', '1.18', '2.72', '1.31', '0.920', '3.74',\n",
              "       '1.76', '1.54', '2.83', '2.07', '2.38', '3.58', '1.08', '2.20',\n",
              "       '2.75', '1.70', '2.99', '1.11', '2.09', '4', '3.0', '0.99', '3.52',\n",
              "       '2.591', '2.21', '3.3', '2.191', '2.34', '4.0'], dtype=object)"
            ]
          },
          "metadata": {
            "tags": []
          },
          "execution_count": 139
        }
      ]
    },
    {
      "cell_type": "code",
      "metadata": {
        "colab": {
          "base_uri": "https://localhost:8080/"
        },
        "id": "MssAAbj1Rc68",
        "outputId": "0690609a-7bcc-415a-ca86-a59575436525"
      },
      "source": [
        "# change it to float\r\n",
        "laptops[\"weight\"] = laptops[\"weight\"].astype(float)\r\n",
        "laptops[\"weight\"].unique()"
      ],
      "execution_count": 140,
      "outputs": [
        {
          "output_type": "execute_result",
          "data": {
            "text/plain": [
              "array([1.37 , 1.34 , 1.86 , 1.83 , 2.1  , 2.04 , 1.3  , 1.6  , 2.2  ,\n",
              "       0.92 , 1.22 , 0.98 , 2.5  , 1.62 , 1.91 , 2.3  , 1.35 , 1.88 ,\n",
              "       1.89 , 1.65 , 2.71 , 1.2  , 1.44 , 2.8  , 2.   , 2.65 , 2.77 ,\n",
              "       3.2  , 0.69 , 1.49 , 2.4  , 2.13 , 2.43 , 1.7  , 1.4  , 1.8  ,\n",
              "       1.9  , 3.   , 1.252, 2.7  , 2.02 , 1.63 , 1.96 , 1.21 , 2.45 ,\n",
              "       1.25 , 1.5  , 2.62 , 1.38 , 1.58 , 1.85 , 1.23 , 1.26 , 2.16 ,\n",
              "       2.36 , 2.05 , 1.32 , 1.75 , 0.97 , 2.9  , 2.56 , 1.48 , 1.74 ,\n",
              "       1.1  , 1.56 , 2.03 , 1.05 , 4.4  , 1.29 , 1.95 , 2.06 , 1.12 ,\n",
              "       1.42 , 3.49 , 3.35 , 2.23 , 4.42 , 2.69 , 2.37 , 4.7  , 3.6  ,\n",
              "       2.08 , 4.3  , 1.68 , 1.41 , 4.14 , 2.18 , 2.24 , 2.67 , 2.14 ,\n",
              "       1.36 , 2.25 , 2.15 , 2.19 , 2.54 , 3.42 , 1.28 , 2.33 , 1.45 ,\n",
              "       2.79 , 1.84 , 2.6  , 2.26 , 3.25 , 1.59 , 1.13 , 1.78 , 1.15 ,\n",
              "       1.27 , 1.43 , 2.31 , 1.16 , 1.64 , 2.17 , 1.47 , 3.78 , 1.79 ,\n",
              "       0.91 , 1.99 , 4.33 , 1.93 , 1.87 , 2.63 , 3.4  , 3.14 , 1.94 ,\n",
              "       1.24 , 4.6  , 4.5  , 2.73 , 1.39 , 2.29 , 2.59 , 2.94 , 1.14 ,\n",
              "       3.8  , 3.31 , 1.09 , 3.21 , 1.19 , 1.98 , 1.17 , 4.36 , 1.71 ,\n",
              "       2.32 , 4.2  , 1.55 , 0.81 , 1.18 , 2.72 , 1.31 , 3.74 , 1.76 ,\n",
              "       1.54 , 2.83 , 2.07 , 2.38 , 3.58 , 1.08 , 2.75 , 2.99 , 1.11 ,\n",
              "       2.09 , 4.   , 0.99 , 3.52 , 2.591, 2.21 , 3.3  , 2.191, 2.34 ])"
            ]
          },
          "metadata": {
            "tags": []
          },
          "execution_count": 140
        }
      ]
    },
    {
      "cell_type": "code",
      "metadata": {
        "colab": {
          "base_uri": "https://localhost:8080/"
        },
        "id": "4oQEOa-MRsA0",
        "outputId": "400bee26-0ae0-43c0-bea1-a1aea1e70b3c"
      },
      "source": [
        "laptops.rename({\"weight\" : \"weight_kg\"}, axis=1, inplace=True)\r\n",
        "laptops.dtypes"
      ],
      "execution_count": 143,
      "outputs": [
        {
          "output_type": "execute_result",
          "data": {
            "text/plain": [
              "manufacturer           object\n",
              "model_name             object\n",
              "category               object\n",
              "screen_size_inches    float64\n",
              "screen                 object\n",
              "cpu                    object\n",
              "ram_gb                  int64\n",
              "storage                object\n",
              "gpu                    object\n",
              "os                     object\n",
              "os_version             object\n",
              "weight_kg             float64\n",
              "price_euros            object\n",
              "gpu_manufacturer       object\n",
              "cpu_manufacturer       object\n",
              "dtype: object"
            ]
          },
          "metadata": {
            "tags": []
          },
          "execution_count": 143
        }
      ]
    },
    {
      "cell_type": "code",
      "metadata": {
        "id": "aj58gOWaSQF_"
      },
      "source": [
        "laptops.to_csv(\"drive/My Drive/data/laptops_cleaned.csv\", index=False)"
      ],
      "execution_count": 147,
      "outputs": []
    },
    {
      "cell_type": "code",
      "metadata": {
        "colab": {
          "base_uri": "https://localhost:8080/"
        },
        "id": "hVOW-jRnSw3E",
        "outputId": "79ac2d87-b993-4c51-ac65-0439858e0db6"
      },
      "source": [
        "# convert price_euros column to a numeric dtype\r\n",
        "laptops[\"price_euros\"].unique()"
      ],
      "execution_count": 148,
      "outputs": [
        {
          "output_type": "execute_result",
          "data": {
            "text/plain": [
              "array(['1339,69', '898,94', '575,00', '2537,45', '1803,60', '400,00',\n",
              "       '2139,97', '1158,70', '1495,00', '770,00', '393,90', '344,99',\n",
              "       '2439,97', '498,90', '1262,40', '1518,55', '745,00', '2858,00',\n",
              "       '499,00', '979,00', '191,90', '999,00', '258,00', '819,00',\n",
              "       '659,00', '418,64', '1099,00', '800,00', '1298,00', '896,00',\n",
              "       '244,99', '199,00', '439,00', '1869,00', '998,00', '249,00',\n",
              "       '367,00', '488,69', '879,00', '389,00', '1499,00', '522,99',\n",
              "       '682,00', '1419,00', '369,00', '1299,00', '639,00', '466,00',\n",
              "       '319,00', '841,00', '398,49', '1103,00', '384,00', '767,80',\n",
              "       '586,19', '2449,00', '415,00', '599,00', '941,00', '690,00',\n",
              "       '1983,00', '438,69', '229,00', '549,00', '949,00', '1089,00',\n",
              "       '955,00', '870,00', '1095,00', '519,00', '855,00', '530,00',\n",
              "       '977,00', '1096,16', '1510,00', '860,00', '399,00', '395,00',\n",
              "       '1349,00', '699,00', '598,99', '1449,00', '1649,00', '689,00',\n",
              "       '1197,00', '1195,00', '1049,00', '847,00', '599,90', '485,00',\n",
              "       '577,00', '1249,00', '719,00', '349,00', '647,00', '1119,00',\n",
              "       '1340,00', '414,90', '1193,00', '1480,00', '1262,00', '1379,00',\n",
              "       '1399,00', '722,00', '1629,00', '1398,99', '1084,00', '1130,33',\n",
              "       '564,00', '1118,00', '479,00', '2241,50', '629,00', '1271,00',\n",
              "       '451,00', '259,00', '812,00', '277,99', '1396,00', '928,00',\n",
              "       '638,99', '449,00', '884,00', '572,00', '598,00', '988,00',\n",
              "       '252,36', '938,00', '655,00', '1116,02', '869,00', '602,00',\n",
              "       '2014,00', '344,00', '2029,00', '447,00', '1249,26', '899,00',\n",
              "       '498,00', '1890,00', '1082,00', '619,00', '1315,00', '403,00',\n",
              "       '805,00', '728,00', '1079,00', '348,00', '1799,00', '363,51',\n",
              "       '1060,49', '854,00', '754,00', '309,00', '489,00', '923,00',\n",
              "       '459,00', '2799,00', '813,00', '1849,00', '793,00', '1199,00',\n",
              "       '1549,00', '2397,00', '779,00', '989,00', '1085,00', '2824,00',\n",
              "       '260,00', '999,90', '698,00', '839,00', '914,00', '6099,00',\n",
              "       '959,00', '1045,00', '1845,00', '493,00', '742,00', '1749,00',\n",
              "       '3055,00', '1398,00', '1949,00', '597,00', '1407,00', '931,88',\n",
              "       '589,00', '1031,00', '1149,00', '1279,00', '677,35', '1363,00',\n",
              "       '794,00', '2456,34', '832,00', '859,01', '769,00', '891,00',\n",
              "       '1269,00', '398,99', '330,00', '859,00', '390,00', '3890,00',\n",
              "       '846,00', '1145,00', '889,00', '985,00', '559,00', '2999,00',\n",
              "       '675,00', '2040,00', '469,00', '702,00', '445,90', '1059,00',\n",
              "       '2499,00', '1699,00', '1142,00', '444,00', '657,00', '565,00',\n",
              "       '799,00', '467,00', '1018,00', '880,00', '1958,90', '735,07',\n",
              "       '713,07', '849,00', '428,00', '829,00', '579,00', '951,00',\n",
              "       '1097,00', '1179,00', '659,01', '1187,00', '1829,00', '739,00',\n",
              "       '2884,86', '1468,00', '509,00', '2122,00', '649,00', '1265,00',\n",
              "       '359,99', '1975,00', '1043,00', '2099,00', '275,00', '844,00',\n",
              "       '459,90', '980,00', '1292,00', '1094,00', '902,00', '292,00',\n",
              "       '1049,90', '1335,00', '2639,00', '943,00', '1334,00', '1268,00',\n",
              "       '1144,00', '274,99', '1142,75', '274,90', '716,00', '1579,00',\n",
              "       '1129,00', '279,00', '1607,96', '375,00', '663,00', '2027,42',\n",
              "       '1304,00', '1409,00', '1738,27', '1403,00', '970,90', '321,99',\n",
              "       '557,37', '1427,00', '945,00', '809,00', '1750,00', '426,00',\n",
              "       '2199,00', '869,01', '488,99', '553,00', '286,00', '1191,00',\n",
              "       '403,50', '1655,00', '1748,90', '2282,00', '1369,00', '2135,00',\n",
              "       '2509,00', '1039,00', '1591,00', '693,99', '778,87', '1229,56',\n",
              "       '2712,00', '2625,00', '306,00', '1529,00', '1144,50', '2249,00',\n",
              "       '1873,00', '1747,00', '1680,00', '409,00', '304,45', '1925,00',\n",
              "       '1943,00', '789,01', '598,90', '1500,00', '539,95', '1215,38',\n",
              "       '1899,00', '1159,00', '1142,40', '1999,00', '299,00', '269,00',\n",
              "       '1010,00', '2445,00', '1695,00', '347,00', '2382,00', '749,00',\n",
              "       '1429,00', '441,80', '1993,00', '1027,74', '2589,00', '1534,00',\n",
              "       '1345,00', '2046,00', '639,90', '544,00', '435,00', '2090,00',\n",
              "       '304,00', '759,00', '1858,00', '1154,00', '1275,00', '1841,85',\n",
              "       '740,00', '2408,00', '1364,00', '1672,00', '586,60', '726,00',\n",
              "       '248,90', '2338,00', '1798,00', '1950,00', '1011,99', '1350,00',\n",
              "       '898,90', '911,00', '340,00', '618,99', '1599,00', '265,00',\n",
              "       '1224,00', '613,00', '1323,00', '836,00', '1219,24', '1399,95',\n",
              "       '245,00', '521,47', '2968,00', '1504,00', '1279,73', '585,00',\n",
              "       '1377,00', '3012,77', '797,41', '735,87', '798,00', '705,50',\n",
              "       '785,00', '462,35', '397,00', '1729,00', '1116,99', '2699,00',\n",
              "       '544,15', '1280,00', '224,00', '255,00', '568,90', '617,90',\n",
              "       '630,00', '1965,00', '990,00', '1860,99', '830,00', '685,00',\n",
              "       '1865,00', '2663,00', '2729,00', '749,01', '1008,52', '1537,39',\n",
              "       '295,00', '2349,00', '1498,00', '1673,00', '609,00', '1770,00',\n",
              "       '603,00', '529,00', '2025,00', '1474,00', '1670,00', '1763,00',\n",
              "       '1219,00', '668,48', '329,00', '465,00', '2299,00', '4899,00',\n",
              "       '879,01', '443,90', '359,00', '1168,00', '569,00', '1389,00',\n",
              "       '2267,86', '379,00', '1124,00', '1465,00', '776,00', '932,00',\n",
              "       '239,00', '468,00', '639,01', '1820,00', '1900,00', '1479,00',\n",
              "       '906,62', '1757,42', '2399,00', '1109,00', '520,90', '2450,00',\n",
              "       '1169,00', '450,00', '274,00', '919,00', '2599,00', '1213,00',\n",
              "       '1584,00', '709,00', '1449,90', '1191,80', '364,90', '1064,00',\n",
              "       '1135,00', '1196,00', '3147,37', '1229,00', '419,00', '535,00',\n",
              "       '539,00', '1486,77', '1258,00', '412,00', '1867,85', '817,95',\n",
              "       '1034,00', '1294,00', '495,00', '997,90', '2051,00', '2813,75',\n",
              "       '612,61', '545,67', '318,00', '1907,99', '2590,00', '973,00',\n",
              "       '669,00', '1877,00', '429,00', '621,45', '795,00', '1855,00',\n",
              "       '655,01', '298,00', '1426,66', '857,07', '1200,00', '1686,64',\n",
              "       '836,60', '3659,40', '1348,48', '489,90', '589,52', '1935,00',\n",
              "       '650,00', '960,00', '2419,00', '2094,48', '410,80', '1207,00',\n",
              "       '665,00', '1535,00', '3299,00', '1126,71', '4389,00', '475,00',\n",
              "       '1096,00', '849,90', '1561,00', '2868,99', '1048,00', '1859,00',\n",
              "       '1559,00', '470,34', '1181,27', '1020,00', '1244,00', '2370,00',\n",
              "       '636,00', '2899,00', '581,90', '3588,80', '2350,00', '1764,00',\n",
              "       '1891,00', '1339,00', '202,90', '1970,00', '1165,00', '2330,00',\n",
              "       '810,00', '2064,90', '744,00', '780,00', '1679,00', '2415,00',\n",
              "       '961,00', '789,81', '385,00', '2505,02', '755,00', '1090,00',\n",
              "       '1875,00', '1358,00', '355,00', '5499,00', '1186,00', '1650,00',\n",
              "       '2774,63', '325,00', '590,00', '3072,89', '910,00', '713,99',\n",
              "       '1870,00', '615,00', '1026,00', '2277,00', '865,00', '1903,00',\n",
              "       '787,00', '2559,00', '850,66', '1285,00', '1017,00', '2240,00',\n",
              "       '1778,00', '1055,00', '1388,00', '735,00', '1690,00', '935,00',\n",
              "       '912,50', '1700,00', '684,80', '455,70', '1369,90', '297,00',\n",
              "       '2649,00', '1475,00', '929,00', '900,00', '614,00', '2013,10',\n",
              "       '2049,00', '1962,99', '1483,00', '789,00', '1205,00', '3100,00',\n",
              "       '1018,99', '881,00', '1119,91', '684,99', '1296,99', '1825,00',\n",
              "       '729,90', '708,06', '288,90', '1105,00', '1669,00', '558,60',\n",
              "       '1639,00', '2758,00', '1472,20', '1775,00', '1460,00', '1488,99',\n",
              "       '3154,00', '775,00', '1760,00', '1009,00', '1790,00', '846,50',\n",
              "       '465,62', '825,00', '3149,00', '695,00', '1962,98', '2800,00',\n",
              "       '1180,00', '2049,90', '1002,00', '915,00', '806,00', '1189,00',\n",
              "       '1908,00', '270,62', '1150,00', '380,00', '2089,00', '1260,00',\n",
              "       '547,00', '1099,99', '1049,26', '684,00', '1539,00', '1590,00',\n",
              "       '1887,21', '1210,00', '769,99', '1490,00', '2229,00', '795,99',\n",
              "       '1185,43', '1046,44', '1060,00', '1624,00', '1080,00', '1228,99',\n",
              "       '1725,00', '1062,95', '1010,51', '210,80', '1425,00', '1049,60',\n",
              "       '1000,00', '2103,34', '1469,00', '1545,64', '2289,99', '287,90',\n",
              "       '2620,00', '2254,00', '705,15', '1819,00', '1070,00', '989,99',\n",
              "       '1929,00', '1458,00', '3975,00', '798,01', '1329,00', '1300,00',\n",
              "       '481,98', '1713,49', '540,00', '940,00', '3240,00', '646,27',\n",
              "       '750,00', '1030,99', '387,00', '393,49', '345,99', '818,35',\n",
              "       '638,80', '500,00', '1135,15', '1166,97', '209,00', '1413,10',\n",
              "       '1511,19', '867,00', '398,00', '769,15', '1969,00', '2749,99',\n",
              "       '1029,00', '2226,00', '1312,49', '196,00', '1513,00', '523,63',\n",
              "       '1895,00', '2050,38', '278,00', '752,00', '616,00', '3949,40',\n",
              "       '784,00', '2171,72', '2440,00', '1142,80', '2296,95', '1009,90',\n",
              "       '2339,00', '339,00', '2250,68', '478,89', '1492,80', '788,49',\n",
              "       '2041,00', '1769,00', '476,99', '1390,00', '679,00', '1305,00',\n",
              "       '2153,37', '1637,00', '831,00', '895,01', '333,00', '909,00',\n",
              "       '691,00', '1163,00', '1327,00', '368,00', '2150,00', '272,00',\n",
              "       '2048,90', '2680,00', '1948,99', '174,00', '1272,00', '1476,11',\n",
              "       '1713,37', '1477,00', '521,86', '3499,00', '469,01', '1598,00',\n",
              "       '478,00', '2198,19', '737,00', '597,57', '361,80', '1600,00',\n",
              "       '875,00', '2325,00', '573,00', '1813,00', '324,00', '1072,00',\n",
              "       '443,99', '490,00', '895,00', '833,01', '729,00', '289,00',\n",
              "       '549,99', '805,99', '720,32', '638,00', '764,00'], dtype=object)"
            ]
          },
          "metadata": {
            "tags": []
          },
          "execution_count": 148
        }
      ]
    },
    {
      "cell_type": "code",
      "metadata": {
        "id": "hHOwlKDQVoYG"
      },
      "source": [
        "laptops[\"price_euros\"] = laptops[\"price_euros\"].str.replace(\",\", \"\")"
      ],
      "execution_count": 149,
      "outputs": []
    },
    {
      "cell_type": "code",
      "metadata": {
        "id": "Z80960DPV2ob"
      },
      "source": [
        "laptops[\"price_euros\"] = laptops[\"price_euros\"].astype(int)"
      ],
      "execution_count": 150,
      "outputs": []
    },
    {
      "cell_type": "code",
      "metadata": {
        "colab": {
          "base_uri": "https://localhost:8080/"
        },
        "id": "0fEh5uurWBoC",
        "outputId": "3bd6c4b3-8edf-4706-aa5c-b3bcb0b9fa70"
      },
      "source": [
        "laptops[\"price_euros\"].dtype"
      ],
      "execution_count": 151,
      "outputs": [
        {
          "output_type": "execute_result",
          "data": {
            "text/plain": [
              "dtype('int64')"
            ]
          },
          "metadata": {
            "tags": []
          },
          "execution_count": 151
        }
      ]
    },
    {
      "cell_type": "code",
      "metadata": {
        "colab": {
          "base_uri": "https://localhost:8080/"
        },
        "id": "hIVk1E41WHSi",
        "outputId": "fb11a194-ab95-4940-d064-645c9b49357b"
      },
      "source": [
        "# Extract the screen resolution from screen column\r\n",
        "laptops[\"screen\"].head()"
      ],
      "execution_count": 152,
      "outputs": [
        {
          "output_type": "execute_result",
          "data": {
            "text/plain": [
              "0    IPS Panel Retina Display 2560x1600\n",
              "1                              1440x900\n",
              "2                     Full HD 1920x1080\n",
              "3    IPS Panel Retina Display 2880x1800\n",
              "4    IPS Panel Retina Display 2560x1600\n",
              "Name: screen, dtype: object"
            ]
          },
          "metadata": {
            "tags": []
          },
          "execution_count": 152
        }
      ]
    },
    {
      "cell_type": "code",
      "metadata": {
        "colab": {
          "base_uri": "https://localhost:8080/"
        },
        "id": "KTH4Aw4oWQZq",
        "outputId": "b2730ab1-64cb-4b0d-98a6-f7b5624d0489"
      },
      "source": [
        "laptops[\"screen\"].head().str.split()"
      ],
      "execution_count": 153,
      "outputs": [
        {
          "output_type": "execute_result",
          "data": {
            "text/plain": [
              "0    [IPS, Panel, Retina, Display, 2560x1600]\n",
              "1                                  [1440x900]\n",
              "2                       [Full, HD, 1920x1080]\n",
              "3    [IPS, Panel, Retina, Display, 2880x1800]\n",
              "4    [IPS, Panel, Retina, Display, 2560x1600]\n",
              "Name: screen, dtype: object"
            ]
          },
          "metadata": {
            "tags": []
          },
          "execution_count": 153
        }
      ]
    },
    {
      "cell_type": "code",
      "metadata": {
        "colab": {
          "base_uri": "https://localhost:8080/"
        },
        "id": "xlV1oP1bWXGZ",
        "outputId": "04479d85-731b-49ef-c8af-8fb70d046d81"
      },
      "source": [
        "laptops[\"screen\"].head().str.split().str[-1]"
      ],
      "execution_count": 159,
      "outputs": [
        {
          "output_type": "execute_result",
          "data": {
            "text/plain": [
              "0    2560x1600\n",
              "1     1440x900\n",
              "2    1920x1080\n",
              "3    2880x1800\n",
              "4    2560x1600\n",
              "Name: screen, dtype: object"
            ]
          },
          "metadata": {
            "tags": []
          },
          "execution_count": 159
        }
      ]
    },
    {
      "cell_type": "code",
      "metadata": {
        "colab": {
          "base_uri": "https://localhost:8080/"
        },
        "id": "Q-jimDgFWbVp",
        "outputId": "9611a118-9bfc-49f0-e903-77d725fa42bc"
      },
      "source": [
        "laptops[\"screen_resolution\"] = laptops[\"screen\"].str.split().str[-1]\r\n",
        "laptops.dtypes"
      ],
      "execution_count": 160,
      "outputs": [
        {
          "output_type": "execute_result",
          "data": {
            "text/plain": [
              "manufacturer           object\n",
              "model_name             object\n",
              "category               object\n",
              "screen_size_inches    float64\n",
              "screen                 object\n",
              "cpu                    object\n",
              "ram_gb                  int64\n",
              "storage                object\n",
              "gpu                    object\n",
              "os                     object\n",
              "os_version             object\n",
              "weight_kg             float64\n",
              "price_euros             int64\n",
              "gpu_manufacturer       object\n",
              "cpu_manufacturer       object\n",
              "screen_resolution      object\n",
              "dtype: object"
            ]
          },
          "metadata": {
            "tags": []
          },
          "execution_count": 160
        }
      ]
    },
    {
      "cell_type": "code",
      "metadata": {
        "colab": {
          "base_uri": "https://localhost:8080/"
        },
        "id": "1BEkloYsXS3J",
        "outputId": "3ab24bd1-71c1-41cf-8162-5aea3ada3fb1"
      },
      "source": [
        "laptops[\"cpu\"].head()"
      ],
      "execution_count": 161,
      "outputs": [
        {
          "output_type": "execute_result",
          "data": {
            "text/plain": [
              "0          Intel Core i5 2.3GHz\n",
              "1          Intel Core i5 1.8GHz\n",
              "2    Intel Core i5 7200U 2.5GHz\n",
              "3          Intel Core i7 2.7GHz\n",
              "4          Intel Core i5 3.1GHz\n",
              "Name: cpu, dtype: object"
            ]
          },
          "metadata": {
            "tags": []
          },
          "execution_count": 161
        }
      ]
    },
    {
      "cell_type": "code",
      "metadata": {
        "id": "23mz-lW_Xbny"
      },
      "source": [
        "laptops[\"processor_speed\"] = laptops[\"cpu\"].str.split().str[-1]"
      ],
      "execution_count": 162,
      "outputs": []
    },
    {
      "cell_type": "code",
      "metadata": {
        "colab": {
          "base_uri": "https://localhost:8080/"
        },
        "id": "JQb0scJFXmgq",
        "outputId": "c6d86bb0-2e61-4f40-a37a-ddcb3dc5ff44"
      },
      "source": [
        "laptops[\"processor_speed\"].value_counts()"
      ],
      "execution_count": 163,
      "outputs": [
        {
          "output_type": "execute_result",
          "data": {
            "text/plain": [
              "2.5GHz     290\n",
              "2.8GHz     165\n",
              "2.7GHz     165\n",
              "1.6GHz     133\n",
              "2.3GHz      86\n",
              "1.8GHz      78\n",
              "2.6GHz      76\n",
              "2GHz        67\n",
              "1.1GHz      53\n",
              "2.4GHz      52\n",
              "2.9GHz      21\n",
              "3GHz        19\n",
              "2.0GHz      19\n",
              "1.2GHz      15\n",
              "1.44GHz     12\n",
              "2.2GHz      11\n",
              "1.5GHz      10\n",
              "1.3GHz       6\n",
              "3.6GHz       5\n",
              "0.9GHz       4\n",
              "2.50GHz      3\n",
              "2.1GHz       3\n",
              "3.1GHz       3\n",
              "1.9GHz       2\n",
              "3.2GHz       1\n",
              "1.60GHz      1\n",
              "2.70GHz      1\n",
              "1.92GHz      1\n",
              "1.0GHz       1\n",
              "Name: processor_speed, dtype: int64"
            ]
          },
          "metadata": {
            "tags": []
          },
          "execution_count": 163
        }
      ]
    },
    {
      "cell_type": "code",
      "metadata": {
        "colab": {
          "base_uri": "https://localhost:8080/",
          "height": 450
        },
        "id": "Lgl-VW2EXqYK",
        "outputId": "d28cedbd-05f2-40a6-be36-89d61999d4fb"
      },
      "source": [
        "laptops.head()"
      ],
      "execution_count": 164,
      "outputs": [
        {
          "output_type": "execute_result",
          "data": {
            "text/html": [
              "<div>\n",
              "<style scoped>\n",
              "    .dataframe tbody tr th:only-of-type {\n",
              "        vertical-align: middle;\n",
              "    }\n",
              "\n",
              "    .dataframe tbody tr th {\n",
              "        vertical-align: top;\n",
              "    }\n",
              "\n",
              "    .dataframe thead th {\n",
              "        text-align: right;\n",
              "    }\n",
              "</style>\n",
              "<table border=\"1\" class=\"dataframe\">\n",
              "  <thead>\n",
              "    <tr style=\"text-align: right;\">\n",
              "      <th></th>\n",
              "      <th>manufacturer</th>\n",
              "      <th>model_name</th>\n",
              "      <th>category</th>\n",
              "      <th>screen_size_inches</th>\n",
              "      <th>screen</th>\n",
              "      <th>cpu</th>\n",
              "      <th>ram_gb</th>\n",
              "      <th>storage</th>\n",
              "      <th>gpu</th>\n",
              "      <th>os</th>\n",
              "      <th>os_version</th>\n",
              "      <th>weight_kg</th>\n",
              "      <th>price_euros</th>\n",
              "      <th>gpu_manufacturer</th>\n",
              "      <th>cpu_manufacturer</th>\n",
              "      <th>screen_resolution</th>\n",
              "      <th>processor_speed</th>\n",
              "    </tr>\n",
              "  </thead>\n",
              "  <tbody>\n",
              "    <tr>\n",
              "      <th>0</th>\n",
              "      <td>Apple</td>\n",
              "      <td>MacBook Pro</td>\n",
              "      <td>Ultrabook</td>\n",
              "      <td>13.3</td>\n",
              "      <td>IPS Panel Retina Display 2560x1600</td>\n",
              "      <td>Intel Core i5 2.3GHz</td>\n",
              "      <td>8</td>\n",
              "      <td>128GB SSD</td>\n",
              "      <td>Intel Iris Plus Graphics 640</td>\n",
              "      <td>macOS</td>\n",
              "      <td>X</td>\n",
              "      <td>1.37</td>\n",
              "      <td>133969</td>\n",
              "      <td>Intel</td>\n",
              "      <td>Intel</td>\n",
              "      <td>2560x1600</td>\n",
              "      <td>2.3GHz</td>\n",
              "    </tr>\n",
              "    <tr>\n",
              "      <th>1</th>\n",
              "      <td>Apple</td>\n",
              "      <td>Macbook Air</td>\n",
              "      <td>Ultrabook</td>\n",
              "      <td>13.3</td>\n",
              "      <td>1440x900</td>\n",
              "      <td>Intel Core i5 1.8GHz</td>\n",
              "      <td>8</td>\n",
              "      <td>128GB Flash Storage</td>\n",
              "      <td>Intel HD Graphics 6000</td>\n",
              "      <td>macOS</td>\n",
              "      <td>X</td>\n",
              "      <td>1.34</td>\n",
              "      <td>89894</td>\n",
              "      <td>Intel</td>\n",
              "      <td>Intel</td>\n",
              "      <td>1440x900</td>\n",
              "      <td>1.8GHz</td>\n",
              "    </tr>\n",
              "    <tr>\n",
              "      <th>2</th>\n",
              "      <td>HP</td>\n",
              "      <td>250 G6</td>\n",
              "      <td>Notebook</td>\n",
              "      <td>15.6</td>\n",
              "      <td>Full HD 1920x1080</td>\n",
              "      <td>Intel Core i5 7200U 2.5GHz</td>\n",
              "      <td>8</td>\n",
              "      <td>256GB SSD</td>\n",
              "      <td>Intel HD Graphics 620</td>\n",
              "      <td>No OS</td>\n",
              "      <td>Version Unknown</td>\n",
              "      <td>1.86</td>\n",
              "      <td>57500</td>\n",
              "      <td>Intel</td>\n",
              "      <td>Intel</td>\n",
              "      <td>1920x1080</td>\n",
              "      <td>2.5GHz</td>\n",
              "    </tr>\n",
              "    <tr>\n",
              "      <th>3</th>\n",
              "      <td>Apple</td>\n",
              "      <td>MacBook Pro</td>\n",
              "      <td>Ultrabook</td>\n",
              "      <td>15.4</td>\n",
              "      <td>IPS Panel Retina Display 2880x1800</td>\n",
              "      <td>Intel Core i7 2.7GHz</td>\n",
              "      <td>16</td>\n",
              "      <td>512GB SSD</td>\n",
              "      <td>AMD Radeon Pro 455</td>\n",
              "      <td>macOS</td>\n",
              "      <td>X</td>\n",
              "      <td>1.83</td>\n",
              "      <td>253745</td>\n",
              "      <td>AMD</td>\n",
              "      <td>Intel</td>\n",
              "      <td>2880x1800</td>\n",
              "      <td>2.7GHz</td>\n",
              "    </tr>\n",
              "    <tr>\n",
              "      <th>4</th>\n",
              "      <td>Apple</td>\n",
              "      <td>MacBook Pro</td>\n",
              "      <td>Ultrabook</td>\n",
              "      <td>13.3</td>\n",
              "      <td>IPS Panel Retina Display 2560x1600</td>\n",
              "      <td>Intel Core i5 3.1GHz</td>\n",
              "      <td>8</td>\n",
              "      <td>256GB SSD</td>\n",
              "      <td>Intel Iris Plus Graphics 650</td>\n",
              "      <td>macOS</td>\n",
              "      <td>X</td>\n",
              "      <td>1.37</td>\n",
              "      <td>180360</td>\n",
              "      <td>Intel</td>\n",
              "      <td>Intel</td>\n",
              "      <td>2560x1600</td>\n",
              "      <td>3.1GHz</td>\n",
              "    </tr>\n",
              "  </tbody>\n",
              "</table>\n",
              "</div>"
            ],
            "text/plain": [
              "  manufacturer   model_name  ... screen_resolution  processor_speed\n",
              "0        Apple  MacBook Pro  ...         2560x1600           2.3GHz\n",
              "1        Apple  Macbook Air  ...          1440x900           1.8GHz\n",
              "2           HP       250 G6  ...         1920x1080           2.5GHz\n",
              "3        Apple  MacBook Pro  ...         2880x1800           2.7GHz\n",
              "4        Apple  MacBook Pro  ...         2560x1600           3.1GHz\n",
              "\n",
              "[5 rows x 17 columns]"
            ]
          },
          "metadata": {
            "tags": []
          },
          "execution_count": 164
        }
      ]
    },
    {
      "cell_type": "code",
      "metadata": {
        "id": "ly8xv9tRZPGB"
      },
      "source": [
        ""
      ],
      "execution_count": null,
      "outputs": []
    },
    {
      "cell_type": "code",
      "metadata": {
        "colab": {
          "base_uri": "https://localhost:8080/"
        },
        "id": "igmGR1IoXv7D",
        "outputId": "3f4eafb5-e93d-4c5c-be86-aeefc609e50e"
      },
      "source": [
        "laptops.groupby(\"manufacturer\")[\"price_euros\"].max().sort_values(ascending=False)"
      ],
      "execution_count": 166,
      "outputs": [
        {
          "output_type": "execute_result",
          "data": {
            "text/plain": [
              "manufacturer\n",
              "Razer        609900\n",
              "Lenovo       489900\n",
              "HP           438900\n",
              "Asus         397500\n",
              "Dell         365940\n",
              "Apple        285800\n",
              "Toshiba      279900\n",
              "MSI          279900\n",
              "Acer         259900\n",
              "Microsoft    258900\n",
              "LG           229900\n",
              "Google       219900\n",
              "Samsung      184900\n",
              "Huawei       149900\n",
              "Xiaomi       139995\n",
              "Fujitsu       79900\n",
              "Chuwi         44900\n",
              "Mediacom      38900\n",
              "Vero          26000\n",
              "Name: price_euros, dtype: int64"
            ]
          },
          "metadata": {
            "tags": []
          },
          "execution_count": 166
        }
      ]
    },
    {
      "cell_type": "code",
      "metadata": {
        "id": "Ve3x5E7aY2UZ"
      },
      "source": [
        ""
      ],
      "execution_count": null,
      "outputs": []
    }
  ]
}