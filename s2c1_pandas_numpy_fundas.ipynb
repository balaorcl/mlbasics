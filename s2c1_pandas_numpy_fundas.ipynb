{
  "nbformat": 4,
  "nbformat_minor": 0,
  "metadata": {
    "colab": {
      "name": "s2c1_pandas_numpy_fundas.ipynb",
      "provenance": [],
      "collapsed_sections": [],
      "authorship_tag": "ABX9TyMgnROano+CUSst7JoJjqYZ",
      "include_colab_link": true
    },
    "kernelspec": {
      "name": "python3",
      "display_name": "Python 3"
    }
  },
  "cells": [
    {
      "cell_type": "markdown",
      "metadata": {
        "id": "view-in-github",
        "colab_type": "text"
      },
      "source": [
        "<a href=\"https://colab.research.google.com/github/balaorcl/mlbasics/blob/main/s2c1_pandas_numpy_fundas.ipynb\" target=\"_parent\"><img src=\"https://colab.research.google.com/assets/colab-badge.svg\" alt=\"Open In Colab\"/></a>"
      ]
    },
    {
      "cell_type": "markdown",
      "metadata": {
        "id": "IyRZJDK1OsFa"
      },
      "source": [
        "# Pandas and NumPy Fundamentals\n"
      ]
    },
    {
      "cell_type": "code",
      "metadata": {
        "id": "pXsFxZSoQt2w",
        "colab": {
          "base_uri": "https://localhost:8080/"
        },
        "outputId": "825cdbaa-8d00-4008-e69a-9c917546a84c"
      },
      "source": [
        "from google.colab import drive\n",
        "drive.mount('/content/drive')"
      ],
      "execution_count": 2,
      "outputs": [
        {
          "output_type": "stream",
          "text": [
            "Drive already mounted at /content/drive; to attempt to forcibly remount, call drive.mount(\"/content/drive\", force_remount=True).\n"
          ],
          "name": "stdout"
        }
      ]
    },
    {
      "cell_type": "markdown",
      "metadata": {
        "id": "_5yyOezHPNeX"
      },
      "source": [
        "## Introduction to Numpy"
      ]
    },
    {
      "cell_type": "code",
      "metadata": {
        "id": "uCtVvBc4q9OJ"
      },
      "source": [
        "import numpy as np"
      ],
      "execution_count": 3,
      "outputs": []
    },
    {
      "cell_type": "code",
      "metadata": {
        "id": "53s3LUVoquCc",
        "colab": {
          "base_uri": "https://localhost:8080/"
        },
        "outputId": "3e829482-37ed-4ee7-9196-01ea811a6dcf"
      },
      "source": [
        "data_ndarray = np.array([5, 10, 15, 20])\n",
        "data_ndarray"
      ],
      "execution_count": 4,
      "outputs": [
        {
          "output_type": "execute_result",
          "data": {
            "text/plain": [
              "array([ 5, 10, 15, 20])"
            ]
          },
          "metadata": {
            "tags": []
          },
          "execution_count": 4
        }
      ]
    },
    {
      "cell_type": "markdown",
      "metadata": {
        "id": "Mc5uY8nbNt1e"
      },
      "source": [
        "## Boolean Indexing with Numpy"
      ]
    },
    {
      "cell_type": "code",
      "metadata": {
        "id": "qvRGw89-Q9c5"
      },
      "source": [
        "import numpy as np"
      ],
      "execution_count": 5,
      "outputs": []
    },
    {
      "cell_type": "code",
      "metadata": {
        "id": "i5yos1n9RGCL",
        "colab": {
          "base_uri": "https://localhost:8080/"
        },
        "outputId": "57d3b9a5-7bf9-4089-e33b-d7066f44ba37"
      },
      "source": [
        "taxi = np.genfromtxt(\"drive/My Drive/data/nyc_taxis.csv\", delimiter=\",\")\n",
        "taxi_shape = taxi.shape\n",
        "taxi_shape"
      ],
      "execution_count": 6,
      "outputs": [
        {
          "output_type": "execute_result",
          "data": {
            "text/plain": [
              "(89561, 15)"
            ]
          },
          "metadata": {
            "tags": []
          },
          "execution_count": 6
        }
      ]
    },
    {
      "cell_type": "code",
      "metadata": {
        "id": "Nxz680Z7RGxT"
      },
      "source": [
        "import csv\n",
        "\n",
        "# impoer nyc_taxis.csv as a list of lists\n",
        "f = open(\"drive/My Drive/data/nyc_taxis.csv\", \"r\")\n",
        "taxi_list = list(csv.reader(f))"
      ],
      "execution_count": 7,
      "outputs": []
    },
    {
      "cell_type": "code",
      "metadata": {
        "id": "RCanWNzbRITE"
      },
      "source": [
        ""
      ],
      "execution_count": 7,
      "outputs": []
    },
    {
      "cell_type": "code",
      "metadata": {
        "id": "A01PpMcdRIkT"
      },
      "source": [
        ""
      ],
      "execution_count": 7,
      "outputs": []
    },
    {
      "cell_type": "code",
      "metadata": {
        "id": "wKqU_bt7RIxb"
      },
      "source": [
        ""
      ],
      "execution_count": 7,
      "outputs": []
    },
    {
      "cell_type": "markdown",
      "metadata": {
        "id": "mz22AiszOIGd"
      },
      "source": [
        "## Introduction to Pandas"
      ]
    },
    {
      "cell_type": "markdown",
      "metadata": {
        "id": "I67hKC7iPWJQ"
      },
      "source": [
        "## Exploring Data with Pandas: Fundamentals"
      ]
    },
    {
      "cell_type": "markdown",
      "metadata": {
        "id": "x7rCZ2cjPd95"
      },
      "source": [
        "## Exploring Data with Pandas: Intermediate"
      ]
    },
    {
      "cell_type": "code",
      "metadata": {
        "id": "fJzV2nwPPm8a",
        "colab": {
          "base_uri": "https://localhost:8080/",
          "height": 694
        },
        "outputId": "49454e5a-16d2-4830-9781-7eaa51245257"
      },
      "source": [
        "import pandas as pd\n",
        "# Create DataFrame\n",
        "f500 = pd.read_csv(\"drive/My Drive/data/f500.csv\", index_col=0)\n",
        "f500.index.name = None\n",
        "f500"
      ],
      "execution_count": 8,
      "outputs": [
        {
          "output_type": "execute_result",
          "data": {
            "text/html": [
              "<div>\n",
              "<style scoped>\n",
              "    .dataframe tbody tr th:only-of-type {\n",
              "        vertical-align: middle;\n",
              "    }\n",
              "\n",
              "    .dataframe tbody tr th {\n",
              "        vertical-align: top;\n",
              "    }\n",
              "\n",
              "    .dataframe thead th {\n",
              "        text-align: right;\n",
              "    }\n",
              "</style>\n",
              "<table border=\"1\" class=\"dataframe\">\n",
              "  <thead>\n",
              "    <tr style=\"text-align: right;\">\n",
              "      <th></th>\n",
              "      <th>rank</th>\n",
              "      <th>revenues</th>\n",
              "      <th>revenue_change</th>\n",
              "      <th>profits</th>\n",
              "      <th>assets</th>\n",
              "      <th>profit_change</th>\n",
              "      <th>ceo</th>\n",
              "      <th>industry</th>\n",
              "      <th>sector</th>\n",
              "      <th>previous_rank</th>\n",
              "      <th>country</th>\n",
              "      <th>hq_location</th>\n",
              "      <th>website</th>\n",
              "      <th>years_on_global_500_list</th>\n",
              "      <th>employees</th>\n",
              "      <th>total_stockholder_equity</th>\n",
              "    </tr>\n",
              "  </thead>\n",
              "  <tbody>\n",
              "    <tr>\n",
              "      <th>Walmart</th>\n",
              "      <td>1</td>\n",
              "      <td>485873</td>\n",
              "      <td>0.8</td>\n",
              "      <td>13643.0</td>\n",
              "      <td>198825</td>\n",
              "      <td>-7.2</td>\n",
              "      <td>C. Douglas McMillon</td>\n",
              "      <td>General Merchandisers</td>\n",
              "      <td>Retailing</td>\n",
              "      <td>1</td>\n",
              "      <td>USA</td>\n",
              "      <td>Bentonville, AR</td>\n",
              "      <td>http://www.walmart.com</td>\n",
              "      <td>23</td>\n",
              "      <td>2300000</td>\n",
              "      <td>77798</td>\n",
              "    </tr>\n",
              "    <tr>\n",
              "      <th>State Grid</th>\n",
              "      <td>2</td>\n",
              "      <td>315199</td>\n",
              "      <td>-4.4</td>\n",
              "      <td>9571.3</td>\n",
              "      <td>489838</td>\n",
              "      <td>-6.2</td>\n",
              "      <td>Kou Wei</td>\n",
              "      <td>Utilities</td>\n",
              "      <td>Energy</td>\n",
              "      <td>2</td>\n",
              "      <td>China</td>\n",
              "      <td>Beijing, China</td>\n",
              "      <td>http://www.sgcc.com.cn</td>\n",
              "      <td>17</td>\n",
              "      <td>926067</td>\n",
              "      <td>209456</td>\n",
              "    </tr>\n",
              "    <tr>\n",
              "      <th>Sinopec Group</th>\n",
              "      <td>3</td>\n",
              "      <td>267518</td>\n",
              "      <td>-9.1</td>\n",
              "      <td>1257.9</td>\n",
              "      <td>310726</td>\n",
              "      <td>-65.0</td>\n",
              "      <td>Wang Yupu</td>\n",
              "      <td>Petroleum Refining</td>\n",
              "      <td>Energy</td>\n",
              "      <td>4</td>\n",
              "      <td>China</td>\n",
              "      <td>Beijing, China</td>\n",
              "      <td>http://www.sinopec.com</td>\n",
              "      <td>19</td>\n",
              "      <td>713288</td>\n",
              "      <td>106523</td>\n",
              "    </tr>\n",
              "    <tr>\n",
              "      <th>China National Petroleum</th>\n",
              "      <td>4</td>\n",
              "      <td>262573</td>\n",
              "      <td>-12.3</td>\n",
              "      <td>1867.5</td>\n",
              "      <td>585619</td>\n",
              "      <td>-73.7</td>\n",
              "      <td>Zhang Jianhua</td>\n",
              "      <td>Petroleum Refining</td>\n",
              "      <td>Energy</td>\n",
              "      <td>3</td>\n",
              "      <td>China</td>\n",
              "      <td>Beijing, China</td>\n",
              "      <td>http://www.cnpc.com.cn</td>\n",
              "      <td>17</td>\n",
              "      <td>1512048</td>\n",
              "      <td>301893</td>\n",
              "    </tr>\n",
              "    <tr>\n",
              "      <th>Toyota Motor</th>\n",
              "      <td>5</td>\n",
              "      <td>254694</td>\n",
              "      <td>7.7</td>\n",
              "      <td>16899.3</td>\n",
              "      <td>437575</td>\n",
              "      <td>-12.3</td>\n",
              "      <td>Akio Toyoda</td>\n",
              "      <td>Motor Vehicles and Parts</td>\n",
              "      <td>Motor Vehicles &amp; Parts</td>\n",
              "      <td>8</td>\n",
              "      <td>Japan</td>\n",
              "      <td>Toyota, Japan</td>\n",
              "      <td>http://www.toyota-global.com</td>\n",
              "      <td>23</td>\n",
              "      <td>364445</td>\n",
              "      <td>157210</td>\n",
              "    </tr>\n",
              "    <tr>\n",
              "      <th>...</th>\n",
              "      <td>...</td>\n",
              "      <td>...</td>\n",
              "      <td>...</td>\n",
              "      <td>...</td>\n",
              "      <td>...</td>\n",
              "      <td>...</td>\n",
              "      <td>...</td>\n",
              "      <td>...</td>\n",
              "      <td>...</td>\n",
              "      <td>...</td>\n",
              "      <td>...</td>\n",
              "      <td>...</td>\n",
              "      <td>...</td>\n",
              "      <td>...</td>\n",
              "      <td>...</td>\n",
              "      <td>...</td>\n",
              "    </tr>\n",
              "    <tr>\n",
              "      <th>Teva Pharmaceutical Industries</th>\n",
              "      <td>496</td>\n",
              "      <td>21903</td>\n",
              "      <td>11.5</td>\n",
              "      <td>329.0</td>\n",
              "      <td>92890</td>\n",
              "      <td>-79.3</td>\n",
              "      <td>Yitzhak Peterburg</td>\n",
              "      <td>Pharmaceuticals</td>\n",
              "      <td>Health Care</td>\n",
              "      <td>0</td>\n",
              "      <td>Israel</td>\n",
              "      <td>Petach Tikva, Israel</td>\n",
              "      <td>http://www.tevapharm.com</td>\n",
              "      <td>1</td>\n",
              "      <td>56960</td>\n",
              "      <td>33337</td>\n",
              "    </tr>\n",
              "    <tr>\n",
              "      <th>New China Life Insurance</th>\n",
              "      <td>497</td>\n",
              "      <td>21796</td>\n",
              "      <td>-13.3</td>\n",
              "      <td>743.9</td>\n",
              "      <td>100609</td>\n",
              "      <td>-45.6</td>\n",
              "      <td>Wan Feng</td>\n",
              "      <td>Insurance: Life, Health (stock)</td>\n",
              "      <td>Financials</td>\n",
              "      <td>427</td>\n",
              "      <td>China</td>\n",
              "      <td>Beijing, China</td>\n",
              "      <td>http://www.newchinalife.com</td>\n",
              "      <td>2</td>\n",
              "      <td>54378</td>\n",
              "      <td>8507</td>\n",
              "    </tr>\n",
              "    <tr>\n",
              "      <th>Wm. Morrison Supermarkets</th>\n",
              "      <td>498</td>\n",
              "      <td>21741</td>\n",
              "      <td>-11.3</td>\n",
              "      <td>406.4</td>\n",
              "      <td>11630</td>\n",
              "      <td>20.4</td>\n",
              "      <td>David T. Potts</td>\n",
              "      <td>Food and Drug Stores</td>\n",
              "      <td>Food &amp; Drug Stores</td>\n",
              "      <td>437</td>\n",
              "      <td>Britain</td>\n",
              "      <td>Bradford, Britain</td>\n",
              "      <td>http://www.morrisons.com</td>\n",
              "      <td>13</td>\n",
              "      <td>77210</td>\n",
              "      <td>5111</td>\n",
              "    </tr>\n",
              "    <tr>\n",
              "      <th>TUI</th>\n",
              "      <td>499</td>\n",
              "      <td>21655</td>\n",
              "      <td>-5.5</td>\n",
              "      <td>1151.7</td>\n",
              "      <td>16247</td>\n",
              "      <td>195.5</td>\n",
              "      <td>Friedrich Joussen</td>\n",
              "      <td>Travel Services</td>\n",
              "      <td>Business Services</td>\n",
              "      <td>467</td>\n",
              "      <td>Germany</td>\n",
              "      <td>Hanover, Germany</td>\n",
              "      <td>http://www.tuigroup.com</td>\n",
              "      <td>23</td>\n",
              "      <td>66779</td>\n",
              "      <td>3006</td>\n",
              "    </tr>\n",
              "    <tr>\n",
              "      <th>AutoNation</th>\n",
              "      <td>500</td>\n",
              "      <td>21609</td>\n",
              "      <td>3.6</td>\n",
              "      <td>430.5</td>\n",
              "      <td>10060</td>\n",
              "      <td>-2.7</td>\n",
              "      <td>Michael J. Jackson</td>\n",
              "      <td>Specialty Retailers</td>\n",
              "      <td>Retailing</td>\n",
              "      <td>0</td>\n",
              "      <td>USA</td>\n",
              "      <td>Fort Lauderdale, FL</td>\n",
              "      <td>http://www.autonation.com</td>\n",
              "      <td>12</td>\n",
              "      <td>26000</td>\n",
              "      <td>2310</td>\n",
              "    </tr>\n",
              "  </tbody>\n",
              "</table>\n",
              "<p>500 rows × 16 columns</p>\n",
              "</div>"
            ],
            "text/plain": [
              "                                rank  ...  total_stockholder_equity\n",
              "Walmart                            1  ...                     77798\n",
              "State Grid                         2  ...                    209456\n",
              "Sinopec Group                      3  ...                    106523\n",
              "China National Petroleum           4  ...                    301893\n",
              "Toyota Motor                       5  ...                    157210\n",
              "...                              ...  ...                       ...\n",
              "Teva Pharmaceutical Industries   496  ...                     33337\n",
              "New China Life Insurance         497  ...                      8507\n",
              "Wm. Morrison Supermarkets        498  ...                      5111\n",
              "TUI                              499  ...                      3006\n",
              "AutoNation                       500  ...                      2310\n",
              "\n",
              "[500 rows x 16 columns]"
            ]
          },
          "metadata": {
            "tags": []
          },
          "execution_count": 8
        }
      ]
    },
    {
      "cell_type": "code",
      "metadata": {
        "colab": {
          "base_uri": "https://localhost:8080/"
        },
        "id": "nMwBw_jJFlLR",
        "outputId": "ba6de348-49ca-4b7a-a301-7f7273bf46dd"
      },
      "source": [
        "f500_dict = {\"company\" : \"Name of the company\",\n",
        "             \"rank\": \"Global 500 rank for the company\",\n",
        "             \"revenues\": \"Company's total revenue for the fiscal year, in millions of USD\",\n",
        "             \"revenue_change\": \"Percentage change in revenue between the current and prior fiscal year\",\n",
        "             \"profits\": \"Net income for the fiscal year, in millions of dollars(USD)\",\n",
        "             \"sector\": \"sector in which the company operates\",\n",
        "             \"previous_rank\": \"Global 500 rank for the company for the prior year\",\n",
        "             \"country\": \"Country in which the company is headquartered\",\n",
        "             \"hq_location\": \"City and country, (or city and state for the USA) where the company is headquartered\",\n",
        "             \"employees\": \"Total employees (full-time equivalent, if available) at fiscal year-end\"\n",
        "             }\n",
        "f500_dict"
      ],
      "execution_count": 9,
      "outputs": [
        {
          "output_type": "execute_result",
          "data": {
            "text/plain": [
              "{'company': 'Name of the company',\n",
              " 'country': 'Country in which the company is headquartered',\n",
              " 'employees': 'Total employees (full-time equivalent, if available) at fiscal year-end',\n",
              " 'hq_location': 'City and country, (or city and state for the USA) where the company is headquartered',\n",
              " 'previous_rank': 'Global 500 rank for the company for the prior year',\n",
              " 'profits': 'Net income for the fiscal year, in millions of dollars(USD)',\n",
              " 'rank': 'Global 500 rank for the company',\n",
              " 'revenue_change': 'Percentage change in revenue between the current and prior fiscal year',\n",
              " 'revenues': \"Company's total revenue for the fiscal year, in millions of USD\",\n",
              " 'sector': 'sector in which the company operates'}"
            ]
          },
          "metadata": {
            "tags": []
          },
          "execution_count": 9
        }
      ]
    },
    {
      "cell_type": "code",
      "metadata": {
        "colab": {
          "base_uri": "https://localhost:8080/",
          "height": 204
        },
        "id": "2n3WnYJ5F0Vf",
        "outputId": "a696f983-8f55-4438-a83b-178581a86ecb"
      },
      "source": [
        "f500_selection=f500[[\"rank\", \"revenues\", \"revenue_change\"]].head()\n",
        "f500_selection"
      ],
      "execution_count": 10,
      "outputs": [
        {
          "output_type": "execute_result",
          "data": {
            "text/html": [
              "<div>\n",
              "<style scoped>\n",
              "    .dataframe tbody tr th:only-of-type {\n",
              "        vertical-align: middle;\n",
              "    }\n",
              "\n",
              "    .dataframe tbody tr th {\n",
              "        vertical-align: top;\n",
              "    }\n",
              "\n",
              "    .dataframe thead th {\n",
              "        text-align: right;\n",
              "    }\n",
              "</style>\n",
              "<table border=\"1\" class=\"dataframe\">\n",
              "  <thead>\n",
              "    <tr style=\"text-align: right;\">\n",
              "      <th></th>\n",
              "      <th>rank</th>\n",
              "      <th>revenues</th>\n",
              "      <th>revenue_change</th>\n",
              "    </tr>\n",
              "  </thead>\n",
              "  <tbody>\n",
              "    <tr>\n",
              "      <th>Walmart</th>\n",
              "      <td>1</td>\n",
              "      <td>485873</td>\n",
              "      <td>0.8</td>\n",
              "    </tr>\n",
              "    <tr>\n",
              "      <th>State Grid</th>\n",
              "      <td>2</td>\n",
              "      <td>315199</td>\n",
              "      <td>-4.4</td>\n",
              "    </tr>\n",
              "    <tr>\n",
              "      <th>Sinopec Group</th>\n",
              "      <td>3</td>\n",
              "      <td>267518</td>\n",
              "      <td>-9.1</td>\n",
              "    </tr>\n",
              "    <tr>\n",
              "      <th>China National Petroleum</th>\n",
              "      <td>4</td>\n",
              "      <td>262573</td>\n",
              "      <td>-12.3</td>\n",
              "    </tr>\n",
              "    <tr>\n",
              "      <th>Toyota Motor</th>\n",
              "      <td>5</td>\n",
              "      <td>254694</td>\n",
              "      <td>7.7</td>\n",
              "    </tr>\n",
              "  </tbody>\n",
              "</table>\n",
              "</div>"
            ],
            "text/plain": [
              "                          rank  revenues  revenue_change\n",
              "Walmart                      1    485873             0.8\n",
              "State Grid                   2    315199            -4.4\n",
              "Sinopec Group                3    267518            -9.1\n",
              "China National Petroleum     4    262573           -12.3\n",
              "Toyota Motor                 5    254694             7.7"
            ]
          },
          "metadata": {
            "tags": []
          },
          "execution_count": 10
        }
      ]
    },
    {
      "cell_type": "markdown",
      "metadata": {
        "id": "_mxJ96AOJSd3"
      },
      "source": [
        "### 2. Reading CSV files with pandas"
      ]
    },
    {
      "cell_type": "code",
      "metadata": {
        "colab": {
          "base_uri": "https://localhost:8080/",
          "height": 694
        },
        "id": "XQG9QFkSVpIP",
        "outputId": "10467576-4f38-48ec-cb9c-dd25fd85d249"
      },
      "source": [
        "# Without index_col = 0\r\n",
        "f500 = pd.read_csv(\"drive/My Drive/data/f500.csv\")\r\n",
        "f500"
      ],
      "execution_count": 11,
      "outputs": [
        {
          "output_type": "execute_result",
          "data": {
            "text/html": [
              "<div>\n",
              "<style scoped>\n",
              "    .dataframe tbody tr th:only-of-type {\n",
              "        vertical-align: middle;\n",
              "    }\n",
              "\n",
              "    .dataframe tbody tr th {\n",
              "        vertical-align: top;\n",
              "    }\n",
              "\n",
              "    .dataframe thead th {\n",
              "        text-align: right;\n",
              "    }\n",
              "</style>\n",
              "<table border=\"1\" class=\"dataframe\">\n",
              "  <thead>\n",
              "    <tr style=\"text-align: right;\">\n",
              "      <th></th>\n",
              "      <th>company</th>\n",
              "      <th>rank</th>\n",
              "      <th>revenues</th>\n",
              "      <th>revenue_change</th>\n",
              "      <th>profits</th>\n",
              "      <th>assets</th>\n",
              "      <th>profit_change</th>\n",
              "      <th>ceo</th>\n",
              "      <th>industry</th>\n",
              "      <th>sector</th>\n",
              "      <th>previous_rank</th>\n",
              "      <th>country</th>\n",
              "      <th>hq_location</th>\n",
              "      <th>website</th>\n",
              "      <th>years_on_global_500_list</th>\n",
              "      <th>employees</th>\n",
              "      <th>total_stockholder_equity</th>\n",
              "    </tr>\n",
              "  </thead>\n",
              "  <tbody>\n",
              "    <tr>\n",
              "      <th>0</th>\n",
              "      <td>Walmart</td>\n",
              "      <td>1</td>\n",
              "      <td>485873</td>\n",
              "      <td>0.8</td>\n",
              "      <td>13643.0</td>\n",
              "      <td>198825</td>\n",
              "      <td>-7.2</td>\n",
              "      <td>C. Douglas McMillon</td>\n",
              "      <td>General Merchandisers</td>\n",
              "      <td>Retailing</td>\n",
              "      <td>1</td>\n",
              "      <td>USA</td>\n",
              "      <td>Bentonville, AR</td>\n",
              "      <td>http://www.walmart.com</td>\n",
              "      <td>23</td>\n",
              "      <td>2300000</td>\n",
              "      <td>77798</td>\n",
              "    </tr>\n",
              "    <tr>\n",
              "      <th>1</th>\n",
              "      <td>State Grid</td>\n",
              "      <td>2</td>\n",
              "      <td>315199</td>\n",
              "      <td>-4.4</td>\n",
              "      <td>9571.3</td>\n",
              "      <td>489838</td>\n",
              "      <td>-6.2</td>\n",
              "      <td>Kou Wei</td>\n",
              "      <td>Utilities</td>\n",
              "      <td>Energy</td>\n",
              "      <td>2</td>\n",
              "      <td>China</td>\n",
              "      <td>Beijing, China</td>\n",
              "      <td>http://www.sgcc.com.cn</td>\n",
              "      <td>17</td>\n",
              "      <td>926067</td>\n",
              "      <td>209456</td>\n",
              "    </tr>\n",
              "    <tr>\n",
              "      <th>2</th>\n",
              "      <td>Sinopec Group</td>\n",
              "      <td>3</td>\n",
              "      <td>267518</td>\n",
              "      <td>-9.1</td>\n",
              "      <td>1257.9</td>\n",
              "      <td>310726</td>\n",
              "      <td>-65.0</td>\n",
              "      <td>Wang Yupu</td>\n",
              "      <td>Petroleum Refining</td>\n",
              "      <td>Energy</td>\n",
              "      <td>4</td>\n",
              "      <td>China</td>\n",
              "      <td>Beijing, China</td>\n",
              "      <td>http://www.sinopec.com</td>\n",
              "      <td>19</td>\n",
              "      <td>713288</td>\n",
              "      <td>106523</td>\n",
              "    </tr>\n",
              "    <tr>\n",
              "      <th>3</th>\n",
              "      <td>China National Petroleum</td>\n",
              "      <td>4</td>\n",
              "      <td>262573</td>\n",
              "      <td>-12.3</td>\n",
              "      <td>1867.5</td>\n",
              "      <td>585619</td>\n",
              "      <td>-73.7</td>\n",
              "      <td>Zhang Jianhua</td>\n",
              "      <td>Petroleum Refining</td>\n",
              "      <td>Energy</td>\n",
              "      <td>3</td>\n",
              "      <td>China</td>\n",
              "      <td>Beijing, China</td>\n",
              "      <td>http://www.cnpc.com.cn</td>\n",
              "      <td>17</td>\n",
              "      <td>1512048</td>\n",
              "      <td>301893</td>\n",
              "    </tr>\n",
              "    <tr>\n",
              "      <th>4</th>\n",
              "      <td>Toyota Motor</td>\n",
              "      <td>5</td>\n",
              "      <td>254694</td>\n",
              "      <td>7.7</td>\n",
              "      <td>16899.3</td>\n",
              "      <td>437575</td>\n",
              "      <td>-12.3</td>\n",
              "      <td>Akio Toyoda</td>\n",
              "      <td>Motor Vehicles and Parts</td>\n",
              "      <td>Motor Vehicles &amp; Parts</td>\n",
              "      <td>8</td>\n",
              "      <td>Japan</td>\n",
              "      <td>Toyota, Japan</td>\n",
              "      <td>http://www.toyota-global.com</td>\n",
              "      <td>23</td>\n",
              "      <td>364445</td>\n",
              "      <td>157210</td>\n",
              "    </tr>\n",
              "    <tr>\n",
              "      <th>...</th>\n",
              "      <td>...</td>\n",
              "      <td>...</td>\n",
              "      <td>...</td>\n",
              "      <td>...</td>\n",
              "      <td>...</td>\n",
              "      <td>...</td>\n",
              "      <td>...</td>\n",
              "      <td>...</td>\n",
              "      <td>...</td>\n",
              "      <td>...</td>\n",
              "      <td>...</td>\n",
              "      <td>...</td>\n",
              "      <td>...</td>\n",
              "      <td>...</td>\n",
              "      <td>...</td>\n",
              "      <td>...</td>\n",
              "      <td>...</td>\n",
              "    </tr>\n",
              "    <tr>\n",
              "      <th>495</th>\n",
              "      <td>Teva Pharmaceutical Industries</td>\n",
              "      <td>496</td>\n",
              "      <td>21903</td>\n",
              "      <td>11.5</td>\n",
              "      <td>329.0</td>\n",
              "      <td>92890</td>\n",
              "      <td>-79.3</td>\n",
              "      <td>Yitzhak Peterburg</td>\n",
              "      <td>Pharmaceuticals</td>\n",
              "      <td>Health Care</td>\n",
              "      <td>0</td>\n",
              "      <td>Israel</td>\n",
              "      <td>Petach Tikva, Israel</td>\n",
              "      <td>http://www.tevapharm.com</td>\n",
              "      <td>1</td>\n",
              "      <td>56960</td>\n",
              "      <td>33337</td>\n",
              "    </tr>\n",
              "    <tr>\n",
              "      <th>496</th>\n",
              "      <td>New China Life Insurance</td>\n",
              "      <td>497</td>\n",
              "      <td>21796</td>\n",
              "      <td>-13.3</td>\n",
              "      <td>743.9</td>\n",
              "      <td>100609</td>\n",
              "      <td>-45.6</td>\n",
              "      <td>Wan Feng</td>\n",
              "      <td>Insurance: Life, Health (stock)</td>\n",
              "      <td>Financials</td>\n",
              "      <td>427</td>\n",
              "      <td>China</td>\n",
              "      <td>Beijing, China</td>\n",
              "      <td>http://www.newchinalife.com</td>\n",
              "      <td>2</td>\n",
              "      <td>54378</td>\n",
              "      <td>8507</td>\n",
              "    </tr>\n",
              "    <tr>\n",
              "      <th>497</th>\n",
              "      <td>Wm. Morrison Supermarkets</td>\n",
              "      <td>498</td>\n",
              "      <td>21741</td>\n",
              "      <td>-11.3</td>\n",
              "      <td>406.4</td>\n",
              "      <td>11630</td>\n",
              "      <td>20.4</td>\n",
              "      <td>David T. Potts</td>\n",
              "      <td>Food and Drug Stores</td>\n",
              "      <td>Food &amp; Drug Stores</td>\n",
              "      <td>437</td>\n",
              "      <td>Britain</td>\n",
              "      <td>Bradford, Britain</td>\n",
              "      <td>http://www.morrisons.com</td>\n",
              "      <td>13</td>\n",
              "      <td>77210</td>\n",
              "      <td>5111</td>\n",
              "    </tr>\n",
              "    <tr>\n",
              "      <th>498</th>\n",
              "      <td>TUI</td>\n",
              "      <td>499</td>\n",
              "      <td>21655</td>\n",
              "      <td>-5.5</td>\n",
              "      <td>1151.7</td>\n",
              "      <td>16247</td>\n",
              "      <td>195.5</td>\n",
              "      <td>Friedrich Joussen</td>\n",
              "      <td>Travel Services</td>\n",
              "      <td>Business Services</td>\n",
              "      <td>467</td>\n",
              "      <td>Germany</td>\n",
              "      <td>Hanover, Germany</td>\n",
              "      <td>http://www.tuigroup.com</td>\n",
              "      <td>23</td>\n",
              "      <td>66779</td>\n",
              "      <td>3006</td>\n",
              "    </tr>\n",
              "    <tr>\n",
              "      <th>499</th>\n",
              "      <td>AutoNation</td>\n",
              "      <td>500</td>\n",
              "      <td>21609</td>\n",
              "      <td>3.6</td>\n",
              "      <td>430.5</td>\n",
              "      <td>10060</td>\n",
              "      <td>-2.7</td>\n",
              "      <td>Michael J. Jackson</td>\n",
              "      <td>Specialty Retailers</td>\n",
              "      <td>Retailing</td>\n",
              "      <td>0</td>\n",
              "      <td>USA</td>\n",
              "      <td>Fort Lauderdale, FL</td>\n",
              "      <td>http://www.autonation.com</td>\n",
              "      <td>12</td>\n",
              "      <td>26000</td>\n",
              "      <td>2310</td>\n",
              "    </tr>\n",
              "  </tbody>\n",
              "</table>\n",
              "<p>500 rows × 17 columns</p>\n",
              "</div>"
            ],
            "text/plain": [
              "                            company  rank  ...  employees  total_stockholder_equity\n",
              "0                           Walmart     1  ...    2300000                     77798\n",
              "1                        State Grid     2  ...     926067                    209456\n",
              "2                     Sinopec Group     3  ...     713288                    106523\n",
              "3          China National Petroleum     4  ...    1512048                    301893\n",
              "4                      Toyota Motor     5  ...     364445                    157210\n",
              "..                              ...   ...  ...        ...                       ...\n",
              "495  Teva Pharmaceutical Industries   496  ...      56960                     33337\n",
              "496        New China Life Insurance   497  ...      54378                      8507\n",
              "497       Wm. Morrison Supermarkets   498  ...      77210                      5111\n",
              "498                             TUI   499  ...      66779                      3006\n",
              "499                      AutoNation   500  ...      26000                      2310\n",
              "\n",
              "[500 rows x 17 columns]"
            ]
          },
          "metadata": {
            "tags": []
          },
          "execution_count": 11
        }
      ]
    },
    {
      "cell_type": "code",
      "metadata": {
        "colab": {
          "base_uri": "https://localhost:8080/",
          "height": 377
        },
        "id": "yO_dZb-HV6wn",
        "outputId": "4bb44632-cd74-42a5-9666-47dc6099e178"
      },
      "source": [
        "# selects all columns where previous rank = 0\r\n",
        "f500.loc[f500[\"previous_rank\"] == 0].head()"
      ],
      "execution_count": 12,
      "outputs": [
        {
          "output_type": "execute_result",
          "data": {
            "text/html": [
              "<div>\n",
              "<style scoped>\n",
              "    .dataframe tbody tr th:only-of-type {\n",
              "        vertical-align: middle;\n",
              "    }\n",
              "\n",
              "    .dataframe tbody tr th {\n",
              "        vertical-align: top;\n",
              "    }\n",
              "\n",
              "    .dataframe thead th {\n",
              "        text-align: right;\n",
              "    }\n",
              "</style>\n",
              "<table border=\"1\" class=\"dataframe\">\n",
              "  <thead>\n",
              "    <tr style=\"text-align: right;\">\n",
              "      <th></th>\n",
              "      <th>company</th>\n",
              "      <th>rank</th>\n",
              "      <th>revenues</th>\n",
              "      <th>revenue_change</th>\n",
              "      <th>profits</th>\n",
              "      <th>assets</th>\n",
              "      <th>profit_change</th>\n",
              "      <th>ceo</th>\n",
              "      <th>industry</th>\n",
              "      <th>sector</th>\n",
              "      <th>previous_rank</th>\n",
              "      <th>country</th>\n",
              "      <th>hq_location</th>\n",
              "      <th>website</th>\n",
              "      <th>years_on_global_500_list</th>\n",
              "      <th>employees</th>\n",
              "      <th>total_stockholder_equity</th>\n",
              "    </tr>\n",
              "  </thead>\n",
              "  <tbody>\n",
              "    <tr>\n",
              "      <th>48</th>\n",
              "      <td>Legal &amp; General Group</td>\n",
              "      <td>49</td>\n",
              "      <td>105235</td>\n",
              "      <td>442.3</td>\n",
              "      <td>1697.9</td>\n",
              "      <td>577954</td>\n",
              "      <td>3.4</td>\n",
              "      <td>Nigel Wilson</td>\n",
              "      <td>Insurance: Life, Health (stock)</td>\n",
              "      <td>Financials</td>\n",
              "      <td>0</td>\n",
              "      <td>Britain</td>\n",
              "      <td>London, Britain</td>\n",
              "      <td>http://www.legalandgeneralgroup.com</td>\n",
              "      <td>17</td>\n",
              "      <td>8939</td>\n",
              "      <td>8579</td>\n",
              "    </tr>\n",
              "    <tr>\n",
              "      <th>90</th>\n",
              "      <td>Uniper</td>\n",
              "      <td>91</td>\n",
              "      <td>74407</td>\n",
              "      <td>NaN</td>\n",
              "      <td>-3557.5</td>\n",
              "      <td>51541</td>\n",
              "      <td>NaN</td>\n",
              "      <td>Klaus Schafer</td>\n",
              "      <td>Energy</td>\n",
              "      <td>Energy</td>\n",
              "      <td>0</td>\n",
              "      <td>Germany</td>\n",
              "      <td>Dusseldorf, Germany</td>\n",
              "      <td>http://www.uniper.energy</td>\n",
              "      <td>1</td>\n",
              "      <td>12890</td>\n",
              "      <td>12889</td>\n",
              "    </tr>\n",
              "    <tr>\n",
              "      <th>123</th>\n",
              "      <td>Dell Technologies</td>\n",
              "      <td>124</td>\n",
              "      <td>64806</td>\n",
              "      <td>18.1</td>\n",
              "      <td>-1672.0</td>\n",
              "      <td>118206</td>\n",
              "      <td>NaN</td>\n",
              "      <td>Michael S. Dell</td>\n",
              "      <td>Computers, Office Equipment</td>\n",
              "      <td>Technology</td>\n",
              "      <td>0</td>\n",
              "      <td>USA</td>\n",
              "      <td>Round Rock, TX</td>\n",
              "      <td>http://www.delltechnologies.com</td>\n",
              "      <td>17</td>\n",
              "      <td>138000</td>\n",
              "      <td>13243</td>\n",
              "    </tr>\n",
              "    <tr>\n",
              "      <th>138</th>\n",
              "      <td>Anbang Insurance Group</td>\n",
              "      <td>139</td>\n",
              "      <td>60800</td>\n",
              "      <td>124.0</td>\n",
              "      <td>3883.9</td>\n",
              "      <td>430040</td>\n",
              "      <td>0.9</td>\n",
              "      <td>Wu Xiaohui</td>\n",
              "      <td>Insurance: Life, Health (Mutual)</td>\n",
              "      <td>Financials</td>\n",
              "      <td>0</td>\n",
              "      <td>China</td>\n",
              "      <td>Beijing, China</td>\n",
              "      <td>http://www.anbanggroup.com</td>\n",
              "      <td>1</td>\n",
              "      <td>40707</td>\n",
              "      <td>20372</td>\n",
              "    </tr>\n",
              "    <tr>\n",
              "      <th>140</th>\n",
              "      <td>Albertsons Cos.</td>\n",
              "      <td>141</td>\n",
              "      <td>59678</td>\n",
              "      <td>1.6</td>\n",
              "      <td>-373.3</td>\n",
              "      <td>23755</td>\n",
              "      <td>NaN</td>\n",
              "      <td>Robert G. Miller</td>\n",
              "      <td>Food and Drug Stores</td>\n",
              "      <td>Food &amp; Drug Stores</td>\n",
              "      <td>0</td>\n",
              "      <td>USA</td>\n",
              "      <td>Boise, ID</td>\n",
              "      <td>http://www.albertsons.com</td>\n",
              "      <td>13</td>\n",
              "      <td>273000</td>\n",
              "      <td>1371</td>\n",
              "    </tr>\n",
              "  </tbody>\n",
              "</table>\n",
              "</div>"
            ],
            "text/plain": [
              "                    company  rank  ...  employees  total_stockholder_equity\n",
              "48    Legal & General Group    49  ...       8939                      8579\n",
              "90                   Uniper    91  ...      12890                     12889\n",
              "123       Dell Technologies   124  ...     138000                     13243\n",
              "138  Anbang Insurance Group   139  ...      40707                     20372\n",
              "140         Albertsons Cos.   141  ...     273000                      1371\n",
              "\n",
              "[5 rows x 17 columns]"
            ]
          },
          "metadata": {
            "tags": []
          },
          "execution_count": 12
        }
      ]
    },
    {
      "cell_type": "code",
      "metadata": {
        "colab": {
          "base_uri": "https://localhost:8080/",
          "height": 204
        },
        "id": "botz1zFXWUig",
        "outputId": "a43aea12-e177-4109-9e29-5d552006b22f"
      },
      "source": [
        "# Select 2 columns where previous_rank = 0\r\n",
        "f500.loc[f500[\"previous_rank\"] == 0, [\"previous_rank\", \"assets\"]].head()"
      ],
      "execution_count": 13,
      "outputs": [
        {
          "output_type": "execute_result",
          "data": {
            "text/html": [
              "<div>\n",
              "<style scoped>\n",
              "    .dataframe tbody tr th:only-of-type {\n",
              "        vertical-align: middle;\n",
              "    }\n",
              "\n",
              "    .dataframe tbody tr th {\n",
              "        vertical-align: top;\n",
              "    }\n",
              "\n",
              "    .dataframe thead th {\n",
              "        text-align: right;\n",
              "    }\n",
              "</style>\n",
              "<table border=\"1\" class=\"dataframe\">\n",
              "  <thead>\n",
              "    <tr style=\"text-align: right;\">\n",
              "      <th></th>\n",
              "      <th>previous_rank</th>\n",
              "      <th>assets</th>\n",
              "    </tr>\n",
              "  </thead>\n",
              "  <tbody>\n",
              "    <tr>\n",
              "      <th>48</th>\n",
              "      <td>0</td>\n",
              "      <td>577954</td>\n",
              "    </tr>\n",
              "    <tr>\n",
              "      <th>90</th>\n",
              "      <td>0</td>\n",
              "      <td>51541</td>\n",
              "    </tr>\n",
              "    <tr>\n",
              "      <th>123</th>\n",
              "      <td>0</td>\n",
              "      <td>118206</td>\n",
              "    </tr>\n",
              "    <tr>\n",
              "      <th>138</th>\n",
              "      <td>0</td>\n",
              "      <td>430040</td>\n",
              "    </tr>\n",
              "    <tr>\n",
              "      <th>140</th>\n",
              "      <td>0</td>\n",
              "      <td>23755</td>\n",
              "    </tr>\n",
              "  </tbody>\n",
              "</table>\n",
              "</div>"
            ],
            "text/plain": [
              "     previous_rank  assets\n",
              "48               0  577954\n",
              "90               0   51541\n",
              "123              0  118206\n",
              "138              0  430040\n",
              "140              0   23755"
            ]
          },
          "metadata": {
            "tags": []
          },
          "execution_count": 13
        }
      ]
    },
    {
      "cell_type": "code",
      "metadata": {
        "colab": {
          "base_uri": "https://localhost:8080/"
        },
        "id": "YVJrlSr9WvOo",
        "outputId": "3ec71b68-e035-4d94-d554-06dc750adb4a"
      },
      "source": [
        "# Select only previous_rank column where previous_rank = 0\r\n",
        "f500.loc[f500[\"previous_rank\"] == 0, \"previous_rank\"].head()"
      ],
      "execution_count": 14,
      "outputs": [
        {
          "output_type": "execute_result",
          "data": {
            "text/plain": [
              "48     0\n",
              "90     0\n",
              "123    0\n",
              "138    0\n",
              "140    0\n",
              "Name: previous_rank, dtype: int64"
            ]
          },
          "metadata": {
            "tags": []
          },
          "execution_count": 14
        }
      ]
    },
    {
      "cell_type": "code",
      "metadata": {
        "colab": {
          "base_uri": "https://localhost:8080/",
          "height": 694
        },
        "id": "rvNmyXCBW_rA",
        "outputId": "aed4cb64-36bb-4723-b897-b0a62df5d1f6"
      },
      "source": [
        "# Assign np.nan where previous_rank column = 0\r\n",
        "f500.loc[f500[\"previous_rank\"] == 0, \"previous_rank\"] = np.nan\r\n",
        "f500"
      ],
      "execution_count": 15,
      "outputs": [
        {
          "output_type": "execute_result",
          "data": {
            "text/html": [
              "<div>\n",
              "<style scoped>\n",
              "    .dataframe tbody tr th:only-of-type {\n",
              "        vertical-align: middle;\n",
              "    }\n",
              "\n",
              "    .dataframe tbody tr th {\n",
              "        vertical-align: top;\n",
              "    }\n",
              "\n",
              "    .dataframe thead th {\n",
              "        text-align: right;\n",
              "    }\n",
              "</style>\n",
              "<table border=\"1\" class=\"dataframe\">\n",
              "  <thead>\n",
              "    <tr style=\"text-align: right;\">\n",
              "      <th></th>\n",
              "      <th>company</th>\n",
              "      <th>rank</th>\n",
              "      <th>revenues</th>\n",
              "      <th>revenue_change</th>\n",
              "      <th>profits</th>\n",
              "      <th>assets</th>\n",
              "      <th>profit_change</th>\n",
              "      <th>ceo</th>\n",
              "      <th>industry</th>\n",
              "      <th>sector</th>\n",
              "      <th>previous_rank</th>\n",
              "      <th>country</th>\n",
              "      <th>hq_location</th>\n",
              "      <th>website</th>\n",
              "      <th>years_on_global_500_list</th>\n",
              "      <th>employees</th>\n",
              "      <th>total_stockholder_equity</th>\n",
              "    </tr>\n",
              "  </thead>\n",
              "  <tbody>\n",
              "    <tr>\n",
              "      <th>0</th>\n",
              "      <td>Walmart</td>\n",
              "      <td>1</td>\n",
              "      <td>485873</td>\n",
              "      <td>0.8</td>\n",
              "      <td>13643.0</td>\n",
              "      <td>198825</td>\n",
              "      <td>-7.2</td>\n",
              "      <td>C. Douglas McMillon</td>\n",
              "      <td>General Merchandisers</td>\n",
              "      <td>Retailing</td>\n",
              "      <td>1.0</td>\n",
              "      <td>USA</td>\n",
              "      <td>Bentonville, AR</td>\n",
              "      <td>http://www.walmart.com</td>\n",
              "      <td>23</td>\n",
              "      <td>2300000</td>\n",
              "      <td>77798</td>\n",
              "    </tr>\n",
              "    <tr>\n",
              "      <th>1</th>\n",
              "      <td>State Grid</td>\n",
              "      <td>2</td>\n",
              "      <td>315199</td>\n",
              "      <td>-4.4</td>\n",
              "      <td>9571.3</td>\n",
              "      <td>489838</td>\n",
              "      <td>-6.2</td>\n",
              "      <td>Kou Wei</td>\n",
              "      <td>Utilities</td>\n",
              "      <td>Energy</td>\n",
              "      <td>2.0</td>\n",
              "      <td>China</td>\n",
              "      <td>Beijing, China</td>\n",
              "      <td>http://www.sgcc.com.cn</td>\n",
              "      <td>17</td>\n",
              "      <td>926067</td>\n",
              "      <td>209456</td>\n",
              "    </tr>\n",
              "    <tr>\n",
              "      <th>2</th>\n",
              "      <td>Sinopec Group</td>\n",
              "      <td>3</td>\n",
              "      <td>267518</td>\n",
              "      <td>-9.1</td>\n",
              "      <td>1257.9</td>\n",
              "      <td>310726</td>\n",
              "      <td>-65.0</td>\n",
              "      <td>Wang Yupu</td>\n",
              "      <td>Petroleum Refining</td>\n",
              "      <td>Energy</td>\n",
              "      <td>4.0</td>\n",
              "      <td>China</td>\n",
              "      <td>Beijing, China</td>\n",
              "      <td>http://www.sinopec.com</td>\n",
              "      <td>19</td>\n",
              "      <td>713288</td>\n",
              "      <td>106523</td>\n",
              "    </tr>\n",
              "    <tr>\n",
              "      <th>3</th>\n",
              "      <td>China National Petroleum</td>\n",
              "      <td>4</td>\n",
              "      <td>262573</td>\n",
              "      <td>-12.3</td>\n",
              "      <td>1867.5</td>\n",
              "      <td>585619</td>\n",
              "      <td>-73.7</td>\n",
              "      <td>Zhang Jianhua</td>\n",
              "      <td>Petroleum Refining</td>\n",
              "      <td>Energy</td>\n",
              "      <td>3.0</td>\n",
              "      <td>China</td>\n",
              "      <td>Beijing, China</td>\n",
              "      <td>http://www.cnpc.com.cn</td>\n",
              "      <td>17</td>\n",
              "      <td>1512048</td>\n",
              "      <td>301893</td>\n",
              "    </tr>\n",
              "    <tr>\n",
              "      <th>4</th>\n",
              "      <td>Toyota Motor</td>\n",
              "      <td>5</td>\n",
              "      <td>254694</td>\n",
              "      <td>7.7</td>\n",
              "      <td>16899.3</td>\n",
              "      <td>437575</td>\n",
              "      <td>-12.3</td>\n",
              "      <td>Akio Toyoda</td>\n",
              "      <td>Motor Vehicles and Parts</td>\n",
              "      <td>Motor Vehicles &amp; Parts</td>\n",
              "      <td>8.0</td>\n",
              "      <td>Japan</td>\n",
              "      <td>Toyota, Japan</td>\n",
              "      <td>http://www.toyota-global.com</td>\n",
              "      <td>23</td>\n",
              "      <td>364445</td>\n",
              "      <td>157210</td>\n",
              "    </tr>\n",
              "    <tr>\n",
              "      <th>...</th>\n",
              "      <td>...</td>\n",
              "      <td>...</td>\n",
              "      <td>...</td>\n",
              "      <td>...</td>\n",
              "      <td>...</td>\n",
              "      <td>...</td>\n",
              "      <td>...</td>\n",
              "      <td>...</td>\n",
              "      <td>...</td>\n",
              "      <td>...</td>\n",
              "      <td>...</td>\n",
              "      <td>...</td>\n",
              "      <td>...</td>\n",
              "      <td>...</td>\n",
              "      <td>...</td>\n",
              "      <td>...</td>\n",
              "      <td>...</td>\n",
              "    </tr>\n",
              "    <tr>\n",
              "      <th>495</th>\n",
              "      <td>Teva Pharmaceutical Industries</td>\n",
              "      <td>496</td>\n",
              "      <td>21903</td>\n",
              "      <td>11.5</td>\n",
              "      <td>329.0</td>\n",
              "      <td>92890</td>\n",
              "      <td>-79.3</td>\n",
              "      <td>Yitzhak Peterburg</td>\n",
              "      <td>Pharmaceuticals</td>\n",
              "      <td>Health Care</td>\n",
              "      <td>NaN</td>\n",
              "      <td>Israel</td>\n",
              "      <td>Petach Tikva, Israel</td>\n",
              "      <td>http://www.tevapharm.com</td>\n",
              "      <td>1</td>\n",
              "      <td>56960</td>\n",
              "      <td>33337</td>\n",
              "    </tr>\n",
              "    <tr>\n",
              "      <th>496</th>\n",
              "      <td>New China Life Insurance</td>\n",
              "      <td>497</td>\n",
              "      <td>21796</td>\n",
              "      <td>-13.3</td>\n",
              "      <td>743.9</td>\n",
              "      <td>100609</td>\n",
              "      <td>-45.6</td>\n",
              "      <td>Wan Feng</td>\n",
              "      <td>Insurance: Life, Health (stock)</td>\n",
              "      <td>Financials</td>\n",
              "      <td>427.0</td>\n",
              "      <td>China</td>\n",
              "      <td>Beijing, China</td>\n",
              "      <td>http://www.newchinalife.com</td>\n",
              "      <td>2</td>\n",
              "      <td>54378</td>\n",
              "      <td>8507</td>\n",
              "    </tr>\n",
              "    <tr>\n",
              "      <th>497</th>\n",
              "      <td>Wm. Morrison Supermarkets</td>\n",
              "      <td>498</td>\n",
              "      <td>21741</td>\n",
              "      <td>-11.3</td>\n",
              "      <td>406.4</td>\n",
              "      <td>11630</td>\n",
              "      <td>20.4</td>\n",
              "      <td>David T. Potts</td>\n",
              "      <td>Food and Drug Stores</td>\n",
              "      <td>Food &amp; Drug Stores</td>\n",
              "      <td>437.0</td>\n",
              "      <td>Britain</td>\n",
              "      <td>Bradford, Britain</td>\n",
              "      <td>http://www.morrisons.com</td>\n",
              "      <td>13</td>\n",
              "      <td>77210</td>\n",
              "      <td>5111</td>\n",
              "    </tr>\n",
              "    <tr>\n",
              "      <th>498</th>\n",
              "      <td>TUI</td>\n",
              "      <td>499</td>\n",
              "      <td>21655</td>\n",
              "      <td>-5.5</td>\n",
              "      <td>1151.7</td>\n",
              "      <td>16247</td>\n",
              "      <td>195.5</td>\n",
              "      <td>Friedrich Joussen</td>\n",
              "      <td>Travel Services</td>\n",
              "      <td>Business Services</td>\n",
              "      <td>467.0</td>\n",
              "      <td>Germany</td>\n",
              "      <td>Hanover, Germany</td>\n",
              "      <td>http://www.tuigroup.com</td>\n",
              "      <td>23</td>\n",
              "      <td>66779</td>\n",
              "      <td>3006</td>\n",
              "    </tr>\n",
              "    <tr>\n",
              "      <th>499</th>\n",
              "      <td>AutoNation</td>\n",
              "      <td>500</td>\n",
              "      <td>21609</td>\n",
              "      <td>3.6</td>\n",
              "      <td>430.5</td>\n",
              "      <td>10060</td>\n",
              "      <td>-2.7</td>\n",
              "      <td>Michael J. Jackson</td>\n",
              "      <td>Specialty Retailers</td>\n",
              "      <td>Retailing</td>\n",
              "      <td>NaN</td>\n",
              "      <td>USA</td>\n",
              "      <td>Fort Lauderdale, FL</td>\n",
              "      <td>http://www.autonation.com</td>\n",
              "      <td>12</td>\n",
              "      <td>26000</td>\n",
              "      <td>2310</td>\n",
              "    </tr>\n",
              "  </tbody>\n",
              "</table>\n",
              "<p>500 rows × 17 columns</p>\n",
              "</div>"
            ],
            "text/plain": [
              "                            company  rank  ...  employees  total_stockholder_equity\n",
              "0                           Walmart     1  ...    2300000                     77798\n",
              "1                        State Grid     2  ...     926067                    209456\n",
              "2                     Sinopec Group     3  ...     713288                    106523\n",
              "3          China National Petroleum     4  ...    1512048                    301893\n",
              "4                      Toyota Motor     5  ...     364445                    157210\n",
              "..                              ...   ...  ...        ...                       ...\n",
              "495  Teva Pharmaceutical Industries   496  ...      56960                     33337\n",
              "496        New China Life Insurance   497  ...      54378                      8507\n",
              "497       Wm. Morrison Supermarkets   498  ...      77210                      5111\n",
              "498                             TUI   499  ...      66779                      3006\n",
              "499                      AutoNation   500  ...      26000                      2310\n",
              "\n",
              "[500 rows x 17 columns]"
            ]
          },
          "metadata": {
            "tags": []
          },
          "execution_count": 15
        }
      ]
    },
    {
      "cell_type": "markdown",
      "metadata": {
        "id": "iOQxFWLPXYj5"
      },
      "source": [
        "### 3. Using iloc to select by integer position"
      ]
    },
    {
      "cell_type": "code",
      "metadata": {
        "colab": {
          "base_uri": "https://localhost:8080/"
        },
        "id": "qDiMHXqmX8mZ",
        "outputId": "c29b6093-0071-4bc4-be2d-58eec807f5d5"
      },
      "source": [
        "print(f500[[\"company\", \"rank\", \"revenues\"]].head())"
      ],
      "execution_count": 16,
      "outputs": [
        {
          "output_type": "stream",
          "text": [
            "                    company  rank  revenues\n",
            "0                   Walmart     1    485873\n",
            "1                State Grid     2    315199\n",
            "2             Sinopec Group     3    267518\n",
            "3  China National Petroleum     4    262573\n",
            "4              Toyota Motor     5    254694\n"
          ],
          "name": "stdout"
        }
      ]
    },
    {
      "cell_type": "code",
      "metadata": {
        "colab": {
          "base_uri": "https://localhost:8080/"
        },
        "id": "WxX3Hn2RYJG5",
        "outputId": "ac1912b9-3f34-4e81-b35a-440bc8ff0c04"
      },
      "source": [
        "# select 5th row from dataframe and assign it to fifth_row\r\n",
        "fifth_row = f500.iloc[4]\r\n",
        "fifth_row, type(fifth_row)"
      ],
      "execution_count": 17,
      "outputs": [
        {
          "output_type": "execute_result",
          "data": {
            "text/plain": [
              "(company                                     Toyota Motor\n",
              " rank                                                   5\n",
              " revenues                                          254694\n",
              " revenue_change                                       7.7\n",
              " profits                                          16899.3\n",
              " assets                                            437575\n",
              " profit_change                                      -12.3\n",
              " ceo                                          Akio Toyoda\n",
              " industry                        Motor Vehicles and Parts\n",
              " sector                            Motor Vehicles & Parts\n",
              " previous_rank                                          8\n",
              " country                                            Japan\n",
              " hq_location                                Toyota, Japan\n",
              " website                     http://www.toyota-global.com\n",
              " years_on_global_500_list                              23\n",
              " employees                                         364445\n",
              " total_stockholder_equity                          157210\n",
              " Name: 4, dtype: object, pandas.core.series.Series)"
            ]
          },
          "metadata": {
            "tags": []
          },
          "execution_count": 17
        }
      ]
    },
    {
      "cell_type": "code",
      "metadata": {
        "colab": {
          "base_uri": "https://localhost:8080/",
          "height": 35
        },
        "id": "AkVDgyFcY0U4",
        "outputId": "5542dbfc-100d-4ac8-c1d8-9c10ff92bf62"
      },
      "source": [
        "# select the value in te first row of the company column\r\n",
        "company_value = f500.iloc[0,0]\r\n",
        "company_value"
      ],
      "execution_count": 18,
      "outputs": [
        {
          "output_type": "execute_result",
          "data": {
            "application/vnd.google.colaboratory.intrinsic+json": {
              "type": "string"
            },
            "text/plain": [
              "'Walmart'"
            ]
          },
          "metadata": {
            "tags": []
          },
          "execution_count": 18
        }
      ]
    },
    {
      "cell_type": "markdown",
      "metadata": {
        "id": "SvgxeUUdZcYg"
      },
      "source": [
        "### 4. Using iloc"
      ]
    },
    {
      "cell_type": "code",
      "metadata": {
        "colab": {
          "base_uri": "https://localhost:8080/"
        },
        "id": "UlIsrTMhaAJR",
        "outputId": "23b85573-5c82-4735-a3e9-1658a312b5cc"
      },
      "source": [
        "# select only first column\r\n",
        "first_column = f500.iloc[:,0]\r\n",
        "first_column"
      ],
      "execution_count": 19,
      "outputs": [
        {
          "output_type": "execute_result",
          "data": {
            "text/plain": [
              "0                             Walmart\n",
              "1                          State Grid\n",
              "2                       Sinopec Group\n",
              "3            China National Petroleum\n",
              "4                        Toyota Motor\n",
              "                    ...              \n",
              "495    Teva Pharmaceutical Industries\n",
              "496          New China Life Insurance\n",
              "497         Wm. Morrison Supermarkets\n",
              "498                               TUI\n",
              "499                        AutoNation\n",
              "Name: company, Length: 500, dtype: object"
            ]
          },
          "metadata": {
            "tags": []
          },
          "execution_count": 19
        }
      ]
    },
    {
      "cell_type": "code",
      "metadata": {
        "colab": {
          "base_uri": "https://localhost:8080/",
          "height": 295
        },
        "id": "ELJjdFXcaMma",
        "outputId": "9613fe27-37c2-4669-f746-3b8bd94eafe4"
      },
      "source": [
        "# select all rows from index 1 to 4 inclusive\r\n",
        "second_to_sixth_rows = f500[1:5]\r\n",
        "second_to_sixth_rows"
      ],
      "execution_count": 20,
      "outputs": [
        {
          "output_type": "execute_result",
          "data": {
            "text/html": [
              "<div>\n",
              "<style scoped>\n",
              "    .dataframe tbody tr th:only-of-type {\n",
              "        vertical-align: middle;\n",
              "    }\n",
              "\n",
              "    .dataframe tbody tr th {\n",
              "        vertical-align: top;\n",
              "    }\n",
              "\n",
              "    .dataframe thead th {\n",
              "        text-align: right;\n",
              "    }\n",
              "</style>\n",
              "<table border=\"1\" class=\"dataframe\">\n",
              "  <thead>\n",
              "    <tr style=\"text-align: right;\">\n",
              "      <th></th>\n",
              "      <th>company</th>\n",
              "      <th>rank</th>\n",
              "      <th>revenues</th>\n",
              "      <th>revenue_change</th>\n",
              "      <th>profits</th>\n",
              "      <th>assets</th>\n",
              "      <th>profit_change</th>\n",
              "      <th>ceo</th>\n",
              "      <th>industry</th>\n",
              "      <th>sector</th>\n",
              "      <th>previous_rank</th>\n",
              "      <th>country</th>\n",
              "      <th>hq_location</th>\n",
              "      <th>website</th>\n",
              "      <th>years_on_global_500_list</th>\n",
              "      <th>employees</th>\n",
              "      <th>total_stockholder_equity</th>\n",
              "    </tr>\n",
              "  </thead>\n",
              "  <tbody>\n",
              "    <tr>\n",
              "      <th>1</th>\n",
              "      <td>State Grid</td>\n",
              "      <td>2</td>\n",
              "      <td>315199</td>\n",
              "      <td>-4.4</td>\n",
              "      <td>9571.3</td>\n",
              "      <td>489838</td>\n",
              "      <td>-6.2</td>\n",
              "      <td>Kou Wei</td>\n",
              "      <td>Utilities</td>\n",
              "      <td>Energy</td>\n",
              "      <td>2.0</td>\n",
              "      <td>China</td>\n",
              "      <td>Beijing, China</td>\n",
              "      <td>http://www.sgcc.com.cn</td>\n",
              "      <td>17</td>\n",
              "      <td>926067</td>\n",
              "      <td>209456</td>\n",
              "    </tr>\n",
              "    <tr>\n",
              "      <th>2</th>\n",
              "      <td>Sinopec Group</td>\n",
              "      <td>3</td>\n",
              "      <td>267518</td>\n",
              "      <td>-9.1</td>\n",
              "      <td>1257.9</td>\n",
              "      <td>310726</td>\n",
              "      <td>-65.0</td>\n",
              "      <td>Wang Yupu</td>\n",
              "      <td>Petroleum Refining</td>\n",
              "      <td>Energy</td>\n",
              "      <td>4.0</td>\n",
              "      <td>China</td>\n",
              "      <td>Beijing, China</td>\n",
              "      <td>http://www.sinopec.com</td>\n",
              "      <td>19</td>\n",
              "      <td>713288</td>\n",
              "      <td>106523</td>\n",
              "    </tr>\n",
              "    <tr>\n",
              "      <th>3</th>\n",
              "      <td>China National Petroleum</td>\n",
              "      <td>4</td>\n",
              "      <td>262573</td>\n",
              "      <td>-12.3</td>\n",
              "      <td>1867.5</td>\n",
              "      <td>585619</td>\n",
              "      <td>-73.7</td>\n",
              "      <td>Zhang Jianhua</td>\n",
              "      <td>Petroleum Refining</td>\n",
              "      <td>Energy</td>\n",
              "      <td>3.0</td>\n",
              "      <td>China</td>\n",
              "      <td>Beijing, China</td>\n",
              "      <td>http://www.cnpc.com.cn</td>\n",
              "      <td>17</td>\n",
              "      <td>1512048</td>\n",
              "      <td>301893</td>\n",
              "    </tr>\n",
              "    <tr>\n",
              "      <th>4</th>\n",
              "      <td>Toyota Motor</td>\n",
              "      <td>5</td>\n",
              "      <td>254694</td>\n",
              "      <td>7.7</td>\n",
              "      <td>16899.3</td>\n",
              "      <td>437575</td>\n",
              "      <td>-12.3</td>\n",
              "      <td>Akio Toyoda</td>\n",
              "      <td>Motor Vehicles and Parts</td>\n",
              "      <td>Motor Vehicles &amp; Parts</td>\n",
              "      <td>8.0</td>\n",
              "      <td>Japan</td>\n",
              "      <td>Toyota, Japan</td>\n",
              "      <td>http://www.toyota-global.com</td>\n",
              "      <td>23</td>\n",
              "      <td>364445</td>\n",
              "      <td>157210</td>\n",
              "    </tr>\n",
              "  </tbody>\n",
              "</table>\n",
              "</div>"
            ],
            "text/plain": [
              "                    company  rank  ...  employees  total_stockholder_equity\n",
              "1                State Grid     2  ...     926067                    209456\n",
              "2             Sinopec Group     3  ...     713288                    106523\n",
              "3  China National Petroleum     4  ...    1512048                    301893\n",
              "4              Toyota Motor     5  ...     364445                    157210\n",
              "\n",
              "[4 rows x 17 columns]"
            ]
          },
          "metadata": {
            "tags": []
          },
          "execution_count": 20
        }
      ]
    },
    {
      "cell_type": "code",
      "metadata": {
        "id": "Ibk6uKpMabfZ",
        "colab": {
          "base_uri": "https://localhost:8080/",
          "height": 230
        },
        "outputId": "6af97ae0-3d78-4001-ef52-d96657676e4f"
      },
      "source": [
        "first_three_rows = f500.iloc[:3,:]\r\n",
        "first_three_rows"
      ],
      "execution_count": 21,
      "outputs": [
        {
          "output_type": "execute_result",
          "data": {
            "text/html": [
              "<div>\n",
              "<style scoped>\n",
              "    .dataframe tbody tr th:only-of-type {\n",
              "        vertical-align: middle;\n",
              "    }\n",
              "\n",
              "    .dataframe tbody tr th {\n",
              "        vertical-align: top;\n",
              "    }\n",
              "\n",
              "    .dataframe thead th {\n",
              "        text-align: right;\n",
              "    }\n",
              "</style>\n",
              "<table border=\"1\" class=\"dataframe\">\n",
              "  <thead>\n",
              "    <tr style=\"text-align: right;\">\n",
              "      <th></th>\n",
              "      <th>company</th>\n",
              "      <th>rank</th>\n",
              "      <th>revenues</th>\n",
              "      <th>revenue_change</th>\n",
              "      <th>profits</th>\n",
              "      <th>assets</th>\n",
              "      <th>profit_change</th>\n",
              "      <th>ceo</th>\n",
              "      <th>industry</th>\n",
              "      <th>sector</th>\n",
              "      <th>previous_rank</th>\n",
              "      <th>country</th>\n",
              "      <th>hq_location</th>\n",
              "      <th>website</th>\n",
              "      <th>years_on_global_500_list</th>\n",
              "      <th>employees</th>\n",
              "      <th>total_stockholder_equity</th>\n",
              "    </tr>\n",
              "  </thead>\n",
              "  <tbody>\n",
              "    <tr>\n",
              "      <th>0</th>\n",
              "      <td>Walmart</td>\n",
              "      <td>1</td>\n",
              "      <td>485873</td>\n",
              "      <td>0.8</td>\n",
              "      <td>13643.0</td>\n",
              "      <td>198825</td>\n",
              "      <td>-7.2</td>\n",
              "      <td>C. Douglas McMillon</td>\n",
              "      <td>General Merchandisers</td>\n",
              "      <td>Retailing</td>\n",
              "      <td>1.0</td>\n",
              "      <td>USA</td>\n",
              "      <td>Bentonville, AR</td>\n",
              "      <td>http://www.walmart.com</td>\n",
              "      <td>23</td>\n",
              "      <td>2300000</td>\n",
              "      <td>77798</td>\n",
              "    </tr>\n",
              "    <tr>\n",
              "      <th>1</th>\n",
              "      <td>State Grid</td>\n",
              "      <td>2</td>\n",
              "      <td>315199</td>\n",
              "      <td>-4.4</td>\n",
              "      <td>9571.3</td>\n",
              "      <td>489838</td>\n",
              "      <td>-6.2</td>\n",
              "      <td>Kou Wei</td>\n",
              "      <td>Utilities</td>\n",
              "      <td>Energy</td>\n",
              "      <td>2.0</td>\n",
              "      <td>China</td>\n",
              "      <td>Beijing, China</td>\n",
              "      <td>http://www.sgcc.com.cn</td>\n",
              "      <td>17</td>\n",
              "      <td>926067</td>\n",
              "      <td>209456</td>\n",
              "    </tr>\n",
              "    <tr>\n",
              "      <th>2</th>\n",
              "      <td>Sinopec Group</td>\n",
              "      <td>3</td>\n",
              "      <td>267518</td>\n",
              "      <td>-9.1</td>\n",
              "      <td>1257.9</td>\n",
              "      <td>310726</td>\n",
              "      <td>-65.0</td>\n",
              "      <td>Wang Yupu</td>\n",
              "      <td>Petroleum Refining</td>\n",
              "      <td>Energy</td>\n",
              "      <td>4.0</td>\n",
              "      <td>China</td>\n",
              "      <td>Beijing, China</td>\n",
              "      <td>http://www.sinopec.com</td>\n",
              "      <td>19</td>\n",
              "      <td>713288</td>\n",
              "      <td>106523</td>\n",
              "    </tr>\n",
              "  </tbody>\n",
              "</table>\n",
              "</div>"
            ],
            "text/plain": [
              "         company  rank  ...  employees  total_stockholder_equity\n",
              "0        Walmart     1  ...    2300000                     77798\n",
              "1     State Grid     2  ...     926067                    209456\n",
              "2  Sinopec Group     3  ...     713288                    106523\n",
              "\n",
              "[3 rows x 17 columns]"
            ]
          },
          "metadata": {
            "tags": []
          },
          "execution_count": 21
        }
      ]
    },
    {
      "cell_type": "code",
      "metadata": {
        "colab": {
          "base_uri": "https://localhost:8080/",
          "height": 111
        },
        "id": "kFm6yUI7OQ1f",
        "outputId": "701909b5-f692-469c-ff97-0f4d9aacf2de"
      },
      "source": [
        "first_seventh_row_slice = f500.iloc[[0,6],0:5]\r\n",
        "first_seventh_row_slice"
      ],
      "execution_count": 22,
      "outputs": [
        {
          "output_type": "execute_result",
          "data": {
            "text/html": [
              "<div>\n",
              "<style scoped>\n",
              "    .dataframe tbody tr th:only-of-type {\n",
              "        vertical-align: middle;\n",
              "    }\n",
              "\n",
              "    .dataframe tbody tr th {\n",
              "        vertical-align: top;\n",
              "    }\n",
              "\n",
              "    .dataframe thead th {\n",
              "        text-align: right;\n",
              "    }\n",
              "</style>\n",
              "<table border=\"1\" class=\"dataframe\">\n",
              "  <thead>\n",
              "    <tr style=\"text-align: right;\">\n",
              "      <th></th>\n",
              "      <th>company</th>\n",
              "      <th>rank</th>\n",
              "      <th>revenues</th>\n",
              "      <th>revenue_change</th>\n",
              "      <th>profits</th>\n",
              "    </tr>\n",
              "  </thead>\n",
              "  <tbody>\n",
              "    <tr>\n",
              "      <th>0</th>\n",
              "      <td>Walmart</td>\n",
              "      <td>1</td>\n",
              "      <td>485873</td>\n",
              "      <td>0.8</td>\n",
              "      <td>13643.0</td>\n",
              "    </tr>\n",
              "    <tr>\n",
              "      <th>6</th>\n",
              "      <td>Royal Dutch Shell</td>\n",
              "      <td>7</td>\n",
              "      <td>240033</td>\n",
              "      <td>-11.8</td>\n",
              "      <td>4575.0</td>\n",
              "    </tr>\n",
              "  </tbody>\n",
              "</table>\n",
              "</div>"
            ],
            "text/plain": [
              "             company  rank  revenues  revenue_change  profits\n",
              "0            Walmart     1    485873             0.8  13643.0\n",
              "6  Royal Dutch Shell     7    240033           -11.8   4575.0"
            ]
          },
          "metadata": {
            "tags": []
          },
          "execution_count": 22
        }
      ]
    },
    {
      "cell_type": "markdown",
      "metadata": {
        "id": "iAjKLnqCOnV1"
      },
      "source": [
        "### 5. Using pandas methods to create boolean masks"
      ]
    },
    {
      "cell_type": "code",
      "metadata": {
        "colab": {
          "base_uri": "https://localhost:8080/"
        },
        "id": "IBIshpNCPFHQ",
        "outputId": "518a0773-e665-4ecb-f334-09f87c6a1dd3"
      },
      "source": [
        "# Series is null\r\n",
        "rev_is_null = f500[\"revenue_change\"].isnull()\r\n",
        "rev_is_null.head()"
      ],
      "execution_count": 23,
      "outputs": [
        {
          "output_type": "execute_result",
          "data": {
            "text/plain": [
              "0    False\n",
              "1    False\n",
              "2    False\n",
              "3    False\n",
              "4    False\n",
              "Name: revenue_change, dtype: bool"
            ]
          },
          "metadata": {
            "tags": []
          },
          "execution_count": 23
        }
      ]
    },
    {
      "cell_type": "code",
      "metadata": {
        "colab": {
          "base_uri": "https://localhost:8080/",
          "height": 111
        },
        "id": "VFW623-XPduG",
        "outputId": "e59dff7a-ffb3-4ad8-91f6-7a035ff0fccc"
      },
      "source": [
        "rev_change_null = f500[rev_is_null]\r\n",
        "rev_change_null[[\"company\", \"country\", \"sector\"]]"
      ],
      "execution_count": 24,
      "outputs": [
        {
          "output_type": "execute_result",
          "data": {
            "text/html": [
              "<div>\n",
              "<style scoped>\n",
              "    .dataframe tbody tr th:only-of-type {\n",
              "        vertical-align: middle;\n",
              "    }\n",
              "\n",
              "    .dataframe tbody tr th {\n",
              "        vertical-align: top;\n",
              "    }\n",
              "\n",
              "    .dataframe thead th {\n",
              "        text-align: right;\n",
              "    }\n",
              "</style>\n",
              "<table border=\"1\" class=\"dataframe\">\n",
              "  <thead>\n",
              "    <tr style=\"text-align: right;\">\n",
              "      <th></th>\n",
              "      <th>company</th>\n",
              "      <th>country</th>\n",
              "      <th>sector</th>\n",
              "    </tr>\n",
              "  </thead>\n",
              "  <tbody>\n",
              "    <tr>\n",
              "      <th>90</th>\n",
              "      <td>Uniper</td>\n",
              "      <td>Germany</td>\n",
              "      <td>Energy</td>\n",
              "    </tr>\n",
              "    <tr>\n",
              "      <th>180</th>\n",
              "      <td>Hewlett Packard Enterprise</td>\n",
              "      <td>USA</td>\n",
              "      <td>Technology</td>\n",
              "    </tr>\n",
              "  </tbody>\n",
              "</table>\n",
              "</div>"
            ],
            "text/plain": [
              "                        company  country      sector\n",
              "90                       Uniper  Germany      Energy\n",
              "180  Hewlett Packard Enterprise      USA  Technology"
            ]
          },
          "metadata": {
            "tags": []
          },
          "execution_count": 24
        }
      ]
    },
    {
      "cell_type": "code",
      "metadata": {
        "colab": {
          "base_uri": "https://localhost:8080/",
          "height": 1000
        },
        "id": "JSjrjOJTPu0c",
        "outputId": "de840adc-5c49-4dce-9b0d-d66a506dbc25"
      },
      "source": [
        "# Find Previous_rank_null_companies\r\n",
        "previous_rank_null = f500[f500[\"previous_rank\"].isnull()]\r\n",
        "null_previous_rank = previous_rank_null[[\"company\", \"rank\", \"previous_rank\"]]\r\n",
        "null_previous_rank"
      ],
      "execution_count": 25,
      "outputs": [
        {
          "output_type": "execute_result",
          "data": {
            "text/html": [
              "<div>\n",
              "<style scoped>\n",
              "    .dataframe tbody tr th:only-of-type {\n",
              "        vertical-align: middle;\n",
              "    }\n",
              "\n",
              "    .dataframe tbody tr th {\n",
              "        vertical-align: top;\n",
              "    }\n",
              "\n",
              "    .dataframe thead th {\n",
              "        text-align: right;\n",
              "    }\n",
              "</style>\n",
              "<table border=\"1\" class=\"dataframe\">\n",
              "  <thead>\n",
              "    <tr style=\"text-align: right;\">\n",
              "      <th></th>\n",
              "      <th>company</th>\n",
              "      <th>rank</th>\n",
              "      <th>previous_rank</th>\n",
              "    </tr>\n",
              "  </thead>\n",
              "  <tbody>\n",
              "    <tr>\n",
              "      <th>48</th>\n",
              "      <td>Legal &amp; General Group</td>\n",
              "      <td>49</td>\n",
              "      <td>NaN</td>\n",
              "    </tr>\n",
              "    <tr>\n",
              "      <th>90</th>\n",
              "      <td>Uniper</td>\n",
              "      <td>91</td>\n",
              "      <td>NaN</td>\n",
              "    </tr>\n",
              "    <tr>\n",
              "      <th>123</th>\n",
              "      <td>Dell Technologies</td>\n",
              "      <td>124</td>\n",
              "      <td>NaN</td>\n",
              "    </tr>\n",
              "    <tr>\n",
              "      <th>138</th>\n",
              "      <td>Anbang Insurance Group</td>\n",
              "      <td>139</td>\n",
              "      <td>NaN</td>\n",
              "    </tr>\n",
              "    <tr>\n",
              "      <th>140</th>\n",
              "      <td>Albertsons Cos.</td>\n",
              "      <td>141</td>\n",
              "      <td>NaN</td>\n",
              "    </tr>\n",
              "    <tr>\n",
              "      <th>180</th>\n",
              "      <td>Hewlett Packard Enterprise</td>\n",
              "      <td>181</td>\n",
              "      <td>NaN</td>\n",
              "    </tr>\n",
              "    <tr>\n",
              "      <th>267</th>\n",
              "      <td>Hengli Group</td>\n",
              "      <td>268</td>\n",
              "      <td>NaN</td>\n",
              "    </tr>\n",
              "    <tr>\n",
              "      <th>271</th>\n",
              "      <td>Johnson Controls International</td>\n",
              "      <td>272</td>\n",
              "      <td>NaN</td>\n",
              "    </tr>\n",
              "    <tr>\n",
              "      <th>341</th>\n",
              "      <td>Chubb</td>\n",
              "      <td>342</td>\n",
              "      <td>NaN</td>\n",
              "    </tr>\n",
              "    <tr>\n",
              "      <th>375</th>\n",
              "      <td>Charter Communications</td>\n",
              "      <td>376</td>\n",
              "      <td>NaN</td>\n",
              "    </tr>\n",
              "    <tr>\n",
              "      <th>376</th>\n",
              "      <td>Medtronic</td>\n",
              "      <td>377</td>\n",
              "      <td>NaN</td>\n",
              "    </tr>\n",
              "    <tr>\n",
              "      <th>392</th>\n",
              "      <td>Facebook</td>\n",
              "      <td>393</td>\n",
              "      <td>NaN</td>\n",
              "    </tr>\n",
              "    <tr>\n",
              "      <th>409</th>\n",
              "      <td>Kraft Heinz</td>\n",
              "      <td>410</td>\n",
              "      <td>NaN</td>\n",
              "    </tr>\n",
              "    <tr>\n",
              "      <th>414</th>\n",
              "      <td>Nokia</td>\n",
              "      <td>415</td>\n",
              "      <td>NaN</td>\n",
              "    </tr>\n",
              "    <tr>\n",
              "      <th>431</th>\n",
              "      <td>Standard Life</td>\n",
              "      <td>432</td>\n",
              "      <td>NaN</td>\n",
              "    </tr>\n",
              "    <tr>\n",
              "      <th>440</th>\n",
              "      <td>Brookfield Asset Management</td>\n",
              "      <td>441</td>\n",
              "      <td>NaN</td>\n",
              "    </tr>\n",
              "    <tr>\n",
              "      <th>441</th>\n",
              "      <td>Mercantil Servicios Financieros</td>\n",
              "      <td>442</td>\n",
              "      <td>NaN</td>\n",
              "    </tr>\n",
              "    <tr>\n",
              "      <th>446</th>\n",
              "      <td>Samsung C&amp;T</td>\n",
              "      <td>447</td>\n",
              "      <td>NaN</td>\n",
              "    </tr>\n",
              "    <tr>\n",
              "      <th>456</th>\n",
              "      <td>Heraeus Holding</td>\n",
              "      <td>457</td>\n",
              "      <td>NaN</td>\n",
              "    </tr>\n",
              "    <tr>\n",
              "      <th>458</th>\n",
              "      <td>Yango Financial Holding</td>\n",
              "      <td>459</td>\n",
              "      <td>NaN</td>\n",
              "    </tr>\n",
              "    <tr>\n",
              "      <th>461</th>\n",
              "      <td>Alibaba Group Holding</td>\n",
              "      <td>462</td>\n",
              "      <td>NaN</td>\n",
              "    </tr>\n",
              "    <tr>\n",
              "      <th>463</th>\n",
              "      <td>Progressive</td>\n",
              "      <td>464</td>\n",
              "      <td>NaN</td>\n",
              "    </tr>\n",
              "    <tr>\n",
              "      <th>466</th>\n",
              "      <td>Country Garden Holdings</td>\n",
              "      <td>467</td>\n",
              "      <td>NaN</td>\n",
              "    </tr>\n",
              "    <tr>\n",
              "      <th>472</th>\n",
              "      <td>Altice</td>\n",
              "      <td>473</td>\n",
              "      <td>NaN</td>\n",
              "    </tr>\n",
              "    <tr>\n",
              "      <th>477</th>\n",
              "      <td>Tencent Holdings</td>\n",
              "      <td>478</td>\n",
              "      <td>NaN</td>\n",
              "    </tr>\n",
              "    <tr>\n",
              "      <th>482</th>\n",
              "      <td>Aflac</td>\n",
              "      <td>483</td>\n",
              "      <td>NaN</td>\n",
              "    </tr>\n",
              "    <tr>\n",
              "      <th>484</th>\n",
              "      <td>Suning Commerce Group</td>\n",
              "      <td>485</td>\n",
              "      <td>NaN</td>\n",
              "    </tr>\n",
              "    <tr>\n",
              "      <th>487</th>\n",
              "      <td>Xiamen C&amp;D</td>\n",
              "      <td>488</td>\n",
              "      <td>NaN</td>\n",
              "    </tr>\n",
              "    <tr>\n",
              "      <th>491</th>\n",
              "      <td>Dollar General</td>\n",
              "      <td>492</td>\n",
              "      <td>NaN</td>\n",
              "    </tr>\n",
              "    <tr>\n",
              "      <th>493</th>\n",
              "      <td>Xiamen ITG Holding Group</td>\n",
              "      <td>494</td>\n",
              "      <td>NaN</td>\n",
              "    </tr>\n",
              "    <tr>\n",
              "      <th>494</th>\n",
              "      <td>Xinjiang Guanghui Industry Investment</td>\n",
              "      <td>495</td>\n",
              "      <td>NaN</td>\n",
              "    </tr>\n",
              "    <tr>\n",
              "      <th>495</th>\n",
              "      <td>Teva Pharmaceutical Industries</td>\n",
              "      <td>496</td>\n",
              "      <td>NaN</td>\n",
              "    </tr>\n",
              "    <tr>\n",
              "      <th>499</th>\n",
              "      <td>AutoNation</td>\n",
              "      <td>500</td>\n",
              "      <td>NaN</td>\n",
              "    </tr>\n",
              "  </tbody>\n",
              "</table>\n",
              "</div>"
            ],
            "text/plain": [
              "                                   company  rank  previous_rank\n",
              "48                   Legal & General Group    49            NaN\n",
              "90                                  Uniper    91            NaN\n",
              "123                      Dell Technologies   124            NaN\n",
              "138                 Anbang Insurance Group   139            NaN\n",
              "140                        Albertsons Cos.   141            NaN\n",
              "180             Hewlett Packard Enterprise   181            NaN\n",
              "267                           Hengli Group   268            NaN\n",
              "271         Johnson Controls International   272            NaN\n",
              "341                                  Chubb   342            NaN\n",
              "375                 Charter Communications   376            NaN\n",
              "376                              Medtronic   377            NaN\n",
              "392                               Facebook   393            NaN\n",
              "409                            Kraft Heinz   410            NaN\n",
              "414                                  Nokia   415            NaN\n",
              "431                          Standard Life   432            NaN\n",
              "440            Brookfield Asset Management   441            NaN\n",
              "441        Mercantil Servicios Financieros   442            NaN\n",
              "446                            Samsung C&T   447            NaN\n",
              "456                        Heraeus Holding   457            NaN\n",
              "458                Yango Financial Holding   459            NaN\n",
              "461                  Alibaba Group Holding   462            NaN\n",
              "463                            Progressive   464            NaN\n",
              "466                Country Garden Holdings   467            NaN\n",
              "472                                 Altice   473            NaN\n",
              "477                       Tencent Holdings   478            NaN\n",
              "482                                  Aflac   483            NaN\n",
              "484                  Suning Commerce Group   485            NaN\n",
              "487                             Xiamen C&D   488            NaN\n",
              "491                         Dollar General   492            NaN\n",
              "493               Xiamen ITG Holding Group   494            NaN\n",
              "494  Xinjiang Guanghui Industry Investment   495            NaN\n",
              "495         Teva Pharmaceutical Industries   496            NaN\n",
              "499                             AutoNation   500            NaN"
            ]
          },
          "metadata": {
            "tags": []
          },
          "execution_count": 25
        }
      ]
    },
    {
      "cell_type": "markdown",
      "metadata": {
        "id": "c5Lr7kjeRyPh"
      },
      "source": [
        "### 6. Working with Integer Labels"
      ]
    },
    {
      "cell_type": "code",
      "metadata": {
        "colab": {
          "base_uri": "https://localhost:8080/"
        },
        "id": "gACoH3bTtz0V",
        "outputId": "c4b51564-eece-465f-b38b-1bc954a1c9f2"
      },
      "source": [
        "# select the first null previous rank\r\n",
        "first_null_previous_rank = null_previous_rank.iloc[0]\r\n",
        "first_null_previous_rank"
      ],
      "execution_count": 26,
      "outputs": [
        {
          "output_type": "execute_result",
          "data": {
            "text/plain": [
              "company          Legal & General Group\n",
              "rank                                49\n",
              "previous_rank                      NaN\n",
              "Name: 48, dtype: object"
            ]
          },
          "metadata": {
            "tags": []
          },
          "execution_count": 26
        }
      ]
    },
    {
      "cell_type": "code",
      "metadata": {
        "colab": {
          "base_uri": "https://localhost:8080/"
        },
        "id": "5QT8IRkhuZM2",
        "outputId": "dabf5425-df73-48c7-9616-cf8e6ca094e3"
      },
      "source": [
        "# Errors out when loc using index\r\n",
        "# first_null_previous_rank = null_previous_rank.loc[0]\r\n",
        "first_null_previous_rank = null_previous_rank.loc[48]\r\n",
        "first_null_previous_rank"
      ],
      "execution_count": 27,
      "outputs": [
        {
          "output_type": "execute_result",
          "data": {
            "text/plain": [
              "company          Legal & General Group\n",
              "rank                                49\n",
              "previous_rank                      NaN\n",
              "Name: 48, dtype: object"
            ]
          },
          "metadata": {
            "tags": []
          },
          "execution_count": 27
        }
      ]
    },
    {
      "cell_type": "code",
      "metadata": {
        "colab": {
          "base_uri": "https://localhost:8080/",
          "height": 204
        },
        "id": "lkIeIKYTuj12",
        "outputId": "9478a4e2-03c0-4b1b-eaa4-b25392e96589"
      },
      "source": [
        "# Get top 5 null previous rank\r\n",
        "top5_null_prev_rank = null_previous_rank.iloc[0:5,:]\r\n",
        "top5_null_prev_rank"
      ],
      "execution_count": 28,
      "outputs": [
        {
          "output_type": "execute_result",
          "data": {
            "text/html": [
              "<div>\n",
              "<style scoped>\n",
              "    .dataframe tbody tr th:only-of-type {\n",
              "        vertical-align: middle;\n",
              "    }\n",
              "\n",
              "    .dataframe tbody tr th {\n",
              "        vertical-align: top;\n",
              "    }\n",
              "\n",
              "    .dataframe thead th {\n",
              "        text-align: right;\n",
              "    }\n",
              "</style>\n",
              "<table border=\"1\" class=\"dataframe\">\n",
              "  <thead>\n",
              "    <tr style=\"text-align: right;\">\n",
              "      <th></th>\n",
              "      <th>company</th>\n",
              "      <th>rank</th>\n",
              "      <th>previous_rank</th>\n",
              "    </tr>\n",
              "  </thead>\n",
              "  <tbody>\n",
              "    <tr>\n",
              "      <th>48</th>\n",
              "      <td>Legal &amp; General Group</td>\n",
              "      <td>49</td>\n",
              "      <td>NaN</td>\n",
              "    </tr>\n",
              "    <tr>\n",
              "      <th>90</th>\n",
              "      <td>Uniper</td>\n",
              "      <td>91</td>\n",
              "      <td>NaN</td>\n",
              "    </tr>\n",
              "    <tr>\n",
              "      <th>123</th>\n",
              "      <td>Dell Technologies</td>\n",
              "      <td>124</td>\n",
              "      <td>NaN</td>\n",
              "    </tr>\n",
              "    <tr>\n",
              "      <th>138</th>\n",
              "      <td>Anbang Insurance Group</td>\n",
              "      <td>139</td>\n",
              "      <td>NaN</td>\n",
              "    </tr>\n",
              "    <tr>\n",
              "      <th>140</th>\n",
              "      <td>Albertsons Cos.</td>\n",
              "      <td>141</td>\n",
              "      <td>NaN</td>\n",
              "    </tr>\n",
              "  </tbody>\n",
              "</table>\n",
              "</div>"
            ],
            "text/plain": [
              "                    company  rank  previous_rank\n",
              "48    Legal & General Group    49            NaN\n",
              "90                   Uniper    91            NaN\n",
              "123       Dell Technologies   124            NaN\n",
              "138  Anbang Insurance Group   139            NaN\n",
              "140         Albertsons Cos.   141            NaN"
            ]
          },
          "metadata": {
            "tags": []
          },
          "execution_count": 28
        }
      ]
    },
    {
      "cell_type": "code",
      "metadata": {
        "colab": {
          "base_uri": "https://localhost:8080/",
          "height": 204
        },
        "id": "43th5s0A4uXf",
        "outputId": "f01e4407-24a2-4fc0-bb4b-2999e83fdfcf"
      },
      "source": [
        "# Get top 5 null previous rank\r\n",
        "top5_null_prev_rank = null_previous_rank.loc[48:140,:]\r\n",
        "top5_null_prev_rank"
      ],
      "execution_count": 29,
      "outputs": [
        {
          "output_type": "execute_result",
          "data": {
            "text/html": [
              "<div>\n",
              "<style scoped>\n",
              "    .dataframe tbody tr th:only-of-type {\n",
              "        vertical-align: middle;\n",
              "    }\n",
              "\n",
              "    .dataframe tbody tr th {\n",
              "        vertical-align: top;\n",
              "    }\n",
              "\n",
              "    .dataframe thead th {\n",
              "        text-align: right;\n",
              "    }\n",
              "</style>\n",
              "<table border=\"1\" class=\"dataframe\">\n",
              "  <thead>\n",
              "    <tr style=\"text-align: right;\">\n",
              "      <th></th>\n",
              "      <th>company</th>\n",
              "      <th>rank</th>\n",
              "      <th>previous_rank</th>\n",
              "    </tr>\n",
              "  </thead>\n",
              "  <tbody>\n",
              "    <tr>\n",
              "      <th>48</th>\n",
              "      <td>Legal &amp; General Group</td>\n",
              "      <td>49</td>\n",
              "      <td>NaN</td>\n",
              "    </tr>\n",
              "    <tr>\n",
              "      <th>90</th>\n",
              "      <td>Uniper</td>\n",
              "      <td>91</td>\n",
              "      <td>NaN</td>\n",
              "    </tr>\n",
              "    <tr>\n",
              "      <th>123</th>\n",
              "      <td>Dell Technologies</td>\n",
              "      <td>124</td>\n",
              "      <td>NaN</td>\n",
              "    </tr>\n",
              "    <tr>\n",
              "      <th>138</th>\n",
              "      <td>Anbang Insurance Group</td>\n",
              "      <td>139</td>\n",
              "      <td>NaN</td>\n",
              "    </tr>\n",
              "    <tr>\n",
              "      <th>140</th>\n",
              "      <td>Albertsons Cos.</td>\n",
              "      <td>141</td>\n",
              "      <td>NaN</td>\n",
              "    </tr>\n",
              "  </tbody>\n",
              "</table>\n",
              "</div>"
            ],
            "text/plain": [
              "                    company  rank  previous_rank\n",
              "48    Legal & General Group    49            NaN\n",
              "90                   Uniper    91            NaN\n",
              "123       Dell Technologies   124            NaN\n",
              "138  Anbang Insurance Group   139            NaN\n",
              "140         Albertsons Cos.   141            NaN"
            ]
          },
          "metadata": {
            "tags": []
          },
          "execution_count": 29
        }
      ]
    },
    {
      "cell_type": "code",
      "metadata": {
        "colab": {
          "base_uri": "https://localhost:8080/",
          "height": 643
        },
        "id": "xSzgxNy740bw",
        "outputId": "a8159c69-a0d1-44b5-e94c-478b71bc886a"
      },
      "source": [
        "### 7. Pandas Index Alignment\r\n",
        "# Let's use the Series.notnull()\r\n",
        "previously_ranked = f500[f500[\"previous_rank\"].notnull()]\r\n",
        "previously_ranked"
      ],
      "execution_count": 30,
      "outputs": [
        {
          "output_type": "execute_result",
          "data": {
            "text/html": [
              "<div>\n",
              "<style scoped>\n",
              "    .dataframe tbody tr th:only-of-type {\n",
              "        vertical-align: middle;\n",
              "    }\n",
              "\n",
              "    .dataframe tbody tr th {\n",
              "        vertical-align: top;\n",
              "    }\n",
              "\n",
              "    .dataframe thead th {\n",
              "        text-align: right;\n",
              "    }\n",
              "</style>\n",
              "<table border=\"1\" class=\"dataframe\">\n",
              "  <thead>\n",
              "    <tr style=\"text-align: right;\">\n",
              "      <th></th>\n",
              "      <th>company</th>\n",
              "      <th>rank</th>\n",
              "      <th>revenues</th>\n",
              "      <th>revenue_change</th>\n",
              "      <th>profits</th>\n",
              "      <th>assets</th>\n",
              "      <th>profit_change</th>\n",
              "      <th>ceo</th>\n",
              "      <th>industry</th>\n",
              "      <th>sector</th>\n",
              "      <th>previous_rank</th>\n",
              "      <th>country</th>\n",
              "      <th>hq_location</th>\n",
              "      <th>website</th>\n",
              "      <th>years_on_global_500_list</th>\n",
              "      <th>employees</th>\n",
              "      <th>total_stockholder_equity</th>\n",
              "    </tr>\n",
              "  </thead>\n",
              "  <tbody>\n",
              "    <tr>\n",
              "      <th>0</th>\n",
              "      <td>Walmart</td>\n",
              "      <td>1</td>\n",
              "      <td>485873</td>\n",
              "      <td>0.8</td>\n",
              "      <td>13643.0</td>\n",
              "      <td>198825</td>\n",
              "      <td>-7.2</td>\n",
              "      <td>C. Douglas McMillon</td>\n",
              "      <td>General Merchandisers</td>\n",
              "      <td>Retailing</td>\n",
              "      <td>1.0</td>\n",
              "      <td>USA</td>\n",
              "      <td>Bentonville, AR</td>\n",
              "      <td>http://www.walmart.com</td>\n",
              "      <td>23</td>\n",
              "      <td>2300000</td>\n",
              "      <td>77798</td>\n",
              "    </tr>\n",
              "    <tr>\n",
              "      <th>1</th>\n",
              "      <td>State Grid</td>\n",
              "      <td>2</td>\n",
              "      <td>315199</td>\n",
              "      <td>-4.4</td>\n",
              "      <td>9571.3</td>\n",
              "      <td>489838</td>\n",
              "      <td>-6.2</td>\n",
              "      <td>Kou Wei</td>\n",
              "      <td>Utilities</td>\n",
              "      <td>Energy</td>\n",
              "      <td>2.0</td>\n",
              "      <td>China</td>\n",
              "      <td>Beijing, China</td>\n",
              "      <td>http://www.sgcc.com.cn</td>\n",
              "      <td>17</td>\n",
              "      <td>926067</td>\n",
              "      <td>209456</td>\n",
              "    </tr>\n",
              "    <tr>\n",
              "      <th>2</th>\n",
              "      <td>Sinopec Group</td>\n",
              "      <td>3</td>\n",
              "      <td>267518</td>\n",
              "      <td>-9.1</td>\n",
              "      <td>1257.9</td>\n",
              "      <td>310726</td>\n",
              "      <td>-65.0</td>\n",
              "      <td>Wang Yupu</td>\n",
              "      <td>Petroleum Refining</td>\n",
              "      <td>Energy</td>\n",
              "      <td>4.0</td>\n",
              "      <td>China</td>\n",
              "      <td>Beijing, China</td>\n",
              "      <td>http://www.sinopec.com</td>\n",
              "      <td>19</td>\n",
              "      <td>713288</td>\n",
              "      <td>106523</td>\n",
              "    </tr>\n",
              "    <tr>\n",
              "      <th>3</th>\n",
              "      <td>China National Petroleum</td>\n",
              "      <td>4</td>\n",
              "      <td>262573</td>\n",
              "      <td>-12.3</td>\n",
              "      <td>1867.5</td>\n",
              "      <td>585619</td>\n",
              "      <td>-73.7</td>\n",
              "      <td>Zhang Jianhua</td>\n",
              "      <td>Petroleum Refining</td>\n",
              "      <td>Energy</td>\n",
              "      <td>3.0</td>\n",
              "      <td>China</td>\n",
              "      <td>Beijing, China</td>\n",
              "      <td>http://www.cnpc.com.cn</td>\n",
              "      <td>17</td>\n",
              "      <td>1512048</td>\n",
              "      <td>301893</td>\n",
              "    </tr>\n",
              "    <tr>\n",
              "      <th>4</th>\n",
              "      <td>Toyota Motor</td>\n",
              "      <td>5</td>\n",
              "      <td>254694</td>\n",
              "      <td>7.7</td>\n",
              "      <td>16899.3</td>\n",
              "      <td>437575</td>\n",
              "      <td>-12.3</td>\n",
              "      <td>Akio Toyoda</td>\n",
              "      <td>Motor Vehicles and Parts</td>\n",
              "      <td>Motor Vehicles &amp; Parts</td>\n",
              "      <td>8.0</td>\n",
              "      <td>Japan</td>\n",
              "      <td>Toyota, Japan</td>\n",
              "      <td>http://www.toyota-global.com</td>\n",
              "      <td>23</td>\n",
              "      <td>364445</td>\n",
              "      <td>157210</td>\n",
              "    </tr>\n",
              "    <tr>\n",
              "      <th>...</th>\n",
              "      <td>...</td>\n",
              "      <td>...</td>\n",
              "      <td>...</td>\n",
              "      <td>...</td>\n",
              "      <td>...</td>\n",
              "      <td>...</td>\n",
              "      <td>...</td>\n",
              "      <td>...</td>\n",
              "      <td>...</td>\n",
              "      <td>...</td>\n",
              "      <td>...</td>\n",
              "      <td>...</td>\n",
              "      <td>...</td>\n",
              "      <td>...</td>\n",
              "      <td>...</td>\n",
              "      <td>...</td>\n",
              "      <td>...</td>\n",
              "    </tr>\n",
              "    <tr>\n",
              "      <th>490</th>\n",
              "      <td>National Grid</td>\n",
              "      <td>491</td>\n",
              "      <td>22036</td>\n",
              "      <td>-3.2</td>\n",
              "      <td>10150.6</td>\n",
              "      <td>82310</td>\n",
              "      <td>160.2</td>\n",
              "      <td>John Pettigrew</td>\n",
              "      <td>Utilities</td>\n",
              "      <td>Energy</td>\n",
              "      <td>471.0</td>\n",
              "      <td>Britain</td>\n",
              "      <td>London, Britain</td>\n",
              "      <td>http://www.nationalgrid.com</td>\n",
              "      <td>12</td>\n",
              "      <td>22132</td>\n",
              "      <td>25463</td>\n",
              "    </tr>\n",
              "    <tr>\n",
              "      <th>492</th>\n",
              "      <td>Telecom Italia</td>\n",
              "      <td>493</td>\n",
              "      <td>21941</td>\n",
              "      <td>-17.4</td>\n",
              "      <td>1999.4</td>\n",
              "      <td>74295</td>\n",
              "      <td>NaN</td>\n",
              "      <td>Flavio Cattaneo</td>\n",
              "      <td>Telecommunications</td>\n",
              "      <td>Telecommunications</td>\n",
              "      <td>404.0</td>\n",
              "      <td>Italy</td>\n",
              "      <td>Milan, Italy</td>\n",
              "      <td>http://www.telecomitalia.com</td>\n",
              "      <td>18</td>\n",
              "      <td>61227</td>\n",
              "      <td>22366</td>\n",
              "    </tr>\n",
              "    <tr>\n",
              "      <th>496</th>\n",
              "      <td>New China Life Insurance</td>\n",
              "      <td>497</td>\n",
              "      <td>21796</td>\n",
              "      <td>-13.3</td>\n",
              "      <td>743.9</td>\n",
              "      <td>100609</td>\n",
              "      <td>-45.6</td>\n",
              "      <td>Wan Feng</td>\n",
              "      <td>Insurance: Life, Health (stock)</td>\n",
              "      <td>Financials</td>\n",
              "      <td>427.0</td>\n",
              "      <td>China</td>\n",
              "      <td>Beijing, China</td>\n",
              "      <td>http://www.newchinalife.com</td>\n",
              "      <td>2</td>\n",
              "      <td>54378</td>\n",
              "      <td>8507</td>\n",
              "    </tr>\n",
              "    <tr>\n",
              "      <th>497</th>\n",
              "      <td>Wm. Morrison Supermarkets</td>\n",
              "      <td>498</td>\n",
              "      <td>21741</td>\n",
              "      <td>-11.3</td>\n",
              "      <td>406.4</td>\n",
              "      <td>11630</td>\n",
              "      <td>20.4</td>\n",
              "      <td>David T. Potts</td>\n",
              "      <td>Food and Drug Stores</td>\n",
              "      <td>Food &amp; Drug Stores</td>\n",
              "      <td>437.0</td>\n",
              "      <td>Britain</td>\n",
              "      <td>Bradford, Britain</td>\n",
              "      <td>http://www.morrisons.com</td>\n",
              "      <td>13</td>\n",
              "      <td>77210</td>\n",
              "      <td>5111</td>\n",
              "    </tr>\n",
              "    <tr>\n",
              "      <th>498</th>\n",
              "      <td>TUI</td>\n",
              "      <td>499</td>\n",
              "      <td>21655</td>\n",
              "      <td>-5.5</td>\n",
              "      <td>1151.7</td>\n",
              "      <td>16247</td>\n",
              "      <td>195.5</td>\n",
              "      <td>Friedrich Joussen</td>\n",
              "      <td>Travel Services</td>\n",
              "      <td>Business Services</td>\n",
              "      <td>467.0</td>\n",
              "      <td>Germany</td>\n",
              "      <td>Hanover, Germany</td>\n",
              "      <td>http://www.tuigroup.com</td>\n",
              "      <td>23</td>\n",
              "      <td>66779</td>\n",
              "      <td>3006</td>\n",
              "    </tr>\n",
              "  </tbody>\n",
              "</table>\n",
              "<p>467 rows × 17 columns</p>\n",
              "</div>"
            ],
            "text/plain": [
              "                       company  rank  ...  employees  total_stockholder_equity\n",
              "0                      Walmart     1  ...    2300000                     77798\n",
              "1                   State Grid     2  ...     926067                    209456\n",
              "2                Sinopec Group     3  ...     713288                    106523\n",
              "3     China National Petroleum     4  ...    1512048                    301893\n",
              "4                 Toyota Motor     5  ...     364445                    157210\n",
              "..                         ...   ...  ...        ...                       ...\n",
              "490              National Grid   491  ...      22132                     25463\n",
              "492             Telecom Italia   493  ...      61227                     22366\n",
              "496   New China Life Insurance   497  ...      54378                      8507\n",
              "497  Wm. Morrison Supermarkets   498  ...      77210                      5111\n",
              "498                        TUI   499  ...      66779                      3006\n",
              "\n",
              "[467 rows x 17 columns]"
            ]
          },
          "metadata": {
            "tags": []
          },
          "execution_count": 30
        }
      ]
    },
    {
      "cell_type": "code",
      "metadata": {
        "colab": {
          "base_uri": "https://localhost:8080/"
        },
        "id": "L3oRPOSb5SqA",
        "outputId": "d6548102-0c2d-4b4d-8467-df5aa1b11f3a"
      },
      "source": [
        "# create rank_change column\r\n",
        "rank_change = previously_ranked[\"previous_rank\"] - previously_ranked[\"rank\"]\r\n",
        "rank_change.shape"
      ],
      "execution_count": 31,
      "outputs": [
        {
          "output_type": "execute_result",
          "data": {
            "text/plain": [
              "(467,)"
            ]
          },
          "metadata": {
            "tags": []
          },
          "execution_count": 31
        }
      ]
    },
    {
      "cell_type": "code",
      "metadata": {
        "colab": {
          "base_uri": "https://localhost:8080/"
        },
        "id": "j2JE2M2x5vqv",
        "outputId": "5881f259-4570-4f30-d343-10253196c8e2"
      },
      "source": [
        "rank_change.tail()"
      ],
      "execution_count": 32,
      "outputs": [
        {
          "output_type": "execute_result",
          "data": {
            "text/plain": [
              "490   -20.0\n",
              "492   -89.0\n",
              "496   -70.0\n",
              "497   -61.0\n",
              "498   -32.0\n",
              "dtype: float64"
            ]
          },
          "metadata": {
            "tags": []
          },
          "execution_count": 32
        }
      ]
    },
    {
      "cell_type": "code",
      "metadata": {
        "colab": {
          "base_uri": "https://localhost:8080/"
        },
        "id": "xu4wKhVH5yqF",
        "outputId": "0f4f8ea3-f2de-4f81-8c5c-6fc97cdabbe3"
      },
      "source": [
        "f500.shape, f500.tail()"
      ],
      "execution_count": 33,
      "outputs": [
        {
          "output_type": "execute_result",
          "data": {
            "text/plain": [
              "((500, 17),\n",
              "                             company  rank  ...  employees  total_stockholder_equity\n",
              " 495  Teva Pharmaceutical Industries   496  ...      56960                     33337\n",
              " 496        New China Life Insurance   497  ...      54378                      8507\n",
              " 497       Wm. Morrison Supermarkets   498  ...      77210                      5111\n",
              " 498                             TUI   499  ...      66779                      3006\n",
              " 499                      AutoNation   500  ...      26000                      2310\n",
              " \n",
              " [5 rows x 17 columns])"
            ]
          },
          "metadata": {
            "tags": []
          },
          "execution_count": 33
        }
      ]
    },
    {
      "cell_type": "code",
      "metadata": {
        "colab": {
          "base_uri": "https://localhost:8080/"
        },
        "id": "oH-dWaQi7Qau",
        "outputId": "01ca5af6-68f7-488c-9eb6-1c1e1a64f295"
      },
      "source": [
        "# rank_change column has 467 rows, f500 dataframe has 500 rows\r\n",
        "# when rank_change column assigned as a new column to f500, pandas will align based on index labels\r\n",
        "f500[\"rank_change\"] = rank_change\r\n",
        "f500[\"rank_change\"].value_counts(dropna=False)\r\n",
        "# we can see not aligned label data as null"
      ],
      "execution_count": 34,
      "outputs": [
        {
          "output_type": "execute_result",
          "data": {
            "text/plain": [
              " NaN     33\n",
              "-1.0     14\n",
              "-4.0     13\n",
              "-2.0     12\n",
              " 8.0     12\n",
              "         ..\n",
              "-54.0     1\n",
              " 55.0     1\n",
              " 69.0     1\n",
              " 21.0     1\n",
              "-32.0     1\n",
              "Name: rank_change, Length: 153, dtype: int64"
            ]
          },
          "metadata": {
            "tags": []
          },
          "execution_count": 34
        }
      ]
    },
    {
      "cell_type": "markdown",
      "metadata": {
        "id": "0wr275PO8JDu"
      },
      "source": [
        "### 8. Using Boolean Operators"
      ]
    },
    {
      "cell_type": "code",
      "metadata": {
        "colab": {
          "base_uri": "https://localhost:8080/",
          "height": 204
        },
        "id": "qEtuNCZs-L0I",
        "outputId": "bf8ec02e-44d8-434a-f152-ec4d6d7a46c3"
      },
      "source": [
        "cols = [\"company\", \"revenues\", \"country\"]\r\n",
        "f500_sel = f500[cols].head()\r\n",
        "f500_sel"
      ],
      "execution_count": 35,
      "outputs": [
        {
          "output_type": "execute_result",
          "data": {
            "text/html": [
              "<div>\n",
              "<style scoped>\n",
              "    .dataframe tbody tr th:only-of-type {\n",
              "        vertical-align: middle;\n",
              "    }\n",
              "\n",
              "    .dataframe tbody tr th {\n",
              "        vertical-align: top;\n",
              "    }\n",
              "\n",
              "    .dataframe thead th {\n",
              "        text-align: right;\n",
              "    }\n",
              "</style>\n",
              "<table border=\"1\" class=\"dataframe\">\n",
              "  <thead>\n",
              "    <tr style=\"text-align: right;\">\n",
              "      <th></th>\n",
              "      <th>company</th>\n",
              "      <th>revenues</th>\n",
              "      <th>country</th>\n",
              "    </tr>\n",
              "  </thead>\n",
              "  <tbody>\n",
              "    <tr>\n",
              "      <th>0</th>\n",
              "      <td>Walmart</td>\n",
              "      <td>485873</td>\n",
              "      <td>USA</td>\n",
              "    </tr>\n",
              "    <tr>\n",
              "      <th>1</th>\n",
              "      <td>State Grid</td>\n",
              "      <td>315199</td>\n",
              "      <td>China</td>\n",
              "    </tr>\n",
              "    <tr>\n",
              "      <th>2</th>\n",
              "      <td>Sinopec Group</td>\n",
              "      <td>267518</td>\n",
              "      <td>China</td>\n",
              "    </tr>\n",
              "    <tr>\n",
              "      <th>3</th>\n",
              "      <td>China National Petroleum</td>\n",
              "      <td>262573</td>\n",
              "      <td>China</td>\n",
              "    </tr>\n",
              "    <tr>\n",
              "      <th>4</th>\n",
              "      <td>Toyota Motor</td>\n",
              "      <td>254694</td>\n",
              "      <td>Japan</td>\n",
              "    </tr>\n",
              "  </tbody>\n",
              "</table>\n",
              "</div>"
            ],
            "text/plain": [
              "                    company  revenues country\n",
              "0                   Walmart    485873     USA\n",
              "1                State Grid    315199   China\n",
              "2             Sinopec Group    267518   China\n",
              "3  China National Petroleum    262573   China\n",
              "4              Toyota Motor    254694   Japan"
            ]
          },
          "metadata": {
            "tags": []
          },
          "execution_count": 35
        }
      ]
    },
    {
      "cell_type": "code",
      "metadata": {
        "id": "QNiIB3GP-Ymz",
        "colab": {
          "base_uri": "https://localhost:8080/"
        },
        "outputId": "735fd493-83ec-415c-da7d-93efe5e4b1b1"
      },
      "source": [
        "# more than 265 billion\r\n",
        "over_265 = f500_sel[\"revenues\"] > 26500\r\n",
        "over_265"
      ],
      "execution_count": 36,
      "outputs": [
        {
          "output_type": "execute_result",
          "data": {
            "text/plain": [
              "0    True\n",
              "1    True\n",
              "2    True\n",
              "3    True\n",
              "4    True\n",
              "Name: revenues, dtype: bool"
            ]
          },
          "metadata": {
            "tags": []
          },
          "execution_count": 36
        }
      ]
    },
    {
      "cell_type": "code",
      "metadata": {
        "colab": {
          "base_uri": "https://localhost:8080/"
        },
        "id": "p6nRrEzJyyON",
        "outputId": "11862ff7-65be-497c-feb7-0fc2690ba5a5"
      },
      "source": [
        "china = f500_sel[\"country\"] == \"China\"\r\n",
        "china"
      ],
      "execution_count": 37,
      "outputs": [
        {
          "output_type": "execute_result",
          "data": {
            "text/plain": [
              "0    False\n",
              "1     True\n",
              "2     True\n",
              "3     True\n",
              "4    False\n",
              "Name: country, dtype: bool"
            ]
          },
          "metadata": {
            "tags": []
          },
          "execution_count": 37
        }
      ]
    },
    {
      "cell_type": "code",
      "metadata": {
        "colab": {
          "base_uri": "https://localhost:8080/"
        },
        "id": "nHCoho7Ey6f8",
        "outputId": "deff8a6d-345e-4fa9-e038-b076acd77e66"
      },
      "source": [
        "combined = over_265 & china\r\n",
        "combined"
      ],
      "execution_count": 38,
      "outputs": [
        {
          "output_type": "execute_result",
          "data": {
            "text/plain": [
              "0    False\n",
              "1     True\n",
              "2     True\n",
              "3     True\n",
              "4    False\n",
              "dtype: bool"
            ]
          },
          "metadata": {
            "tags": []
          },
          "execution_count": 38
        }
      ]
    },
    {
      "cell_type": "code",
      "metadata": {
        "colab": {
          "base_uri": "https://localhost:8080/",
          "height": 142
        },
        "id": "OT0wO4pWzDUv",
        "outputId": "a7f7ef05-9ce0-4aac-c3ba-9acca3871b9b"
      },
      "source": [
        "final_cols = [\"company\", \"revenues\"]\r\n",
        "result = f500_sel.loc[combined, final_cols]\r\n",
        "result"
      ],
      "execution_count": 39,
      "outputs": [
        {
          "output_type": "execute_result",
          "data": {
            "text/html": [
              "<div>\n",
              "<style scoped>\n",
              "    .dataframe tbody tr th:only-of-type {\n",
              "        vertical-align: middle;\n",
              "    }\n",
              "\n",
              "    .dataframe tbody tr th {\n",
              "        vertical-align: top;\n",
              "    }\n",
              "\n",
              "    .dataframe thead th {\n",
              "        text-align: right;\n",
              "    }\n",
              "</style>\n",
              "<table border=\"1\" class=\"dataframe\">\n",
              "  <thead>\n",
              "    <tr style=\"text-align: right;\">\n",
              "      <th></th>\n",
              "      <th>company</th>\n",
              "      <th>revenues</th>\n",
              "    </tr>\n",
              "  </thead>\n",
              "  <tbody>\n",
              "    <tr>\n",
              "      <th>1</th>\n",
              "      <td>State Grid</td>\n",
              "      <td>315199</td>\n",
              "    </tr>\n",
              "    <tr>\n",
              "      <th>2</th>\n",
              "      <td>Sinopec Group</td>\n",
              "      <td>267518</td>\n",
              "    </tr>\n",
              "    <tr>\n",
              "      <th>3</th>\n",
              "      <td>China National Petroleum</td>\n",
              "      <td>262573</td>\n",
              "    </tr>\n",
              "  </tbody>\n",
              "</table>\n",
              "</div>"
            ],
            "text/plain": [
              "                    company  revenues\n",
              "1                State Grid    315199\n",
              "2             Sinopec Group    267518\n",
              "3  China National Petroleum    262573"
            ]
          },
          "metadata": {
            "tags": []
          },
          "execution_count": 39
        }
      ]
    },
    {
      "cell_type": "code",
      "metadata": {
        "colab": {
          "base_uri": "https://localhost:8080/"
        },
        "id": "iq_NsKMnzV5A",
        "outputId": "640f56ce-48fd-45c9-c09e-b16f18078d59"
      },
      "source": [
        "# Check revenues greater than 100 billion\r\n",
        "large_revenue = f500[\"revenues\"] > 100000\r\n",
        "large_revenue"
      ],
      "execution_count": 41,
      "outputs": [
        {
          "output_type": "execute_result",
          "data": {
            "text/plain": [
              "0       True\n",
              "1       True\n",
              "2       True\n",
              "3       True\n",
              "4       True\n",
              "       ...  \n",
              "495    False\n",
              "496    False\n",
              "497    False\n",
              "498    False\n",
              "499    False\n",
              "Name: revenues, Length: 500, dtype: bool"
            ]
          },
          "metadata": {
            "tags": []
          },
          "execution_count": 41
        }
      ]
    },
    {
      "cell_type": "code",
      "metadata": {
        "id": "XjZR-qiB0AmL",
        "colab": {
          "base_uri": "https://localhost:8080/"
        },
        "outputId": "17bc21b0-123c-435c-cd0b-6cf21dd198d3"
      },
      "source": [
        "negative_profits = f500[\"profits\"] < 0\r\n",
        "negative_profits"
      ],
      "execution_count": 42,
      "outputs": [
        {
          "output_type": "execute_result",
          "data": {
            "text/plain": [
              "0      False\n",
              "1      False\n",
              "2      False\n",
              "3      False\n",
              "4      False\n",
              "       ...  \n",
              "495    False\n",
              "496    False\n",
              "497    False\n",
              "498    False\n",
              "499    False\n",
              "Name: profits, Length: 500, dtype: bool"
            ]
          },
          "metadata": {
            "tags": []
          },
          "execution_count": 42
        }
      ]
    },
    {
      "cell_type": "code",
      "metadata": {
        "colab": {
          "base_uri": "https://localhost:8080/"
        },
        "id": "RFoLh3XlKBfv",
        "outputId": "5a7a2bb8-e67c-47d2-f894-c4da93d02306"
      },
      "source": [
        "combined = large_revenue & negative_profits\r\n",
        "combined"
      ],
      "execution_count": 43,
      "outputs": [
        {
          "output_type": "execute_result",
          "data": {
            "text/plain": [
              "0      False\n",
              "1      False\n",
              "2      False\n",
              "3      False\n",
              "4      False\n",
              "       ...  \n",
              "495    False\n",
              "496    False\n",
              "497    False\n",
              "498    False\n",
              "499    False\n",
              "Length: 500, dtype: bool"
            ]
          },
          "metadata": {
            "tags": []
          },
          "execution_count": 43
        }
      ]
    },
    {
      "cell_type": "code",
      "metadata": {
        "colab": {
          "base_uri": "https://localhost:8080/",
          "height": 199
        },
        "id": "EebT9MtxKMfh",
        "outputId": "26a5dfdb-23f5-4054-cc76-343987d15f6d"
      },
      "source": [
        "big_rev_neg_profit = f500[combined]\r\n",
        "big_rev_neg_profit"
      ],
      "execution_count": 44,
      "outputs": [
        {
          "output_type": "execute_result",
          "data": {
            "text/html": [
              "<div>\n",
              "<style scoped>\n",
              "    .dataframe tbody tr th:only-of-type {\n",
              "        vertical-align: middle;\n",
              "    }\n",
              "\n",
              "    .dataframe tbody tr th {\n",
              "        vertical-align: top;\n",
              "    }\n",
              "\n",
              "    .dataframe thead th {\n",
              "        text-align: right;\n",
              "    }\n",
              "</style>\n",
              "<table border=\"1\" class=\"dataframe\">\n",
              "  <thead>\n",
              "    <tr style=\"text-align: right;\">\n",
              "      <th></th>\n",
              "      <th>company</th>\n",
              "      <th>rank</th>\n",
              "      <th>revenues</th>\n",
              "      <th>revenue_change</th>\n",
              "      <th>profits</th>\n",
              "      <th>assets</th>\n",
              "      <th>profit_change</th>\n",
              "      <th>ceo</th>\n",
              "      <th>industry</th>\n",
              "      <th>sector</th>\n",
              "      <th>previous_rank</th>\n",
              "      <th>country</th>\n",
              "      <th>hq_location</th>\n",
              "      <th>website</th>\n",
              "      <th>years_on_global_500_list</th>\n",
              "      <th>employees</th>\n",
              "      <th>total_stockholder_equity</th>\n",
              "      <th>rank_change</th>\n",
              "    </tr>\n",
              "  </thead>\n",
              "  <tbody>\n",
              "    <tr>\n",
              "      <th>32</th>\n",
              "      <td>Japan Post Holdings</td>\n",
              "      <td>33</td>\n",
              "      <td>122990</td>\n",
              "      <td>3.6</td>\n",
              "      <td>-267.4</td>\n",
              "      <td>2631385</td>\n",
              "      <td>-107.5</td>\n",
              "      <td>Masatsugu Nagato</td>\n",
              "      <td>Insurance: Life, Health (stock)</td>\n",
              "      <td>Financials</td>\n",
              "      <td>37.0</td>\n",
              "      <td>Japan</td>\n",
              "      <td>Tokyo, Japan</td>\n",
              "      <td>http://www.japanpost.jp</td>\n",
              "      <td>21</td>\n",
              "      <td>248384</td>\n",
              "      <td>91532</td>\n",
              "      <td>4.0</td>\n",
              "    </tr>\n",
              "    <tr>\n",
              "      <th>44</th>\n",
              "      <td>Chevron</td>\n",
              "      <td>45</td>\n",
              "      <td>107567</td>\n",
              "      <td>-18.0</td>\n",
              "      <td>-497.0</td>\n",
              "      <td>260078</td>\n",
              "      <td>-110.8</td>\n",
              "      <td>John S. Watson</td>\n",
              "      <td>Petroleum Refining</td>\n",
              "      <td>Energy</td>\n",
              "      <td>31.0</td>\n",
              "      <td>USA</td>\n",
              "      <td>San Ramon, CA</td>\n",
              "      <td>http://www.chevron.com</td>\n",
              "      <td>23</td>\n",
              "      <td>55200</td>\n",
              "      <td>145556</td>\n",
              "      <td>-14.0</td>\n",
              "    </tr>\n",
              "  </tbody>\n",
              "</table>\n",
              "</div>"
            ],
            "text/plain": [
              "                company  rank  ...  total_stockholder_equity  rank_change\n",
              "32  Japan Post Holdings    33  ...                     91532          4.0\n",
              "44              Chevron    45  ...                    145556        -14.0\n",
              "\n",
              "[2 rows x 18 columns]"
            ]
          },
          "metadata": {
            "tags": []
          },
          "execution_count": 44
        }
      ]
    },
    {
      "cell_type": "markdown",
      "metadata": {
        "id": "WfN4txYpKUDd"
      },
      "source": [
        "### 9. Using Boolean Operations"
      ]
    },
    {
      "cell_type": "code",
      "metadata": {
        "colab": {
          "base_uri": "https://localhost:8080/",
          "height": 199
        },
        "id": "3ZfWTeELOdYJ",
        "outputId": "3265d006-32f5-4b58-9113-7507c974cbd3"
      },
      "source": [
        "combined = (f500[\"revenues\"] > 100000) & (f500[\"profits\"] < 0)\r\n",
        "big_rev_neg_profit = f500[combined]\r\n",
        "big_rev_neg_profit"
      ],
      "execution_count": 45,
      "outputs": [
        {
          "output_type": "execute_result",
          "data": {
            "text/html": [
              "<div>\n",
              "<style scoped>\n",
              "    .dataframe tbody tr th:only-of-type {\n",
              "        vertical-align: middle;\n",
              "    }\n",
              "\n",
              "    .dataframe tbody tr th {\n",
              "        vertical-align: top;\n",
              "    }\n",
              "\n",
              "    .dataframe thead th {\n",
              "        text-align: right;\n",
              "    }\n",
              "</style>\n",
              "<table border=\"1\" class=\"dataframe\">\n",
              "  <thead>\n",
              "    <tr style=\"text-align: right;\">\n",
              "      <th></th>\n",
              "      <th>company</th>\n",
              "      <th>rank</th>\n",
              "      <th>revenues</th>\n",
              "      <th>revenue_change</th>\n",
              "      <th>profits</th>\n",
              "      <th>assets</th>\n",
              "      <th>profit_change</th>\n",
              "      <th>ceo</th>\n",
              "      <th>industry</th>\n",
              "      <th>sector</th>\n",
              "      <th>previous_rank</th>\n",
              "      <th>country</th>\n",
              "      <th>hq_location</th>\n",
              "      <th>website</th>\n",
              "      <th>years_on_global_500_list</th>\n",
              "      <th>employees</th>\n",
              "      <th>total_stockholder_equity</th>\n",
              "      <th>rank_change</th>\n",
              "    </tr>\n",
              "  </thead>\n",
              "  <tbody>\n",
              "    <tr>\n",
              "      <th>32</th>\n",
              "      <td>Japan Post Holdings</td>\n",
              "      <td>33</td>\n",
              "      <td>122990</td>\n",
              "      <td>3.6</td>\n",
              "      <td>-267.4</td>\n",
              "      <td>2631385</td>\n",
              "      <td>-107.5</td>\n",
              "      <td>Masatsugu Nagato</td>\n",
              "      <td>Insurance: Life, Health (stock)</td>\n",
              "      <td>Financials</td>\n",
              "      <td>37.0</td>\n",
              "      <td>Japan</td>\n",
              "      <td>Tokyo, Japan</td>\n",
              "      <td>http://www.japanpost.jp</td>\n",
              "      <td>21</td>\n",
              "      <td>248384</td>\n",
              "      <td>91532</td>\n",
              "      <td>4.0</td>\n",
              "    </tr>\n",
              "    <tr>\n",
              "      <th>44</th>\n",
              "      <td>Chevron</td>\n",
              "      <td>45</td>\n",
              "      <td>107567</td>\n",
              "      <td>-18.0</td>\n",
              "      <td>-497.0</td>\n",
              "      <td>260078</td>\n",
              "      <td>-110.8</td>\n",
              "      <td>John S. Watson</td>\n",
              "      <td>Petroleum Refining</td>\n",
              "      <td>Energy</td>\n",
              "      <td>31.0</td>\n",
              "      <td>USA</td>\n",
              "      <td>San Ramon, CA</td>\n",
              "      <td>http://www.chevron.com</td>\n",
              "      <td>23</td>\n",
              "      <td>55200</td>\n",
              "      <td>145556</td>\n",
              "      <td>-14.0</td>\n",
              "    </tr>\n",
              "  </tbody>\n",
              "</table>\n",
              "</div>"
            ],
            "text/plain": [
              "                company  rank  ...  total_stockholder_equity  rank_change\n",
              "32  Japan Post Holdings    33  ...                     91532          4.0\n",
              "44              Chevron    45  ...                    145556        -14.0\n",
              "\n",
              "[2 rows x 18 columns]"
            ]
          },
          "metadata": {
            "tags": []
          },
          "execution_count": 45
        }
      ]
    },
    {
      "cell_type": "code",
      "metadata": {
        "colab": {
          "base_uri": "https://localhost:8080/"
        },
        "id": "YPfJuVQIP2-o",
        "outputId": "05106265-9740-4ba0-e37a-2eba4dc6412e"
      },
      "source": [
        "f500['country'].value_counts()"
      ],
      "execution_count": 46,
      "outputs": [
        {
          "output_type": "execute_result",
          "data": {
            "text/plain": [
              "USA             132\n",
              "China           109\n",
              "Japan            51\n",
              "France           29\n",
              "Germany          29\n",
              "Britain          24\n",
              "South Korea      15\n",
              "Netherlands      14\n",
              "Switzerland      14\n",
              "Canada           11\n",
              "Spain             9\n",
              "Australia         7\n",
              "India             7\n",
              "Brazil            7\n",
              "Italy             7\n",
              "Taiwan            6\n",
              "Ireland           4\n",
              "Russia            4\n",
              "Singapore         3\n",
              "Sweden            3\n",
              "Mexico            2\n",
              "Finland           1\n",
              "Indonesia         1\n",
              "Saudi Arabia      1\n",
              "Denmark           1\n",
              "Malaysia          1\n",
              "Belgium           1\n",
              "Israel            1\n",
              "Luxembourg        1\n",
              "Venezuela         1\n",
              "Turkey            1\n",
              "Thailand          1\n",
              "Norway            1\n",
              "U.A.E             1\n",
              "Name: country, dtype: int64"
            ]
          },
          "metadata": {
            "tags": []
          },
          "execution_count": 46
        }
      ]
    },
    {
      "cell_type": "code",
      "metadata": {
        "colab": {
          "base_uri": "https://localhost:8080/",
          "height": 640
        },
        "id": "RDFviKWKPAd1",
        "outputId": "e3c6ebb4-4f1e-4aed-d419-9798dd9d6d2f"
      },
      "source": [
        "brazil_venezuela = f500[((f500[\"country\"] == \"Brazil\") | (f500[\"country\"] == \"Venezuela\"))]\r\n",
        "brazil_venezuela"
      ],
      "execution_count": 47,
      "outputs": [
        {
          "output_type": "execute_result",
          "data": {
            "text/html": [
              "<div>\n",
              "<style scoped>\n",
              "    .dataframe tbody tr th:only-of-type {\n",
              "        vertical-align: middle;\n",
              "    }\n",
              "\n",
              "    .dataframe tbody tr th {\n",
              "        vertical-align: top;\n",
              "    }\n",
              "\n",
              "    .dataframe thead th {\n",
              "        text-align: right;\n",
              "    }\n",
              "</style>\n",
              "<table border=\"1\" class=\"dataframe\">\n",
              "  <thead>\n",
              "    <tr style=\"text-align: right;\">\n",
              "      <th></th>\n",
              "      <th>company</th>\n",
              "      <th>rank</th>\n",
              "      <th>revenues</th>\n",
              "      <th>revenue_change</th>\n",
              "      <th>profits</th>\n",
              "      <th>assets</th>\n",
              "      <th>profit_change</th>\n",
              "      <th>ceo</th>\n",
              "      <th>industry</th>\n",
              "      <th>sector</th>\n",
              "      <th>previous_rank</th>\n",
              "      <th>country</th>\n",
              "      <th>hq_location</th>\n",
              "      <th>website</th>\n",
              "      <th>years_on_global_500_list</th>\n",
              "      <th>employees</th>\n",
              "      <th>total_stockholder_equity</th>\n",
              "      <th>rank_change</th>\n",
              "    </tr>\n",
              "  </thead>\n",
              "  <tbody>\n",
              "    <tr>\n",
              "      <th>74</th>\n",
              "      <td>Petrobras</td>\n",
              "      <td>75</td>\n",
              "      <td>81405</td>\n",
              "      <td>-16.3</td>\n",
              "      <td>-4838.0</td>\n",
              "      <td>246983</td>\n",
              "      <td>NaN</td>\n",
              "      <td>Pedro Pullen Parente</td>\n",
              "      <td>Petroleum Refining</td>\n",
              "      <td>Energy</td>\n",
              "      <td>58.0</td>\n",
              "      <td>Brazil</td>\n",
              "      <td>Rio de Janeiro, Brazil</td>\n",
              "      <td>http://www.petrobras.com.br</td>\n",
              "      <td>23</td>\n",
              "      <td>68829</td>\n",
              "      <td>76779</td>\n",
              "      <td>-17.0</td>\n",
              "    </tr>\n",
              "    <tr>\n",
              "      <th>112</th>\n",
              "      <td>Itau Unibanco Holding</td>\n",
              "      <td>113</td>\n",
              "      <td>66876</td>\n",
              "      <td>21.4</td>\n",
              "      <td>6666.4</td>\n",
              "      <td>415972</td>\n",
              "      <td>-13.7</td>\n",
              "      <td>Candido Botelho Bracher</td>\n",
              "      <td>Banks: Commercial and Savings</td>\n",
              "      <td>Financials</td>\n",
              "      <td>159.0</td>\n",
              "      <td>Brazil</td>\n",
              "      <td>Sao Paulo, Brazil</td>\n",
              "      <td>http://www.itau.com.br</td>\n",
              "      <td>4</td>\n",
              "      <td>94779</td>\n",
              "      <td>37680</td>\n",
              "      <td>46.0</td>\n",
              "    </tr>\n",
              "    <tr>\n",
              "      <th>150</th>\n",
              "      <td>Banco do Brasil</td>\n",
              "      <td>151</td>\n",
              "      <td>58093</td>\n",
              "      <td>-13.4</td>\n",
              "      <td>2013.8</td>\n",
              "      <td>426416</td>\n",
              "      <td>-52.3</td>\n",
              "      <td>Paulo Rogerio Caffarelli</td>\n",
              "      <td>Banks: Commercial and Savings</td>\n",
              "      <td>Financials</td>\n",
              "      <td>115.0</td>\n",
              "      <td>Brazil</td>\n",
              "      <td>Brasilia, Brazil</td>\n",
              "      <td>http://www.bb.com.br</td>\n",
              "      <td>23</td>\n",
              "      <td>100622</td>\n",
              "      <td>26551</td>\n",
              "      <td>-36.0</td>\n",
              "    </tr>\n",
              "    <tr>\n",
              "      <th>153</th>\n",
              "      <td>Banco Bradesco</td>\n",
              "      <td>154</td>\n",
              "      <td>57443</td>\n",
              "      <td>31.3</td>\n",
              "      <td>5127.9</td>\n",
              "      <td>366418</td>\n",
              "      <td>-5.7</td>\n",
              "      <td>Luiz Carlos Trabuco Cappi</td>\n",
              "      <td>Banks: Commercial and Savings</td>\n",
              "      <td>Financials</td>\n",
              "      <td>209.0</td>\n",
              "      <td>Brazil</td>\n",
              "      <td>Osasco, Brazil</td>\n",
              "      <td>http://www.bradesco.com.br</td>\n",
              "      <td>21</td>\n",
              "      <td>94541</td>\n",
              "      <td>32369</td>\n",
              "      <td>55.0</td>\n",
              "    </tr>\n",
              "    <tr>\n",
              "      <th>190</th>\n",
              "      <td>JBS</td>\n",
              "      <td>191</td>\n",
              "      <td>48825</td>\n",
              "      <td>-0.1</td>\n",
              "      <td>107.7</td>\n",
              "      <td>31605</td>\n",
              "      <td>-92.3</td>\n",
              "      <td>Wesley Mendonca Batista</td>\n",
              "      <td>Food Production</td>\n",
              "      <td>Food, Beverages &amp; Tobacco</td>\n",
              "      <td>185.0</td>\n",
              "      <td>Brazil</td>\n",
              "      <td>Sao Paulo, Brazil</td>\n",
              "      <td>http://jbss.infoinvest.com.br</td>\n",
              "      <td>8</td>\n",
              "      <td>237061</td>\n",
              "      <td>7307</td>\n",
              "      <td>-6.0</td>\n",
              "    </tr>\n",
              "    <tr>\n",
              "      <th>369</th>\n",
              "      <td>Vale</td>\n",
              "      <td>370</td>\n",
              "      <td>29363</td>\n",
              "      <td>14.7</td>\n",
              "      <td>3982.0</td>\n",
              "      <td>99014</td>\n",
              "      <td>NaN</td>\n",
              "      <td>Fabio Schvartsman</td>\n",
              "      <td>Mining, Crude-Oil Production</td>\n",
              "      <td>Energy</td>\n",
              "      <td>417.0</td>\n",
              "      <td>Brazil</td>\n",
              "      <td>Rio de Janeiro, Brazil</td>\n",
              "      <td>http://www.vale.com</td>\n",
              "      <td>11</td>\n",
              "      <td>73062</td>\n",
              "      <td>39042</td>\n",
              "      <td>47.0</td>\n",
              "    </tr>\n",
              "    <tr>\n",
              "      <th>441</th>\n",
              "      <td>Mercantil Servicios Financieros</td>\n",
              "      <td>442</td>\n",
              "      <td>24403</td>\n",
              "      <td>50.3</td>\n",
              "      <td>2004.2</td>\n",
              "      <td>148659</td>\n",
              "      <td>-10.5</td>\n",
              "      <td>Gustavo J. Vollmer A.</td>\n",
              "      <td>Banks: Commercial and Savings</td>\n",
              "      <td>Financials</td>\n",
              "      <td>NaN</td>\n",
              "      <td>Venezuela</td>\n",
              "      <td>Caracas, Venezuela</td>\n",
              "      <td>http://www.msf.com</td>\n",
              "      <td>1</td>\n",
              "      <td>8370</td>\n",
              "      <td>7550</td>\n",
              "      <td>NaN</td>\n",
              "    </tr>\n",
              "    <tr>\n",
              "      <th>486</th>\n",
              "      <td>Ultrapar Holdings</td>\n",
              "      <td>487</td>\n",
              "      <td>22167</td>\n",
              "      <td>-2.3</td>\n",
              "      <td>447.5</td>\n",
              "      <td>7426</td>\n",
              "      <td>-0.8</td>\n",
              "      <td>Thilo Mannhardt</td>\n",
              "      <td>Energy</td>\n",
              "      <td>Energy</td>\n",
              "      <td>474.0</td>\n",
              "      <td>Brazil</td>\n",
              "      <td>Sao Paulo, Brazil</td>\n",
              "      <td>http://www.ultra.com.br</td>\n",
              "      <td>8</td>\n",
              "      <td>15173</td>\n",
              "      <td>2621</td>\n",
              "      <td>-13.0</td>\n",
              "    </tr>\n",
              "  </tbody>\n",
              "</table>\n",
              "</div>"
            ],
            "text/plain": [
              "                             company  ...  rank_change\n",
              "74                         Petrobras  ...        -17.0\n",
              "112            Itau Unibanco Holding  ...         46.0\n",
              "150                  Banco do Brasil  ...        -36.0\n",
              "153                   Banco Bradesco  ...         55.0\n",
              "190                              JBS  ...         -6.0\n",
              "369                             Vale  ...         47.0\n",
              "441  Mercantil Servicios Financieros  ...          NaN\n",
              "486                Ultrapar Holdings  ...        -13.0\n",
              "\n",
              "[8 rows x 18 columns]"
            ]
          },
          "metadata": {
            "tags": []
          },
          "execution_count": 47
        }
      ]
    },
    {
      "cell_type": "code",
      "metadata": {
        "colab": {
          "base_uri": "https://localhost:8080/"
        },
        "id": "GVnzsu0TPaBr",
        "outputId": "4c09913f-e245-4ef7-c317-5daf4dc41a60"
      },
      "source": [
        "~(f500['country'] == \"USA\") & (f500['sector'] == \"Technology\")"
      ],
      "execution_count": 48,
      "outputs": [
        {
          "output_type": "execute_result",
          "data": {
            "text/plain": [
              "0      False\n",
              "1      False\n",
              "2      False\n",
              "3      False\n",
              "4      False\n",
              "       ...  \n",
              "495    False\n",
              "496    False\n",
              "497    False\n",
              "498    False\n",
              "499    False\n",
              "Length: 500, dtype: bool"
            ]
          },
          "metadata": {
            "tags": []
          },
          "execution_count": 48
        }
      ]
    },
    {
      "cell_type": "code",
      "metadata": {
        "colab": {
          "base_uri": "https://localhost:8080/"
        },
        "id": "jAUjwEOBRydz",
        "outputId": "a39bfe05-3054-44f8-c33a-4336ba9b0994"
      },
      "source": [
        "f500[~(f500['country'] == \"USA\")][\"sector\"].value_counts()"
      ],
      "execution_count": 49,
      "outputs": [
        {
          "output_type": "execute_result",
          "data": {
            "text/plain": [
              "Financials                       91\n",
              "Energy                           67\n",
              "Motor Vehicles & Parts           32\n",
              "Technology                       30\n",
              "Wholesalers                      20\n",
              "Materials                        16\n",
              "Food & Drug Stores               15\n",
              "Telecommunications               14\n",
              "Transportation                   13\n",
              "Engineering & Construction       13\n",
              "Health Care                      12\n",
              "Industrials                      11\n",
              "Aerospace & Defense               8\n",
              "Food, Beverages & Tobacco         7\n",
              "Retailing                         6\n",
              "Chemicals                         5\n",
              "Business Services                 3\n",
              "Hotels, Restaurants & Leisure     2\n",
              "Household Products                2\n",
              "Apparel                           1\n",
              "Name: sector, dtype: int64"
            ]
          },
          "metadata": {
            "tags": []
          },
          "execution_count": 49
        }
      ]
    },
    {
      "cell_type": "code",
      "metadata": {
        "colab": {
          "base_uri": "https://localhost:8080/",
          "height": 360
        },
        "id": "IdPJztZNSEH6",
        "outputId": "e89ee246-85d7-406a-e6df-808949db10af"
      },
      "source": [
        "tech_outside_usa = f500[~(f500['country'] == \"USA\") & (f500['sector'] == \"Technology\")].head()\r\n",
        "tech_outside_usa"
      ],
      "execution_count": 50,
      "outputs": [
        {
          "output_type": "execute_result",
          "data": {
            "text/html": [
              "<div>\n",
              "<style scoped>\n",
              "    .dataframe tbody tr th:only-of-type {\n",
              "        vertical-align: middle;\n",
              "    }\n",
              "\n",
              "    .dataframe tbody tr th {\n",
              "        vertical-align: top;\n",
              "    }\n",
              "\n",
              "    .dataframe thead th {\n",
              "        text-align: right;\n",
              "    }\n",
              "</style>\n",
              "<table border=\"1\" class=\"dataframe\">\n",
              "  <thead>\n",
              "    <tr style=\"text-align: right;\">\n",
              "      <th></th>\n",
              "      <th>company</th>\n",
              "      <th>rank</th>\n",
              "      <th>revenues</th>\n",
              "      <th>revenue_change</th>\n",
              "      <th>profits</th>\n",
              "      <th>assets</th>\n",
              "      <th>profit_change</th>\n",
              "      <th>ceo</th>\n",
              "      <th>industry</th>\n",
              "      <th>sector</th>\n",
              "      <th>previous_rank</th>\n",
              "      <th>country</th>\n",
              "      <th>hq_location</th>\n",
              "      <th>website</th>\n",
              "      <th>years_on_global_500_list</th>\n",
              "      <th>employees</th>\n",
              "      <th>total_stockholder_equity</th>\n",
              "      <th>rank_change</th>\n",
              "    </tr>\n",
              "  </thead>\n",
              "  <tbody>\n",
              "    <tr>\n",
              "      <th>14</th>\n",
              "      <td>Samsung Electronics</td>\n",
              "      <td>15</td>\n",
              "      <td>173957</td>\n",
              "      <td>-2.0</td>\n",
              "      <td>19316.5</td>\n",
              "      <td>217104</td>\n",
              "      <td>16.8</td>\n",
              "      <td>Oh-Hyun Kwon</td>\n",
              "      <td>Electronics, Electrical Equip.</td>\n",
              "      <td>Technology</td>\n",
              "      <td>13.0</td>\n",
              "      <td>South Korea</td>\n",
              "      <td>Suwon, South Korea</td>\n",
              "      <td>http://www.samsung.com</td>\n",
              "      <td>23</td>\n",
              "      <td>325000</td>\n",
              "      <td>154376</td>\n",
              "      <td>-2.0</td>\n",
              "    </tr>\n",
              "    <tr>\n",
              "      <th>26</th>\n",
              "      <td>Hon Hai Precision Industry</td>\n",
              "      <td>27</td>\n",
              "      <td>135129</td>\n",
              "      <td>-4.3</td>\n",
              "      <td>4608.8</td>\n",
              "      <td>80436</td>\n",
              "      <td>-0.4</td>\n",
              "      <td>Terry Gou</td>\n",
              "      <td>Electronics, Electrical Equip.</td>\n",
              "      <td>Technology</td>\n",
              "      <td>25.0</td>\n",
              "      <td>Taiwan</td>\n",
              "      <td>New Taipei City, Taiwan</td>\n",
              "      <td>http://www.foxconn.com</td>\n",
              "      <td>13</td>\n",
              "      <td>726772</td>\n",
              "      <td>33476</td>\n",
              "      <td>-2.0</td>\n",
              "    </tr>\n",
              "    <tr>\n",
              "      <th>70</th>\n",
              "      <td>Hitachi</td>\n",
              "      <td>71</td>\n",
              "      <td>84558</td>\n",
              "      <td>1.2</td>\n",
              "      <td>2134.3</td>\n",
              "      <td>86742</td>\n",
              "      <td>48.8</td>\n",
              "      <td>Toshiaki Higashihara</td>\n",
              "      <td>Electronics, Electrical Equip.</td>\n",
              "      <td>Technology</td>\n",
              "      <td>79.0</td>\n",
              "      <td>Japan</td>\n",
              "      <td>Tokyo, Japan</td>\n",
              "      <td>http://www.hitachi.com</td>\n",
              "      <td>23</td>\n",
              "      <td>303887</td>\n",
              "      <td>26632</td>\n",
              "      <td>8.0</td>\n",
              "    </tr>\n",
              "    <tr>\n",
              "      <th>82</th>\n",
              "      <td>Huawei Investment &amp; Holding</td>\n",
              "      <td>83</td>\n",
              "      <td>78511</td>\n",
              "      <td>24.9</td>\n",
              "      <td>5579.4</td>\n",
              "      <td>63837</td>\n",
              "      <td>-5.0</td>\n",
              "      <td>Ren Zhengfei</td>\n",
              "      <td>Network and Other Communications Equipment</td>\n",
              "      <td>Technology</td>\n",
              "      <td>129.0</td>\n",
              "      <td>China</td>\n",
              "      <td>Shenzhen, China</td>\n",
              "      <td>http://www.huawei.com</td>\n",
              "      <td>8</td>\n",
              "      <td>180000</td>\n",
              "      <td>20159</td>\n",
              "      <td>46.0</td>\n",
              "    </tr>\n",
              "    <tr>\n",
              "      <th>104</th>\n",
              "      <td>Sony</td>\n",
              "      <td>105</td>\n",
              "      <td>70170</td>\n",
              "      <td>3.9</td>\n",
              "      <td>676.4</td>\n",
              "      <td>158519</td>\n",
              "      <td>-45.1</td>\n",
              "      <td>Kazuo Hirai</td>\n",
              "      <td>Electronics, Electrical Equip.</td>\n",
              "      <td>Technology</td>\n",
              "      <td>113.0</td>\n",
              "      <td>Japan</td>\n",
              "      <td>Tokyo, Japan</td>\n",
              "      <td>http://www.sony.net</td>\n",
              "      <td>23</td>\n",
              "      <td>128400</td>\n",
              "      <td>22415</td>\n",
              "      <td>8.0</td>\n",
              "    </tr>\n",
              "  </tbody>\n",
              "</table>\n",
              "</div>"
            ],
            "text/plain": [
              "                         company  rank  ...  total_stockholder_equity  rank_change\n",
              "14           Samsung Electronics    15  ...                    154376         -2.0\n",
              "26    Hon Hai Precision Industry    27  ...                     33476         -2.0\n",
              "70                       Hitachi    71  ...                     26632          8.0\n",
              "82   Huawei Investment & Holding    83  ...                     20159         46.0\n",
              "104                         Sony   105  ...                     22415          8.0\n",
              "\n",
              "[5 rows x 18 columns]"
            ]
          },
          "metadata": {
            "tags": []
          },
          "execution_count": 50
        }
      ]
    },
    {
      "cell_type": "markdown",
      "metadata": {
        "id": "B5XFqFe6StM2"
      },
      "source": [
        "### 10. Sorting Values"
      ]
    },
    {
      "cell_type": "code",
      "metadata": {
        "colab": {
          "base_uri": "https://localhost:8080/",
          "height": 762
        },
        "id": "o3JRFqyCAiXw",
        "outputId": "e8451207-9461-48bb-982d-ceaf9ce4ad40"
      },
      "source": [
        "# select all rows where country is china\r\n",
        "selected_rows = f500[f500[\"country\"] == \"China\"]\r\n",
        "selected_rows"
      ],
      "execution_count": 51,
      "outputs": [
        {
          "output_type": "execute_result",
          "data": {
            "text/html": [
              "<div>\n",
              "<style scoped>\n",
              "    .dataframe tbody tr th:only-of-type {\n",
              "        vertical-align: middle;\n",
              "    }\n",
              "\n",
              "    .dataframe tbody tr th {\n",
              "        vertical-align: top;\n",
              "    }\n",
              "\n",
              "    .dataframe thead th {\n",
              "        text-align: right;\n",
              "    }\n",
              "</style>\n",
              "<table border=\"1\" class=\"dataframe\">\n",
              "  <thead>\n",
              "    <tr style=\"text-align: right;\">\n",
              "      <th></th>\n",
              "      <th>company</th>\n",
              "      <th>rank</th>\n",
              "      <th>revenues</th>\n",
              "      <th>revenue_change</th>\n",
              "      <th>profits</th>\n",
              "      <th>assets</th>\n",
              "      <th>profit_change</th>\n",
              "      <th>ceo</th>\n",
              "      <th>industry</th>\n",
              "      <th>sector</th>\n",
              "      <th>previous_rank</th>\n",
              "      <th>country</th>\n",
              "      <th>hq_location</th>\n",
              "      <th>website</th>\n",
              "      <th>years_on_global_500_list</th>\n",
              "      <th>employees</th>\n",
              "      <th>total_stockholder_equity</th>\n",
              "      <th>rank_change</th>\n",
              "    </tr>\n",
              "  </thead>\n",
              "  <tbody>\n",
              "    <tr>\n",
              "      <th>1</th>\n",
              "      <td>State Grid</td>\n",
              "      <td>2</td>\n",
              "      <td>315199</td>\n",
              "      <td>-4.4</td>\n",
              "      <td>9571.3</td>\n",
              "      <td>489838</td>\n",
              "      <td>-6.2</td>\n",
              "      <td>Kou Wei</td>\n",
              "      <td>Utilities</td>\n",
              "      <td>Energy</td>\n",
              "      <td>2.0</td>\n",
              "      <td>China</td>\n",
              "      <td>Beijing, China</td>\n",
              "      <td>http://www.sgcc.com.cn</td>\n",
              "      <td>17</td>\n",
              "      <td>926067</td>\n",
              "      <td>209456</td>\n",
              "      <td>0.0</td>\n",
              "    </tr>\n",
              "    <tr>\n",
              "      <th>2</th>\n",
              "      <td>Sinopec Group</td>\n",
              "      <td>3</td>\n",
              "      <td>267518</td>\n",
              "      <td>-9.1</td>\n",
              "      <td>1257.9</td>\n",
              "      <td>310726</td>\n",
              "      <td>-65.0</td>\n",
              "      <td>Wang Yupu</td>\n",
              "      <td>Petroleum Refining</td>\n",
              "      <td>Energy</td>\n",
              "      <td>4.0</td>\n",
              "      <td>China</td>\n",
              "      <td>Beijing, China</td>\n",
              "      <td>http://www.sinopec.com</td>\n",
              "      <td>19</td>\n",
              "      <td>713288</td>\n",
              "      <td>106523</td>\n",
              "      <td>1.0</td>\n",
              "    </tr>\n",
              "    <tr>\n",
              "      <th>3</th>\n",
              "      <td>China National Petroleum</td>\n",
              "      <td>4</td>\n",
              "      <td>262573</td>\n",
              "      <td>-12.3</td>\n",
              "      <td>1867.5</td>\n",
              "      <td>585619</td>\n",
              "      <td>-73.7</td>\n",
              "      <td>Zhang Jianhua</td>\n",
              "      <td>Petroleum Refining</td>\n",
              "      <td>Energy</td>\n",
              "      <td>3.0</td>\n",
              "      <td>China</td>\n",
              "      <td>Beijing, China</td>\n",
              "      <td>http://www.cnpc.com.cn</td>\n",
              "      <td>17</td>\n",
              "      <td>1512048</td>\n",
              "      <td>301893</td>\n",
              "      <td>-1.0</td>\n",
              "    </tr>\n",
              "    <tr>\n",
              "      <th>21</th>\n",
              "      <td>Industrial &amp; Commercial Bank of China</td>\n",
              "      <td>22</td>\n",
              "      <td>147675</td>\n",
              "      <td>-11.7</td>\n",
              "      <td>41883.9</td>\n",
              "      <td>3473238</td>\n",
              "      <td>-5.0</td>\n",
              "      <td>Gu Shu</td>\n",
              "      <td>Banks: Commercial and Savings</td>\n",
              "      <td>Financials</td>\n",
              "      <td>15.0</td>\n",
              "      <td>China</td>\n",
              "      <td>Beijing, China</td>\n",
              "      <td>http://www.icbc-ltd.com</td>\n",
              "      <td>19</td>\n",
              "      <td>461749</td>\n",
              "      <td>283438</td>\n",
              "      <td>-7.0</td>\n",
              "    </tr>\n",
              "    <tr>\n",
              "      <th>23</th>\n",
              "      <td>China State Construction Engineering</td>\n",
              "      <td>24</td>\n",
              "      <td>144505</td>\n",
              "      <td>3.1</td>\n",
              "      <td>2492.9</td>\n",
              "      <td>201269</td>\n",
              "      <td>10.7</td>\n",
              "      <td>Guan Qing</td>\n",
              "      <td>Engineering, Construction</td>\n",
              "      <td>Engineering &amp; Construction</td>\n",
              "      <td>27.0</td>\n",
              "      <td>China</td>\n",
              "      <td>Beijing, China</td>\n",
              "      <td>http://www.cscec.com</td>\n",
              "      <td>6</td>\n",
              "      <td>263915</td>\n",
              "      <td>15344</td>\n",
              "      <td>3.0</td>\n",
              "    </tr>\n",
              "    <tr>\n",
              "      <th>...</th>\n",
              "      <td>...</td>\n",
              "      <td>...</td>\n",
              "      <td>...</td>\n",
              "      <td>...</td>\n",
              "      <td>...</td>\n",
              "      <td>...</td>\n",
              "      <td>...</td>\n",
              "      <td>...</td>\n",
              "      <td>...</td>\n",
              "      <td>...</td>\n",
              "      <td>...</td>\n",
              "      <td>...</td>\n",
              "      <td>...</td>\n",
              "      <td>...</td>\n",
              "      <td>...</td>\n",
              "      <td>...</td>\n",
              "      <td>...</td>\n",
              "      <td>...</td>\n",
              "    </tr>\n",
              "    <tr>\n",
              "      <th>487</th>\n",
              "      <td>Xiamen C&amp;D</td>\n",
              "      <td>488</td>\n",
              "      <td>22145</td>\n",
              "      <td>6.6</td>\n",
              "      <td>280.2</td>\n",
              "      <td>21729</td>\n",
              "      <td>15.6</td>\n",
              "      <td>Huang Wenzhou</td>\n",
              "      <td>Trading</td>\n",
              "      <td>Wholesalers</td>\n",
              "      <td>NaN</td>\n",
              "      <td>China</td>\n",
              "      <td>Xiamen, China</td>\n",
              "      <td>http://www.chinacdc.com</td>\n",
              "      <td>1</td>\n",
              "      <td>18381</td>\n",
              "      <td>3985</td>\n",
              "      <td>NaN</td>\n",
              "    </tr>\n",
              "    <tr>\n",
              "      <th>489</th>\n",
              "      <td>China General Technology</td>\n",
              "      <td>490</td>\n",
              "      <td>22113</td>\n",
              "      <td>-20.1</td>\n",
              "      <td>413.6</td>\n",
              "      <td>20860</td>\n",
              "      <td>-20.8</td>\n",
              "      <td>Xu Xianping</td>\n",
              "      <td>Engineering, Construction</td>\n",
              "      <td>Engineering &amp; Construction</td>\n",
              "      <td>383.0</td>\n",
              "      <td>China</td>\n",
              "      <td>Beijing, China</td>\n",
              "      <td>http://www.genertec.com.cn</td>\n",
              "      <td>4</td>\n",
              "      <td>38589</td>\n",
              "      <td>5114</td>\n",
              "      <td>-107.0</td>\n",
              "    </tr>\n",
              "    <tr>\n",
              "      <th>493</th>\n",
              "      <td>Xiamen ITG Holding Group</td>\n",
              "      <td>494</td>\n",
              "      <td>21930</td>\n",
              "      <td>34.3</td>\n",
              "      <td>35.6</td>\n",
              "      <td>12161</td>\n",
              "      <td>-25.1</td>\n",
              "      <td>Xu Xiaoxi</td>\n",
              "      <td>Trading</td>\n",
              "      <td>Wholesalers</td>\n",
              "      <td>NaN</td>\n",
              "      <td>China</td>\n",
              "      <td>Xiamen, China</td>\n",
              "      <td>http://www.itgholding.com.cn</td>\n",
              "      <td>1</td>\n",
              "      <td>18454</td>\n",
              "      <td>1066</td>\n",
              "      <td>NaN</td>\n",
              "    </tr>\n",
              "    <tr>\n",
              "      <th>494</th>\n",
              "      <td>Xinjiang Guanghui Industry Investment</td>\n",
              "      <td>495</td>\n",
              "      <td>21919</td>\n",
              "      <td>31.1</td>\n",
              "      <td>251.8</td>\n",
              "      <td>31957</td>\n",
              "      <td>49.9</td>\n",
              "      <td>Shang Jiqiang</td>\n",
              "      <td>Trading</td>\n",
              "      <td>Wholesalers</td>\n",
              "      <td>NaN</td>\n",
              "      <td>China</td>\n",
              "      <td>Urumqi, China</td>\n",
              "      <td>http://www.guanghui.com</td>\n",
              "      <td>1</td>\n",
              "      <td>65616</td>\n",
              "      <td>4563</td>\n",
              "      <td>NaN</td>\n",
              "    </tr>\n",
              "    <tr>\n",
              "      <th>496</th>\n",
              "      <td>New China Life Insurance</td>\n",
              "      <td>497</td>\n",
              "      <td>21796</td>\n",
              "      <td>-13.3</td>\n",
              "      <td>743.9</td>\n",
              "      <td>100609</td>\n",
              "      <td>-45.6</td>\n",
              "      <td>Wan Feng</td>\n",
              "      <td>Insurance: Life, Health (stock)</td>\n",
              "      <td>Financials</td>\n",
              "      <td>427.0</td>\n",
              "      <td>China</td>\n",
              "      <td>Beijing, China</td>\n",
              "      <td>http://www.newchinalife.com</td>\n",
              "      <td>2</td>\n",
              "      <td>54378</td>\n",
              "      <td>8507</td>\n",
              "      <td>-70.0</td>\n",
              "    </tr>\n",
              "  </tbody>\n",
              "</table>\n",
              "<p>109 rows × 18 columns</p>\n",
              "</div>"
            ],
            "text/plain": [
              "                                   company  ...  rank_change\n",
              "1                               State Grid  ...          0.0\n",
              "2                            Sinopec Group  ...          1.0\n",
              "3                 China National Petroleum  ...         -1.0\n",
              "21   Industrial & Commercial Bank of China  ...         -7.0\n",
              "23    China State Construction Engineering  ...          3.0\n",
              "..                                     ...  ...          ...\n",
              "487                             Xiamen C&D  ...          NaN\n",
              "489               China General Technology  ...       -107.0\n",
              "493               Xiamen ITG Holding Group  ...          NaN\n",
              "494  Xinjiang Guanghui Industry Investment  ...          NaN\n",
              "496               New China Life Insurance  ...        -70.0\n",
              "\n",
              "[109 rows x 18 columns]"
            ]
          },
          "metadata": {
            "tags": []
          },
          "execution_count": 51
        }
      ]
    },
    {
      "cell_type": "code",
      "metadata": {
        "colab": {
          "base_uri": "https://localhost:8080/"
        },
        "id": "zfrONwIeAzlI",
        "outputId": "612defae-1fc9-4c44-f9cb-ac24000af1e4"
      },
      "source": [
        "# Use DataFrame.sort_values() method to sort the rows\r\n",
        "sorted_rows = selected_rows.sort_values(\"employees\")\r\n",
        "print(sorted_rows[[\"company\", \"country\", \"employees\"]].head())"
      ],
      "execution_count": 52,
      "outputs": [
        {
          "output_type": "stream",
          "text": [
            "                                company country  employees\n",
            "204                         Noble Group   China       1000\n",
            "458             Yango Financial Holding   China      10234\n",
            "438  China National Aviation Fuel Group   China      11739\n",
            "128                         Tewoo Group   China      17353\n",
            "182            Amer International Group   China      17852\n"
          ],
          "name": "stdout"
        }
      ]
    },
    {
      "cell_type": "code",
      "metadata": {
        "colab": {
          "base_uri": "https://localhost:8080/"
        },
        "id": "XHtSRh19DQ11",
        "outputId": "0b7e5d70-2911-45ec-c255-6723558bef21"
      },
      "source": [
        "# Use DataFrame.sort_values() method to sort the rows, for descending\r\n",
        "sorted_rows = selected_rows.sort_values(\"employees\", ascending=False)\r\n",
        "print(sorted_rows[[\"company\", \"country\", \"employees\"]].head())"
      ],
      "execution_count": 53,
      "outputs": [
        {
          "output_type": "stream",
          "text": [
            "                        company country  employees\n",
            "3      China National Petroleum   China    1512048\n",
            "118            China Post Group   China     941211\n",
            "1                    State Grid   China     926067\n",
            "2                 Sinopec Group   China     713288\n",
            "37   Agricultural Bank of China   China     501368\n"
          ],
          "name": "stdout"
        }
      ]
    },
    {
      "cell_type": "code",
      "metadata": {
        "colab": {
          "base_uri": "https://localhost:8080/"
        },
        "id": "reJSLltuDaRd",
        "outputId": "6ae8bda5-82ec-4b7c-c72a-241f5abde49a"
      },
      "source": [
        "japan = f500[f500[\"country\"] == 'Japan']\r\n",
        "sorted_japan = japan.sort_values(\"employees\", ascending=False)\r\n",
        "# select 1st row of the sorted frame using iloc\r\n",
        "japan_first_row = sorted_japan.iloc[0]\r\n",
        "japan_first_row\r\n"
      ],
      "execution_count": 54,
      "outputs": [
        {
          "output_type": "execute_result",
          "data": {
            "text/plain": [
              "company                                     Toyota Motor\n",
              "rank                                                   5\n",
              "revenues                                          254694\n",
              "revenue_change                                       7.7\n",
              "profits                                          16899.3\n",
              "assets                                            437575\n",
              "profit_change                                      -12.3\n",
              "ceo                                          Akio Toyoda\n",
              "industry                        Motor Vehicles and Parts\n",
              "sector                            Motor Vehicles & Parts\n",
              "previous_rank                                          8\n",
              "country                                            Japan\n",
              "hq_location                                Toyota, Japan\n",
              "website                     http://www.toyota-global.com\n",
              "years_on_global_500_list                              23\n",
              "employees                                         364445\n",
              "total_stockholder_equity                          157210\n",
              "rank_change                                            3\n",
              "Name: 4, dtype: object"
            ]
          },
          "metadata": {
            "tags": []
          },
          "execution_count": 54
        }
      ]
    },
    {
      "cell_type": "code",
      "metadata": {
        "colab": {
          "base_uri": "https://localhost:8080/",
          "height": 35
        },
        "id": "RhLIw_DZDu6h",
        "outputId": "e686aac4-2b6a-4361-c287-16b4efa78989"
      },
      "source": [
        "top_japanese_employer = japan_first_row[\"company\"]\r\n",
        "top_japanese_employer"
      ],
      "execution_count": 55,
      "outputs": [
        {
          "output_type": "execute_result",
          "data": {
            "application/vnd.google.colaboratory.intrinsic+json": {
              "type": "string"
            },
            "text/plain": [
              "'Toyota Motor'"
            ]
          },
          "metadata": {
            "tags": []
          },
          "execution_count": 55
        }
      ]
    },
    {
      "cell_type": "markdown",
      "metadata": {
        "id": "BR0HIQujE9nN"
      },
      "source": [
        "### 11. Using Loops with pandas"
      ]
    },
    {
      "cell_type": "code",
      "metadata": {
        "colab": {
          "base_uri": "https://localhost:8080/"
        },
        "id": "ZgwfFt37j7hf",
        "outputId": "81b59b36-421e-4819-c60a-a29ffdd5a0fe"
      },
      "source": [
        "# To find the average revenue in each country\r\n",
        "# Identify each unique country in dataset\r\n",
        "# For each country\r\n",
        "    # select rows of that country\r\n",
        "    # calculate average revenue of those rows\r\n",
        "# Create empty dictionary to store the results\r\n",
        "avg_rev_by_country = {}\r\n",
        "\r\n",
        "# Create an array of unique countries\r\n",
        "countries = f500[\"country\"].unique()\r\n",
        "\r\n",
        "# Use for loop to iterate over the countries\r\n",
        "for c in countries:\r\n",
        "  # Use boolean to select all the rows of each country\r\n",
        "  selected_rows = f500[f500[\"country\"] == c]\r\n",
        "  # Calculate mean average \r\n",
        "  mean = selected_rows[\"revenues\"].mean()\r\n",
        "  # Assign the mean value to avg_rev_by_country\r\n",
        "  avg_rev_by_country[c] = mean\r\n",
        "\r\n",
        "avg_rev_by_country\r\n",
        "\r\n"
      ],
      "execution_count": 57,
      "outputs": [
        {
          "output_type": "execute_result",
          "data": {
            "text/plain": [
              "{'Australia': 33688.71428571428,\n",
              " 'Belgium': 45905.0,\n",
              " 'Brazil': 52024.57142857143,\n",
              " 'Britain': 51588.708333333336,\n",
              " 'Canada': 31848.0,\n",
              " 'China': 55397.880733944956,\n",
              " 'Denmark': 35464.0,\n",
              " 'Finland': 26113.0,\n",
              " 'France': 55231.793103448275,\n",
              " 'Germany': 63915.0,\n",
              " 'India': 39993.0,\n",
              " 'Indonesia': 36487.0,\n",
              " 'Ireland': 32819.5,\n",
              " 'Israel': 21903.0,\n",
              " 'Italy': 51899.57142857143,\n",
              " 'Japan': 53164.03921568627,\n",
              " 'Luxembourg': 56791.0,\n",
              " 'Malaysia': 49479.0,\n",
              " 'Mexico': 54987.5,\n",
              " 'Netherlands': 61708.92857142857,\n",
              " 'Norway': 45873.0,\n",
              " 'Russia': 65247.75,\n",
              " 'Saudi Arabia': 35421.0,\n",
              " 'Singapore': 54454.333333333336,\n",
              " 'South Korea': 49725.6,\n",
              " 'Spain': 40600.666666666664,\n",
              " 'Sweden': 27963.666666666668,\n",
              " 'Switzerland': 51353.57142857143,\n",
              " 'Taiwan': 46364.666666666664,\n",
              " 'Thailand': 48719.0,\n",
              " 'Turkey': 23456.0,\n",
              " 'U.A.E': 22799.0,\n",
              " 'USA': 64218.371212121216,\n",
              " 'Venezuela': 24403.0}"
            ]
          },
          "metadata": {
            "tags": []
          },
          "execution_count": 57
        }
      ]
    },
    {
      "cell_type": "code",
      "metadata": {
        "colab": {
          "base_uri": "https://localhost:8080/"
        },
        "id": "Pvq-vBzKpei1",
        "outputId": "b4a42e09-c788-4851-c6a1-b0cc6654d3dc"
      },
      "source": [
        "# Find top employer in each country\r\n",
        "top_employer_by_country = {}\r\n",
        "\r\n",
        "# Create an array for unique countries\r\n",
        "countries = f500[\"country\"].unique()\r\n",
        "\r\n",
        "# for loop to find top employer in each country\r\n",
        "for c in countries:\r\n",
        "  # select all the rows for that country\r\n",
        "  selected_rows = f500[f500[\"country\"] == c]\r\n",
        "  # sort the selected rows\r\n",
        "  sorted_rows = selected_rows.sort_values('employees', ascending=False)\r\n",
        "  # Assign the 0 index of sorted row company\r\n",
        "  first_row = sorted_rows.iloc[0]\r\n",
        "  # Assign the company name from first_row\r\n",
        "  top_employer_by_country[c] = first_row[\"company\"]\r\n",
        "\r\n",
        "top_employer_by_country"
      ],
      "execution_count": 63,
      "outputs": [
        {
          "output_type": "execute_result",
          "data": {
            "text/plain": [
              "{'Australia': 'Wesfarmers',\n",
              " 'Belgium': 'Anheuser-Busch InBev',\n",
              " 'Brazil': 'JBS',\n",
              " 'Britain': 'Compass Group',\n",
              " 'Canada': 'George Weston',\n",
              " 'China': 'China National Petroleum',\n",
              " 'Denmark': 'Maersk Group',\n",
              " 'Finland': 'Nokia',\n",
              " 'France': 'Sodexo',\n",
              " 'Germany': 'Volkswagen',\n",
              " 'India': 'State Bank of India',\n",
              " 'Indonesia': 'Pertamina',\n",
              " 'Ireland': 'Accenture',\n",
              " 'Israel': 'Teva Pharmaceutical Industries',\n",
              " 'Italy': 'Poste Italiane',\n",
              " 'Japan': 'Toyota Motor',\n",
              " 'Luxembourg': 'ArcelorMittal',\n",
              " 'Malaysia': 'Petronas',\n",
              " 'Mexico': 'America Movil',\n",
              " 'Netherlands': 'EXOR Group',\n",
              " 'Norway': 'Statoil',\n",
              " 'Russia': 'Gazprom',\n",
              " 'Saudi Arabia': 'SABIC',\n",
              " 'Singapore': 'Flex',\n",
              " 'South Korea': 'Samsung Electronics',\n",
              " 'Spain': 'Banco Santander',\n",
              " 'Sweden': 'H & M Hennes & Mauritz',\n",
              " 'Switzerland': 'Nestle',\n",
              " 'Taiwan': 'Hon Hai Precision Industry',\n",
              " 'Thailand': 'PTT',\n",
              " 'Turkey': 'Koc Holding',\n",
              " 'U.A.E': 'Emirates Group',\n",
              " 'USA': 'Walmart',\n",
              " 'Venezuela': 'Mercantil Servicios Financieros'}"
            ]
          },
          "metadata": {
            "tags": []
          },
          "execution_count": 63
        }
      ]
    },
    {
      "cell_type": "markdown",
      "metadata": {
        "id": "E_GNBGGbtaaL"
      },
      "source": [
        "### 12. Challenge: Calculating Return on Assets by Country\r\n",
        "\r\n",
        "ROA(Return On Assets) is a metric which indicates a company's ability to make profit using their available assets.\r\n",
        "\r\n",
        "$return on assets = {profit}/{assets}$\r\n"
      ]
    },
    {
      "cell_type": "code",
      "metadata": {
        "colab": {
          "base_uri": "https://localhost:8080/",
          "height": 694
        },
        "id": "lO1pIecauxC9",
        "outputId": "7c97a2e3-8361-4492-e57a-487f673b6ccf"
      },
      "source": [
        "# create a new column roa on 5f00 datafram\r\n",
        "f500[\"roa\"] = f500[\"profits\"]/f500[\"assets\"]\r\n",
        "f500"
      ],
      "execution_count": 66,
      "outputs": [
        {
          "output_type": "execute_result",
          "data": {
            "text/html": [
              "<div>\n",
              "<style scoped>\n",
              "    .dataframe tbody tr th:only-of-type {\n",
              "        vertical-align: middle;\n",
              "    }\n",
              "\n",
              "    .dataframe tbody tr th {\n",
              "        vertical-align: top;\n",
              "    }\n",
              "\n",
              "    .dataframe thead th {\n",
              "        text-align: right;\n",
              "    }\n",
              "</style>\n",
              "<table border=\"1\" class=\"dataframe\">\n",
              "  <thead>\n",
              "    <tr style=\"text-align: right;\">\n",
              "      <th></th>\n",
              "      <th>company</th>\n",
              "      <th>rank</th>\n",
              "      <th>revenues</th>\n",
              "      <th>revenue_change</th>\n",
              "      <th>profits</th>\n",
              "      <th>assets</th>\n",
              "      <th>profit_change</th>\n",
              "      <th>ceo</th>\n",
              "      <th>industry</th>\n",
              "      <th>sector</th>\n",
              "      <th>previous_rank</th>\n",
              "      <th>country</th>\n",
              "      <th>hq_location</th>\n",
              "      <th>website</th>\n",
              "      <th>years_on_global_500_list</th>\n",
              "      <th>employees</th>\n",
              "      <th>total_stockholder_equity</th>\n",
              "      <th>rank_change</th>\n",
              "      <th>roa</th>\n",
              "    </tr>\n",
              "  </thead>\n",
              "  <tbody>\n",
              "    <tr>\n",
              "      <th>0</th>\n",
              "      <td>Walmart</td>\n",
              "      <td>1</td>\n",
              "      <td>485873</td>\n",
              "      <td>0.8</td>\n",
              "      <td>13643.0</td>\n",
              "      <td>198825</td>\n",
              "      <td>-7.2</td>\n",
              "      <td>C. Douglas McMillon</td>\n",
              "      <td>General Merchandisers</td>\n",
              "      <td>Retailing</td>\n",
              "      <td>1.0</td>\n",
              "      <td>USA</td>\n",
              "      <td>Bentonville, AR</td>\n",
              "      <td>http://www.walmart.com</td>\n",
              "      <td>23</td>\n",
              "      <td>2300000</td>\n",
              "      <td>77798</td>\n",
              "      <td>0.0</td>\n",
              "      <td>0.068618</td>\n",
              "    </tr>\n",
              "    <tr>\n",
              "      <th>1</th>\n",
              "      <td>State Grid</td>\n",
              "      <td>2</td>\n",
              "      <td>315199</td>\n",
              "      <td>-4.4</td>\n",
              "      <td>9571.3</td>\n",
              "      <td>489838</td>\n",
              "      <td>-6.2</td>\n",
              "      <td>Kou Wei</td>\n",
              "      <td>Utilities</td>\n",
              "      <td>Energy</td>\n",
              "      <td>2.0</td>\n",
              "      <td>China</td>\n",
              "      <td>Beijing, China</td>\n",
              "      <td>http://www.sgcc.com.cn</td>\n",
              "      <td>17</td>\n",
              "      <td>926067</td>\n",
              "      <td>209456</td>\n",
              "      <td>0.0</td>\n",
              "      <td>0.019540</td>\n",
              "    </tr>\n",
              "    <tr>\n",
              "      <th>2</th>\n",
              "      <td>Sinopec Group</td>\n",
              "      <td>3</td>\n",
              "      <td>267518</td>\n",
              "      <td>-9.1</td>\n",
              "      <td>1257.9</td>\n",
              "      <td>310726</td>\n",
              "      <td>-65.0</td>\n",
              "      <td>Wang Yupu</td>\n",
              "      <td>Petroleum Refining</td>\n",
              "      <td>Energy</td>\n",
              "      <td>4.0</td>\n",
              "      <td>China</td>\n",
              "      <td>Beijing, China</td>\n",
              "      <td>http://www.sinopec.com</td>\n",
              "      <td>19</td>\n",
              "      <td>713288</td>\n",
              "      <td>106523</td>\n",
              "      <td>1.0</td>\n",
              "      <td>0.004048</td>\n",
              "    </tr>\n",
              "    <tr>\n",
              "      <th>3</th>\n",
              "      <td>China National Petroleum</td>\n",
              "      <td>4</td>\n",
              "      <td>262573</td>\n",
              "      <td>-12.3</td>\n",
              "      <td>1867.5</td>\n",
              "      <td>585619</td>\n",
              "      <td>-73.7</td>\n",
              "      <td>Zhang Jianhua</td>\n",
              "      <td>Petroleum Refining</td>\n",
              "      <td>Energy</td>\n",
              "      <td>3.0</td>\n",
              "      <td>China</td>\n",
              "      <td>Beijing, China</td>\n",
              "      <td>http://www.cnpc.com.cn</td>\n",
              "      <td>17</td>\n",
              "      <td>1512048</td>\n",
              "      <td>301893</td>\n",
              "      <td>-1.0</td>\n",
              "      <td>0.003189</td>\n",
              "    </tr>\n",
              "    <tr>\n",
              "      <th>4</th>\n",
              "      <td>Toyota Motor</td>\n",
              "      <td>5</td>\n",
              "      <td>254694</td>\n",
              "      <td>7.7</td>\n",
              "      <td>16899.3</td>\n",
              "      <td>437575</td>\n",
              "      <td>-12.3</td>\n",
              "      <td>Akio Toyoda</td>\n",
              "      <td>Motor Vehicles and Parts</td>\n",
              "      <td>Motor Vehicles &amp; Parts</td>\n",
              "      <td>8.0</td>\n",
              "      <td>Japan</td>\n",
              "      <td>Toyota, Japan</td>\n",
              "      <td>http://www.toyota-global.com</td>\n",
              "      <td>23</td>\n",
              "      <td>364445</td>\n",
              "      <td>157210</td>\n",
              "      <td>3.0</td>\n",
              "      <td>0.038620</td>\n",
              "    </tr>\n",
              "    <tr>\n",
              "      <th>...</th>\n",
              "      <td>...</td>\n",
              "      <td>...</td>\n",
              "      <td>...</td>\n",
              "      <td>...</td>\n",
              "      <td>...</td>\n",
              "      <td>...</td>\n",
              "      <td>...</td>\n",
              "      <td>...</td>\n",
              "      <td>...</td>\n",
              "      <td>...</td>\n",
              "      <td>...</td>\n",
              "      <td>...</td>\n",
              "      <td>...</td>\n",
              "      <td>...</td>\n",
              "      <td>...</td>\n",
              "      <td>...</td>\n",
              "      <td>...</td>\n",
              "      <td>...</td>\n",
              "      <td>...</td>\n",
              "    </tr>\n",
              "    <tr>\n",
              "      <th>495</th>\n",
              "      <td>Teva Pharmaceutical Industries</td>\n",
              "      <td>496</td>\n",
              "      <td>21903</td>\n",
              "      <td>11.5</td>\n",
              "      <td>329.0</td>\n",
              "      <td>92890</td>\n",
              "      <td>-79.3</td>\n",
              "      <td>Yitzhak Peterburg</td>\n",
              "      <td>Pharmaceuticals</td>\n",
              "      <td>Health Care</td>\n",
              "      <td>NaN</td>\n",
              "      <td>Israel</td>\n",
              "      <td>Petach Tikva, Israel</td>\n",
              "      <td>http://www.tevapharm.com</td>\n",
              "      <td>1</td>\n",
              "      <td>56960</td>\n",
              "      <td>33337</td>\n",
              "      <td>NaN</td>\n",
              "      <td>0.003542</td>\n",
              "    </tr>\n",
              "    <tr>\n",
              "      <th>496</th>\n",
              "      <td>New China Life Insurance</td>\n",
              "      <td>497</td>\n",
              "      <td>21796</td>\n",
              "      <td>-13.3</td>\n",
              "      <td>743.9</td>\n",
              "      <td>100609</td>\n",
              "      <td>-45.6</td>\n",
              "      <td>Wan Feng</td>\n",
              "      <td>Insurance: Life, Health (stock)</td>\n",
              "      <td>Financials</td>\n",
              "      <td>427.0</td>\n",
              "      <td>China</td>\n",
              "      <td>Beijing, China</td>\n",
              "      <td>http://www.newchinalife.com</td>\n",
              "      <td>2</td>\n",
              "      <td>54378</td>\n",
              "      <td>8507</td>\n",
              "      <td>-70.0</td>\n",
              "      <td>0.007394</td>\n",
              "    </tr>\n",
              "    <tr>\n",
              "      <th>497</th>\n",
              "      <td>Wm. Morrison Supermarkets</td>\n",
              "      <td>498</td>\n",
              "      <td>21741</td>\n",
              "      <td>-11.3</td>\n",
              "      <td>406.4</td>\n",
              "      <td>11630</td>\n",
              "      <td>20.4</td>\n",
              "      <td>David T. Potts</td>\n",
              "      <td>Food and Drug Stores</td>\n",
              "      <td>Food &amp; Drug Stores</td>\n",
              "      <td>437.0</td>\n",
              "      <td>Britain</td>\n",
              "      <td>Bradford, Britain</td>\n",
              "      <td>http://www.morrisons.com</td>\n",
              "      <td>13</td>\n",
              "      <td>77210</td>\n",
              "      <td>5111</td>\n",
              "      <td>-61.0</td>\n",
              "      <td>0.034944</td>\n",
              "    </tr>\n",
              "    <tr>\n",
              "      <th>498</th>\n",
              "      <td>TUI</td>\n",
              "      <td>499</td>\n",
              "      <td>21655</td>\n",
              "      <td>-5.5</td>\n",
              "      <td>1151.7</td>\n",
              "      <td>16247</td>\n",
              "      <td>195.5</td>\n",
              "      <td>Friedrich Joussen</td>\n",
              "      <td>Travel Services</td>\n",
              "      <td>Business Services</td>\n",
              "      <td>467.0</td>\n",
              "      <td>Germany</td>\n",
              "      <td>Hanover, Germany</td>\n",
              "      <td>http://www.tuigroup.com</td>\n",
              "      <td>23</td>\n",
              "      <td>66779</td>\n",
              "      <td>3006</td>\n",
              "      <td>-32.0</td>\n",
              "      <td>0.070887</td>\n",
              "    </tr>\n",
              "    <tr>\n",
              "      <th>499</th>\n",
              "      <td>AutoNation</td>\n",
              "      <td>500</td>\n",
              "      <td>21609</td>\n",
              "      <td>3.6</td>\n",
              "      <td>430.5</td>\n",
              "      <td>10060</td>\n",
              "      <td>-2.7</td>\n",
              "      <td>Michael J. Jackson</td>\n",
              "      <td>Specialty Retailers</td>\n",
              "      <td>Retailing</td>\n",
              "      <td>NaN</td>\n",
              "      <td>USA</td>\n",
              "      <td>Fort Lauderdale, FL</td>\n",
              "      <td>http://www.autonation.com</td>\n",
              "      <td>12</td>\n",
              "      <td>26000</td>\n",
              "      <td>2310</td>\n",
              "      <td>NaN</td>\n",
              "      <td>0.042793</td>\n",
              "    </tr>\n",
              "  </tbody>\n",
              "</table>\n",
              "<p>500 rows × 19 columns</p>\n",
              "</div>"
            ],
            "text/plain": [
              "                            company  rank  ...  rank_change       roa\n",
              "0                           Walmart     1  ...          0.0  0.068618\n",
              "1                        State Grid     2  ...          0.0  0.019540\n",
              "2                     Sinopec Group     3  ...          1.0  0.004048\n",
              "3          China National Petroleum     4  ...         -1.0  0.003189\n",
              "4                      Toyota Motor     5  ...          3.0  0.038620\n",
              "..                              ...   ...  ...          ...       ...\n",
              "495  Teva Pharmaceutical Industries   496  ...          NaN  0.003542\n",
              "496        New China Life Insurance   497  ...        -70.0  0.007394\n",
              "497       Wm. Morrison Supermarkets   498  ...        -61.0  0.034944\n",
              "498                             TUI   499  ...        -32.0  0.070887\n",
              "499                      AutoNation   500  ...          NaN  0.042793\n",
              "\n",
              "[500 rows x 19 columns]"
            ]
          },
          "metadata": {
            "tags": []
          },
          "execution_count": 66
        }
      ]
    },
    {
      "cell_type": "code",
      "metadata": {
        "colab": {
          "base_uri": "https://localhost:8080/"
        },
        "id": "TFVnlgjXxW12",
        "outputId": "3de13fe7-4498-4507-9c70-276b8aa49d2d"
      },
      "source": [
        "# Aggregate by sector and find the topmost company name\r\n",
        "# Get the sector\r\n",
        "sectors = f500[\"sector\"].unique()\r\n",
        "\r\n",
        "# create a data dictionary\r\n",
        "top_roa_by_sector = {}\r\n",
        "\r\n",
        "# For loop for each sector\r\n",
        "for s in sectors:\r\n",
        "  # select all rows for that sector\r\n",
        "  selected_rows = f500[f500[\"sector\"] == s]\r\n",
        "  # sort rows by roa\r\n",
        "  sorted_rows = selected_rows.sort_values(\"roa\", ascending=False)\r\n",
        "  # select the first row\r\n",
        "  first_row = sorted_rows.iloc[0]\r\n",
        "  # get the company name and assign it to dictionary\r\n",
        "  top_roa_by_sector[s] = first_row[\"company\"]\r\n",
        "\r\n",
        "top_roa_by_sector"
      ],
      "execution_count": 69,
      "outputs": [
        {
          "output_type": "execute_result",
          "data": {
            "text/plain": [
              "{'Aerospace & Defense': 'Lockheed Martin',\n",
              " 'Apparel': 'Nike',\n",
              " 'Business Services': 'Adecco Group',\n",
              " 'Chemicals': 'LyondellBasell Industries',\n",
              " 'Energy': 'National Grid',\n",
              " 'Engineering & Construction': 'Pacific Construction Group',\n",
              " 'Financials': 'Berkshire Hathaway',\n",
              " 'Food & Drug Stores': 'Publix Super Markets',\n",
              " 'Food, Beverages & Tobacco': 'Philip Morris International',\n",
              " 'Health Care': 'Gilead Sciences',\n",
              " 'Hotels, Restaurants & Leisure': 'McDonald’s',\n",
              " 'Household Products': 'Unilever',\n",
              " 'Industrials': '3M',\n",
              " 'Materials': 'CRH',\n",
              " 'Media': 'Disney',\n",
              " 'Motor Vehicles & Parts': 'Subaru',\n",
              " 'Retailing': 'H & M Hennes & Mauritz',\n",
              " 'Technology': 'Accenture',\n",
              " 'Telecommunications': 'KDDI',\n",
              " 'Transportation': 'Delta Air Lines',\n",
              " 'Wholesalers': 'McKesson'}"
            ]
          },
          "metadata": {
            "tags": []
          },
          "execution_count": 69
        }
      ]
    },
    {
      "cell_type": "code",
      "metadata": {
        "id": "E2yjQU_tz1qE"
      },
      "source": [
        ""
      ],
      "execution_count": null,
      "outputs": []
    }
  ]
}